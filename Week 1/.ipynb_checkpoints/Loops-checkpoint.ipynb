{
 "cells": [
  {
   "cell_type": "markdown",
   "id": "f742b74c",
   "metadata": {},
   "source": [
    "# Loops"
   ]
  },
  {
   "cell_type": "markdown",
   "id": "b35fc317",
   "metadata": {},
   "source": [
    "**Loops in Python are used to repeat a block of code multiple times.**"
   ]
  },
  {
   "cell_type": "markdown",
   "id": "65044d78",
   "metadata": {},
   "source": [
    "## \"For\" loop (Count controlled loop)"
   ]
  },
  {
   "cell_type": "markdown",
   "id": "5a981534",
   "metadata": {},
   "source": [
    "**A \"for\" loop is used to iterate over a sequence (like a list, tuple, or string) and execute a block of code for each item in that sequence.**"
   ]
  },
  {
   "cell_type": "code",
   "execution_count": 1,
   "id": "3be6cadb",
   "metadata": {},
   "outputs": [
    {
     "name": "stdout",
     "output_type": "stream",
     "text": [
      "1\n",
      "2\n",
      "3\n",
      "4\n",
      "5\n"
     ]
    }
   ],
   "source": [
    "for number in range(1, 6):    #This prints numbers up till 5\n",
    "    print(number)"
   ]
  },
  {
   "cell_type": "markdown",
   "id": "15f3576a",
   "metadata": {},
   "source": [
    "**Note that the last number is not included '6'**"
   ]
  },
  {
   "cell_type": "markdown",
   "id": "6a23ab67",
   "metadata": {},
   "source": [
    "## While Loop (Condition controlled loop)"
   ]
  },
  {
   "cell_type": "markdown",
   "id": "e51a59ce",
   "metadata": {},
   "source": [
    "**A \"while\" loop continues to execute a block of code as long as a specified condition is true.**"
   ]
  },
  {
   "cell_type": "code",
   "execution_count": 2,
   "id": "4e7a135c",
   "metadata": {},
   "outputs": [
    {
     "name": "stdout",
     "output_type": "stream",
     "text": [
      "1\n",
      "2\n",
      "3\n",
      "4\n",
      "5\n"
     ]
    }
   ],
   "source": [
    "            # Keep adding till the \"number\" variable reaches 5.\n",
    "number = 1\n",
    "\n",
    "while number <= 5:  # \"<=\" Means Less than or equal to\n",
    "    print(number)\n",
    "    number += 1"
   ]
  }
 ],
 "metadata": {
  "kernelspec": {
   "display_name": "Python 3 (ipykernel)",
   "language": "python",
   "name": "python3"
  },
  "language_info": {
   "codemirror_mode": {
    "name": "ipython",
    "version": 3
   },
   "file_extension": ".py",
   "mimetype": "text/x-python",
   "name": "python",
   "nbconvert_exporter": "python",
   "pygments_lexer": "ipython3",
   "version": "3.10.9"
  }
 },
 "nbformat": 4,
 "nbformat_minor": 5
}
