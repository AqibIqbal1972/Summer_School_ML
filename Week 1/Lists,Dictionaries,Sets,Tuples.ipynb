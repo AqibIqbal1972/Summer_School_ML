{
 "cells": [
  {
   "cell_type": "markdown",
   "id": "8e7cc9ec-0ffd-40c5-89d9-e745e3d561ac",
   "metadata": {},
   "source": [
    "# Lists"
   ]
  },
  {
   "cell_type": "code",
   "execution_count": 1,
   "id": "d91b3021-91bd-4bfe-9e9d-f969878b7c26",
   "metadata": {},
   "outputs": [
    {
     "name": "stdout",
     "output_type": "stream",
     "text": [
      "['apple', 'banana', 'cherry']\n"
     ]
    }
   ],
   "source": [
    "# Example of a list\n",
    "fruits = [\"apple\", \"banana\", \"cherry\"]\n",
    "print(fruits)  # Output: ['apple', 'banana', 'cherry']"
   ]
  },
  {
   "cell_type": "code",
   "execution_count": 2,
   "id": "70cdb429-252c-4749-928c-7b3ada4a519b",
   "metadata": {},
   "outputs": [
    {
     "name": "stdout",
     "output_type": "stream",
     "text": [
      "apple\n"
     ]
    }
   ],
   "source": [
    "# Accessing list elements\n",
    "print(fruits[0])  # Output: apple"
   ]
  },
  {
   "cell_type": "code",
   "execution_count": 3,
   "id": "df7fe830-6f1a-458f-a5ec-ac603ede35a6",
   "metadata": {},
   "outputs": [
    {
     "name": "stdout",
     "output_type": "stream",
     "text": [
      "['apple', 'banana', 'cherry', 'orange']\n"
     ]
    }
   ],
   "source": [
    "# Adding an element to the list\n",
    "fruits.append(\"orange\")\n",
    "print(fruits)  # Output: ['apple', 'banana', 'cherry', 'orange']"
   ]
  },
  {
   "cell_type": "code",
   "execution_count": 4,
   "id": "90b1bc0e-b9ef-4560-bb4c-6075ba3bb8e8",
   "metadata": {},
   "outputs": [
    {
     "name": "stdout",
     "output_type": "stream",
     "text": [
      "['apple', 'cherry', 'orange']\n"
     ]
    }
   ],
   "source": [
    "# Removing an element from the list\n",
    "fruits.remove(\"banana\")\n",
    "print(fruits)  # Output: ['apple', 'cherry', 'orange']"
   ]
  },
  {
   "cell_type": "markdown",
   "id": "453a5aec-594e-4115-bced-153e0f5a5428",
   "metadata": {},
   "source": [
    "# Dictionaries"
   ]
  },
  {
   "cell_type": "code",
   "execution_count": 5,
   "id": "63dcf2d1-ba9e-45ca-8827-1b884dffd494",
   "metadata": {},
   "outputs": [
    {
     "name": "stdout",
     "output_type": "stream",
     "text": [
      "{'name': 'John', 'age': 25, 'courses': ['Math', 'CompSci']}\n"
     ]
    }
   ],
   "source": [
    "# Example of a dictionary.\n",
    "student = {\"name\": \"John\", \"age\": 25, \"courses\": [\"Math\", \"CompSci\"]}\n",
    "print(student)  # Output: {'name': 'John', 'age': 25, 'courses': ['Math', 'CompSci']}"
   ]
  },
  {
   "cell_type": "code",
   "execution_count": 6,
   "id": "1f31a258-c8ed-481a-a92c-55c1572c1f17",
   "metadata": {},
   "outputs": [
    {
     "name": "stdout",
     "output_type": "stream",
     "text": [
      "John\n"
     ]
    }
   ],
   "source": [
    "# Accessing dictionary values\n",
    "print(student[\"name\"])  # Output: John"
   ]
  },
  {
   "cell_type": "code",
   "execution_count": 7,
   "id": "136ec7a0-0615-4ad7-a65b-4c0088b0f83d",
   "metadata": {},
   "outputs": [
    {
     "name": "stdout",
     "output_type": "stream",
     "text": [
      "{'name': 'John', 'age': 25, 'courses': ['Math', 'CompSci'], 'grade': 'A'}\n"
     ]
    }
   ],
   "source": [
    "# Adding a new key-value pair\n",
    "student[\"grade\"] = \"A\"\n",
    "print(student)  # Output: {'name': 'John', 'ag': 25, 'courses': ['Math', 'CompSci'], 'grade': 'A'}"
   ]
  },
  {
   "cell_type": "code",
   "execution_count": 8,
   "id": "94cc06b3-f89d-4c60-a1c2-056f234cd1e6",
   "metadata": {},
   "outputs": [
    {
     "name": "stdout",
     "output_type": "stream",
     "text": [
      "{'name': 'John', 'courses': ['Math', 'CompSci'], 'grade': 'A'}\n"
     ]
    }
   ],
   "source": [
    "# Removing a key-value pair\n",
    "del student[\"age\"]\n",
    "print(student)  # Output: {'name': 'John', 'courses': ['Math', 'CompSci'], 'grade': 'A'}"
   ]
  },
  {
   "cell_type": "markdown",
   "id": "7b630845-e580-45fb-b71b-53670e5a3302",
   "metadata": {},
   "source": [
    "# Sets\n",
    "\n",
    "**A set is an unordered collection of unique items.**\n",
    "\n"
   ]
  },
  {
   "cell_type": "code",
   "execution_count": 9,
   "id": "57d30d8f-def6-420a-be30-1ac009fd4d9d",
   "metadata": {},
   "outputs": [
    {
     "name": "stdout",
     "output_type": "stream",
     "text": [
      "{'cherry', 'banana', 'apple'}\n"
     ]
    }
   ],
   "source": [
    "# Example of a set\n",
    "fruits_set = {\"apple\", \"banana\", \"cherry\"}\n",
    "print(fruits_set)  # Output: {'apple', 'banana', 'cherry'}"
   ]
  },
  {
   "cell_type": "code",
   "execution_count": 10,
   "id": "04744209-9e54-4d96-81ba-233cb06ecf76",
   "metadata": {},
   "outputs": [
    {
     "name": "stdout",
     "output_type": "stream",
     "text": [
      "{'cherry', 'banana', 'apple', 'orange'}\n"
     ]
    }
   ],
   "source": [
    "# Adding an element to the set\n",
    "fruits_set.add(\"orange\")\n",
    "print(fruits_set)  # Output: {'apple', 'banana', 'cherry', 'orange'}\n"
   ]
  },
  {
   "cell_type": "code",
   "execution_count": 11,
   "id": "408bac9e-7fab-4cab-b82c-f6d844167a7b",
   "metadata": {},
   "outputs": [
    {
     "name": "stdout",
     "output_type": "stream",
     "text": [
      "{'cherry', 'apple', 'orange'}\n"
     ]
    }
   ],
   "source": [
    "# Removing an element from the set\n",
    "fruits_set.remove(\"banana\")\n",
    "print(fruits_set)  # Output: {'apple', 'cherry', 'orange'}"
   ]
  },
  {
   "cell_type": "code",
   "execution_count": 12,
   "id": "cb213221-fd30-4863-920d-7e31c0b05a69",
   "metadata": {},
   "outputs": [
    {
     "name": "stdout",
     "output_type": "stream",
     "text": [
      "True\n"
     ]
    }
   ],
   "source": [
    "# Checking membership in a set\n",
    "print(\"apple\" in fruits_set)  # Output: True"
   ]
  },
  {
   "cell_type": "markdown",
   "id": "bd0492e4",
   "metadata": {},
   "source": [
    "# Tuples\n",
    "\n",
    "**tuples are immutable, meaning their elements cannot be modified, added, or removed after creation.**"
   ]
  },
  {
   "cell_type": "code",
   "execution_count": 13,
   "id": "c81e6b32",
   "metadata": {},
   "outputs": [
    {
     "data": {
      "text/plain": [
       "(1, 2, 3, 'hello')"
      ]
     },
     "execution_count": 13,
     "metadata": {},
     "output_type": "execute_result"
    }
   ],
   "source": [
    "my_tuple = (1, 2, 3, 'hello')\n",
    "my_tuple"
   ]
  },
  {
   "cell_type": "code",
   "execution_count": 14,
   "id": "3450c3b4",
   "metadata": {},
   "outputs": [
    {
     "ename": "AttributeError",
     "evalue": "'tuple' object has no attribute 'add'",
     "output_type": "error",
     "traceback": [
      "\u001b[1;31m---------------------------------------------------------------------------\u001b[0m",
      "\u001b[1;31mAttributeError\u001b[0m                            Traceback (most recent call last)",
      "Cell \u001b[1;32mIn[14], line 2\u001b[0m\n\u001b[0;32m      1\u001b[0m \u001b[38;5;66;03m# adding to a tuple\u001b[39;00m\n\u001b[1;32m----> 2\u001b[0m \u001b[43mmy_tuple\u001b[49m\u001b[38;5;241;43m.\u001b[39;49m\u001b[43madd\u001b[49m(\u001b[38;5;124m\"\u001b[39m\u001b[38;5;124mApple\u001b[39m\u001b[38;5;124m\"\u001b[39m)\n\u001b[0;32m      3\u001b[0m my_tuple\n",
      "\u001b[1;31mAttributeError\u001b[0m: 'tuple' object has no attribute 'add'"
     ]
    }
   ],
   "source": [
    "# adding to a tuple\n",
    "my_tuple.add(\"Apple\")\n",
    "my_tuple"
   ]
  },
  {
   "cell_type": "markdown",
   "id": "748a76ba",
   "metadata": {},
   "source": [
    "**Note that we get an error while trying to add to a tuple**\n",
    "\n",
    "**The same goes for removing**"
   ]
  },
  {
   "cell_type": "code",
   "execution_count": 15,
   "id": "179e9fdf",
   "metadata": {},
   "outputs": [
    {
     "ename": "AttributeError",
     "evalue": "'tuple' object has no attribute 'remove'",
     "output_type": "error",
     "traceback": [
      "\u001b[1;31m---------------------------------------------------------------------------\u001b[0m",
      "\u001b[1;31mAttributeError\u001b[0m                            Traceback (most recent call last)",
      "Cell \u001b[1;32mIn[15], line 1\u001b[0m\n\u001b[1;32m----> 1\u001b[0m \u001b[43mmy_tuple\u001b[49m\u001b[38;5;241;43m.\u001b[39;49m\u001b[43mremove\u001b[49m(\u001b[38;5;124m'\u001b[39m\u001b[38;5;124mhello\u001b[39m\u001b[38;5;124m'\u001b[39m)\n\u001b[0;32m      2\u001b[0m my_tuple\n",
      "\u001b[1;31mAttributeError\u001b[0m: 'tuple' object has no attribute 'remove'"
     ]
    }
   ],
   "source": [
    "my_tuple.remove('hello')\n",
    "my_tuple"
   ]
  }
 ],
 "metadata": {
  "kernelspec": {
   "display_name": "Python 3 (ipykernel)",
   "language": "python",
   "name": "python3"
  },
  "language_info": {
   "codemirror_mode": {
    "name": "ipython",
    "version": 3
   },
   "file_extension": ".py",
   "mimetype": "text/x-python",
   "name": "python",
   "nbconvert_exporter": "python",
   "pygments_lexer": "ipython3",
   "version": "3.10.9"
  }
 },
 "nbformat": 4,
 "nbformat_minor": 5
}
