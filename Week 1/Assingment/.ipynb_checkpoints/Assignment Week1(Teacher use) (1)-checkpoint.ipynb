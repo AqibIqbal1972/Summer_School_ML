{
 "cells": [
  {
   "cell_type": "markdown",
   "id": "1d0a3f1c-4813-4679-bfe2-e22d83114277",
   "metadata": {},
   "source": [
    "## Assignment: Checking Even or Odd Numbers in an Array\n",
    "Objective\n",
    "Create a Python script to determine if each element in an array is even or odd.\n",
    "\n",
    "Instructions\n",
    "Define the Array:\n",
    "\n",
    "Create an array named array with 10 elements of your choice.\n",
    "Loop Through the Array:\n",
    "\n",
    "Use a for loop to iterate through each element in the array.\n",
    "Check Even or Odd:\n",
    "\n",
    "Use an if statement to check if the number is even (num % 2 == 0).\n",
    "If the condition is true, print that the number is even.\n",
    "If the condition is false, print that the number is odd."
   ]
  },
  {
   "cell_type": "code",
   "execution_count": 1,
   "id": "728bee8c-5ba9-4562-8fe8-d837c72f9c4e",
   "metadata": {},
   "outputs": [
    {
     "name": "stdout",
     "output_type": "stream",
     "text": [
      "12 is even\n",
      "7 is odd\n",
      "5 is odd\n",
      "16 is even\n",
      "8 is even\n",
      "9 is odd\n",
      "11 is odd\n",
      "3 is odd\n",
      "20 is even\n",
      "14 is even\n"
     ]
    }
   ],
   "source": [
    "# Define an array with 10 elements\n",
    "array = [12, 7, 5, 16, 8, 9, 11, 3, 20, 14]\n",
    "\n",
    "# Loop through each element in the array\n",
    "for num in array:\n",
    "    # Check if the number is even or odd\n",
    "    if num % 2 == 0:\n",
    "        print(f\"{num} is even\")\n",
    "    else:\n",
    "        print(f\"{num} is odd\")\n"
   ]
  }
 ],
 "metadata": {
  "kernelspec": {
   "display_name": "Python 3 (ipykernel)",
   "language": "python",
   "name": "python3"
  },
  "language_info": {
   "codemirror_mode": {
    "name": "ipython",
    "version": 3
   },
   "file_extension": ".py",
   "mimetype": "text/x-python",
   "name": "python",
   "nbconvert_exporter": "python",
   "pygments_lexer": "ipython3",
   "version": "3.10.9"
  }
 },
 "nbformat": 4,
 "nbformat_minor": 5
}
