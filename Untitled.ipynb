{
 "cells": [
  {
   "cell_type": "markdown",
   "id": "020bed78",
   "metadata": {},
   "source": [
    "# Programming Exercise"
   ]
  },
  {
   "cell_type": "markdown",
   "id": "bdcc56b2",
   "metadata": {},
   "source": [
    "# 21. Rock, Paper, Scissors Game"
   ]
  },
  {
   "cell_type": "code",
   "execution_count": 1,
   "id": "8193073c",
   "metadata": {
    "scrolled": true
   },
   "outputs": [
    {
     "name": "stdout",
     "output_type": "stream",
     "text": [
      "Enter rock, paper, or scissors: rock\n",
      "computer played scissors \n",
      "\n",
      "you win!Rock smashes scissors \n",
      "\n",
      "Do you want to play again (yes/No) ?no\n",
      "Thankyou for playing...!!!!!!\n"
     ]
    }
   ],
   "source": [
    "import random\n",
    "def generateRandomNumber():\n",
    "    return random.randint(1,3)\n",
    "def userchoice():\n",
    "    while True:\n",
    "        choice = input(\"Enter rock, paper, or scissors: \").lower()\n",
    "        if choice in [\"rock\", \"paper\", \"scissors\"]:\n",
    "            return choice\n",
    "        print(\"Invalid input. Please try again.\")\n",
    "\n",
    "def DetermineWinner(computer,player):\n",
    "    if computer==player:\n",
    "        print(\"It is a tie!\\n\")\n",
    "        number=random.randint(1,3)\n",
    "    elif computer==\"rock\" and player==\"paper\":\n",
    "        print(\"you win!paper wraps rock!\",\"\\n\")\n",
    "            \n",
    "    elif computer==\"paper\" and player==\"rock\":\n",
    "        print(\"you lose!paper wraps rock!\",\"\\n\")\n",
    "\n",
    "    elif computer==\"paper\" and player==\"scissors\":\n",
    "        print(\"you win!scissors cut paper\",\"\\n\")\n",
    "            \n",
    "    elif computer==\"scissors\" and player==\"paper\":\n",
    "        print(\"you lose!scissors cut paper\",\"\\n\")\n",
    "                \n",
    "    elif computer==\"scissors\" and player==\"rock\":\n",
    "        print(\"you win!Rock smashes scissors\",\"\\n\")\n",
    "        \n",
    "    elif computer==\"rock\" and player==\"scissors\":\n",
    "        print(\"you lose!Rock smashes scissors\",\"\\n\")\n",
    "    else:\n",
    "        print(\"You lose!\\n\")        \n",
    "        \n",
    "def main():\n",
    "    while(True):\n",
    "        number=generateRandomNumber()\n",
    "        playerchoice=userchoice()\n",
    "        \n",
    "        if number==1:\n",
    "            computer=\"rock\"\n",
    "        if number==2:\n",
    "            computer=\"paper\"\n",
    "        if number==3:\n",
    "            computer=\"scissors\"\n",
    "        print(\"computer played\",computer,\"\\n\")  \n",
    "        \n",
    "        DetermineWinner(computer,playerchoice)\n",
    "        \n",
    "        \n",
    "        playagain=input(\"Do you want to play again (yes/No) ?\").strip().lower()\n",
    "        if(playagain!=\"yes\"):\n",
    "            print(\"Thankyou for playing...!!!!!!\")\n",
    "            break\n",
    "if __name__==\"__main__\":\n",
    "    main()\n",
    "    "
   ]
  },
  {
   "cell_type": "markdown",
   "id": "365d6ce1",
   "metadata": {},
   "source": [
    "# 20. Random Number Guessing Game"
   ]
  },
  {
   "cell_type": "code",
   "execution_count": null,
   "id": "56136bb1",
   "metadata": {},
   "outputs": [],
   "source": [
    "import random\n",
    "import time\n",
    "\n",
    "num = random.randint(1,100)\n",
    "count = 1\n",
    "print(\"A number is being generated! Please Wait.\")\n",
    "while(count < 20):\n",
    "    print(\"#\", end='')\n",
    "    time.sleep(0.5)\n",
    "    count+=1\n",
    "print(\"\\tDone!\")\n",
    "\n",
    "print(\"\\nI have a Number for You. Can you Guess It?\")\n",
    "guess = 0\n",
    "tries = 1\n",
    "while(guess != num and tries <= 5):\n",
    "    print(\"Enter your Guess....(1-100) : \", end='')\n",
    "    guess = int(input())\n",
    "    if guess < 0 or guess > 100:\n",
    "        print(\"Invalid Guess! Try Again\")\n",
    "        \n",
    "    else:\n",
    "        if(guess < num):\n",
    "            print(\"Your Guess is Too Smaller than the Number.Guess Again!\")\n",
    "        elif(guess > num):\n",
    "            print(\"Your Guess is  Too Lerger than the Number.Guess Again!\")\n",
    "    tries +=1\n",
    "if(tries > 5):\n",
    "    print(\"You Lost\")\n",
    "else:\n",
    "    print(\"Your Guess is Correct.....!\")\n",
    "    print(\"Ther Number was : \", num)"
   ]
  },
  {
   "cell_type": "markdown",
   "id": "2407693a",
   "metadata": {},
   "source": [
    "# 19. Loan Payments Calculator"
   ]
  },
  {
   "cell_type": "code",
   "execution_count": 8,
   "id": "b0cd41ea",
   "metadata": {},
   "outputs": [
    {
     "name": "stdout",
     "output_type": "stream",
     "text": [
      "Enter the loan amount: 20000\n",
      "Enter the monthly interest rate (as a percentage): 2\n",
      "Enter the number of months: 5\n",
      "The monthly payment amount necessary is: $4243.17\n"
     ]
    }
   ],
   "source": [
    "def calculate_monthly_payment(loan_amount, monthly_interest_rate, number_of_months):\n",
    "    R = monthly_interest_rate / 100  # Convert percentage to decimal\n",
    "    P = (R * loan_amount) / (1 - (1 + R) ** -number_of_months)\n",
    "    return P\n",
    "\n",
    "loan_amount = float(input(\"Enter the loan amount: \"))\n",
    "monthly_interest_rate = float(input(\"Enter the monthly interest rate (as a percentage): \"))\n",
    "number_of_months = int(input(\"Enter the number of months: \"))\n",
    "monthly_payment = calculate_monthly_payment(loan_amount, monthly_interest_rate, number_of_months)\n",
    "print(f\"The monthly payment amount necessary is: ${monthly_payment:.2f}\")\n"
   ]
  },
  {
   "cell_type": "markdown",
   "id": "834ad453",
   "metadata": {},
   "source": [
    "# 18. Prime Number List"
   ]
  },
  {
   "cell_type": "code",
   "execution_count": null,
   "id": "288d369f",
   "metadata": {},
   "outputs": [],
   "source": [
    "def prime_numbers(n):\n",
    "    primes=[]\n",
    "    for i in range(2,n+1):\n",
    "        for j in range(2,int(i**0.5)+1):\n",
    "            if i%j==0:\n",
    "                break\n",
    "        else:\n",
    "            primes.append(i)\n",
    "    return primes\n",
    "prime_list=prime_numbers(50)\n",
    "print(prime_list)"
   ]
  },
  {
   "cell_type": "markdown",
   "id": "8a5bf4d0",
   "metadata": {},
   "source": [
    "# 17. Prime Numbers"
   ]
  },
  {
   "cell_type": "code",
   "execution_count": null,
   "id": "8f392ed1",
   "metadata": {},
   "outputs": [],
   "source": [
    "num = int(input(\"Enter your Number : \"))\n",
    "d = 2\n",
    "prime = True\n",
    "while(d < num):\n",
    "    if(num%d == 0):\n",
    "        prime = False\n",
    "        break;\n",
    "    d += 1\n",
    "\n",
    "if(prime):\n",
    "    print(num,\" is a Prime Number.\")\n",
    "else:\n",
    "    print(num,\" is not a Prime Number.\")"
   ]
  },
  {
   "cell_type": "markdown",
   "id": "952e3ba6",
   "metadata": {},
   "source": [
    "# 16. Odd/Even Counter"
   ]
  },
  {
   "cell_type": "code",
   "execution_count": 6,
   "id": "62391f6f",
   "metadata": {},
   "outputs": [
    {
     "name": "stdout",
     "output_type": "stream",
     "text": [
      "Numbers of Even number  are --  53\n",
      "NUmbers of ODD number are --  46\n"
     ]
    }
   ],
   "source": [
    "import random\n",
    "def IsEven(numbers):\n",
    "    if numbers%2==0:\n",
    "        #print(numbers, \" is an Even number \")\n",
    "        return True\n",
    "    else:\n",
    "        #print(numbers ,\" is an ODD number \")\n",
    "        return False\n",
    "def main():\n",
    "    #random = 100\n",
    "    Evencount = 0 \n",
    "    Oddcount  = 0 \n",
    "    for i in range(1,100):\n",
    "        num=random.randint(1,100)\n",
    "        ISEven = IsEven(num)\n",
    "    \n",
    "        if(ISEven):\n",
    "             Evencount += 1\n",
    "        \n",
    "        else:\n",
    "             Oddcount += 1\n",
    "    print(\"Numbers of Even number  are -- \" , Evencount)\n",
    "    print(\"NUmbers of ODD number are -- \" , Oddcount)\n",
    "if __name__==\"__main__\":\n",
    "    main()"
   ]
  },
  {
   "cell_type": "markdown",
   "id": "24aaabfa",
   "metadata": {},
   "source": [
    "# 15. Test Average and Grade"
   ]
  },
  {
   "cell_type": "code",
   "execution_count": 9,
   "id": "90001700",
   "metadata": {},
   "outputs": [
    {
     "name": "stdout",
     "output_type": "stream",
     "text": [
      "Enter Test score-1 89\n",
      "Enter Test score-2 80\n",
      "Enter Test score-3 82\n",
      "Enter Test score-4 93\n",
      "Enter Test score-5 92\n",
      "Average Test score is  87.2\n",
      "Letter Grade !!\n",
      "Test-1  89  -Grade:  B\n",
      "Test-2  80  -Grade:  B\n",
      "Test-3  82  -Grade:  B\n",
      "Test-4  93  -Grade:  A\n",
      "Test-5  92  -Grade:  A\n"
     ]
    }
   ],
   "source": [
    "def determine_grade(score):\n",
    "    if score >= 90 and score <= 100:\n",
    "        return \"A\"\n",
    "    elif score >= 80 and score <= 89:\n",
    "        return \"B\"\n",
    "    elif score >= 70 and score <= 79:\n",
    "        return \"c\"\n",
    "    elif score >= 60 and score <= 69:\n",
    "        return \"D\"\n",
    "    else:\n",
    "        return \"Fail\"\n",
    "    \n",
    "def calc_average(grade1,grade2,grade3,grade4,grade5):\n",
    "    Average=(grade1+grade2+grade3+grade4+grade5)/5\n",
    "    return Average\n",
    "\n",
    "def main():\n",
    "    score1=int(input(\"Enter Test score-1 \"))\n",
    "    score2=int(input(\"Enter Test score-2 \"))\n",
    "    score3=int(input(\"Enter Test score-3 \"))\n",
    "    score4=int(input(\"Enter Test score-4 \"))\n",
    "    score5=int(input(\"Enter Test score-5 \"))\n",
    "    \n",
    "    Average=calc_average(score1,score2,score3,score4,score5)\n",
    "    print(\"Average Test score is \" , Average)\n",
    "    \n",
    "    print(\"Letter Grade !!\")\n",
    "    print(\"Test-1 \" , score1 , \" -Grade: \" , determine_grade(score1))\n",
    "    print(\"Test-2 \" , score2 , \" -Grade: \" , determine_grade(score2))\n",
    "    print(\"Test-3 \" , score3 , \" -Grade: \" , determine_grade(score3))\n",
    "    print(\"Test-4 \" , score4 , \" -Grade: \" , determine_grade(score4))\n",
    "    print(\"Test-5 \" , score5 , \" -Grade: \" , determine_grade(score5))\n",
    "if __name__==\"__main__\":\n",
    "    main()   "
   ]
  },
  {
   "cell_type": "markdown",
   "id": "e6adf31d",
   "metadata": {},
   "source": [
    "# 14. Kinetic Energy"
   ]
  },
  {
   "cell_type": "code",
   "execution_count": 4,
   "id": "551f9be2",
   "metadata": {},
   "outputs": [
    {
     "name": "stdout",
     "output_type": "stream",
     "text": [
      "Enter the mass of a body in Kilogram...!!!12\n",
      "Enter the velocity of a body..!!!!6\n",
      "The kinetic Energy of a body  216.0  joules \n"
     ]
    }
   ],
   "source": [
    "import math\n",
    "def kinetic_energy(mass,velocity):\n",
    "    Energy = (mass * math.pow(velocity, 2))/2\n",
    "    return Energy\n",
    "def main():\n",
    "    mass=float(input(\"Enter the mass of a body in Kilogram...!!!\"))\n",
    "    velocity=float(input(\"Enter the velocity of a body..!!!!\"))\n",
    "    KineticEnergy = kinetic_energy(mass, velocity)\n",
    "    print(\"The kinetic Energy of a body \" , KineticEnergy , \" joules \")\n",
    "if __name__==\"__main__\":\n",
    "    main()       "
   ]
  },
  {
   "cell_type": "markdown",
   "id": "3077334e",
   "metadata": {},
   "source": [
    "# 13. Falling Distance"
   ]
  },
  {
   "cell_type": "code",
   "execution_count": 10,
   "id": "dc5856cf",
   "metadata": {},
   "outputs": [
    {
     "name": "stdout",
     "output_type": "stream",
     "text": [
      "Time   Distance in meter\n",
      "--------------------------------------------------\n",
      "1         4.9\n",
      "2         19.6\n",
      "3         44.1\n",
      "4         78.4\n",
      "5         122.50000000000001\n",
      "6         176.4\n",
      "7         240.10000000000002\n",
      "8         313.6\n",
      "9         396.90000000000003\n",
      "10        490.00000000000006\n"
     ]
    }
   ],
   "source": [
    "def falling_distance(second):\n",
    "    gravity=9.8\n",
    "    distance=(gravity*math.pow(second, 2))/2\n",
    "    return distance\n",
    "def main():\n",
    "    print(\"Time   Distance in meter\")\n",
    "    print(\"--------------------------------------------------\")\n",
    "    for time in range(1,11):\n",
    "        distance=falling_distance(time)\n",
    "        print(f\"{time:<9} {distance}\".format(time,distance))\n",
    "if __name__==\"__main__\":\n",
    "    main()         "
   ]
  },
  {
   "cell_type": "markdown",
   "id": "fc2471ac",
   "metadata": {},
   "source": [
    "# 12. Maximum of Two Values"
   ]
  },
  {
   "cell_type": "code",
   "execution_count": null,
   "id": "b52ed79c",
   "metadata": {},
   "outputs": [],
   "source": [
    "def max(num1, num2):\n",
    "    if num1 > num2:\n",
    "        return num1\n",
    "    else:\n",
    "        return num2\n",
    "value1 = int(input(\"Enter the first integer value: \"))\n",
    "value2 = int(input(\"Enter the second integer value: \"))\n",
    "greater_value = max(value1, value2)\n",
    "print(f\"The greater value is: {greater_value}\")\n"
   ]
  },
  {
   "cell_type": "markdown",
   "id": "1c442b91",
   "metadata": {},
   "source": [
    "# 11. Addition Test"
   ]
  },
  {
   "cell_type": "code",
   "execution_count": 7,
   "id": "ac0b7bed",
   "metadata": {},
   "outputs": [
    {
     "name": "stdout",
     "output_type": "stream",
     "text": [
      "Question 1\n",
      "1 + 2 = _____\n",
      "\n",
      "Question 2\n",
      "10 + 6 = _____\n",
      "\n",
      "Question 3\n",
      "3 + 8 = _____\n",
      "\n",
      "Question 4\n",
      "5 + 8 = _____\n",
      "\n",
      "Question 5\n",
      "5 + 5 = _____\n",
      "\n"
     ]
    }
   ],
   "source": [
    "import random\n",
    "\n",
    "def generate_addition_test():\n",
    "   \n",
    "    for question_number in range(1, 6):\n",
    "        num1 = random.randint(1, 10)\n",
    "        num2 = random.randint(1, 10)\n",
    "        print(f\"Question {question_number}\")\n",
    "        print(f\"{num1} + {num2} = _____\")\n",
    "        print() \n",
    "\n",
    "generate_addition_test()\n"
   ]
  },
  {
   "cell_type": "markdown",
   "id": "ed6c8240",
   "metadata": {},
   "source": [
    "# 10. Feet to Inches"
   ]
  },
  {
   "cell_type": "code",
   "execution_count": 6,
   "id": "33e5cb01",
   "metadata": {},
   "outputs": [
    {
     "name": "stdout",
     "output_type": "stream",
     "text": [
      "Enter the number of feet: 20\n",
      "The number of inches in 20.0 feet is: 240.00 inches\n"
     ]
    }
   ],
   "source": [
    "def feet_to_inches(feet):\n",
    "    inches = feet * 12\n",
    "    return inches\n",
    "\n",
    "feet = float(input(\"Enter the number of feet: \"))\n",
    "inches = feet_to_inches(feet)\n",
    "\n",
    "print(f\"The number of inches in {feet} feet is: {inches:.2f} inches\")\n"
   ]
  },
  {
   "cell_type": "markdown",
   "id": "09164c42",
   "metadata": {},
   "source": [
    "# 9. Monthly Sales Tax"
   ]
  },
  {
   "cell_type": "code",
   "execution_count": 5,
   "id": "8a68e979",
   "metadata": {},
   "outputs": [
    {
     "name": "stdout",
     "output_type": "stream",
     "text": [
      "Enter the total sales for the month: 20000\n",
      "The amount of county sales tax is: $500.00\n",
      "The amount of state sales tax is: $1000.00\n",
      "The total sales tax is: $1500.00\n"
     ]
    }
   ],
   "source": [
    "def calculate_county_sales_tax(total_sales):\n",
    "    county_sales_tax_rate = 0.025\n",
    "    return total_sales * county_sales_tax_rate\n",
    "\n",
    "def calculate_state_sales_tax(total_sales):\n",
    "    state_sales_tax_rate = 0.05\n",
    "    return total_sales * state_sales_tax_rate\n",
    "\n",
    "def calculate_total_sales_tax(total_sales):\n",
    "    county_sales_tax = calculate_county_sales_tax(total_sales)\n",
    "    state_sales_tax = calculate_state_sales_tax(total_sales)\n",
    "    return county_sales_tax + state_sales_tax\n",
    "\n",
    "\n",
    "total_sales = float(input(\"Enter the total sales for the month: \"))\n",
    "county_sales_tax = calculate_county_sales_tax(total_sales)\n",
    "state_sales_tax = calculate_state_sales_tax(total_sales)\n",
    "total_sales_tax = calculate_total_sales_tax(total_sales)\n",
    "\n",
    "print(f\"The amount of county sales tax is: ${county_sales_tax:.2f}\")\n",
    "print(f\"The amount of state sales tax is: ${state_sales_tax:.2f}\")\n",
    "print(f\"The total sales tax is: ${total_sales_tax:.2f}\")\n"
   ]
  },
  {
   "cell_type": "markdown",
   "id": "754b20c2",
   "metadata": {},
   "source": [
    "# 8. Paint Job Estimator"
   ]
  },
  {
   "cell_type": "code",
   "execution_count": 16,
   "id": "8f63ead8",
   "metadata": {},
   "outputs": [
    {
     "name": "stdout",
     "output_type": "stream",
     "text": [
      "Enter the number of rooms to be printed 5\n",
      "Enter the  price  of paint per Gallons 10000\n",
      "Enter the square feet of walls of room to be painted for rooms 100\n",
      "Enter the square feet of walls of room to be painted for rooms 150\n",
      "Enter the square feet of walls of room to be painted for rooms 200\n",
      "Enter the square feet of walls of room to be painted for rooms 130\n",
      "Enter the square feet of walls of room to be painted for rooms 120\n",
      "\n",
      "\n",
      "Result\n",
      "Number of gallons of paint required  6.25\n",
      "Total hours of labour work needed  50.0\n",
      "The cost of paint required: $ 62500.0\n",
      "The cost of labour work are: $ 1750.0\n",
      "The total cost of painting of both labour and paint will be: $ 64250.0\n"
     ]
    }
   ],
   "source": [
    "def calculate_paint(square_feet):\n",
    "    required_gallons = square_feet /112\n",
    "    return required_gallons\n",
    "def calculate_labourhours(square_feet):\n",
    "    labour_hours_req = square_feet /112 * 8\n",
    "    return labour_hours_req\n",
    "def paint_cost(gallons,price_pergallons):\n",
    "    paint_cost = gallons * price_pergallons\n",
    "    return paint_cost\n",
    "def Labour_charge(hours):\n",
    "    labour_cost = hours * 35\n",
    "    return labour_cost\n",
    "def Total_paintcost(labour_cost,paint_cost):\n",
    "    Totalpaintcost = labour_cost + paint_cost\n",
    "    return Totalpaintcost\n",
    "def display_result(total_gallons,total_hours,costofpaint,labour_cost,Total_paintprice):\n",
    "    print(\"\\nResult\");\n",
    "    print(\"Number of gallons of paint required \" , total_gallons)\n",
    "    print(\"Total hours of labour work needed \" , total_hours)\n",
    "    print(\"The cost of paint required: $\" , costofpaint)\n",
    "    print(\"The cost of labour work are: $\" , labour_cost)\n",
    "    print(\"The total cost of painting of both labour and paint will be: $\" , Total_paintprice)\n",
    "def main():\n",
    "    num_of_rooms=int(input(\"Enter the number of rooms to be printed \"))\n",
    "    paint_price=int(input(\"Enter the  price  of paint per Gallons \"))\n",
    "    total_gallons = 0\n",
    "    total_hours = 0\n",
    "    \n",
    "    for i in range(num_of_rooms):\n",
    "            square_feet=int(input(\"Enter the square feet of walls of room to be painted for rooms \" ))\n",
    "            gallons=calculate_paint(square_feet)\n",
    "            hours=calculate_labourhours(square_feet)\n",
    "            \n",
    "            total_gallons += gallons\n",
    "            total_hours += hours\n",
    "    print()\n",
    "    paintprice=paint_cost(total_gallons,paint_price)\n",
    "    labourcost=Labour_charge(total_hours)\n",
    "    Totalcost=Total_paintcost(labourcost,paintprice)\n",
    "    display_result(total_gallons,total_hours,paintprice,labourcost,Totalcost)\n",
    "if __name__==\"__main__\":\n",
    "    main()    \n",
    "    "
   ]
  },
  {
   "cell_type": "markdown",
   "id": "fafded39",
   "metadata": {},
   "source": [
    "# 7. Stadium Seating"
   ]
  },
  {
   "cell_type": "code",
   "execution_count": 1,
   "id": "e39aa4ac",
   "metadata": {},
   "outputs": [
    {
     "name": "stdout",
     "output_type": "stream",
     "text": [
      "How many tickets for class A were bought:20\n",
      "How many tickets for class B were bought:12\n",
      "How many tickets for class C were bought:13\n",
      "class A sales $400.00\n",
      "class B sales $180.00\n",
      "class C sales $130.00\n",
      "Total sales $710.00\n"
     ]
    }
   ],
   "source": [
    "def calculateclassAticketsales(classAticketbought):\n",
    "    class_A_sales=classAticketbought*20\n",
    "    return class_A_sales\n",
    "def calculateclassBticketsales(classBticketbought):\n",
    "    class_B_sales=classBticketbought*15\n",
    "    return class_B_sales\n",
    "def calculateclassCticketsales(classCticketbought):\n",
    "    class_C_sales=classCticketbought*10\n",
    "    return class_C_sales\n",
    "def calculatetotalsales(class_A_sales,class_B_sales,class_C_sales):\n",
    "    total_sales=class_A_sales + class_B_sales + class_C_sales\n",
    "    return total_sales \n",
    "def printsalesReport(class_A_sales,class_B_sales,class_C_sales,total_sales):\n",
    "    print(\"class A sales $\" + format(class_A_sales,\",.2f\"),\\\n",
    "          \"class B sales $\" + format(class_B_sales,\",.2f\"),\\\n",
    "          \"class C sales $\" + format(class_C_sales,\",.2f\"),\\\n",
    "          \"Total sales $\" + format(total_sales,\",.2f\"),sep=\"\\n\" )      \n",
    "a=int(input(\"How many tickets for class A were bought:\"))\n",
    "b=int(input(\"How many tickets for class B were bought:\"))      \n",
    "c=int(input(\"How many tickets for class C were bought:\"))\n",
    "class_A_sales=calculateclassAticketsales(a)\n",
    "class_B_sales=calculateclassBticketsales(b)\n",
    "class_C_sales=calculateclassCticketsales(c)\n",
    "total_sales=calculatetotalsales(class_A_sales,class_B_sales,class_C_sales)\n",
    "printsalesReport(class_A_sales,class_B_sales,class_C_sales,total_sales)\n"
   ]
  },
  {
   "cell_type": "markdown",
   "id": "2699c192",
   "metadata": {},
   "source": [
    "# 6. Calories from Fat and Carbohydrates"
   ]
  },
  {
   "cell_type": "code",
   "execution_count": 4,
   "id": "6912a8d0",
   "metadata": {},
   "outputs": [
    {
     "name": "stdout",
     "output_type": "stream",
     "text": [
      "Enter the number of fat grams consumed in a day: 2\n",
      "The number of calories from fat is: 18.0\n"
     ]
    }
   ],
   "source": [
    "fat_grams = float(input(\"Enter the number of fat grams consumed in a day: \"))\n",
    "calories_from_fat = fat_grams * 9\n",
    "print(f\"The number of calories from fat is: {calories_from_fat}\")\n"
   ]
  },
  {
   "cell_type": "markdown",
   "id": "fbc8ccb4",
   "metadata": {},
   "source": [
    "# 5. Property Tax"
   ]
  },
  {
   "cell_type": "code",
   "execution_count": 3,
   "id": "91837380",
   "metadata": {},
   "outputs": [
    {
     "name": "stdout",
     "output_type": "stream",
     "text": [
      "Enter the actual value of the property: 10000\n",
      "The assessment value of the property is: $6000.00\n",
      "The property tax is: $43.20\n"
     ]
    }
   ],
   "source": [
    "actual_value = float(input(\"Enter the actual value of the property: \"))\n",
    "assessment_value = actual_value * 0.60\n",
    "property_tax = (assessment_value / 100) * 0.72\n",
    "print(f\"The assessment value of the property is: ${assessment_value:.2f}\")\n",
    "print(f\"The property tax is: ${property_tax:.2f}\")\n"
   ]
  },
  {
   "cell_type": "markdown",
   "id": "d2de96cd",
   "metadata": {},
   "source": [
    "# 4. Automobile Costs"
   ]
  },
  {
   "cell_type": "code",
   "execution_count": null,
   "id": "1244089e",
   "metadata": {},
   "outputs": [],
   "source": [
    "def main():\n",
    "    \n",
    "    loan_payment = float(input(\"Enter the monthly loan payment: $\"))\n",
    "    insurance = float(input(\"Enter the monthly insurance cost: $\"))\n",
    "    gas = float(input(\"Enter the monthly gas cost: $\"))\n",
    "    oil = float(input(\"Enter the monthly oil cost: $\"))\n",
    "    tires = float(input(\"Enter the monthly tire cost: $\"))\n",
    "    maintenance = float(input(\"Enter the monthly maintenance cost: $\"))\n",
    "\n",
    "    total_monthly_cost = loan_payment + insurance + gas + oil + tires + maintenance\n",
    "    total_annual_cost = total_monthly_cost * 12\n",
    "\n",
    "  \n",
    "    print(f\"\\nThe total monthly cost of these expenses is: ${total_monthly_cost:.2f}\")\n",
    "    print(f\"The total annual cost of these expenses is: ${total_annual_cost:.2f}\")\n",
    "\n",
    "if __name__ == \"__main__\":\n",
    "    main()\n"
   ]
  },
  {
   "cell_type": "markdown",
   "id": "9c1aa119",
   "metadata": {},
   "source": [
    "# 3. How Much Insurance?"
   ]
  },
  {
   "cell_type": "code",
   "execution_count": 2,
   "id": "bf4e685f",
   "metadata": {},
   "outputs": [
    {
     "name": "stdout",
     "output_type": "stream",
     "text": [
      "Enter the replacement cost of the building: $12000\n",
      "The minimum amount of insurance you should buy for the property is: $9600.00\n"
     ]
    }
   ],
   "source": [
    "def main():\n",
    "    \n",
    "    replacement_cost = float(input(\"Enter the replacement cost of the building: $\"))\n",
    "    minimum_insurance = replacement_cost * 0.80\n",
    "    print(f\"The minimum amount of insurance you should buy for the property is: ${minimum_insurance:.2f}\")\n",
    "\n",
    "if __name__ == \"__main__\":\n",
    "    main()\n"
   ]
  },
  {
   "cell_type": "markdown",
   "id": "c0065069",
   "metadata": {},
   "source": [
    "# 2. String Repeater"
   ]
  },
  {
   "cell_type": "code",
   "execution_count": 2,
   "id": "bf7981fb",
   "metadata": {},
   "outputs": [
    {
     "name": "stdout",
     "output_type": "stream",
     "text": [
      "Enter the string you want to reapeat:Ashir\n",
      "How many time you want to reapeat:3\n",
      "Ashir\n",
      "Ashir\n",
      "Ashir\n"
     ]
    }
   ],
   "source": [
    "def main():\n",
    "    string_to_reapeat=input(\"Enter the string you want to reapeat:\")\n",
    "    number_of_repetitions=int(input(\"How many time you want to reapeat:\"))\n",
    "    reapeat(string_to_reapeat,number_of_repetitions)\n",
    "def reapeat(string,number):\n",
    "    for x in range(number):\n",
    "        print(string)\n",
    "main()               "
   ]
  },
  {
   "cell_type": "markdown",
   "id": "aa762cec",
   "metadata": {},
   "source": [
    "# 1. Kilometer Converter"
   ]
  },
  {
   "cell_type": "code",
   "execution_count": 1,
   "id": "7d8fae6f",
   "metadata": {},
   "outputs": [
    {
     "name": "stdout",
     "output_type": "stream",
     "text": [
      "Enter the distance in kilometers: 1\n",
      "The distance in miles is: 0.62\n"
     ]
    }
   ],
   "source": [
    "kilometers = float(input(\"Enter the distance in kilometers: \"))\n",
    "miles = kilometers * 0.6214\n",
    "print(f\"The distance in miles is: {miles:.2f}\")\n"
   ]
  },
  {
   "cell_type": "markdown",
   "id": "1a6f8dd4",
   "metadata": {},
   "source": [
    "# Retail_Price_Calculator"
   ]
  },
  {
   "cell_type": "code",
   "execution_count": 20,
   "id": "5571575d",
   "metadata": {},
   "outputs": [
    {
     "name": "stdout",
     "output_type": "stream",
     "text": [
      "Enter the wholesalecost for retail price 5\n",
      "Enter the markup percentege for retail price 100\n",
      "The Retail's price of an item is : 5.0\n"
     ]
    }
   ],
   "source": [
    "def calculate_Retail(whole_sale_cost,mark_up_percentage):\n",
    "    if whole_sale_cost >= 0 and mark_up_percentage >= 0:\n",
    "        mark_up_amount=whole_sale_cost * (mark_up_percentage/100)\n",
    "        return mark_up_amount\n",
    "    else:\n",
    "        return -1\n",
    "def main():\n",
    "    whole_sale_cost = float(input(\"Enter the wholesalecost for retail price \"))\n",
    "    mark_up_percentage=float(input(\"Enter the markup percentege for retail price \"))\n",
    "    retailprice = calculate_Retail(whole_sale_cost, mark_up_percentage)\n",
    "    print(\"The Retail's price of an item is :\" , retailprice)\n",
    "if __name__==\"__main__\":\n",
    "    main()"
   ]
  },
  {
   "cell_type": "markdown",
   "id": "88afb2a9",
   "metadata": {},
   "source": [
    "# Temperature_Conversion"
   ]
  },
  {
   "cell_type": "code",
   "execution_count": 21,
   "id": "50178774",
   "metadata": {},
   "outputs": [
    {
     "name": "stdout",
     "output_type": "stream",
     "text": [
      "Fahrenheit\tCelcius\n",
      "1 \t\t -17.22222222222222\n",
      "2 \t\t -16.666666666666668\n",
      "3 \t\t -16.11111111111111\n",
      "4 \t\t -15.555555555555557\n",
      "5 \t\t -15.0\n",
      "6 \t\t -14.444444444444445\n",
      "7 \t\t -13.88888888888889\n",
      "8 \t\t -13.333333333333334\n",
      "9 \t\t -12.777777777777779\n",
      "10 \t\t -12.222222222222223\n",
      "11 \t\t -11.666666666666668\n",
      "12 \t\t -11.11111111111111\n",
      "13 \t\t -10.555555555555555\n",
      "14 \t\t -10.0\n",
      "15 \t\t -9.444444444444445\n",
      "16 \t\t -8.88888888888889\n",
      "17 \t\t -8.333333333333334\n",
      "18 \t\t -7.777777777777779\n",
      "19 \t\t -7.222222222222222\n",
      "20 \t\t -6.666666666666667\n"
     ]
    }
   ],
   "source": [
    "def Celcius(Fahrenheit):\n",
    "    temperatureConversion = 5.0/9.0*(Fahrenheit - 32)\n",
    "    return temperatureConversion\n",
    "def main():\n",
    "    print(\"Fahrenheit\\tCelcius\")\n",
    "    for Fahrenheit in range(1,21):\n",
    "        celcius=Celcius(Fahrenheit)\n",
    "        print(Fahrenheit,\"\\t\\t\",celcius)\n",
    "if __name__==\"__main__\":\n",
    "    main()"
   ]
  },
  {
   "cell_type": "markdown",
   "id": "9bb8aa48",
   "metadata": {},
   "source": [
    "# Stock profit"
   ]
  },
  {
   "cell_type": "code",
   "execution_count": 23,
   "id": "cd4dc537",
   "metadata": {},
   "outputs": [
    {
     "name": "stdout",
     "output_type": "stream",
     "text": [
      "Enter the number of sales stock :2\n",
      "Enter the number of share ? you are essentially purchasing a portion of that company:200\n",
      "Enter the purchasing price of Each share you bought from company :10\n",
      "Enter the commision rate you paid during purchasing a stock of share: 5\n",
      "Enter the sale price per share you sale: 12\n",
      "Enter the commision you paid during selling of stock of share:2\n",
      "The profit you Earn from Multiple stock of share is  $ 393.0\n"
     ]
    }
   ],
   "source": [
    "def Profit(NS,PP,PC,SP,SC):\n",
    "    profit=((NS*SP)-SC)-((NS*PP)+PC)\n",
    "    return profit\n",
    "def calculate_proft_Loss(num_of_sale):\n",
    "    total_profit_loss = 0 \n",
    "    for i in range(num_of_sale):\n",
    "        Numberofshare=float(input(\"Enter the number of share ? you are essentially purchasing a portion of that company:\"))\n",
    "        purchasepricepershare=float(input(\"Enter the purchasing price of Each share you bought from company :\")) \n",
    "        purchasecommissionpaid=float(input(\"Enter the commision rate you paid during purchasing a stock of share: \"))\n",
    "        salepricepershare = float(input(\"Enter the sale price per share you sale: \"))\n",
    "        salecommissionpaid = float(input(\"Enter the commision you paid during selling of stock of share:\"))\n",
    "        total_profit_loss +=Profit(Numberofshare,purchasepricepershare,purchasecommissionpaid, salepricepershare,salecommissionpaid)\n",
    "        \n",
    "        return total_profit_loss\n",
    "    \n",
    "def main():\n",
    "    num_of_sale=int(input(\"Enter the number of sales stock :\"))\n",
    "    Result = calculate_proft_Loss(num_of_sale)\n",
    "    \n",
    "    if Result > 0:\n",
    "        print(\"The profit you Earn from Multiple stock of share is \" , \"$\" , Result)\n",
    "    elif Result < 0:\n",
    "        print(\"The profit you Loss from Multiple stock of share is \" , \"$\" , Result)\n",
    "    else:\n",
    "        print(\"No Profit OR Losss \")\n",
    "if __name__==\"__main__\":\n",
    "    main()"
   ]
  },
  {
   "cell_type": "markdown",
   "id": "1a2c5c8b",
   "metadata": {},
   "source": [
    "# Conversion program"
   ]
  },
  {
   "cell_type": "code",
   "execution_count": 4,
   "id": "a5b7ae6c",
   "metadata": {},
   "outputs": [
    {
     "name": "stdout",
     "output_type": "stream",
     "text": [
      "Enter the Distance in meters : 500\n",
      "1. convert to kilometer \n",
      "2. convert to Inches \n",
      "3. convert to Feet \n",
      "4. Quit the program \n",
      "Enter choice for conversion :(Either 1,2,3)1\n",
      "500 meters is  0.5  kilometers \n",
      "Do you want to Choice another option for conversion (Enter yes|No )No\n"
     ]
    }
   ],
   "source": [
    "def showkilometers(meters):\n",
    "    kilometer=meters*0.001\n",
    "    print(meters,\"meters is \",kilometer,\" kilometers \")\n",
    "def showInches(meter):\n",
    "    inches=meter*39.37\n",
    "    print(meters,\"meters is \",inches,\" Inches \")\n",
    "def showFeet(meter):\n",
    "    feet=meters*3.281\n",
    "    print(meters,\"meters is \",feet,\" Feet \")\n",
    "def Menu():\n",
    "    print(\"1. convert to kilometer \")\n",
    "    print(\"2. convert to Inches \")\n",
    "    print(\"3. convert to Feet \")\n",
    "    print(\"4. Quit the program \")\n",
    "def main():\n",
    "    \n",
    "    while(True):\n",
    "        distance=int(input(\"Enter the Distance in meters : \"))\n",
    "        if distance >= 0:\n",
    "            Menu()\n",
    "            choice=int(input(\"Enter choice for conversion :(Either 1,2,3)\"))\n",
    "            match choice:\n",
    "                case 1:\n",
    "                     showkilometers(distance)\n",
    "                case 2:\n",
    "                     showInches(distance)\n",
    "                case 3:\n",
    "                     showFeet(distance)\n",
    "                        \n",
    "            option=str(input(\"Do you want to Choice another option for conversion (Enter yes|No )\") ) \n",
    "            if option==\"No\":\n",
    "                break\n",
    "                \n",
    "        else:\n",
    "            print(\"Distance can't be Negative! plz enter valid distance\")\n",
    "            \n",
    "if __name__==\"__main__\":\n",
    "    main()\n",
    "            "
   ]
  },
  {
   "cell_type": "markdown",
   "id": "4eaa3f56",
   "metadata": {},
   "source": [
    "# Armstrong_Number"
   ]
  },
  {
   "cell_type": "code",
   "execution_count": 5,
   "id": "f86a382d",
   "metadata": {},
   "outputs": [
    {
     "name": "stdout",
     "output_type": "stream",
     "text": [
      "3\n",
      "370  is an Armstrong number \n"
     ]
    }
   ],
   "source": [
    "import math\n",
    "def checkArmstrong(number):\n",
    "    strnumber=str(number)\n",
    "    numofdigits=len(strnumber)\n",
    "    \n",
    "    sumofcubes=0\n",
    "    for i in range(numofdigits):\n",
    "        currentchar=str(strnumber[i])\n",
    "        digits=int(currentchar)\n",
    "        \n",
    "        sumofcubes+=math.pow(digits,3)\n",
    "    return sumofcubes==number\n",
    "def main():\n",
    "    Tochecknumber=370\n",
    "    result=checkArmstrong(Tochecknumber)\n",
    "    if(result):\n",
    "        print(Tochecknumber , \" is an Armstrong number \");\n",
    "        \n",
    "    else:\n",
    "        print(Tochecknumber , \" is not an Armstrong number \");\n",
    "if __name__==\"__main__\":\n",
    "    main()"
   ]
  },
  {
   "cell_type": "markdown",
   "id": "33c7be1e",
   "metadata": {},
   "source": [
    "# Customer"
   ]
  },
  {
   "cell_type": "code",
   "execution_count": 3,
   "id": "634cb370",
   "metadata": {},
   "outputs": [
    {
     "name": "stdout",
     "output_type": "stream",
     "text": [
      "customer blnce is  5100\n",
      "Add new amount to customer blnce is  10100\n",
      "customer blnce is now  10100\n"
     ]
    }
   ],
   "source": [
    "class customer:\n",
    "    def __init__(self):\n",
    "        self.customer_name = \"Abc\"\n",
    "        self.customer_addressed = \"Xyz\"\n",
    "        self.customer_contact = 123 \n",
    "        self.customer_balance = 5000\n",
    "    def Display(self):\n",
    "        print(\"*********** customer information *********\")\n",
    "        print(\"customer name is \" , self.customer_name)\n",
    "        print(\"customer addressed is \",  self.customer_addressed)\n",
    "        print(\"customer contact is \" , self.customer_contact)\n",
    "        print(\"customer balance is \" , self.customer_balance)\n",
    "    def deposit(self):\n",
    "        self.customer_balance+=100\n",
    "        return self.customer_balance\n",
    "    def deposite_one(self,num):\n",
    "        self.customer_balance+=num\n",
    "        return self.customer_balance\n",
    "    def balance(self):\n",
    "        return self.customer_balance\n",
    "def main():\n",
    "    s=customer()\n",
    "    customer_balance=s.deposit()\n",
    "    add_amount=s.deposite_one(5000)\n",
    "    cus_balnce=s.balance()\n",
    "    print(\"customer blnce is \" , customer_balance);\n",
    "    print(\"Add new amount to customer blnce is \" , add_amount);\n",
    "    print(\"customer blnce is now \" , cus_balnce);\n",
    "if __name__==\"__main__\":\n",
    "    main()"
   ]
  },
  {
   "cell_type": "markdown",
   "id": "f9de6ed7",
   "metadata": {},
   "source": [
    "# Showchar"
   ]
  },
  {
   "cell_type": "code",
   "execution_count": 4,
   "id": "a3922f00",
   "metadata": {},
   "outputs": [
    {
     "name": "stdout",
     "output_type": "stream",
     "text": [
      "Character at position  4 : y\n"
     ]
    }
   ],
   "source": [
    "def showchar(string,position):\n",
    "    if position >= 0 and position < len(string):\n",
    "        character=string[position]\n",
    "        print(\"Character at position \" , position , \":\" , character)\n",
    "    else:\n",
    "        print(\"Invalid position plz provide a valid position within the string length \")\n",
    "text = \"New york\"\n",
    "position = 4\n",
    "showchar(text, position)\n",
    "    "
   ]
  },
  {
   "cell_type": "markdown",
   "id": "f947d0b0",
   "metadata": {},
   "source": [
    "# RectangleArea"
   ]
  },
  {
   "cell_type": "code",
   "execution_count": 10,
   "id": "3eb3dd1e",
   "metadata": {},
   "outputs": [
    {
     "name": "stdout",
     "output_type": "stream",
     "text": [
      "Enter the length of a Rectangle:12\n",
      "Enter the Width of a Rectangle :12\n",
      "The Length of a Rectangle is  12.0\n",
      "The width of a Rectangle is  12.0\n",
      "The area of a Rectengle is  144.0\n"
     ]
    }
   ],
   "source": [
    "def getlength(length):\n",
    "        return length\n",
    "def getwidth(width):\n",
    "        return width\n",
    "def getArea(length,width):\n",
    "        return length*width\n",
    "def Display(length,width,Area):\n",
    "        print(\"The Length of a Rectangle is \" , length )\n",
    "        print(\"The width of a Rectangle is \" , width )\n",
    "        print(\"The area of a Rectengle is \" , Area )\n",
    "def main():\n",
    "    leng=float(input(\"Enter the length of a Rectangle:\"))\n",
    "    wid=float(input(\"Enter the Width of a Rectangle :\"))\n",
    "    length=getlength(leng)\n",
    "    width=getwidth(wid)\n",
    "    area=getArea(length,width)\n",
    "    Display(length,width,area)\n",
    "if __name__==\"__main__\":\n",
    "    main()"
   ]
  },
  {
   "cell_type": "markdown",
   "id": "cad488c1",
   "metadata": {},
   "source": [
    "# Dic Game"
   ]
  },
  {
   "cell_type": "code",
   "execution_count": 3,
   "id": "456fe473",
   "metadata": {},
   "outputs": [
    {
     "name": "stdout",
     "output_type": "stream",
     "text": [
      "Rolling Dice  1\n",
      "Computer Die  3\n",
      "User Die  1\n",
      "\n",
      "Rolling Dice  2\n",
      "Computer Die  7\n",
      "User Die  2\n",
      "\n",
      "Rolling Dice  3\n",
      "Computer Die  6\n",
      "User Die  6\n",
      "Die is now Tie \n",
      "\n",
      "Rolling Dice  4\n",
      "Computer Die  6\n",
      "User Die  5\n",
      "\n",
      "Rolling Dice  5\n",
      "Computer Die  2\n",
      "User Die  5\n",
      "\n",
      "Rolling Dice  6\n",
      "Computer Die  6\n",
      "User Die  5\n",
      "\n",
      "Rolling Dice  7\n",
      "Computer Die  6\n",
      "User Die  7\n",
      "\n",
      "Rolling Dice  8\n",
      "Computer Die  1\n",
      "User Die  4\n",
      "\n",
      "Rolling Dice  9\n",
      "Computer Die  2\n",
      "User Die  6\n",
      "\n",
      "Rolling Dice  10\n",
      "Computer Die  3\n",
      "User Die  7\n",
      "\n",
      "Rolling Dice  11\n",
      "Computer Die  2\n",
      "User Die  6\n",
      "\n",
      "Game Over...!!!!\n",
      "Computers win  4\n",
      "users win  6\n",
      "Grand winner is the user!! \n"
     ]
    }
   ],
   "source": [
    "import random\n",
    "def rollDie():\n",
    "    return random.randint(1,6)\n",
    "\n",
    "def main():\n",
    "    computerwin=0\n",
    "    userwin=0\n",
    "    for i in range(11):\n",
    "        print(\"Rolling Dice \",(i+1))\n",
    "        computer_Die=rollDie()\n",
    "        user_Die=rollDie()\n",
    "        print(\"Computer Die \",computer_Die)\n",
    "        print(\"User Die \",user_Die)\n",
    "        \n",
    "        if computer_Die > user_Die:\n",
    "            computerwin+=1\n",
    "        elif  computer_Die < user_Die:\n",
    "            userwin+=1\n",
    "        else:\n",
    "            print(\"Die is now Tie \")\n",
    "        print()    \n",
    "    print(\"Game Over...!!!!\")\n",
    "    print(\"Computers win \" , computerwin)\n",
    "    print(\"users win \" , userwin)\n",
    "\n",
    "    if computerwin > userwin:\n",
    "        print(\"Grand winner is the computer!! \")\n",
    "    elif computerwin < userwin:\n",
    "        print(\"Grand winner is the user!! \")\n",
    "    else:\n",
    "        print(\"The game ended in a tie!!\")\n",
    "    \n",
    "if __name__==\"__main__\":\n",
    "    main()"
   ]
  },
  {
   "cell_type": "code",
   "execution_count": null,
   "id": "ad376c8d",
   "metadata": {},
   "outputs": [],
   "source": [
    "def get_sales():\n",
    "    monthly_sales=float(input(\"Enter the monthly sales \"))\n",
    "    return monthly_sales\n",
    "def get_advanced_pay():\n",
    "    print(\"Enter the advanced pay OR \")\n",
    "    print(\"enter 0 if no advanced pay was given....!!!\")\n",
    "    advanced=float(input(\"Advanced pay....!!!\"))\n",
    "    return advanced\n",
    "def determine_comm_rate(sales):\n",
    "    if sales < 1000:\n",
    "        rate=0.10\n",
    "        \n",
    "    elif sales >=1000 and sales <= 14999.99:\n",
    "        rate=0.12\n",
    "     \n",
    "    elif sales >= 15000 and sales <= 17999.99:\n",
    "        rate=0.14\n",
    "    \n",
    "    elif sales >= 18000 and sales <= 21999.99:\n",
    "        rate=0.16\n",
    "    else:\n",
    "        rate=0.18\n",
    "    \n",
    "    return rate\n",
    "def main():\n",
    "    sales=get_sales()\n",
    "    \n",
    "    advance_pay=get_advanced_pay()\n",
    "    \n",
    "    comm_rate=determine_comm_rate(sales)\n",
    "    \n",
    "    pay = sales*comm_rate - advance_pay\n",
    "    print(\"The pay is $ \",.format(pay,\"..2f\"),sep=\"\")\n",
    "    \n",
    "    if pay<0:\n",
    "        print(\"The sales person must reimburse the company \")\n",
    "if __name__==\"__main__\"        "
   ]
  },
  {
   "cell_type": "code",
   "execution_count": 5,
   "id": "85f12cc3",
   "metadata": {},
   "outputs": [
    {
     "name": "stdout",
     "output_type": "stream",
     "text": [
      "Enter the guess letter:3\n",
      "youe have   4  chance remaining \n",
      "Enter the guess letter:4\n",
      "youe have   3  chance remaining \n",
      "Enter the guess letter:5\n",
      "youe have   2  chance remaining \n",
      "Enter the guess letter:3\n",
      "youe have   1  chance remaining \n",
      "Enter the guess letter:2\n",
      "youe have   0  chance remaining \n"
     ]
    }
   ],
   "source": [
    "import random\n",
    "names=[\"Ahhir\",\"shann\",\"Ashii\",\"sofyf\"]\n",
    "choice=random.choice(names)\n",
    "def exchange(lttr,name1,lst):\n",
    "    \n",
    "    for i in range(len(name1)):\n",
    "        if choice[i]==lttr:\n",
    "            lst[i]=name1[i]\n",
    "lst=list(\"?????\")\n",
    "len_name=5\n",
    "name1=list(choice)\n",
    "while (len_name>=1):\n",
    "    lttr=input(\"Enter the guess letter:\")\n",
    "    while (lttr in choice):\n",
    "        exchange(lttr,name1,lst)\n",
    "        lttr=input(\"Enter the guess letter:\")\n",
    "    len_name-=1\n",
    "    print(\"youe have  \",len_name , \" chance remaining \")  "
   ]
  },
  {
   "cell_type": "code",
   "execution_count": 8,
   "id": "a08f4065",
   "metadata": {},
   "outputs": [
    {
     "name": "stdout",
     "output_type": "stream",
     "text": [
      "Enter marks for Student- 1  of Section- 1  : 25\n",
      "Enter marks for Student- 2  of Section- 1  : 26\n",
      "Enter marks for Student- 3  of Section- 1  : 24\n",
      "Enter marks for Student- 4  of Section- 1  : 23\n",
      "Enter marks for Student- 5  of Section- 1  : 22\n",
      "Average Marks of Section- 1  :  24.0\n",
      "Enter marks for Student- 1  of Section- 2  : 23\n",
      "Enter marks for Student- 2  of Section- 2  : 24\n",
      "Enter marks for Student- 3  of Section- 2  : 25\n",
      "Enter marks for Student- 4  of Section- 2  : 26\n",
      "Enter marks for Student- 5  of Section- 2  : 27\n",
      "Average Marks of Section- 2  :  25.0\n",
      "Enter marks for Student- 1  of Section- 3  : 23\n",
      "Enter marks for Student- 2  of Section- 3  : 26\n",
      "Enter marks for Student- 3  of Section- 3  : 27\n",
      "Enter marks for Student- 4  of Section- 3  : 28\n",
      "Enter marks for Student- 5  of Section- 3  : 29\n",
      "Average Marks of Section- 3  :  26.6\n"
     ]
    }
   ],
   "source": [
    "class_count = 1\n",
    "\n",
    "while(class_count <= 3):\n",
    "    std_count = 1\n",
    "    sec_avg = 0\n",
    "    sec_sum = 0\n",
    "    while(std_count <= 5):\n",
    "        print(\"Enter marks for Student-\",std_count,\" of Section-\",class_count,\" : \", end='')\n",
    "        marks = int(input())\n",
    "        sec_sum += marks\n",
    "        std_count += 1\n",
    "    sec_avg = sec_sum / 5\n",
    "    print(\"Average Marks of Section-\", class_count,\" : \", sec_avg)\n",
    "    \n",
    "    class_count += 1\n",
    "    "
   ]
  },
  {
   "cell_type": "code",
   "execution_count": 1,
   "id": "499f8659",
   "metadata": {},
   "outputs": [
    {
     "name": "stdout",
     "output_type": "stream",
     "text": [
      "Enter your Number : 5\n",
      "Table of  5  : \n",
      "5  X  1  =  5\n",
      "5  X  2  =  10\n",
      "5  X  3  =  15\n",
      "5  X  4  =  20\n",
      "5  X  5  =  25\n",
      "5  X  6  =  30\n",
      "5  X  7  =  35\n",
      "5  X  8  =  40\n",
      "5  X  9  =  45\n",
      "5  X  10  =  50\n",
      "Do you want to Print Another Table (y/n) : y\n",
      "Enter your Number : 6\n",
      "Table of  6  : \n",
      "6  X  1  =  6\n",
      "6  X  2  =  12\n",
      "6  X  3  =  18\n",
      "6  X  4  =  24\n",
      "6  X  5  =  30\n",
      "6  X  6  =  36\n",
      "6  X  7  =  42\n",
      "6  X  8  =  48\n",
      "6  X  9  =  54\n",
      "6  X  10  =  60\n",
      "Do you want to Print Another Table (y/n) : n\n",
      "Thank You! \n"
     ]
    }
   ],
   "source": [
    "repeat = 'y'\n",
    "\n",
    "limit = 10\n",
    "while(repeat == 'y' or repeat == 'Y'):\n",
    "    count = 1\n",
    "    num = int(input(\"Enter your Number : \"))\n",
    "    print(\"Table of \",num,\" : \")\n",
    "    while count <= limit:\n",
    "        print(num,\" X \", count, \" = \", num*count)\n",
    "        count += 1\n",
    "        \n",
    "    repeat = input(\"Do you want to Print Another Table (y/n) : \")\n",
    "print(\"Thank You! \")"
   ]
  },
  {
   "cell_type": "code",
   "execution_count": 2,
   "id": "06008449",
   "metadata": {},
   "outputs": [
    {
     "name": "stdout",
     "output_type": "stream",
     "text": [
      "Enter Start of Range : 6\n",
      "Enter End   of Range : 70\n",
      "Prime Numbers Between  6  and  70  : \n",
      "\n",
      "7 \t11 \t13 \t17 \t19 \t23 \t29 \t31 \t37 \t41 \t43 \t47 \t53 \t59 \t61 \t67 \t"
     ]
    }
   ],
   "source": [
    "r1 = int(input(\"Enter Start of Range : \"))\n",
    "r2 = int(input(\"Enter End   of Range : \"))\n",
    "\n",
    "print(\"Prime Numbers Between \",r1,\" and \",r2,\" : \\n\")\n",
    "while(r1 < r2):\n",
    "    \n",
    "    prime = True\n",
    "    d = 2\n",
    "    while(d < r1):\n",
    "        if(r1 % d == 0):\n",
    "            prime = False\n",
    "            break;\n",
    "        d += 1\n",
    "\n",
    "    if(prime):\n",
    "        print(r1,\"\\t\", end='')\n",
    "    r1 += 1\n",
    "    "
   ]
  },
  {
   "cell_type": "code",
   "execution_count": 7,
   "id": "5035e638",
   "metadata": {},
   "outputs": [
    {
     "name": "stdout",
     "output_type": "stream",
     "text": [
      "Enter your Number : 21\n",
      "21  is not a Prime Number.\n"
     ]
    }
   ],
   "source": [
    "num = int(input(\"Enter your Number : \"))\n",
    "d = 2\n",
    "prime = True\n",
    "while(d < num):\n",
    "    if(num%d == 0):\n",
    "        prime = False\n",
    "        break;\n",
    "    d += 1\n",
    "\n",
    "if(prime):\n",
    "    print(num,\" is a Prime Number.\")\n",
    "else:\n",
    "    print(num,\" is not a Prime Number.\")"
   ]
  },
  {
   "cell_type": "code",
   "execution_count": null,
   "id": "5e20430b",
   "metadata": {},
   "outputs": [],
   "source": [
    "class_count = 1\n",
    "while(class_count <= 3):\n",
    "    std_count = 1\n",
    "    class_sum = 0\n",
    "    class_avg = 0\n",
    "    while(std_count <= 5):\n",
    "        print(\"Enter Marks of Student-\",std_count,\" in Class-\", class_count,\" : \", end='')\n",
    "        marks = int(input())\n",
    "        \n",
    "        class_sum += marks\n",
    "        std_count += 1\n",
    "    class_avg = class_sum / 5\n",
    "    print(\"Average Marks of Class-\", class_count, \" : \", class_avg)\n",
    "    class_count += 1\n",
    "print(\"Thank You For Using This App!\")\n",
    "        "
   ]
  },
  {
   "cell_type": "code",
   "execution_count": null,
   "id": "854bc63c",
   "metadata": {},
   "outputs": [],
   "source": [
    "limit = 10\n",
    "repeat = 'y'\n",
    "while(repeat == 'y' or repeat == 'Y'):\n",
    "    N = int(input(\"Enter your Number\"))\n",
    "    count = 1\n",
    "    while count <= limit:\n",
    "        print(N,\" X \", count, \" = \", N*count)\n",
    "        count += 1\n",
    "    repeat = input(\"Do you want to Print another Table (y/n)?\")\n",
    "    \n",
    "print(\"Thank You!\")"
   ]
  },
  {
   "cell_type": "code",
   "execution_count": 2,
   "id": "6de8423d",
   "metadata": {},
   "outputs": [],
   "source": []
  },
  {
   "cell_type": "code",
   "execution_count": null,
   "id": "b003bbc0",
   "metadata": {},
   "outputs": [],
   "source": []
  }
 ],
 "metadata": {
  "kernelspec": {
   "display_name": "Python 3 (ipykernel)",
   "language": "python",
   "name": "python3"
  },
  "language_info": {
   "codemirror_mode": {
    "name": "ipython",
    "version": 3
   },
   "file_extension": ".py",
   "mimetype": "text/x-python",
   "name": "python",
   "nbconvert_exporter": "python",
   "pygments_lexer": "ipython3",
   "version": "3.11.5"
  }
 },
 "nbformat": 4,
 "nbformat_minor": 5
}
