{
 "cells": [
  {
   "cell_type": "code",
   "execution_count": 3,
   "id": "bf6bb5ae-d0d9-409f-a4fe-afd0f1322fe4",
   "metadata": {
    "editable": true,
    "slideshow": {
     "slide_type": ""
    },
    "tags": []
   },
   "outputs": [],
   "source": [
    "# If-Else Statements\n",
    "# Python program that checks if a number is even or odd and prints an appropriate message."
   ]
  },
  {
   "cell_type": "code",
   "execution_count": 35,
   "id": "0d44d076-6448-466f-afda-b28acfae3366",
   "metadata": {
    "editable": true,
    "slideshow": {
     "slide_type": ""
    },
    "tags": []
   },
   "outputs": [
    {
     "name": "stdin",
     "output_type": "stream",
     "text": [
      "Enter a number: 2\n"
     ]
    },
    {
     "name": "stdout",
     "output_type": "stream",
     "text": [
      "number is even\n"
     ]
    }
   ],
   "source": [
    "# Take an input number from user and save it in variable 'number'\n",
    "# Number is converted to float\n",
    "number = float((input(\"Enter a number:\")))\n",
    "if number ==0:\n",
    "    print(\"number is zero\")\n",
    "else:\n",
    "    if number % 2 == 0:\n",
    "        print(\"number is even\")\n",
    "    else:\n",
    "        print(\"number is odd\")"
   ]
  },
  {
   "cell_type": "code",
   "execution_count": null,
   "id": "e80945ac-5cde-41c8-a4f0-6622d799421e",
   "metadata": {},
   "outputs": [],
   "source": []
  }
 ],
 "metadata": {
  "kernelspec": {
   "display_name": "Python 3 (ipykernel)",
   "language": "python",
   "name": "python3"
  },
  "language_info": {
   "codemirror_mode": {
    "name": "ipython",
    "version": 3
   },
   "file_extension": ".py",
   "mimetype": "text/x-python",
   "name": "python",
   "nbconvert_exporter": "python",
   "pygments_lexer": "ipython3",
   "version": "3.12.4"
  }
 },
 "nbformat": 4,
 "nbformat_minor": 5
}
