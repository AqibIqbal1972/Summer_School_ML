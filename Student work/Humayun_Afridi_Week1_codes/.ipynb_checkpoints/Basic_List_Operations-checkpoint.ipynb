{
 "cells": [
  {
   "cell_type": "code",
   "execution_count": 9,
   "id": "3353e0d6-7054-4853-898d-a879bae524b8",
   "metadata": {},
   "outputs": [
    {
     "name": "stdout",
     "output_type": "stream",
     "text": [
      "Original list: [10, 20, 30, 40, 50]\n"
     ]
    }
   ],
   "source": [
    "# Create a list of integers\n",
    "my_list = [10, 20, 30, 40, 50]\n",
    "print(\"Original list:\", my_list)"
   ]
  },
  {
   "cell_type": "code",
   "execution_count": 11,
   "id": "14ed8ac9-946d-493b-a377-962e7f05233d",
   "metadata": {},
   "outputs": [
    {
     "name": "stdout",
     "output_type": "stream",
     "text": [
      "Third Element: 40\n"
     ]
    }
   ],
   "source": [
    "# How to access the third element of the list\n",
    "print(\"Third Element:\", my_list[3])"
   ]
  },
  {
   "cell_type": "code",
   "execution_count": null,
   "id": "94bf463e-5e27-4c66-a98b-395a5913e1f3",
   "metadata": {},
   "outputs": [],
   "source": []
  }
 ],
 "metadata": {
  "kernelspec": {
   "display_name": "Python 3 (ipykernel)",
   "language": "python",
   "name": "python3"
  },
  "language_info": {
   "codemirror_mode": {
    "name": "ipython",
    "version": 3
   },
   "file_extension": ".py",
   "mimetype": "text/x-python",
   "name": "python",
   "nbconvert_exporter": "python",
   "pygments_lexer": "ipython3",
   "version": "3.12.4"
  }
 },
 "nbformat": 4,
 "nbformat_minor": 5
}
