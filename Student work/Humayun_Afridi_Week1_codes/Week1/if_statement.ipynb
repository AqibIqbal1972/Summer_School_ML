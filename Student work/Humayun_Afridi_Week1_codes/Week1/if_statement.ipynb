{
 "cells": [
  {
   "cell_type": "code",
   "execution_count": 37,
   "id": "bf6bb5ae-d0d9-409f-a4fe-afd0f1322fe4",
   "metadata": {},
   "outputs": [],
   "source": [
    "#  IF STATEMENT"
   ]
  },
  {
   "cell_type": "code",
   "execution_count": 39,
   "id": "ede00e85-4eec-4f45-b7a1-7e4de86052b3",
   "metadata": {},
   "outputs": [],
   "source": [
    "# Python program that checks if a number is positive, negative, or zero and prints an appropriate message"
   ]
  },
  {
   "cell_type": "code",
   "execution_count": 41,
   "id": "0d44d076-6448-466f-afda-b28acfae3366",
   "metadata": {},
   "outputs": [
    {
     "name": "stdin",
     "output_type": "stream",
     "text": [
      "Enter a number: 4\n"
     ]
    },
    {
     "name": "stdout",
     "output_type": "stream",
     "text": [
      "number is greater than zero\n"
     ]
    }
   ],
   "source": [
    "# Take an input number from user and save it in variable 'number'\n",
    "# Number is converted to float\n",
    "number = float((input(\"Enter a number:\")))\n",
    "if number > 0:\n",
    "    print(\"number is greater than zero\")\n",
    "if number < 0:\n",
    "    print(\"number is less than zero\")\n",
    "if number == 0:\n",
    "    print(\"number is zero\")"
   ]
  },
  {
   "cell_type": "code",
   "execution_count": null,
   "id": "7ede890f-44de-4aaa-ac3a-7d1f202d89c7",
   "metadata": {},
   "outputs": [],
   "source": []
  }
 ],
 "metadata": {
  "kernelspec": {
   "display_name": "Python 3 (ipykernel)",
   "language": "python",
   "name": "python3"
  },
  "language_info": {
   "codemirror_mode": {
    "name": "ipython",
    "version": 3
   },
   "file_extension": ".py",
   "mimetype": "text/x-python",
   "name": "python",
   "nbconvert_exporter": "python",
   "pygments_lexer": "ipython3",
   "version": "3.12.4"
  }
 },
 "nbformat": 4,
 "nbformat_minor": 5
}
