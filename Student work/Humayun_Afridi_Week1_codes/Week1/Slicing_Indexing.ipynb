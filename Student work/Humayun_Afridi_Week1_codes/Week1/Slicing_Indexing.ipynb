{
 "cells": [
  {
   "cell_type": "code",
   "execution_count": 7,
   "id": "3353e0d6-7054-4853-898d-a879bae524b8",
   "metadata": {
    "editable": true,
    "slideshow": {
     "slide_type": ""
    },
    "tags": []
   },
   "outputs": [
    {
     "name": "stdout",
     "output_type": "stream",
     "text": [
      "Original list: [10, 20, 30, 40, 50]\n"
     ]
    }
   ],
   "source": [
    "# Create a list of integers\n",
    "my_list = [10, 20, 30, 40, 50]\n",
    "print(\"Original list:\", my_list)"
   ]
  },
  {
   "cell_type": "code",
   "execution_count": 21,
   "id": "14ed8ac9-946d-493b-a377-962e7f05233d",
   "metadata": {},
   "outputs": [
    {
     "name": "stdout",
     "output_type": "stream",
     "text": [
      "Third Element: 30\n"
     ]
    }
   ],
   "source": [
    "# How to access the third element of the list\n",
    "print(\"Third Element:\", my_list[2])"
   ]
  },
  {
   "cell_type": "code",
   "execution_count": 13,
   "id": "94bf463e-5e27-4c66-a98b-395a5913e1f3",
   "metadata": {},
   "outputs": [
    {
     "name": "stdout",
     "output_type": "stream",
     "text": [
      "Last two elements are: [40, 50]\n"
     ]
    }
   ],
   "source": [
    "# How to get the last two elements of the list\n",
    "print(\"Last two elements are:\",my_list[-2:])"
   ]
  },
  {
   "cell_type": "code",
   "execution_count": 27,
   "id": "5f847ae3-cdd3-4fa4-84f9-1df7c710c715",
   "metadata": {},
   "outputs": [
    {
     "name": "stdout",
     "output_type": "stream",
     "text": [
      "Middle three elements are: [20, 30, 40]\n"
     ]
    }
   ],
   "source": [
    "# How to get the middle three elements of the list \n",
    "# 0,   1,   2,   3,   4\n",
    "# 1st  2nd  3rd  4th  5th\n",
    "# 10   20   30   40   50\n",
    "\n",
    "# Remember, 1:4 means from 2nd till 5th (but excluding 5th)\n",
    "print(\"Middle three elements are:\",my_list[1:4])"
   ]
  },
  {
   "cell_type": "code",
   "execution_count": 19,
   "id": "0ee7ede7-c966-4cbd-b88d-f6bb3ea7f265",
   "metadata": {},
   "outputs": [
    {
     "name": "stdout",
     "output_type": "stream",
     "text": [
      "All elements except first element are: [20, 30, 40, 50]\n"
     ]
    }
   ],
   "source": [
    "# How to get all the eleents other than first elelment of the list\n",
    "print(\"All elements except first element are:\",my_list[1:])"
   ]
  },
  {
   "cell_type": "code",
   "execution_count": 34,
   "id": "3b16b543-7258-4002-9782-13d775a4a211",
   "metadata": {
    "editable": true,
    "slideshow": {
     "slide_type": ""
    },
    "tags": []
   },
   "outputs": [
    {
     "name": "stdout",
     "output_type": "stream",
     "text": [
      "All elements except first element are: [10, 20, 30, 40]\n"
     ]
    }
   ],
   "source": [
    "# How to get all the eleents other than last elelment of the list\n",
    "print(\"All elements except first element are:\",my_list[:4])"
   ]
  }
 ],
 "metadata": {
  "kernelspec": {
   "display_name": "Python 3 (ipykernel)",
   "language": "python",
   "name": "python3"
  },
  "language_info": {
   "codemirror_mode": {
    "name": "ipython",
    "version": 3
   },
   "file_extension": ".py",
   "mimetype": "text/x-python",
   "name": "python",
   "nbconvert_exporter": "python",
   "pygments_lexer": "ipython3",
   "version": "3.12.4"
  }
 },
 "nbformat": 4,
 "nbformat_minor": 5
}
