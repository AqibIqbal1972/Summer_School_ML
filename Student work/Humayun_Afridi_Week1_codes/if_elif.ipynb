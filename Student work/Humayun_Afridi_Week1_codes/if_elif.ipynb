{
 "cells": [
  {
   "cell_type": "code",
   "execution_count": 3,
   "id": "bf6bb5ae-d0d9-409f-a4fe-afd0f1322fe4",
   "metadata": {
    "editable": true,
    "slideshow": {
     "slide_type": ""
    },
    "tags": []
   },
   "outputs": [],
   "source": [
    "# If-Elif Statements\n",
    "# Python program that assigns a grade based on a score: A for scores 90 and above,\n",
    "# B for scores 80-89, C for scores 70-79, D for scores 60-69, and F for scores below 60."
   ]
  },
  {
   "cell_type": "code",
   "execution_count": 23,
   "id": "0d44d076-6448-466f-afda-b28acfae3366",
   "metadata": {
    "editable": true,
    "slideshow": {
     "slide_type": ""
    },
    "tags": []
   },
   "outputs": [
    {
     "name": "stdin",
     "output_type": "stream",
     "text": [
      "Enter score: 65.888\n"
     ]
    },
    {
     "name": "stdout",
     "output_type": "stream",
     "text": [
      "Grade is 'D'\n"
     ]
    }
   ],
   "source": [
    "# Take a score number from user and save it in variable 'score'\n",
    "# score is converted to float\n",
    "score = float((input(\"Enter score:\")))\n",
    "if score >= 90:\n",
    "    print(\"Grade is 'A'\")\n",
    "elif score >=80:\n",
    "    print(\"Grade is 'B'\")\n",
    "elif score >=70:\n",
    "    print(\"Grade is 'C'\")\n",
    "elif score >=60:\n",
    "    print(\"Grade is 'D'\")\n",
    "else:\n",
    "    print(\"Grade is 'F'\")"
   ]
  },
  {
   "cell_type": "code",
   "execution_count": null,
   "id": "e80945ac-5cde-41c8-a4f0-6622d799421e",
   "metadata": {},
   "outputs": [],
   "source": []
  }
 ],
 "metadata": {
  "kernelspec": {
   "display_name": "Python 3 (ipykernel)",
   "language": "python",
   "name": "python3"
  },
  "language_info": {
   "codemirror_mode": {
    "name": "ipython",
    "version": 3
   },
   "file_extension": ".py",
   "mimetype": "text/x-python",
   "name": "python",
   "nbconvert_exporter": "python",
   "pygments_lexer": "ipython3",
   "version": "3.12.4"
  }
 },
 "nbformat": 4,
 "nbformat_minor": 5
}
