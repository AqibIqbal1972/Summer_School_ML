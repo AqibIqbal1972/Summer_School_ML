{
 "cells": [
  {
   "cell_type": "code",
   "execution_count": 28,
   "id": "acb37c14-220a-4a6f-adfa-6fd2731095c9",
   "metadata": {
    "editable": true,
    "slideshow": {
     "slide_type": ""
    },
    "tags": []
   },
   "outputs": [],
   "source": [
    "# SETS"
   ]
  },
  {
   "cell_type": "code",
   "execution_count": 30,
   "id": "320179e0-5725-4c84-9bc4-f82ad5ec13b8",
   "metadata": {},
   "outputs": [
    {
     "name": "stdout",
     "output_type": "stream",
     "text": [
      "{1, 2, 3, 4, 5}\n"
     ]
    }
   ],
   "source": [
    "# Create a set with the elements 1, 2, 3, 4, 5\n",
    "my_set = {1, 2, 3, 4, 5}\n",
    "\n",
    "# Print the set\n",
    "print(my_set)"
   ]
  },
  {
   "cell_type": "code",
   "execution_count": 32,
   "id": "5280ad25-3c00-4def-8e9d-cd2882c48088",
   "metadata": {},
   "outputs": [],
   "source": [
    "# remove the element 3 from the set\n",
    "my_set.remove(3)"
   ]
  },
  {
   "cell_type": "code",
   "execution_count": 34,
   "id": "595020cb-10cd-4403-8202-d008182fe78b",
   "metadata": {},
   "outputs": [
    {
     "name": "stdout",
     "output_type": "stream",
     "text": [
      "{1, 2, 4, 5}\n"
     ]
    }
   ],
   "source": [
    "print(my_set)"
   ]
  },
  {
   "cell_type": "code",
   "execution_count": 36,
   "id": "c4cfec9f-be30-4158-810a-4ddff1bcb52e",
   "metadata": {},
   "outputs": [
    {
     "name": "stdout",
     "output_type": "stream",
     "text": [
      "{1, 2, 3, 4, 5, 6}\n"
     ]
    }
   ],
   "source": [
    "# Given two sets A = {1, 2, 3} and B = {3, 4, 5}, how do you find their union?\n",
    "# How do you find their intersection?\n",
    "set_A = {1, 2, 3, 4}\n",
    "set_B = {4, 5, 6}\n",
    "union_A_B = set_A | set_B\n",
    "\n",
    "# Print the union set\n",
    "print(union_A_B)\n"
   ]
  },
  {
   "cell_type": "code",
   "execution_count": 23,
   "id": "7336c766-5244-45e3-8122-3ae9ac4bb641",
   "metadata": {
    "editable": true,
    "slideshow": {
     "slide_type": ""
    },
    "tags": []
   },
   "outputs": [
    {
     "name": "stdout",
     "output_type": "stream",
     "text": [
      "{4}\n"
     ]
    }
   ],
   "source": [
    "# How do you find their intersection?\n",
    "intersect_A_B = set_A & set_B\n",
    "# Print the intersection set\n",
    "print(intersect_A_B)"
   ]
  }
 ],
 "metadata": {
  "kernelspec": {
   "display_name": "Python 3 (ipykernel)",
   "language": "python",
   "name": "python3"
  },
  "language_info": {
   "codemirror_mode": {
    "name": "ipython",
    "version": 3
   },
   "file_extension": ".py",
   "mimetype": "text/x-python",
   "name": "python",
   "nbconvert_exporter": "python",
   "pygments_lexer": "ipython3",
   "version": "3.12.4"
  }
 },
 "nbformat": 4,
 "nbformat_minor": 5
}
