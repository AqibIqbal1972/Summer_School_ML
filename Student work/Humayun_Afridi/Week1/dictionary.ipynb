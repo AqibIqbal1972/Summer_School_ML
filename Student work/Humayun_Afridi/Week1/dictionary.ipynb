{
 "cells": [
  {
   "cell_type": "code",
   "execution_count": 2,
   "id": "0da48d5f-a65e-457a-8772-ccca41295e73",
   "metadata": {
    "editable": true,
    "slideshow": {
     "slide_type": ""
    },
    "tags": []
   },
   "outputs": [],
   "source": [
    "# DICTIONARY"
   ]
  },
  {
   "cell_type": "code",
   "execution_count": 19,
   "id": "9e64ee60-96d1-4a75-99f0-b8e1d80fa343",
   "metadata": {
    "editable": true,
    "slideshow": {
     "slide_type": ""
    },
    "tags": []
   },
   "outputs": [],
   "source": [
    "#Create a dictionary with the keys name, age, and city and appropriate values for each.\n",
    "\n",
    "my_dict = {\"name\": \"Asad\", \"age\": 25, \"city\": \"Lahore\"}"
   ]
  },
  {
   "cell_type": "code",
   "execution_count": 21,
   "id": "e7d15c55-9835-4549-8583-c1f7e659b43b",
   "metadata": {
    "editable": true,
    "slideshow": {
     "slide_type": ""
    },
    "tags": []
   },
   "outputs": [
    {
     "name": "stdout",
     "output_type": "stream",
     "text": [
      "{'name': 'Asad', 'age': 25, 'city': 'Lahore'}\n"
     ]
    }
   ],
   "source": [
    "print(my_dict)"
   ]
  },
  {
   "cell_type": "code",
   "execution_count": 23,
   "id": "31a0fcba-15e2-468a-bb7a-b5aba40ec006",
   "metadata": {},
   "outputs": [
    {
     "name": "stdout",
     "output_type": "stream",
     "text": [
      "Asad\n"
     ]
    }
   ],
   "source": [
    "print(my_dict[\"name\"])"
   ]
  },
  {
   "cell_type": "code",
   "execution_count": 27,
   "id": "45fa9323-15c7-47c2-978c-4e6018ef491b",
   "metadata": {},
   "outputs": [
    {
     "name": "stdout",
     "output_type": "stream",
     "text": [
      "25\n"
     ]
    }
   ],
   "source": [
    "# access the value associated with the key age?\n",
    "print(my_dict[\"age\"])"
   ]
  },
  {
   "cell_type": "code",
   "execution_count": 29,
   "id": "243bc93f-c6d3-4f87-8ebe-8b8724baa13f",
   "metadata": {},
   "outputs": [],
   "source": [
    "# add a new key-value pair (country: Pakistan) to this dictionary?\n",
    "my_dict[\"country\"]=\"Pakistan\""
   ]
  },
  {
   "cell_type": "code",
   "execution_count": 31,
   "id": "576fe7ee-2488-40fd-b2c4-538edbcca8d7",
   "metadata": {},
   "outputs": [
    {
     "name": "stdout",
     "output_type": "stream",
     "text": [
      "{'name': 'Asad', 'age': 25, 'city': 'Lahore', 'country': 'Pakistan'}\n"
     ]
    }
   ],
   "source": [
    "print(my_dict)"
   ]
  },
  {
   "cell_type": "code",
   "execution_count": 33,
   "id": "c77455c5-bb8c-4fa0-ae2c-772b069a4e73",
   "metadata": {},
   "outputs": [],
   "source": [
    "# change the value of the key city to Peshawar\n",
    "my_dict[\"city\"] = \"Peshawar\""
   ]
  },
  {
   "cell_type": "code",
   "execution_count": 35,
   "id": "2de02dd7-491b-471e-abc5-0ba2f942403e",
   "metadata": {},
   "outputs": [
    {
     "name": "stdout",
     "output_type": "stream",
     "text": [
      "{'name': 'Asad', 'age': 25, 'city': 'Peshawar', 'country': 'Pakistan'}\n"
     ]
    }
   ],
   "source": [
    "print(my_dict)"
   ]
  }
 ],
 "metadata": {
  "kernelspec": {
   "display_name": "Python 3 (ipykernel)",
   "language": "python",
   "name": "python3"
  },
  "language_info": {
   "codemirror_mode": {
    "name": "ipython",
    "version": 3
   },
   "file_extension": ".py",
   "mimetype": "text/x-python",
   "name": "python",
   "nbconvert_exporter": "python",
   "pygments_lexer": "ipython3",
   "version": "3.12.4"
  }
 },
 "nbformat": 4,
 "nbformat_minor": 5
}
