{
 "cells": [
  {
   "cell_type": "code",
   "execution_count": 3,
   "id": "04888587-dde5-43e2-9c85-6ab36e960aee",
   "metadata": {},
   "outputs": [
    {
     "name": "stdout",
     "output_type": "stream",
     "text": [
      "hello world\n"
     ]
    }
   ],
   "source": [
    "print(\"hello world\")"
   ]
  },
  {
   "cell_type": "code",
   "execution_count": null,
   "id": "7e3246c0-f8ff-42ba-b199-d902605456b7",
   "metadata": {},
   "outputs": [],
   "source": [
    "basic if program"
   ]
  },
  {
   "cell_type": "code",
   "execution_count": 15,
   "id": "5190863c-30fb-46ce-86e4-089e8ee36940",
   "metadata": {},
   "outputs": [
    {
     "name": "stdout",
     "output_type": "stream",
     "text": [
      "the integer is positive\n"
     ]
    }
   ],
   "source": [
    "a=0\n",
    "if a>=0:\n",
    "    print(\"the integer is positive\")"
   ]
  },
  {
   "cell_type": "code",
   "execution_count": null,
   "id": "b407b2dc-b49c-4656-a0a3-eed23c54a325",
   "metadata": {},
   "outputs": [],
   "source": [
    "if-else program"
   ]
  },
  {
   "cell_type": "code",
   "execution_count": 13,
   "id": "7e301644-87c5-4e06-b07d-4b2641e15b90",
   "metadata": {},
   "outputs": [
    {
     "name": "stdout",
     "output_type": "stream",
     "text": [
      "the integer is positive\n"
     ]
    }
   ],
   "source": [
    "a=0\n",
    "if a>=0:\n",
    "    print(\"the integer is positive\")\n",
    "else:\n",
    "    print(\"the integer is negative\")"
   ]
  },
  {
   "cell_type": "code",
   "execution_count": null,
   "id": "76138770-ed77-4d9b-9aec-d4c66ab86940",
   "metadata": {},
   "outputs": [],
   "source": [
    "if-elif-else statement program"
   ]
  },
  {
   "cell_type": "code",
   "execution_count": 53,
   "id": "abdf0670-3fe1-4a1e-8905-c6aad36fcd86",
   "metadata": {},
   "outputs": [
    {
     "name": "stdout",
     "output_type": "stream",
     "text": [
      "you got D grade in the exam\n"
     ]
    }
   ],
   "source": [
    "a=60\n",
    "if (a>=90):\n",
    "    print(\"you got A grade in the exam\")\n",
    "elif (a>=80 and a<=89):\n",
    "    print(\"you got B grade in the exam\")\n",
    "elif (a>=70 and a<=79):\n",
    "    print(\"you got C grade in the exam\")\n",
    "elif (a>=60 and a<=69):\n",
    "    print(\"you got D grade in the exam\")\n",
    "else:\n",
    "    print(\"you failed in the exam\")    "
   ]
  },
  {
   "cell_type": "code",
   "execution_count": null,
   "id": "a996e2d4-17af-4fb0-b249-032ed4a5c34d",
   "metadata": {},
   "outputs": [],
   "source": [
    "basic list operations"
   ]
  },
  {
   "cell_type": "code",
   "execution_count": 61,
   "id": "9bcd9312-0e9d-4d89-995f-d13bec4d44f7",
   "metadata": {},
   "outputs": [
    {
     "name": "stdout",
     "output_type": "stream",
     "text": [
      "[1, 2, 3, 4, 5]\n",
      "[1, 2, 3, 4, 5, 6]\n",
      "[1, 2, 4, 5, 6]\n"
     ]
    }
   ],
   "source": [
    "list=[1,2,3,4,5]\n",
    "print(list)\n",
    "list.append(6)\n",
    "print (list)\n",
    "list.remove(3)\n",
    "print(list)"
   ]
  },
  {
   "cell_type": "code",
   "execution_count": null,
   "id": "f9e55a74-d7fc-480b-aeca-9e3abd3996df",
   "metadata": {},
   "outputs": [],
   "source": [
    "slicing and indexing"
   ]
  },
  {
   "cell_type": "code",
   "execution_count": 68,
   "id": "d77bb94c-140d-47f4-bc68-0a0009bb285d",
   "metadata": {},
   "outputs": [
    {
     "name": "stdout",
     "output_type": "stream",
     "text": [
      "30\n"
     ]
    }
   ],
   "source": [
    "number=[10,20,30,40,50]\n",
    "print(number[2])"
   ]
  },
  {
   "cell_type": "code",
   "execution_count": null,
   "id": "6e6e5743-5abc-41c7-91e8-a64379396dc1",
   "metadata": {},
   "outputs": [],
   "source": [
    "dictionary"
   ]
  },
  {
   "cell_type": "code",
   "execution_count": 3,
   "id": "ebb93f15-ccfc-41d6-a4e6-bdcd32ace467",
   "metadata": {},
   "outputs": [
    {
     "name": "stdout",
     "output_type": "stream",
     "text": [
      "{'name': 'umar', 'age': 20, 'city': 'peshawer'}\n",
      "{'name': 'umar', 'age': 20, 'city': 'peshawer', 'country': 'pakistan'}\n"
     ]
    }
   ],
   "source": [
    "info ={\n",
    "    \"name\":\"umar\",\n",
    "    \"age\":20,\n",
    "    \"city\":\"peshawer\"}\n",
    "print(info)\n",
    "info[\"country\"]=\"pakistan\"\n",
    "print(info)"
   ]
  },
  {
   "cell_type": "code",
   "execution_count": null,
   "id": "c4d89d02-02c8-4b50-baff-a543be17ffc0",
   "metadata": {},
   "outputs": [],
   "source": [
    "Accessing and Modifying Values:"
   ]
  },
  {
   "cell_type": "code",
   "execution_count": 9,
   "id": "d766fb6b-a876-47d8-8f6d-59dfb1916602",
   "metadata": {},
   "outputs": [
    {
     "name": "stdout",
     "output_type": "stream",
     "text": [
      "20\n",
      "25\n"
     ]
    }
   ],
   "source": [
    "print(info[\"age\"])\n",
    "info[\"age\"]=25\n",
    "print(info[\"age\"])"
   ]
  },
  {
   "cell_type": "code",
   "execution_count": null,
   "id": "6f9a1555-783f-4bf1-a95b-fcec5d742ff8",
   "metadata": {},
   "outputs": [],
   "source": [
    "Basic Set Operations"
   ]
  },
  {
   "cell_type": "code",
   "execution_count": 13,
   "id": "7292ff44-9458-4f48-91f1-7f26cf313c0d",
   "metadata": {},
   "outputs": [
    {
     "name": "stdout",
     "output_type": "stream",
     "text": [
      "{1, 2, 3, 4, 5}\n",
      "{1, 2, 4, 5}\n"
     ]
    }
   ],
   "source": [
    "number={1,2,3,4,5}\n",
    "print(number)\n",
    "number.remove(3)\n",
    "print(number)"
   ]
  },
  {
   "cell_type": "code",
   "execution_count": null,
   "id": "0def9cb8-f624-496f-8e19-2986b5afeead",
   "metadata": {},
   "outputs": [],
   "source": [
    "set operation"
   ]
  },
  {
   "cell_type": "code",
   "execution_count": 23,
   "id": "a032258d-c579-43c2-91a5-b4e01769d4a8",
   "metadata": {},
   "outputs": [
    {
     "name": "stdout",
     "output_type": "stream",
     "text": [
      "{1, 2, 3, 4, 5}\n",
      "{3}\n"
     ]
    }
   ],
   "source": [
    "a={1,2,3}\n",
    "b={3,4,5}\n",
    "c=a|b\n",
    "print(c)\n",
    "c=a&b\n",
    "print(c)\n"
   ]
  },
  {
   "cell_type": "code",
   "execution_count": null,
   "id": "c9e305dc-a665-4657-a9fe-ebb8cbb554f4",
   "metadata": {},
   "outputs": [],
   "source": [
    "Basic Tuple Operations:"
   ]
  },
  {
   "cell_type": "code",
   "execution_count": 33,
   "id": "7414b57a-7c8a-41e7-beb8-d00c615dddfb",
   "metadata": {},
   "outputs": [
    {
     "name": "stdout",
     "output_type": "stream",
     "text": [
      "(1, 2, 3, 4, 5)\n",
      "Tuples are immutable in Python, meaning their elements cannot be changed, added, or removed after creation. \n"
     ]
    }
   ],
   "source": [
    "a=(1,2,3,4,5)\n",
    "print(a)\n",
    "print(\"Tuples are immutable in Python, meaning their elements cannot be changed, added, or removed after creation. \")"
   ]
  },
  {
   "cell_type": "code",
   "execution_count": null,
   "id": "a8521f30-5807-471f-a8ce-9c967f23dc7a",
   "metadata": {},
   "outputs": [],
   "source": [
    "Tuple Unpacking:"
   ]
  },
  {
   "cell_type": "code",
   "execution_count": 39,
   "id": "065003ce-508c-4d1f-8407-67cdcc5d2164",
   "metadata": {},
   "outputs": [
    {
     "name": "stdout",
     "output_type": "stream",
     "text": [
      "10\n",
      "20\n"
     ]
    }
   ],
   "source": [
    "a=(10,20)\n",
    "x,y,=a\n",
    "print(x)\n",
    "print(y)"
   ]
  }
 ],
 "metadata": {
  "kernelspec": {
   "display_name": "Python 3 (ipykernel)",
   "language": "python",
   "name": "python3"
  },
  "language_info": {
   "codemirror_mode": {
    "name": "ipython",
    "version": 3
   },
   "file_extension": ".py",
   "mimetype": "text/x-python",
   "name": "python",
   "nbconvert_exporter": "python",
   "pygments_lexer": "ipython3",
   "version": "3.12.4"
  }
 },
 "nbformat": 4,
 "nbformat_minor": 5
}
