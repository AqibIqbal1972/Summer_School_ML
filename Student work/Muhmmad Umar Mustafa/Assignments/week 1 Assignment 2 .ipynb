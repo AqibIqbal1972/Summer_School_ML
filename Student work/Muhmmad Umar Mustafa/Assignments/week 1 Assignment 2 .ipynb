{
 "cells": [
  {
   "cell_type": "code",
   "execution_count": null,
   "id": "56a16880-e5e1-4c97-b019-8a8e70e20cb2",
   "metadata": {},
   "outputs": [],
   "source": [
    "#Assignment: Checking Even or Odd Numbers in an Array\n"
   ]
  },
  {
   "cell_type": "code",
   "execution_count": 86,
   "id": "d58556ed-7432-473e-b5a9-cd0444a04000",
   "metadata": {},
   "outputs": [
    {
     "name": "stdout",
     "output_type": "stream",
     "text": [
      "the number {2} is even\n",
      "the number {3}  is odd\n",
      "the number {15}  is odd\n",
      "the number {12} is even\n",
      "the number {9}  is odd\n",
      "the number {10} is even\n",
      "the number {18} is even\n",
      "the number {20} is even\n",
      "the number {19}  is odd\n"
     ]
    }
   ],
   "source": [
    "array = [2,3,15,12,9,10,18,20,19]\n",
    "\n",
    "for num in array:\n",
    "    if num%2==0:\n",
    "        print (\"the number\" ,{num},\"is even\")\n",
    "    else:\n",
    "        print(\"the number\" ,{num},\" is odd\")"
   ]
  },
  {
   "cell_type": "code",
   "execution_count": 122,
   "id": "99afa0f0-0982-4b15-8876-4fdfd777df06",
   "metadata": {},
   "outputs": [
    {
     "name": "stdout",
     "output_type": "stream",
     "text": [
      "{'average_score': 62.5, 'minimum_score': 10, 'highest_score': 95, 'letter_grade': ['F', 'F', 'C', 'B', 'A', 'D']}\n"
     ]
    }
   ],
   "source": [
    "def process_scores(scores):\n",
    "    if not scores:\n",
    "        return{\n",
    "        \"average_score\":0,\n",
    "        \"minimum_score\":0,\n",
    "        \"highesh_score\":0,\n",
    "        \"letter_score\":[]\n",
    "    }\n",
    "    average_score=sum(scores)/len(scores)\n",
    "\n",
    "    highest_score=max(scores)\n",
    "    minimum_score=min(scores)\n",
    "    letter_grade=[]\n",
    "    for score in scores:\n",
    "        if score>=90:\n",
    "         letter_grade.append(\"A\")\n",
    "        elif (score>=80 and score<=89):\n",
    "         letter_grade.append(\"B\")\n",
    "        elif (score>=70 and score<=79):\n",
    "         letter_grade.append(\"C\")\n",
    "        elif (score>=60 and score<=69):\n",
    "         letter_grade.append(\"D\")\n",
    "        else:\n",
    "         letter_grade.append(\"F\")\n",
    "    return{\n",
    "       \"average_score\":average_score,\n",
    "       \"minimum_score\":minimum_score,\n",
    "       \"highest_score\":highest_score,\n",
    "       \"letter_grade\":letter_grade       \n",
    "        }\n",
    "\n",
    "test_score=[10,50,75,80,95,65]\n",
    "result=process_scores(test_score)\n",
    "print(result)\n"
   ]
  }
 ],
 "metadata": {
  "kernelspec": {
   "display_name": "Python 3 (ipykernel)",
   "language": "python",
   "name": "python3"
  },
  "language_info": {
   "codemirror_mode": {
    "name": "ipython",
    "version": 3
   },
   "file_extension": ".py",
   "mimetype": "text/x-python",
   "name": "python",
   "nbconvert_exporter": "python",
   "pygments_lexer": "ipython3",
   "version": "3.12.4"
  }
 },
 "nbformat": 4,
 "nbformat_minor": 5
}
