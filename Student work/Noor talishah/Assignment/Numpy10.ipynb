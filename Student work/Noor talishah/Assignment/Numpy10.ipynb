{
 "cells": [
  {
   "cell_type": "code",
   "execution_count": null,
   "id": "3c0e6554-066c-4ecc-afb0-b1d4d035ec06",
   "metadata": {},
   "outputs": [],
   "source": [
    "#Random Namber"
   ]
  },
  {
   "cell_type": "code",
   "execution_count": 3,
   "id": "77a1d3ec-d6fd-4f00-9bb9-4423d85b62e1",
   "metadata": {},
   "outputs": [],
   "source": [
    "import numpy as np\n"
   ]
  },
  {
   "cell_type": "code",
   "execution_count": 6,
   "id": "cbc49767-e5d6-4aab-8ae9-534b0dc250bc",
   "metadata": {},
   "outputs": [
    {
     "data": {
      "text/plain": [
       "array([0.02253004, 0.17182915, 0.75671992, 0.30832339, 0.81057662])"
      ]
     },
     "execution_count": 6,
     "metadata": {},
     "output_type": "execute_result"
    }
   ],
   "source": [
    "arr1 = np.random.rand(5)\n",
    "arr1"
   ]
  },
  {
   "cell_type": "code",
   "execution_count": 7,
   "id": "fe8817b5-28b0-4bf4-9287-60a21ae779c3",
   "metadata": {},
   "outputs": [
    {
     "data": {
      "text/plain": [
       "array([[0.12268916, 0.31202779, 0.62834444, 0.53868898, 0.88458308],\n",
       "       [0.42786756, 0.326529  , 0.30957884, 0.00177975, 0.47224602]])"
      ]
     },
     "execution_count": 7,
     "metadata": {},
     "output_type": "execute_result"
    }
   ],
   "source": [
    "arr2 = np.random.rand(2 ,5)\n",
    "arr2"
   ]
  },
  {
   "cell_type": "code",
   "execution_count": 8,
   "id": "44d3a6b1-5ec8-47cd-8c8a-025e047f74ea",
   "metadata": {},
   "outputs": [
    {
     "data": {
      "text/plain": [
       "array([ 0.05444241, -0.84052123, -1.73285533, -2.55272723])"
      ]
     },
     "execution_count": 8,
     "metadata": {},
     "output_type": "execute_result"
    }
   ],
   "source": [
    "arr3 = np.random.randn(4)\n",
    "arr3"
   ]
  },
  {
   "cell_type": "code",
   "execution_count": 10,
   "id": "b16b6b1e-d947-4888-b396-71fd0efda216",
   "metadata": {},
   "outputs": [
    {
     "data": {
      "text/plain": [
       "array([[0.0251122 , 0.5147092 , 0.65369492, 0.65273086, 0.19895004,\n",
       "        0.7496415 ],\n",
       "       [0.34168296, 0.87726328, 0.76284083, 0.1885414 , 0.98412769,\n",
       "        0.86578315],\n",
       "       [0.9469871 , 0.71369645, 0.07707171, 0.85753379, 0.55439547,\n",
       "        0.76980155]])"
      ]
     },
     "execution_count": 10,
     "metadata": {},
     "output_type": "execute_result"
    }
   ],
   "source": [
    "arr4 = np.random.rand(3 ,6)\n",
    "arr4"
   ]
  },
  {
   "cell_type": "code",
   "execution_count": 18,
   "id": "473a8e26-71c0-40ac-b302-04155c6c3ade",
   "metadata": {},
   "outputs": [
    {
     "data": {
      "text/plain": [
       "array([0.65553965, 0.98757264, 0.36042891, 0.35481858, 0.62492881])"
      ]
     },
     "execution_count": 18,
     "metadata": {},
     "output_type": "execute_result"
    }
   ],
   "source": [
    "arr5 = np.random.ranf(5)\n",
    "arr5"
   ]
  },
  {
   "cell_type": "code",
   "execution_count": 21,
   "id": "bf44627d-2155-4930-a18c-490f4f8f5bc1",
   "metadata": {},
   "outputs": [
    {
     "data": {
      "text/plain": [
       "array([7, 7, 6, 7, 9, 7, 9, 8])"
      ]
     },
     "execution_count": 21,
     "metadata": {},
     "output_type": "execute_result"
    }
   ],
   "source": [
    "arr6 = np.random.randint(6 , 10 ,8)\n",
    "arr6"
   ]
  },
  {
   "cell_type": "code",
   "execution_count": null,
   "id": "31b396a9-d71d-46ef-9437-6bcd926f50ad",
   "metadata": {},
   "outputs": [],
   "source": [
    "#types of Numpy "
   ]
  },
  {
   "cell_type": "code",
   "execution_count": 40,
   "id": "37468744-e68f-4d97-b451-790c3db47549",
   "metadata": {},
   "outputs": [
    {
     "name": "stdout",
     "output_type": "stream",
     "text": [
      "[20 30 40 30 10 60] int32\n"
     ]
    }
   ],
   "source": [
    "arr11 = np.array([20 ,30 ,40 ,30 ,10 ,60 ])\n",
    "print(arr11 , arr11.dtype)"
   ]
  },
  {
   "cell_type": "code",
   "execution_count": 46,
   "id": "41baa5cf-7686-4a77-928b-6936b30b8f2b",
   "metadata": {},
   "outputs": [
    {
     "name": "stdout",
     "output_type": "stream",
     "text": [
      "Data Type : int8\n",
      "[10 20 30 40 50 60]\n",
      "int8\n"
     ]
    }
   ],
   "source": [
    "arr22 = np.array([10 , 20 ,30 ,40 ,50 ,60] ,dtype = np.int8) \n",
    "print(\"Data Type :\" , arr22.dtype)\n",
    "print(arr22 )\n",
    "print(arr22.dtype)"
   ]
  },
  {
   "cell_type": "code",
   "execution_count": 49,
   "id": "fd85a40f-2b9b-4cb7-bcba-47b13be5ab34",
   "metadata": {},
   "outputs": [
    {
     "name": "stdout",
     "output_type": "stream",
     "text": [
      "Data type: int32\n",
      "Data type: float32\n",
      "Data type : int32\n",
      "[2 3 5 6 7]\n",
      "[2. 3. 5. 6. 7.]\n",
      "[2 3 5 6 7]\n"
     ]
    }
   ],
   "source": [
    "arr33 = np.array([2 , 3, 5, 6 ,7])\n",
    "new = np.float32(arr33) \n",
    "new1 = np.int_(new)\n",
    "print(\"Data type:\" , arr33.dtype)\n",
    "print(\"Data type:\" , new.dtype)\n",
    "print(\"Data type :\" , new1.dtype)\n",
    "print(arr33)\n",
    "print(new)\n",
    "print(new1)"
   ]
  },
  {
   "cell_type": "code",
   "execution_count": 51,
   "id": "7ed66be6-2415-4b29-a93e-c01136e27b48",
   "metadata": {},
   "outputs": [
    {
     "name": "stdout",
     "output_type": "stream",
     "text": [
      "Matrix 1:\n",
      "[[1 2]\n",
      " [3 4]]\n",
      "\n",
      "Matrix 2:\n",
      "[[5 6]\n",
      " [7 8]]\n",
      "\n",
      "Result using np.dot:\n",
      "[[19 22]\n",
      " [43 50]]\n"
     ]
    }
   ],
   "source": [
    "import numpy as np\n",
    "\n",
    "# Define two matrices\n",
    "matrix1 = np.array([[1, 2], [3, 4]])\n",
    "matrix2 = np.array([[5, 6], [7, 8]])\n",
    "\n",
    "# Method 1: Using numpy.dot\n",
    "result1 = np.dot(matrix1, matrix2)\n",
    "\n",
    "# Method 2: Using the @ operator\n",
    "result2 = matrix1 @ matrix2\n",
    "\n",
    "print(\"Matrix 1:\")\n",
    "print(matrix1)\n",
    "print(\"\\nMatrix 2:\")\n",
    "print(matrix2)\n",
    "print(\"\\nResult using np.dot:\")\n",
    "print(result1)\n",
    "#print(\"\\nResult using @ operator:\")\n",
    "#print(result2)\n"
   ]
  },
  {
   "cell_type": "code",
   "execution_count": 66,
   "id": "5e05ecfc-de09-478a-ac20-cd66b1e0dd56",
   "metadata": {},
   "outputs": [
    {
     "name": "stdout",
     "output_type": "stream",
     "text": [
      "min: 2 index of min: 1\n",
      "max: 8 index of max: 0\n",
      "sqrt : [2.82842712 1.41421356 1.73205081 2.         2.23606798]\n"
     ]
    }
   ],
   "source": [
    "ar = np.array([8, 2, 3, 4, 5])\n",
    "\n",
    "print(\"min:\", np.min(ar), \"index of min:\", ar.argmin())\n",
    "print(\"max:\", np.max(ar), \"index of max:\", ar.argmax())\n",
    "print(\"sqrt :\", np.sqrt(ar)) \n"
   ]
  },
  {
   "cell_type": "code",
   "execution_count": 69,
   "id": "fa9f0ca9-3d05-4dfb-911d-5ff19a3af923",
   "metadata": {},
   "outputs": [
    {
     "name": "stdout",
     "output_type": "stream",
     "text": [
      "[ 0.          0.84147098  0.90929743  0.14112001 -0.7568025  -0.95892427\n",
      " -0.2794155 ]\n",
      "[ 1.          0.54030231 -0.41614684 -0.9899925  -0.65364362  0.28366219\n",
      "  0.96017029]\n",
      "[ 0  1  3  6 10 15 21]\n"
     ]
    }
   ],
   "source": [
    "ar2 = np.array([ 0, 1 ,2 ,3 , 4, 5, 6])\n",
    "print( np.sin(ar2))\n",
    "print(np.cos(ar2))\n",
    "print(np.cumsum(ar2))\n",
    "      "
   ]
  },
  {
   "cell_type": "code",
   "execution_count": 70,
   "id": "981d3b67-dffd-413e-b806-84f077223c8f",
   "metadata": {},
   "outputs": [
    {
     "name": "stdout",
     "output_type": "stream",
     "text": [
      "[ 1.55740772 -2.18503986 -0.14254654]\n"
     ]
    }
   ],
   "source": [
    "ar3 = np.array([1,2,3]) \n",
    "print(np.tan(ar3))"
   ]
  },
  {
   "cell_type": "code",
   "execution_count": 71,
   "id": "01046f58-dc79-4deb-8c81-d6a8f64cf99b",
   "metadata": {},
   "outputs": [
    {
     "name": "stdout",
     "output_type": "stream",
     "text": [
      "[0.]\n"
     ]
    }
   ],
   "source": [
    "ar4 = np.array([0])\n",
    "print(np.sin(ar4))"
   ]
  },
  {
   "cell_type": "code",
   "execution_count": 72,
   "id": "c0a96d60-d516-4072-9158-30d15d43c599",
   "metadata": {},
   "outputs": [
    {
     "name": "stdout",
     "output_type": "stream",
     "text": [
      "[1.]\n"
     ]
    }
   ],
   "source": [
    "print(np.cos(ar4))"
   ]
  },
  {
   "cell_type": "code",
   "execution_count": 80,
   "id": "6d5f7716-4e41-423f-bee4-d6e64f0cee10",
   "metadata": {},
   "outputs": [
    {
     "data": {
      "text/plain": [
       "array([ 6,  8, 10, 12, 12, 14, 15])"
      ]
     },
     "execution_count": 80,
     "metadata": {},
     "output_type": "execute_result"
    }
   ],
   "source": [
    "arrr = np.array([2, 3,4 ,5, 6,7, 8])\n",
    "arrr1 = np.array([4, 5, 6, 7, 6, 7, 7])\n",
    "x = arrr+arrr1\n",
    "x"
   ]
  },
  {
   "cell_type": "code",
   "execution_count": 82,
   "id": "655af366-172a-4694-b30b-137369a7dea3",
   "metadata": {},
   "outputs": [
    {
     "data": {
      "text/plain": [
       "array([ 8, 10, 12, 14, 14, 16, 17])"
      ]
     },
     "execution_count": 82,
     "metadata": {},
     "output_type": "execute_result"
    }
   ],
   "source": [
    "x+2\n"
   ]
  },
  {
   "cell_type": "code",
   "execution_count": 109,
   "id": "de7fbf9f-c0ef-4947-a0c2-61452170877b",
   "metadata": {},
   "outputs": [
    {
     "data": {
      "text/plain": [
       "(12,)"
      ]
     },
     "execution_count": 109,
     "metadata": {},
     "output_type": "execute_result"
    }
   ],
   "source": [
    "arr5 = np.array([2 ,3 ,4 ,5, 6, 7, 7, 6,5 ,3 ,4 ,4])\n",
    "arr5.shape"
   ]
  },
  {
   "cell_type": "code",
   "execution_count": 110,
   "id": "0ecbb0a9-e58a-42f4-82ef-3f9066fcc5f7",
   "metadata": {},
   "outputs": [
    {
     "data": {
      "text/plain": [
       "1"
      ]
     },
     "execution_count": 110,
     "metadata": {},
     "output_type": "execute_result"
    }
   ],
   "source": [
    "arr5.ndim"
   ]
  },
  {
   "cell_type": "code",
   "execution_count": 121,
   "id": "54b82b8d-00bb-43a2-83b2-d030d3677719",
   "metadata": {},
   "outputs": [
    {
     "data": {
      "text/plain": [
       "array([[[2, 3],\n",
       "        [4, 5],\n",
       "        [6, 7]],\n",
       "\n",
       "       [[7, 6],\n",
       "        [5, 3],\n",
       "        [4, 4]]])"
      ]
     },
     "execution_count": 121,
     "metadata": {},
     "output_type": "execute_result"
    }
   ],
   "source": [
    "a =arr5.reshape(2,3 , 2)\n",
    "a"
   ]
  },
  {
   "cell_type": "code",
   "execution_count": null,
   "id": "010245ef-f670-4447-9fa2-07ef471e047c",
   "metadata": {},
   "outputs": [],
   "source": []
  },
  {
   "cell_type": "code",
   "execution_count": 130,
   "id": "d10cf2d4-bbd4-4b67-a5c4-19b7a010db1f",
   "metadata": {},
   "outputs": [
    {
     "data": {
      "text/plain": [
       "array([[[2, 3, 4, 5, 7, 8]],\n",
       "\n",
       "       [[3, 4, 5, 6, 7, 8]],\n",
       "\n",
       "       [[4, 5, 6, 7, 7, 8]]])"
      ]
     },
     "execution_count": 130,
     "metadata": {},
     "output_type": "execute_result"
    }
   ],
   "source": [
    "arr6 = np.array([[[2,3,4,5,7,8]] ,[[3 ,4 ,5 ,6, 7, 8]], [[4,5,6, 7, 7, 8]]])\n",
    "arr6"
   ]
  },
  {
   "cell_type": "code",
   "execution_count": 131,
   "id": "dd3b5269-99e0-4905-829c-9fecf641b78c",
   "metadata": {},
   "outputs": [
    {
     "data": {
      "text/plain": [
       "(3, 1, 6)"
      ]
     },
     "execution_count": 131,
     "metadata": {},
     "output_type": "execute_result"
    }
   ],
   "source": [
    "arr6.shape"
   ]
  },
  {
   "cell_type": "code",
   "execution_count": 132,
   "id": "159cfe99-9533-4d39-88af-59fd1bd7552c",
   "metadata": {},
   "outputs": [
    {
     "data": {
      "text/plain": [
       "array([2, 3, 4, 5, 7, 8, 3, 4, 5, 6, 7, 8, 4, 5, 6, 7, 7, 8])"
      ]
     },
     "execution_count": 132,
     "metadata": {},
     "output_type": "execute_result"
    }
   ],
   "source": [
    "t = arr6.reshape(-1)\n",
    "t"
   ]
  },
  {
   "cell_type": "code",
   "execution_count": 133,
   "id": "a15e01e4-6ce7-4638-b22f-b9e969aeeffb",
   "metadata": {},
   "outputs": [
    {
     "data": {
      "text/plain": [
       "array([[3, 4, 5, 6, 7, 8]])"
      ]
     },
     "execution_count": 133,
     "metadata": {},
     "output_type": "execute_result"
    }
   ],
   "source": [
    "arr6[1]"
   ]
  },
  {
   "cell_type": "code",
   "execution_count": 134,
   "id": "67a7aadd-c219-4988-9cbe-26993a9baf3b",
   "metadata": {},
   "outputs": [
    {
     "data": {
      "text/plain": [
       "3"
      ]
     },
     "execution_count": 134,
     "metadata": {},
     "output_type": "execute_result"
    }
   ],
   "source": [
    "t[1]"
   ]
  },
  {
   "cell_type": "code",
   "execution_count": null,
   "id": "80260344-b50e-4647-8a07-9c9669074d6e",
   "metadata": {},
   "outputs": [],
   "source": []
  }
 ],
 "metadata": {
  "kernelspec": {
   "display_name": "Python 3 (ipykernel)",
   "language": "python",
   "name": "python3"
  },
  "language_info": {
   "codemirror_mode": {
    "name": "ipython",
    "version": 3
   },
   "file_extension": ".py",
   "mimetype": "text/x-python",
   "name": "python",
   "nbconvert_exporter": "python",
   "pygments_lexer": "ipython3",
   "version": "3.11.7"
  }
 },
 "nbformat": 4,
 "nbformat_minor": 5
}
