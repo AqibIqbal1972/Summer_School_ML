{
 "cells": [
  {
   "cell_type": "markdown",
   "id": "eb9027d6",
   "metadata": {},
   "source": [
    "# IF Else statement"
   ]
  },
  {
   "cell_type": "markdown",
   "id": "9ebf5f2c",
   "metadata": {},
   "source": [
    "**In Python, \"if\" and \"else\" are used to make decisions in your code. Imagine you're deciding what to wear based on the weather. If it's raining, you'll wear a raincoat. If it's sunny, you might choose sunglasses instead.**\n",
    "\n",
    "**The \"else\" part is used to handle what happens when the initial condition (checking if it's rainy) is not true. Think of it as a fallback plan. If the first condition doesn't match, the \"else\" part tells the program what to do instead.**"
   ]
  },
  {
   "cell_type": "code",
   "execution_count": 2,
   "id": "8580ba90",
   "metadata": {},
   "outputs": [
    {
     "name": "stdout",
     "output_type": "stream",
     "text": [
      "Wear a raincoat.\n"
     ]
    }
   ],
   "source": [
    "weather = \"rainy\"\n",
    "\n",
    "if weather == \"rainy\":\n",
    "    print(\"Wear a raincoat.\")\n",
    "else:\n",
    "    print(\"Wear sunglasses.\")"
   ]
  },
  {
   "cell_type": "code",
   "execution_count": null,
   "id": "8a8073a8",
   "metadata": {},
   "outputs": [],
   "source": []
  },
  {
   "cell_type": "markdown",
   "id": "34d44e1d",
   "metadata": {},
   "source": [
    "# if, elif, else"
   ]
  },
  {
   "cell_type": "markdown",
   "id": "598f01d8",
   "metadata": {},
   "source": [
    "**\"elif\" stands for \"else if\" and allows us to check multiple conditions one after another. It’s used when you have more than two possible choices. Instead of just having one fallback plan with \"else\", \"elif\" lets you check additional conditions.**\n",
    "\n",
    "**You can have multiple \"elif\", and all are checked sequentially. Whichever is checked to be true, the ones after it are then not checked at all**"
   ]
  },
  {
   "cell_type": "code",
   "execution_count": 4,
   "id": "fa13bff2",
   "metadata": {},
   "outputs": [
    {
     "name": "stdout",
     "output_type": "stream",
     "text": [
      "Wear a jacket.\n"
     ]
    }
   ],
   "source": [
    "weather = \"cloudy\"\n",
    "\n",
    "if weather == \"rainy\":\n",
    "    print(\"Wear a raincoat.\")\n",
    "    \n",
    "elif weather == \"cloudy\":\n",
    "    print(\"Wear a jacket.\")\n",
    "    \n",
    "elif weather == \"Snowy\":\n",
    "    print(\"Wear a coat and Jacket\")\n",
    "    \n",
    "else:\n",
    "    print(\"Wear sunglasses.\")"
   ]
  }
 ],
 "metadata": {
  "kernelspec": {
   "display_name": "Python 3 (ipykernel)",
   "language": "python",
   "name": "python3"
  },
  "language_info": {
   "codemirror_mode": {
    "name": "ipython",
    "version": 3
   },
   "file_extension": ".py",
   "mimetype": "text/x-python",
   "name": "python",
   "nbconvert_exporter": "python",
   "pygments_lexer": "ipython3",
   "version": "3.10.9"
  }
 },
 "nbformat": 4,
 "nbformat_minor": 5
}
