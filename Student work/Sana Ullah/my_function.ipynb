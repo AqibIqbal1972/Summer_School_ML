{
 "cells": [
  {
   "cell_type": "code",
   "execution_count": 6,
   "id": "8e32bd75-8188-4458-be8d-4aad2c9645a3",
   "metadata": {},
   "outputs": [],
   "source": [
    "def my_function (a,b,c):\n",
    "    addition=a+b+c\n",
    "    subtriction=a-b-c\n",
    "    multiplication=a*b*c\n",
    "    division=a/b\n",
    "\n",
    "    print (\"add\",addition)\n",
    "    print (\"subtract\", subtriction)\n",
    "    print (\"Multiply\", multiplication)\n",
    "    print (\"Divid\", division)"
   ]
  },
  {
   "cell_type": "code",
   "execution_count": 7,
   "id": "1b56a970-76a8-498c-a45d-48ccc90dc4fe",
   "metadata": {},
   "outputs": [
    {
     "name": "stdout",
     "output_type": "stream",
     "text": [
      "add 9\n",
      "subtract -5\n",
      "Multiply 24\n",
      "Divid 0.6666666666666666\n"
     ]
    }
   ],
   "source": [
    "my_function(2,3,4)"
   ]
  },
  {
   "cell_type": "code",
   "execution_count": 8,
   "id": "1c074f02-1f98-43bd-ac7a-6aa5121ef152",
   "metadata": {},
   "outputs": [
    {
     "name": "stdout",
     "output_type": "stream",
     "text": [
      "add 544\n",
      "subtract -56\n",
      "Multiply 4880000\n",
      "Divid 1.22\n"
     ]
    }
   ],
   "source": [
    "my_function(244,200,100)"
   ]
  },
  {
   "cell_type": "code",
   "execution_count": 9,
   "id": "ef393054-82ed-42ce-b90b-d12fba1018eb",
   "metadata": {},
   "outputs": [
    {
     "name": "stdout",
     "output_type": "stream",
     "text": [
      "add 134\n",
      "subtract -44\n",
      "Multiply 68310\n",
      "Divid 1.9565217391304348\n"
     ]
    }
   ],
   "source": [
    "my_function(45,23,66)\n"
   ]
  },
  {
   "cell_type": "code",
   "execution_count": null,
   "id": "e0768135-7c58-488e-97ab-47409f2d57d3",
   "metadata": {},
   "outputs": [],
   "source": []
  }
 ],
 "metadata": {
  "kernelspec": {
   "display_name": "anaconda-panel-2023.05-py310",
   "language": "python",
   "name": "conda-env-anaconda-panel-2023.05-py310-py"
  },
  "language_info": {
   "codemirror_mode": {
    "name": "ipython",
    "version": 3
   },
   "file_extension": ".py",
   "mimetype": "text/x-python",
   "name": "python",
   "nbconvert_exporter": "python",
   "pygments_lexer": "ipython3",
   "version": "3.11.5"
  }
 },
 "nbformat": 4,
 "nbformat_minor": 5
}
