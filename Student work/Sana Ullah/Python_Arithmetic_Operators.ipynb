{
 "cells": [
  {
   "cell_type": "code",
   "execution_count": 2,
   "id": "507835cc-facc-4a96-9da8-2ab79ea05c06",
   "metadata": {},
   "outputs": [
    {
     "name": "stdout",
     "output_type": "stream",
     "text": [
      "5\n"
     ]
    }
   ],
   "source": [
    "x=2\n",
    "y=3\n",
    "print (x+y) # Addition "
   ]
  },
  {
   "cell_type": "code",
   "execution_count": 3,
   "id": "b6b6f2ee-6880-4074-81ae-104fac2aedb0",
   "metadata": {},
   "outputs": [
    {
     "name": "stdout",
     "output_type": "stream",
     "text": [
      "-1\n"
     ]
    }
   ],
   "source": [
    "x=2\n",
    "y=3\n",
    "print (x-y) # Subtraction "
   ]
  },
  {
   "cell_type": "code",
   "execution_count": 4,
   "id": "21b895b3-9c42-4618-99a9-32108ff88b89",
   "metadata": {},
   "outputs": [
    {
     "name": "stdout",
     "output_type": "stream",
     "text": [
      "6\n"
     ]
    }
   ],
   "source": [
    "x=2\n",
    "y=3\n",
    "print (x*y) # Multiplication "
   ]
  },
  {
   "cell_type": "code",
   "execution_count": 5,
   "id": "21d35a06-3fd9-4b98-a7e6-322623ac2f35",
   "metadata": {},
   "outputs": [
    {
     "name": "stdout",
     "output_type": "stream",
     "text": [
      "4.0\n"
     ]
    }
   ],
   "source": [
    "x=20\n",
    "y=5\n",
    "print (x/y) # Division "
   ]
  },
  {
   "cell_type": "code",
   "execution_count": 6,
   "id": "796496de-ae44-4138-91c5-c5e30b28c162",
   "metadata": {},
   "outputs": [
    {
     "name": "stdout",
     "output_type": "stream",
     "text": [
      "2\n"
     ]
    }
   ],
   "source": [
    "x=2\n",
    "y=3\n",
    "print (x%y) # Modulus"
   ]
  },
  {
   "cell_type": "code",
   "execution_count": 8,
   "id": "a0f5aca1-ac20-4047-85d4-4eb43c88e896",
   "metadata": {},
   "outputs": [
    {
     "name": "stdout",
     "output_type": "stream",
     "text": [
      "8\n"
     ]
    }
   ],
   "source": [
    "x=2\n",
    "y=3\n",
    "print (x**y) # \tExponentiation\n"
   ]
  },
  {
   "cell_type": "code",
   "execution_count": null,
   "id": "40712646-bff1-42aa-975e-5070c9d5f110",
   "metadata": {},
   "outputs": [],
   "source": []
  }
 ],
 "metadata": {
  "kernelspec": {
   "display_name": "anaconda-panel-2023.05-py310",
   "language": "python",
   "name": "conda-env-anaconda-panel-2023.05-py310-py"
  },
  "language_info": {
   "codemirror_mode": {
    "name": "ipython",
    "version": 3
   },
   "file_extension": ".py",
   "mimetype": "text/x-python",
   "name": "python",
   "nbconvert_exporter": "python",
   "pygments_lexer": "ipython3",
   "version": "3.11.5"
  }
 },
 "nbformat": 4,
 "nbformat_minor": 5
}
