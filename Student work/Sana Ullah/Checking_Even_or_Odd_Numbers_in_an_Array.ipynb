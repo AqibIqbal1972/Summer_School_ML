{
 "cells": [
  {
   "cell_type": "code",
   "execution_count": 1,
   "id": "4a7d6e99-969c-4d38-bb31-eed658bdc265",
   "metadata": {},
   "outputs": [
    {
     "name": "stdout",
     "output_type": "stream",
     "text": [
      "1 is odd\n",
      "2 is even\n",
      "3 is odd\n",
      "4 is even\n",
      "5 is odd\n",
      "6 is even\n",
      "7 is odd\n",
      "8 is even\n",
      "9 is odd\n",
      "10 is even\n"
     ]
    }
   ],
   "source": [
    "def check_even_odd(arr):\n",
    "    # Create an empty list to store the results\n",
    "    results = []\n",
    "    \n",
    "    # Loop through each element in the array\n",
    "    for num in arr:\n",
    "        # Check if the number is even or odd\n",
    "        if num % 2 == 0:\n",
    "            results.append(f\"{num} is even\")\n",
    "        else:\n",
    "            results.append(f\"{num} is odd\")\n",
    "    \n",
    "    return results\n",
    "\n",
    "# Example usage\n",
    "array = [1, 2, 3, 4, 5, 6, 7, 8, 9, 10]\n",
    "result = check_even_odd(array)\n",
    "for res in result:\n",
    "    print(res)\n"
   ]
  },
  {
   "cell_type": "code",
   "execution_count": null,
   "id": "1d86b7c7-bf56-4d84-989f-500499e15340",
   "metadata": {},
   "outputs": [],
   "source": []
  }
 ],
 "metadata": {
  "kernelspec": {
   "display_name": "anaconda-panel-2023.05-py310",
   "language": "python",
   "name": "conda-env-anaconda-panel-2023.05-py310-py"
  },
  "language_info": {
   "codemirror_mode": {
    "name": "ipython",
    "version": 3
   },
   "file_extension": ".py",
   "mimetype": "text/x-python",
   "name": "python",
   "nbconvert_exporter": "python",
   "pygments_lexer": "ipython3",
   "version": "3.11.5"
  }
 },
 "nbformat": 4,
 "nbformat_minor": 5
}
