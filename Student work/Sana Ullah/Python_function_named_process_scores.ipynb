{
 "cells": [
  {
   "cell_type": "code",
   "execution_count": 1,
   "id": "79adb552-b827-4742-8488-58b75335755e",
   "metadata": {},
   "outputs": [
    {
     "name": "stdout",
     "output_type": "stream",
     "text": [
      "Average Score: 77.75\n",
      "Highest Score: 99\n",
      "Lowest Score: 45\n",
      "Letter Grades: ['B', 'A', 'C', 'D', 'F', 'A', 'B', 'C']\n"
     ]
    }
   ],
   "source": [
    "def process_scores(scores):\n",
    "    # Calculate the average score\n",
    "    average_score = sum(scores) / len(scores)\n",
    "    \n",
    "    # Find the highest and lowest scores\n",
    "    highest_score = max(scores)\n",
    "    lowest_score = min(scores)\n",
    "    \n",
    "    # Assign letter grades based on the average score\n",
    "    letter_grades = []\n",
    "    for score in scores:\n",
    "        if score >= 90:\n",
    "            letter_grades.append('A')\n",
    "        elif score >= 80:\n",
    "            letter_grades.append('B')\n",
    "        elif score >= 70:\n",
    "            letter_grades.append('C')\n",
    "        elif score >= 60:\n",
    "            letter_grades.append('D')\n",
    "        else:\n",
    "            letter_grades.append('F')\n",
    "    \n",
    "    # Return the result as a dictionary\n",
    "    result = {\n",
    "        'average_score': average_score,\n",
    "        'highest_score': highest_score,\n",
    "        'lowest_score': lowest_score,\n",
    "        'letter_grades': letter_grades\n",
    "    }\n",
    "    \n",
    "    return result\n",
    "\n",
    "# Test the function\n",
    "test_scores = [88, 92, 75, 63, 45, 99, 82, 78]\n",
    "result = process_scores(test_scores)\n",
    "\n",
    "print(\"Average Score:\", result['average_score'])\n",
    "print(\"Highest Score:\", result['highest_score'])\n",
    "print(\"Lowest Score:\", result['lowest_score'])\n",
    "print(\"Letter Grades:\", result['letter_grades'])\n"
   ]
  },
  {
   "cell_type": "code",
   "execution_count": null,
   "id": "33ade78e-0557-4d81-9715-607635561d25",
   "metadata": {},
   "outputs": [],
   "source": []
  }
 ],
 "metadata": {
  "kernelspec": {
   "display_name": "anaconda-panel-2023.05-py310",
   "language": "python",
   "name": "conda-env-anaconda-panel-2023.05-py310-py"
  },
  "language_info": {
   "codemirror_mode": {
    "name": "ipython",
    "version": 3
   },
   "file_extension": ".py",
   "mimetype": "text/x-python",
   "name": "python",
   "nbconvert_exporter": "python",
   "pygments_lexer": "ipython3",
   "version": "3.11.5"
  }
 },
 "nbformat": 4,
 "nbformat_minor": 5
}
