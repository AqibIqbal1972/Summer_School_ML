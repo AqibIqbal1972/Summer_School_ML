{
 "cells": [
  {
   "cell_type": "markdown",
   "id": "e4ab8146",
   "metadata": {},
   "source": [
    "# Various properties of File Object:"
   ]
  },
  {
   "cell_type": "code",
   "execution_count": 2,
   "id": "90f9ce75",
   "metadata": {},
   "outputs": [
    {
     "name": "stdout",
     "output_type": "stream",
     "text": [
      "File Name  abc.txt\n",
      "File Mode  w\n",
      "Is File readable  False\n",
      "Is File writable  True\n",
      "Is File closed  False\n",
      "is File closed  True\n"
     ]
    }
   ],
   "source": [
    "f=open(\"abc.txt\",'w')\n",
    "print(\"File Name \",f.name)\n",
    "print(\"File Mode \",f.mode)\n",
    "print(\"Is File readable \",f.readable())\n",
    "print(\"Is File writable \",f.writable())\n",
    "print(\"Is File closed \",f.closed)\n",
    "f.close()\n",
    "print(\"is File closed \",f.closed)"
   ]
  },
  {
   "cell_type": "markdown",
   "id": "adfdc5e7",
   "metadata": {},
   "source": [
    "# Writing data to text files:"
   ]
  },
  {
   "cell_type": "code",
   "execution_count": 3,
   "id": "8c097a94",
   "metadata": {},
   "outputs": [
    {
     "name": "stdout",
     "output_type": "stream",
     "text": [
      "Data written to the File successfully\n"
     ]
    }
   ],
   "source": [
    "f=open(\"abc.txt\",'w')\n",
    "f.write(\"Ashir Afridi\\n \")\n",
    "f.write(\"is  a good\\n\")\n",
    "f.write(\"programmer\\n\")\n",
    "print(\"Data written to the File successfully\")\n",
    "f.close()"
   ]
  },
  {
   "cell_type": "code",
   "execution_count": 4,
   "id": "a1b1c5f7",
   "metadata": {},
   "outputs": [
    {
     "name": "stdout",
     "output_type": "stream",
     "text": [
      "List of lines written to the File successfully\n"
     ]
    }
   ],
   "source": [
    "f=open(\"abc.txt\",'w')\n",
    "list=[\"sunny\\n\",\"bunny\\n\",\"vinny\\n\",\"chinny\"]\n",
    "f.writelines(list)\n",
    "print(\"List of lines written to the File successfully\")\n",
    "f.close()"
   ]
  },
  {
   "cell_type": "code",
   "execution_count": null,
   "id": "30417ffd",
   "metadata": {},
   "outputs": [],
   "source": [
    "#Note: In the above program, data present in the file will be overridden everytime if we\n",
    "#run the program. Instead of overriding if we want append operation then we should open\n",
    "#the file as follows.\n",
    "#                         f = open(\"abcd.txt\",\"a\")"
   ]
  },
  {
   "cell_type": "code",
   "execution_count": 9,
   "id": "937bc189",
   "metadata": {},
   "outputs": [
    {
     "name": "stdout",
     "output_type": "stream",
     "text": [
      "List of lines written to the File successfully\n"
     ]
    }
   ],
   "source": [
    "f=open(\"abc.txt\",'w')\n",
    "list=[\"Ashir \",\" Afridi \",\" is a\",\" good programmer \"]\n",
    "f.writelines(list)\n",
    "print(\"List of lines written to the File successfully\")\n",
    "f.close()"
   ]
  },
  {
   "cell_type": "code",
   "execution_count": null,
   "id": "e65feb9b",
   "metadata": {},
   "outputs": [],
   "source": [
    "# Note: while writing data by using write() methods, compulsory we have to provide line\n",
    "# seperator(\\n),otherwise total data should be written to a single line"
   ]
  },
  {
   "cell_type": "markdown",
   "id": "1e9cf74b",
   "metadata": {},
   "source": [
    "# Reading Character Data from text files"
   ]
  },
  {
   "cell_type": "code",
   "execution_count": null,
   "id": "7d69fc40",
   "metadata": {},
   "outputs": [],
   "source": [
    "# Eg 1: To read total data from the file"
   ]
  },
  {
   "cell_type": "code",
   "execution_count": 10,
   "id": "4319b7df",
   "metadata": {},
   "outputs": [
    {
     "name": "stdout",
     "output_type": "stream",
     "text": [
      "Ashir  Afridi  is a good programmer \n"
     ]
    }
   ],
   "source": [
    "f=open(\"abc.txt\",'r')\n",
    "data=f.read()\n",
    "print(data)\n",
    "f.close()"
   ]
  },
  {
   "cell_type": "code",
   "execution_count": null,
   "id": "50abf586",
   "metadata": {},
   "outputs": [],
   "source": [
    "# Eg 2: To read only first 10 characters:"
   ]
  },
  {
   "cell_type": "code",
   "execution_count": 11,
   "id": "309e0006",
   "metadata": {},
   "outputs": [
    {
     "name": "stdout",
     "output_type": "stream",
     "text": [
      "Ashir  Afr\n"
     ]
    }
   ],
   "source": [
    "f=open(\"abc.txt\",'r')\n",
    "data=f.read(10)\n",
    "print(data)\n",
    "f.close()"
   ]
  },
  {
   "cell_type": "code",
   "execution_count": null,
   "id": "12d06e0f",
   "metadata": {},
   "outputs": [],
   "source": [
    "# Eg 3: To read data line by line:"
   ]
  },
  {
   "cell_type": "code",
   "execution_count": 13,
   "id": "1c8d2556",
   "metadata": {},
   "outputs": [
    {
     "name": "stdout",
     "output_type": "stream",
     "text": [
      "Ashir  Afridi  is a good programmer   "
     ]
    }
   ],
   "source": [
    "f=open(\"abc.txt\",'r')\n",
    "line1=f.readline()\n",
    "print(line1,end=\" \")\n",
    "line2=f.readline()\n",
    "print(line2,end=\" \")\n",
    "line3=f.readline()\n",
    "print(line3,end=\"\")\n",
    "f.close()"
   ]
  },
  {
   "cell_type": "code",
   "execution_count": null,
   "id": "1cb9b311",
   "metadata": {},
   "outputs": [],
   "source": [
    "# Eg 4: To read all lines into list:"
   ]
  },
  {
   "cell_type": "code",
   "execution_count": 14,
   "id": "359db9ba",
   "metadata": {},
   "outputs": [
    {
     "name": "stdout",
     "output_type": "stream",
     "text": [
      "Ashir  Afridi  is a good programmer \n"
     ]
    }
   ],
   "source": [
    "f=open(\"abc.txt\",'r')\n",
    "lines=f.readlines()\n",
    "for line in lines:\n",
    "    print(line)\n",
    "f.close()    "
   ]
  },
  {
   "cell_type": "markdown",
   "id": "303ab833",
   "metadata": {},
   "source": [
    "# The with statement"
   ]
  },
  {
   "cell_type": "code",
   "execution_count": 1,
   "id": "e96e968e",
   "metadata": {},
   "outputs": [
    {
     "name": "stdout",
     "output_type": "stream",
     "text": [
      "Is File closed False\n",
      "Data written to the File successfully\n",
      "Is File closed True\n"
     ]
    }
   ],
   "source": [
    "with open(\"abcd.txt\",\"w\") as f:\n",
    "    f.write(\"Durga\\n\")\n",
    "    f.write(\"software\\n\")\n",
    "    f.write(\"solutions\\n\")\n",
    "    print(\"Is File closed\",f.closed)\n",
    "    print(\"Data written to the File successfully\")\n",
    "print(\"Is File closed\",f.closed)   "
   ]
  },
  {
   "cell_type": "markdown",
   "id": "8aa6742e",
   "metadata": {},
   "source": [
    "# The seek() and tell() methods:"
   ]
  },
  {
   "cell_type": "markdown",
   "id": "ebba3017",
   "metadata": {},
   "source": [
    "# tell():"
   ]
  },
  {
   "cell_type": "code",
   "execution_count": 3,
   "id": "a8b9f803",
   "metadata": {},
   "outputs": [
    {
     "name": "stdout",
     "output_type": "stream",
     "text": [
      "0\n",
      "Dur\n",
      "3\n",
      "ga\n",
      "\n",
      "7\n"
     ]
    }
   ],
   "source": [
    "f=open(\"abcd.txt\",'r')\n",
    "print(f.tell())\n",
    "print(f.read(3))\n",
    "print(f.tell())\n",
    "print(f.read(3))\n",
    "print(f.tell())\n",
    "f.close()"
   ]
  },
  {
   "cell_type": "markdown",
   "id": "cc469c72",
   "metadata": {},
   "source": [
    "# seek():"
   ]
  },
  {
   "cell_type": "code",
   "execution_count": 6,
   "id": "a485e99f",
   "metadata": {},
   "outputs": [
    {
     "name": "stdout",
     "output_type": "stream",
     "text": [
      "The character present at positive index 0 and at nEgative index -24 is A\n",
      "The character present at positive index 1 and at nEgative index -23 is l\n",
      "The character present at positive index 2 and at nEgative index -22 is l\n",
      "The character present at positive index 3 and at nEgative index -21 is  \n",
      "The character present at positive index 4 and at nEgative index -20 is S\n",
      "The character present at positive index 5 and at nEgative index -19 is t\n",
      "The character present at positive index 6 and at nEgative index -18 is u\n",
      "The character present at positive index 7 and at nEgative index -17 is d\n",
      "The character present at positive index 8 and at nEgative index -16 is e\n",
      "The character present at positive index 9 and at nEgative index -15 is n\n",
      "The character present at positive index 10 and at nEgative index -14 is t\n",
      "The character present at positive index 11 and at nEgative index -13 is s\n",
      "The character present at positive index 12 and at nEgative index -12 is  \n",
      "The character present at positive index 13 and at nEgative index -11 is a\n",
      "The character present at positive index 14 and at nEgative index -10 is r\n",
      "The character present at positive index 15 and at nEgative index -9 is e\n",
      "The character present at positive index 16 and at nEgative index -8 is  \n",
      "The character present at positive index 17 and at nEgative index -7 is S\n",
      "The character present at positive index 18 and at nEgative index -6 is T\n",
      "The character present at positive index 19 and at nEgative index -5 is U\n",
      "The character present at positive index 20 and at nEgative index -4 is P\n",
      "The character present at positive index 21 and at nEgative index -3 is I\n",
      "The character present at positive index 22 and at nEgative index -2 is D\n",
      "The character present at positive index 23 and at nEgative index -1 is S\n",
      "All Students are STUPIDS\n",
      "cursor position is at  24\n",
      "cursor position is at  17\n",
      "24\n",
      "Data After Modification:\n",
      "All Students are GEMS!!!\n",
      "cursor position is at  24\n"
     ]
    }
   ],
   "source": [
    "data=\"All Students are STUPIDS\"\n",
    "i=0\n",
    "for x in data:\n",
    "    print(\"The character present at positive index {x} and at nEgative index {y} is {z}\".format(x=i,y=i-len(data),z=x))\n",
    "    i=i+1\n",
    "f=open(\"abcd.txt\",'w')\n",
    "f.write(data)\n",
    "with open(\"abcd.txt\",'r+') as f:\n",
    "    text=f.read()\n",
    "    print(text)\n",
    "    print(\"cursor position is at \",f.tell())\n",
    "    f.seek(17)\n",
    "    print(\"cursor position is at \",f.tell())\n",
    "    f.write(\"GEMS!!!\")\n",
    "    print(f.tell())\n",
    "    f.seek(0)\n",
    "    text=f.read()\n",
    "    print(\"Data After Modification:\")\n",
    "    print(text)\n",
    "    print(\"cursor position is at \",f.tell())\n",
    "    "
   ]
  },
  {
   "cell_type": "raw",
   "id": "724adff6",
   "metadata": {},
   "source": [
    "# How to check a particular file exists or not?"
   ]
  },
  {
   "cell_type": "markdown",
   "id": "8a0d3a20",
   "metadata": {},
   "source": [
    "# os.path.isfile(fname)"
   ]
  },
  {
   "cell_type": "markdown",
   "id": "0191973b",
   "metadata": {},
   "source": [
    "# Q. Write a program to check whether the given file exists or not. If it is available then print its content?"
   ]
  },
  {
   "cell_type": "code",
   "execution_count": 9,
   "id": "d05ad28c",
   "metadata": {},
   "outputs": [
    {
     "name": "stdout",
     "output_type": "stream",
     "text": [
      "File exist  abcd.txt\n",
      "The content of the File is:\n",
      "All Students are GEMS!!!\n"
     ]
    }
   ],
   "source": [
    "import os,sys\n",
    "fname='abcd.txt'\n",
    "if os.path.isfile(fname):\n",
    "    print(\"File exist \",fname)\n",
    "    f=open(fname,'r')\n",
    "else:\n",
    "    print(\"File doest not exist:\",fname)\n",
    "    sys.exit(0)\n",
    "print(\"The content of the File is:\")    \n",
    "data=f.read()\n",
    "print(data)\n",
    "    "
   ]
  },
  {
   "cell_type": "code",
   "execution_count": 10,
   "id": "a45603da",
   "metadata": {},
   "outputs": [
    {
     "name": "stdout",
     "output_type": "stream",
     "text": [
      "File exist  abcd.txt\n",
      "The number of line  1\n",
      "The number of character  24\n",
      "The number of word count  4\n"
     ]
    }
   ],
   "source": [
    "import os,sys\n",
    "fname='abcd.txt'\n",
    "if os.path.isfile(fname):\n",
    "    print(\"File exist \",fname)\n",
    "    f=open(fname,'r')\n",
    "else:\n",
    "    print(\"File doest not exist:\",fname)\n",
    "    sys.exit(0)\n",
    "lcount=0\n",
    "wcount=0\n",
    "ccount=0\n",
    "for line in f:\n",
    "    lcount=lcount+1\n",
    "    ccount=ccount+len(line)\n",
    "    words=line.split()\n",
    "    wcount=wcount+len(words)\n",
    "print(\"The number of line \",lcount)\n",
    "print(\"The number of character \",ccount)\n",
    "print(\"The number of word count \",wcount)"
   ]
  },
  {
   "cell_type": "markdown",
   "id": "c676843e",
   "metadata": {},
   "source": [
    "# Q1. To Know Current Working Directory:"
   ]
  },
  {
   "cell_type": "code",
   "execution_count": 1,
   "id": "09f45f94",
   "metadata": {},
   "outputs": [
    {
     "name": "stdout",
     "output_type": "stream",
     "text": [
      "Current Working Directory: C:\\Users\\fm\\python\n"
     ]
    }
   ],
   "source": [
    "import os\n",
    "cwd=os.getcwd()\n",
    "print(\"Current Working Directory:\",cwd)"
   ]
  },
  {
   "cell_type": "markdown",
   "id": "20b8a8e3",
   "metadata": {},
   "source": [
    "# Q2. To create a sub directory in the current working directory:"
   ]
  },
  {
   "cell_type": "code",
   "execution_count": 5,
   "id": "aa3b7523",
   "metadata": {},
   "outputs": [
    {
     "ename": "FileExistsError",
     "evalue": "[WinError 183] Cannot create a file when that file already exists: 'Problem Solving'",
     "output_type": "error",
     "traceback": [
      "\u001b[1;31m---------------------------------------------------------------------------\u001b[0m",
      "\u001b[1;31mFileExistsError\u001b[0m                           Traceback (most recent call last)",
      "Cell \u001b[1;32mIn[5], line 2\u001b[0m\n\u001b[0;32m      1\u001b[0m \u001b[38;5;28;01mimport\u001b[39;00m \u001b[38;5;21;01mos\u001b[39;00m\n\u001b[1;32m----> 2\u001b[0m os\u001b[38;5;241m.\u001b[39mmkdir(\u001b[38;5;124m\"\u001b[39m\u001b[38;5;124mProblem Solving\u001b[39m\u001b[38;5;124m\"\u001b[39m)\n\u001b[0;32m      3\u001b[0m \u001b[38;5;28mprint\u001b[39m(\u001b[38;5;124m\"\u001b[39m\u001b[38;5;124moop in pyhthon created in python directory\u001b[39m\u001b[38;5;124m\"\u001b[39m)\n",
      "\u001b[1;31mFileExistsError\u001b[0m: [WinError 183] Cannot create a file when that file already exists: 'Problem Solving'"
     ]
    }
   ],
   "source": [
    "import os\n",
    "os.mkdir(\"Problem Solving\")\n",
    "print(\"oop in pyhthon created in python directory\")"
   ]
  },
  {
   "cell_type": "markdown",
   "id": "9eff8070",
   "metadata": {},
   "source": [
    "# Q3. To create a sub directory in mysub directory:"
   ]
  },
  {
   "cell_type": "code",
   "execution_count": 5,
   "id": "b8df77d6",
   "metadata": {},
   "outputs": [
    {
     "name": "stdout",
     "output_type": "stream",
     "text": [
      "POLYMORPHISM created inside OOP IN PHYYHON\n"
     ]
    }
   ],
   "source": [
    "import os\n",
    "os.mkdir(\"OOP IN PHYYHON/POLYMORPHISM\")\n",
    "print(\"POLYMORPHISM created inside OOP IN PHYYHON\")"
   ]
  },
  {
   "cell_type": "markdown",
   "id": "1a8ec529",
   "metadata": {},
   "source": [
    "# Q4. To create multiple directories like sub1 in that sub2 in that sub3:"
   ]
  },
  {
   "cell_type": "code",
   "execution_count": 6,
   "id": "0b125fe8",
   "metadata": {},
   "outputs": [
    {
     "name": "stdout",
     "output_type": "stream",
     "text": [
      "sub1 and in that sub2 and in that sub3 directories created\n"
     ]
    }
   ],
   "source": [
    "import os\n",
    "os.makedirs(\"sub1/sub2/sub3\")\n",
    "print(\"sub1 and in that sub2 and in that sub3 directories created\")"
   ]
  },
  {
   "cell_type": "markdown",
   "id": "d1fb1c68",
   "metadata": {},
   "source": [
    "# Q5. To remove a directory:"
   ]
  },
  {
   "cell_type": "code",
   "execution_count": 7,
   "id": "03137f91",
   "metadata": {},
   "outputs": [
    {
     "name": "stdout",
     "output_type": "stream",
     "text": [
      "POLYMORPHISM directory Deleted...!\n"
     ]
    }
   ],
   "source": [
    "import os \n",
    "os.rmdir(\"OOP IN PHYYHON/POLYMORPHISM\")\n",
    "print(\"POLYMORPHISM directory Deleted...!\")"
   ]
  },
  {
   "cell_type": "markdown",
   "id": "2783b8fc",
   "metadata": {},
   "source": [
    "# Q6. To remove multiple directories in the path:"
   ]
  },
  {
   "cell_type": "code",
   "execution_count": 9,
   "id": "f907b288",
   "metadata": {},
   "outputs": [
    {
     "name": "stdout",
     "output_type": "stream",
     "text": [
      "All 3 directories sub1,sub2 and sub3 removed\n"
     ]
    }
   ],
   "source": [
    "import os\n",
    "os.removedirs(\"sub1/sub2/sub3\")\n",
    "print(\"All 3 directories sub1,sub2 and sub3 removed\")"
   ]
  },
  {
   "cell_type": "markdown",
   "id": "d250d45d",
   "metadata": {},
   "source": [
    "# Q7. To rename a directory:"
   ]
  },
  {
   "cell_type": "code",
   "execution_count": 4,
   "id": "6ef69a43",
   "metadata": {},
   "outputs": [
    {
     "ename": "PermissionError",
     "evalue": "[WinError 32] The process cannot access the file because it is being used by another process: 'Untitled Folder' -> 'Problem solving'",
     "output_type": "error",
     "traceback": [
      "\u001b[1;31m---------------------------------------------------------------------------\u001b[0m",
      "\u001b[1;31mPermissionError\u001b[0m                           Traceback (most recent call last)",
      "Cell \u001b[1;32mIn[4], line 2\u001b[0m\n\u001b[0;32m      1\u001b[0m \u001b[38;5;28;01mimport\u001b[39;00m \u001b[38;5;21;01mos\u001b[39;00m\n\u001b[1;32m----> 2\u001b[0m os\u001b[38;5;241m.\u001b[39mrename(\u001b[38;5;124m\"\u001b[39m\u001b[38;5;124mUntitled Folder\u001b[39m\u001b[38;5;124m\"\u001b[39m,\u001b[38;5;124m\"\u001b[39m\u001b[38;5;124mProblem solving\u001b[39m\u001b[38;5;124m\"\u001b[39m)\n\u001b[0;32m      3\u001b[0m \u001b[38;5;28mprint\u001b[39m(\u001b[38;5;124m\"\u001b[39m\u001b[38;5;124mUntitled.ipynb directory renamed to ExceptionHandling.ipynb\u001b[39m\u001b[38;5;124m\"\u001b[39m)\n",
      "\u001b[1;31mPermissionError\u001b[0m: [WinError 32] The process cannot access the file because it is being used by another process: 'Untitled Folder' -> 'Problem solving'"
     ]
    }
   ],
   "source": [
    "import os\n",
    "os.rename(\"Untitled Folder\",\"Problem solving\")\n",
    "print(\"Untitled.ipynb directory renamed to ExceptionHandling.ipynb\")"
   ]
  },
  {
   "cell_type": "code",
   "execution_count": 3,
   "id": "bd61382d",
   "metadata": {},
   "outputs": [
    {
     "name": "stdout",
     "output_type": "stream",
     "text": [
      "['.ipynb_checkpoints', 'abc.txt', 'abcd.txt', 'Untitled.ipynb', 'Untitled1.ipynb']\n"
     ]
    }
   ],
   "source": [
    "import os\n",
    "print(os.listdir(\".\"))"
   ]
  },
  {
   "cell_type": "markdown",
   "id": "cc244430",
   "metadata": {},
   "source": [
    "# Q9. To know contents of directory including sub directories:"
   ]
  },
  {
   "cell_type": "code",
   "execution_count": 3,
   "id": "607fb47d",
   "metadata": {},
   "outputs": [
    {
     "name": "stdout",
     "output_type": "stream",
     "text": [
      "Current directory path : .\n",
      "Directories: ['.ipynb_checkpoints', 'OOP IN PHYYHON', 'Untitled Folder']\n",
      "Files: ['abc.txt', 'abcd.txt', 'Basic FileHandling.ipynb', 'customers-100.csv', 'emp.txt', 'employee.txt', 'ExceptionHandling.ipynb', 'mylog.txt', 'pic.png', 'python Basics.ipynb']\n",
      "\n",
      "Current directory path : .\\.ipynb_checkpoints\n",
      "Directories: []\n",
      "Files: ['Basic FileHandling-checkpoint.ipynb', 'ExceptionHandling-checkpoint.ipynb', 'Untitled-checkpoint.ipynb', 'Untitled1-checkpoint.ipynb']\n",
      "\n",
      "Current directory path : .\\OOP IN PHYYHON\n",
      "Directories: []\n",
      "Files: []\n",
      "\n",
      "Current directory path : .\\Untitled Folder\n",
      "Directories: ['.ipynb_checkpoints']\n",
      "Files: ['Untitled.ipynb']\n",
      "\n",
      "Current directory path : .\\Untitled Folder\\.ipynb_checkpoints\n",
      "Directories: []\n",
      "Files: ['Untitled-checkpoint.ipynb']\n",
      "\n"
     ]
    }
   ],
   "source": [
    "import os\n",
    "for dirpath,dirnames,filenames in os.walk('.'):\n",
    "    print(\"Current directory path :\",dirpath)\n",
    "    print(\"Directories:\",dirnames)\n",
    "    print(\"Files:\",filenames)\n",
    "    print()"
   ]
  },
  {
   "cell_type": "markdown",
   "id": "370b0f07",
   "metadata": {},
   "source": [
    "# How to get information about a File:"
   ]
  },
  {
   "cell_type": "code",
   "execution_count": 3,
   "id": "f000ab08",
   "metadata": {},
   "outputs": [
    {
     "name": "stdout",
     "output_type": "stream",
     "text": [
      "os.stat_result(st_mode=33206, st_ino=22236523160200111, st_dev=550845419, st_nlink=1, st_uid=0, st_gid=0, st_size=36, st_atime=1719302052, st_mtime=1719298394, st_ctime=1719297217)\n"
     ]
    }
   ],
   "source": [
    "import os\n",
    "stats=os.stat(\"abc.txt\")\n",
    "print(stats)"
   ]
  },
  {
   "cell_type": "markdown",
   "id": "46402596",
   "metadata": {},
   "source": [
    "# Q. To print specified properties:"
   ]
  },
  {
   "cell_type": "code",
   "execution_count": 4,
   "id": "908e4ee9",
   "metadata": {},
   "outputs": [
    {
     "name": "stdout",
     "output_type": "stream",
     "text": [
      "File Size in Bytes: 36\n",
      "File Last Accessed Time: 2024-06-25 12:54:12.072462\n",
      "File Last Modified Time: 2024-06-25 11:53:14.670525\n"
     ]
    }
   ],
   "source": [
    "import os\n",
    "from datetime import*\n",
    "stats=os.stat(\"abc.txt\")\n",
    "print(\"File Size in Bytes:\",stats.st_size)\n",
    "print(\"File Last Accessed Time:\",datetime.fromtimestamp(stats.st_atime))\n",
    "print(\"File Last Modified Time:\",datetime.fromtimestamp(stats.st_mtime))"
   ]
  },
  {
   "cell_type": "markdown",
   "id": "b263b60a",
   "metadata": {},
   "source": [
    "# Writing and Reading State of object by using pickle Module:"
   ]
  },
  {
   "cell_type": "code",
   "execution_count": 1,
   "id": "b3ea225d",
   "metadata": {},
   "outputs": [
    {
     "name": "stdout",
     "output_type": "stream",
     "text": [
      "Pickling of Employee Object completed...\n",
      "Printing Employee Information after unpickling\n",
      "100 \t Durga \t 1000 \t Hyd\n"
     ]
    }
   ],
   "source": [
    "import pickle\n",
    "class Employee:\n",
    "    def __init__(self,eno,ename,esal,eaddr):\n",
    "        self.eno=eno;\n",
    "        self.ename=ename;\n",
    "        self.esal=esal;\n",
    "        self.eaddr=eaddr;\n",
    "    def display(self):\n",
    "        print(self.eno,\"\\t\",self.ename,\"\\t\",self.esal,\"\\t\",self.eaddr)\n",
    "with open(\"employee.txt\",\"wb\") as f:\n",
    "    e=Employee(100,\"Durga\",1000,\"Hyd\")\n",
    "    pickle.dump(e,f)\n",
    "    print(\"Pickling of Employee Object completed...\")\n",
    "with open(\"employee.txt\",\"rb\") as f:\n",
    "    obj=pickle.load(f)\n",
    "    print(\"Printing Employee Information after unpickling\")\n",
    "    obj.display()\n",
    "    "
   ]
  },
  {
   "cell_type": "code",
   "execution_count": null,
   "id": "91864702",
   "metadata": {},
   "outputs": [],
   "source": []
  },
  {
   "cell_type": "code",
   "execution_count": 1,
   "id": "ef9ac29d",
   "metadata": {},
   "outputs": [],
   "source": [
    "class Employee:\n",
    "    def __init__(self,eno,ename,esal,eaddr):\n",
    "        self.eno=eno;\n",
    "        self.ename=ename;\n",
    "        self.esal=esal;\n",
    "        self.eaddr=eaddr;\n",
    "\n",
    "    def display(self):\n",
    "        print(self.eno,\"\\t\",self.ename,\"\\t\",self.esal,\"\\t\",self.eaddr)"
   ]
  },
  {
   "cell_type": "code",
   "execution_count": 4,
   "id": "08c8ca78",
   "metadata": {},
   "outputs": [
    {
     "name": "stdout",
     "output_type": "stream",
     "text": [
      "Enter The number of Employees:1\n",
      "Enter Employee Number:2221\n",
      "Enter Employee Name:asda\n",
      "Enter Employee Salary:1234\n",
      "Enter Employee Address:erew\n",
      "Employee Objects pickled successfully\n"
     ]
    }
   ],
   "source": [
    "#import emp,pick\n",
    "import pickle\n",
    "f=open(\"emp.txt\",\"wb\")\n",
    "n=int(input(\"Enter The number of Employees:\"))\n",
    "for i in range(n):\n",
    "    eno=int(input(\"Enter Employee Number:\"))\n",
    "    ename=input(\"Enter Employee Name:\")\n",
    "    esal=float(input(\"Enter Employee Salary:\"))\n",
    "    eaddr=input(\"Enter Employee Address:\")\n",
    "    e=Employee(eno,ename,esal,eaddr)\n",
    "\n",
    "    pickle.dump(e,f)\n",
    "\n",
    "print(\"Employee Objects pickled successfully\")\n"
   ]
  },
  {
   "cell_type": "code",
   "execution_count": 5,
   "id": "3fbaf392",
   "metadata": {},
   "outputs": [
    {
     "name": "stdout",
     "output_type": "stream",
     "text": [
      "Employee Details:\n",
      "2221 \t asda \t 1234.0 \t erew\n",
      "All employees Completed\n"
     ]
    }
   ],
   "source": [
    "#import emp,pickle\n",
    "import pickle\n",
    "f=open(\"emp.txt\",\"rb\")\n",
    "print(\"Employee Details:\")\n",
    "while True:\n",
    "    try:\n",
    "        obj=pickle.load(f)\n",
    "        obj.display()\n",
    "    except EOFError:\n",
    "        print(\"All employees Completed\")\n",
    "        break    \n",
    "f.close()    "
   ]
  },
  {
   "cell_type": "code",
   "execution_count": 12,
   "id": "89d5f8b9",
   "metadata": {},
   "outputs": [
    {
     "ename": "FileNotFoundError",
     "evalue": "[Errno 2] No such file or directory: 'pic.jpg'",
     "output_type": "error",
     "traceback": [
      "\u001b[1;31m---------------------------------------------------------------------------\u001b[0m",
      "\u001b[1;31mFileNotFoundError\u001b[0m                         Traceback (most recent call last)",
      "Cell \u001b[1;32mIn[12], line 1\u001b[0m\n\u001b[1;32m----> 1\u001b[0m f1\u001b[38;5;241m=\u001b[39m\u001b[38;5;28mopen\u001b[39m(\u001b[38;5;124m\"\u001b[39m\u001b[38;5;124mpic.jpg\u001b[39m\u001b[38;5;124m\"\u001b[39m,\u001b[38;5;124m\"\u001b[39m\u001b[38;5;124mrb\u001b[39m\u001b[38;5;124m\"\u001b[39m)\n\u001b[0;32m      2\u001b[0m f2\u001b[38;5;241m=\u001b[39m\u001b[38;5;28mopen\u001b[39m(\u001b[38;5;124m\"\u001b[39m\u001b[38;5;124mAshirAfridi.jpg\u001b[39m\u001b[38;5;124m\"\u001b[39m,\u001b[38;5;124m\"\u001b[39m\u001b[38;5;124mwb\u001b[39m\u001b[38;5;124m\"\u001b[39m)\n\u001b[0;32m      3\u001b[0m \u001b[38;5;28mbytes\u001b[39m\u001b[38;5;241m=\u001b[39mf1\u001b[38;5;241m.\u001b[39mread()\n",
      "File \u001b[1;32m~\\anaconda3\\Lib\\site-packages\\IPython\\core\\interactiveshell.py:286\u001b[0m, in \u001b[0;36m_modified_open\u001b[1;34m(file, *args, **kwargs)\u001b[0m\n\u001b[0;32m    279\u001b[0m \u001b[38;5;28;01mif\u001b[39;00m file \u001b[38;5;129;01min\u001b[39;00m {\u001b[38;5;241m0\u001b[39m, \u001b[38;5;241m1\u001b[39m, \u001b[38;5;241m2\u001b[39m}:\n\u001b[0;32m    280\u001b[0m     \u001b[38;5;28;01mraise\u001b[39;00m \u001b[38;5;167;01mValueError\u001b[39;00m(\n\u001b[0;32m    281\u001b[0m         \u001b[38;5;124mf\u001b[39m\u001b[38;5;124m\"\u001b[39m\u001b[38;5;124mIPython won\u001b[39m\u001b[38;5;124m'\u001b[39m\u001b[38;5;124mt let you open fd=\u001b[39m\u001b[38;5;132;01m{\u001b[39;00mfile\u001b[38;5;132;01m}\u001b[39;00m\u001b[38;5;124m by default \u001b[39m\u001b[38;5;124m\"\u001b[39m\n\u001b[0;32m    282\u001b[0m         \u001b[38;5;124m\"\u001b[39m\u001b[38;5;124mas it is likely to crash IPython. If you know what you are doing, \u001b[39m\u001b[38;5;124m\"\u001b[39m\n\u001b[0;32m    283\u001b[0m         \u001b[38;5;124m\"\u001b[39m\u001b[38;5;124myou can use builtins\u001b[39m\u001b[38;5;124m'\u001b[39m\u001b[38;5;124m open.\u001b[39m\u001b[38;5;124m\"\u001b[39m\n\u001b[0;32m    284\u001b[0m     )\n\u001b[1;32m--> 286\u001b[0m \u001b[38;5;28;01mreturn\u001b[39;00m io_open(file, \u001b[38;5;241m*\u001b[39margs, \u001b[38;5;241m*\u001b[39m\u001b[38;5;241m*\u001b[39mkwargs)\n",
      "\u001b[1;31mFileNotFoundError\u001b[0m: [Errno 2] No such file or directory: 'pic.jpg'"
     ]
    }
   ],
   "source": [
    "f1=open(\"pic.jpg\",\"rb\")\n",
    "f2=open(\"AshirAfridi.jpg\",\"wb\")\n",
    "bytes=f1.read()\n",
    "f2.write(bytes)\n",
    "print(\"New Image is available with the name: AshirAfridi.jpg\")"
   ]
  },
  {
   "cell_type": "code",
   "execution_count": 16,
   "id": "ffa7f22d",
   "metadata": {},
   "outputs": [
    {
     "name": "stdout",
     "output_type": "stream",
     "text": [
      "['customers-100.csv']\n",
      "File Name:  customers-100.csv\n",
      "The Content of this file is:\n"
     ]
    },
    {
     "ename": "FileNotFoundError",
     "evalue": "[Errno 2] No such file or directory: 'customers-100.csv'",
     "output_type": "error",
     "traceback": [
      "\u001b[1;31m---------------------------------------------------------------------------\u001b[0m",
      "\u001b[1;31mFileNotFoundError\u001b[0m                         Traceback (most recent call last)",
      "Cell \u001b[1;32mIn[16], line 9\u001b[0m\n\u001b[0;32m      7\u001b[0m \u001b[38;5;28mprint\u001b[39m( \u001b[38;5;124m\"\u001b[39m\u001b[38;5;124mFile Name: \u001b[39m\u001b[38;5;124m\"\u001b[39m,name)\n\u001b[0;32m      8\u001b[0m \u001b[38;5;28mprint\u001b[39m(\u001b[38;5;124m\"\u001b[39m\u001b[38;5;124mThe Content of this file is:\u001b[39m\u001b[38;5;124m\"\u001b[39m)\n\u001b[1;32m----> 9\u001b[0m f1\u001b[38;5;241m=\u001b[39m\u001b[38;5;28mopen\u001b[39m(name,\u001b[38;5;124m'\u001b[39m\u001b[38;5;124mr\u001b[39m\u001b[38;5;124m'\u001b[39m)\n\u001b[0;32m     10\u001b[0m r\u001b[38;5;241m=\u001b[39mcsv\u001b[38;5;241m.\u001b[39mreader(f)\n\u001b[0;32m     11\u001b[0m data\u001b[38;5;241m=\u001b[39m\u001b[38;5;28mlist\u001b[39m(r)\n",
      "File \u001b[1;32m~\\anaconda3\\Lib\\site-packages\\IPython\\core\\interactiveshell.py:286\u001b[0m, in \u001b[0;36m_modified_open\u001b[1;34m(file, *args, **kwargs)\u001b[0m\n\u001b[0;32m    279\u001b[0m \u001b[38;5;28;01mif\u001b[39;00m file \u001b[38;5;129;01min\u001b[39;00m {\u001b[38;5;241m0\u001b[39m, \u001b[38;5;241m1\u001b[39m, \u001b[38;5;241m2\u001b[39m}:\n\u001b[0;32m    280\u001b[0m     \u001b[38;5;28;01mraise\u001b[39;00m \u001b[38;5;167;01mValueError\u001b[39;00m(\n\u001b[0;32m    281\u001b[0m         \u001b[38;5;124mf\u001b[39m\u001b[38;5;124m\"\u001b[39m\u001b[38;5;124mIPython won\u001b[39m\u001b[38;5;124m'\u001b[39m\u001b[38;5;124mt let you open fd=\u001b[39m\u001b[38;5;132;01m{\u001b[39;00mfile\u001b[38;5;132;01m}\u001b[39;00m\u001b[38;5;124m by default \u001b[39m\u001b[38;5;124m\"\u001b[39m\n\u001b[0;32m    282\u001b[0m         \u001b[38;5;124m\"\u001b[39m\u001b[38;5;124mas it is likely to crash IPython. If you know what you are doing, \u001b[39m\u001b[38;5;124m\"\u001b[39m\n\u001b[0;32m    283\u001b[0m         \u001b[38;5;124m\"\u001b[39m\u001b[38;5;124myou can use builtins\u001b[39m\u001b[38;5;124m'\u001b[39m\u001b[38;5;124m open.\u001b[39m\u001b[38;5;124m\"\u001b[39m\n\u001b[0;32m    284\u001b[0m     )\n\u001b[1;32m--> 286\u001b[0m \u001b[38;5;28;01mreturn\u001b[39;00m io_open(file, \u001b[38;5;241m*\u001b[39margs, \u001b[38;5;241m*\u001b[39m\u001b[38;5;241m*\u001b[39mkwargs)\n",
      "\u001b[1;31mFileNotFoundError\u001b[0m: [Errno 2] No such file or directory: 'customers-100.csv'"
     ]
    }
   ],
   "source": [
    "from zipfile import *\n",
    "import csv\n",
    "f=ZipFile(\"customers-100.zip\",'r',ZIP_STORED)\n",
    "names=f.namelist()\n",
    "print(names)\n",
    "for name in names:\n",
    "        print( \"File Name: \",name)\n",
    "        print(\"The Content of this file is:\")\n",
    "        f1=open(name,'r')\n",
    "        r=csv.reader(f)\n",
    "        data=list(r)\n",
    "        for line in data:\n",
    "            for word in line:\n",
    "                print(word,\"\\t\",end=\" \")\n",
    "            print()"
   ]
  },
  {
   "cell_type": "code",
   "execution_count": 3,
   "id": "3ad02b15",
   "metadata": {},
   "outputs": [
    {
     "name": "stdout",
     "output_type": "stream",
     "text": [
      "[['Index', 'Customer Id', 'First Name', 'Last Name', 'Company', 'City', 'Country', 'Phone 1', 'Phone 2', 'Email', 'Subscription Date', 'Website'], ['1', 'DD37Cf93aecA6Dc', 'Sheryl', 'Baxter', 'Rasmussen Group', 'East Leonard', 'Chile', '229.077.5154', '397.884.0519x718', 'zunigavanessa@smith.info', '2020-08-24', 'http://www.stephenson.com/'], ['2', '1Ef7b82A4CAAD10', 'Preston', 'Lozano', 'Vega-Gentry', 'East Jimmychester', 'Djibouti', '5153435776', '686-620-1820x944', 'vmata@colon.com', '2021-04-23', 'http://www.hobbs.com/'], ['3', '6F94879bDAfE5a6', 'Roy', 'Berry', 'Murillo-Perry', 'Isabelborough', 'Antigua and Barbuda', '+1-539-402-0259', '(496)978-3969x58947', 'beckycarr@hogan.com', '2020-03-25', 'http://www.lawrence.com/'], ['4', '5Cef8BFA16c5e3c', 'Linda', 'Olsen', 'Dominguez, Mcmillan and Donovan', 'Bensonview', 'Dominican Republic', '001-808-617-6467x12895', '+1-813-324-8756', 'stanleyblackwell@benson.org', '2020-06-02', 'http://www.good-lyons.com/'], ['5', '053d585Ab6b3159', 'Joanna', 'Bender', 'Martin, Lang and Andrade', 'West Priscilla', 'Slovakia (Slovak Republic)', '001-234-203-0635x76146', '001-199-446-3860x3486', 'colinalvarado@miles.net', '2021-04-17', 'https://goodwin-ingram.com/'], ['6', '2d08FB17EE273F4', 'Aimee', 'Downs', 'Steele Group', 'Chavezborough', 'Bosnia and Herzegovina', '(283)437-3886x88321', '999-728-1637', 'louis27@gilbert.com', '2020-02-25', 'http://www.berger.net/'], ['7', 'EA4d384DfDbBf77', 'Darren', 'Peck', 'Lester, Woodard and Mitchell', 'Lake Ana', 'Pitcairn Islands', '(496)452-6181x3291', '+1-247-266-0963x4995', 'tgates@cantrell.com', '2021-08-24', 'https://www.le.com/'], ['8', '0e04AFde9f225dE', 'Brett', 'Mullen', 'Sanford, Davenport and Giles', 'Kimport', 'Bulgaria', '001-583-352-7197x297', '001-333-145-0369', 'asnow@colon.com', '2021-04-12', 'https://hammond-ramsey.com/'], ['9', 'C2dE4dEEc489ae0', 'Sheryl', 'Meyers', 'Browning-Simon', 'Robersonstad', 'Cyprus', '854-138-4911x5772', '+1-448-910-2276x729', 'mariokhan@ryan-pope.org', '2020-01-13', 'https://www.bullock.net/'], ['10', '8C2811a503C7c5a', 'Michelle', 'Gallagher', 'Beck-Hendrix', 'Elaineberg', 'Timor-Leste', '739.218.2516x459', '001-054-401-0347x617', 'mdyer@escobar.net', '2021-11-08', 'https://arias.com/'], ['11', '216E205d6eBb815', 'Carl', 'Schroeder', 'Oconnell, Meza and Everett', 'Shannonville', 'Guernsey', '637-854-0256x825', '114.336.0784x788', 'kirksalas@webb.com', '2021-10-20', 'https://simmons-hurley.com/'], ['12', 'CEDec94deE6d69B', 'Jenna', 'Dodson', 'Hoffman, Reed and Mcclain', 'East Andrea', 'Vietnam', '(041)737-3846', '+1-556-888-3485x42608', 'mark42@robbins.com', '2020-11-29', 'http://www.douglas.net/'], ['13', 'e35426EbDEceaFF', 'Tracey', 'Mata', 'Graham-Francis', 'South Joannamouth', 'Togo', '001-949-844-8787', '(855)713-8773', 'alex56@walls.org', '2021-12-02', 'http://www.beck.com/'], ['14', 'A08A8aF8BE9FaD4', 'Kristine', 'Cox', 'Carpenter-Cook', 'Jodyberg', 'Sri Lanka', '786-284-3358x62152', '+1-315-627-1796x8074', 'holdenmiranda@clarke.com', '2021-02-08', 'https://www.brandt.com/'], ['15', '6fEaA1b7cab7B6C', 'Faith', 'Lutz', 'Carter-Hancock', 'Burchbury', 'Singapore', '(781)861-7180x8306', '207-185-3665', 'cassieparrish@blevins-chapman.net', '2022-01-26', 'http://stevenson.org/'], ['16', '8cad0b4CBceaeec', 'Miranda', 'Beasley', 'Singleton and Sons', 'Desireeshire', 'Oman', '540.085.3135x185', '+1-600-462-6432x21881', 'vduncan@parks-hardy.com', '2022-04-12', 'http://acosta.org/'], ['17', 'a5DC21AE3a21eaA', 'Caroline', 'Foley', 'Winters-Mendoza', 'West Adriennestad', 'Western Sahara', '936.222.4746x9924', '001-469-948-6341x359', 'holtgwendolyn@watson-davenport.com', '2021-03-10', 'http://www.benson-roth.com/'], ['18', 'F8Aa9d6DfcBeeF8', 'Greg', 'Mata', 'Valentine LLC', 'Lake Leslie', 'Mozambique', '(701)087-2415', '(195)156-1861x26241', 'jaredjuarez@carroll.org', '2022-03-26', 'http://pitts-cherry.com/'], ['19', 'F160f5Db3EfE973', 'Clifford', 'Jacobson', 'Simon LLC', 'Harmonview', 'South Georgia and the South Sandwich Islands', '001-151-330-3524x0469', '(748)477-7174', 'joseph26@jacobson.com', '2020-09-24', 'https://mcconnell.com/'], ['20', '0F60FF3DdCd7aB0', 'Joanna', 'Kirk', 'Mays-Mccormick', 'Jamesshire', 'French Polynesia', '(266)131-7001x711', '(283)312-5579x11543', 'tuckerangie@salazar.net', '2021-09-24', 'https://www.camacho.net/'], ['21', '9F9AdB7B8A6f7F2', 'Maxwell', 'Frye', 'Patterson Inc', 'East Carly', 'Malta', '423.262.3059', '202-880-0688x7491', 'fgibson@drake-webb.com', '2022-01-12', 'http://www.roberts.com/'], ['22', 'FBd0Ded4F02a742', 'Kiara', 'Houston', 'Manning, Hester and Arroyo', 'South Alvin', 'Netherlands', '001-274-040-3582x10611', '+1-528-175-0973x4684', 'blanchardbob@wallace-shannon.com', '2020-09-15', 'https://www.reid-potts.com/'], ['23', '2FB0FAA1d429421', 'Colleen', 'Howard', 'Greer and Sons', 'Brittanyview', 'Paraguay', '1935085151', '(947)115-7711x5488', 'rsingleton@ryan-cherry.com', '2020-08-19', 'http://paul.biz/'], ['24', '010468dAA11382c', 'Janet', 'Valenzuela', 'Watts-Donaldson', 'Veronicamouth', \"Lao People's Democratic Republic\", '354.259.5062x7538', '500.433.2022', 'stefanie71@spence.com', '2020-09-08', 'https://moreno.biz/'], ['25', 'eC1927Ca84E033e', 'Shane', 'Wilcox', 'Tucker LLC', 'Bryanville', 'Albania', '(429)005-9030x11004', '541-116-4501', 'mariah88@santos.com', '2021-04-06', 'https://www.ramos.com/'], ['26', '09D7D7C8Fe09aea', 'Marcus', 'Moody', 'Giles Ltd', 'Kaitlyntown', 'Panama', '674-677-8623', '909-277-5485x566', 'donnamullins@norris-barrett.org', '2022-05-24', 'https://www.curry.com/'], ['27', 'aBdfcF2c50b0bfD', 'Dakota', 'Poole', 'Simmons Group', 'Michealshire', 'Belarus', '(371)987-8576x4720', '071-152-1376', 'stacey67@fields.org', '2022-02-20', 'https://sanford-wilcox.biz/'], ['28', 'b92EBfdF8a3f0E6', 'Frederick', 'Harper', 'Hinton, Chaney and Stokes', 'South Marissatown', 'Switzerland', '+1-077-121-1558x0687', '264.742.7149', 'jacobkhan@bright.biz', '2022-05-26', 'https://callahan.org/'], ['29', '3B5dAAFA41AFa22', 'Stefanie', 'Fitzpatrick', 'Santana-Duran', 'Acevedoville', 'Saint Vincent and the Grenadines', '(752)776-3286', '+1-472-021-4814x85074', 'wterrell@clark.com', '2020-07-30', 'https://meyers.com/'], ['30', 'EDA69ca7a6e96a2', 'Kent', 'Bradshaw', 'Sawyer PLC', 'North Harold', 'Tanzania', '+1-472-143-5037x884', '126.922.6153', 'qjimenez@boyd.com', '2020-04-26', 'http://maynard-ho.com/'], ['31', '64DCcDFaB9DFd4e', 'Jack', 'Tate', 'Acosta, Petersen and Morrow', 'West Samuel', 'Zimbabwe', '965-108-4406x20714', '046.906.1442x6784', 'gfigueroa@boone-zavala.com', '2021-09-15', 'http://www.hawkins-ramsey.com/'], ['32', '679c6c83DD872d6', 'Tom', 'Trujillo', 'Mcgee Group', 'Cunninghamborough', 'Denmark', '416-338-3758', '(775)890-7209', 'tapiagreg@beard.info', '2022-01-13', 'http://www.daniels-klein.com/'], ['33', '7Ce381e4Afa4ba9', 'Gabriel', 'Mejia', 'Adkins-Salinas', 'Port Annatown', 'Liechtenstein', '4077245425', '646.044.0696x66800', 'coleolson@jennings.net', '2021-04-24', 'https://patel-hanson.info/'], ['34', 'A09AEc6E3bF70eE', 'Kaitlyn', 'Santana', 'Herrera Group', 'New Kaitlyn', 'United States of America', '6303643286', '447-710-6202x07313', 'georgeross@miles.org', '2021-09-21', 'http://pham.com/'], ['35', 'aA9BAFfBc3710fe', 'Faith', 'Moon', 'Waters, Chase and Aguilar', 'West Marthaburgh', 'Bahamas', '+1-586-217-0359x6317', '+1-818-199-1403', 'willistonya@randolph-baker.com', '2021-11-03', 'https://spencer-charles.info/'], ['36', 'E11dfb2DB8C9f72', 'Tammie', 'Haley', 'Palmer, Barnes and Houston', 'East Teresa', 'Belize', '001-276-734-4113x6087', '(430)300-8770', 'harrisisaiah@jenkins.com', '2022-01-04', 'http://evans-simon.com/'], ['37', '889eCf90f68c5Da', 'Nicholas', 'Sosa', 'Jordan Ltd', 'South Hunter', 'Uruguay', '(661)425-6042', '975-998-1519', 'fwolfe@dorsey.com', '2021-08-10', 'https://www.fleming-richards.com/'], ['38', '7a1Ee69F4fF4B4D', 'Jordan', 'Gay', 'Glover and Sons', 'South Walter', 'Solomon Islands', '7208417020', '8035336772', 'tiffanydavies@harris-mcfarland.org', '2021-02-24', 'http://www.lee.org/'], ['39', 'dca4f1D0A0fc5c9', 'Bruce', 'Esparza', 'Huerta-Mclean', 'Poolefurt', 'Montenegro', '559-529-4424', '001-625-000-7132x0367', 'preese@frye-vega.com', '2021-10-22', 'http://www.farley.org/'], ['40', '17aD8e2dB3df03D', 'Sherry', 'Garza', 'Anderson Ltd', 'West John', 'Poland', '001-067-713-6440x158', '(978)289-8785x5766', 'ann48@miller.com', '2021-11-01', 'http://spence.com/'], ['41', '2f79Cd309624Abb', 'Natalie', 'Gentry', 'Monroe PLC', 'West Darius', 'Dominican Republic', '830.996.8238', '499.122.5415', 'tcummings@fitzpatrick-ashley.com', '2020-10-10', 'http://www.dorsey.biz/'], ['42', '6e5ad5a5e2bB5Ca', 'Bryan', 'Dunn', 'Kaufman and Sons', 'North Jimstad', 'Burkina Faso', '001-710-802-5565', '078.699.8982x13881', 'woodwardandres@phelps.com', '2021-09-08', 'http://www.butler.com/'], ['43', '7E441b6B228DBcA', 'Wayne', 'Simpson', 'Perkins-Trevino', 'East Rebekahborough', 'Bolivia', '(344)156-8632x1869', '463-445-3702x38463', 'barbarapittman@holder.com', '2020-12-13', 'https://gillespie-holder.com/'], ['44', 'D3fC11A9C235Dc6', 'Luis', 'Greer', 'Cross PLC', 'North Drew', 'Bulgaria', '001-336-025-6849x701', '684.698.2911x6092', 'bstuart@williamson-mcclure.com', '2022-05-15', 'https://fletcher-nielsen.com/'], ['45', '30Dfa48fe5Ede78', 'Rhonda', 'Frost', 'Herrera, Shepherd and Underwood', 'Lake Lindaburgh', 'Monaco', '(127)081-9339', '+1-431-028-3337x3492', 'zkrueger@wolf-chavez.net', '2021-12-06', 'http://www.khan.com/'], ['46', 'fD780ED8dbEae7B', 'Joanne', 'Montes', 'Price, Sexton and Mcdaniel', 'Gwendolynview', 'Palau', '(897)726-7952', '(467)886-9467x5721', 'juan80@henson.net', '2020-07-01', 'http://ochoa.com/'], ['47', '300A40d3ce24bBA', 'Geoffrey', 'Guzman', 'Short-Wiggins', 'Zimmermanland', 'Uzbekistan', '975.235.8921x269', '(983)188-6873', 'bauercrystal@gay.com', '2020-04-23', 'https://decker-kline.com/'], ['48', '283DFCD0Dba40aF', 'Gloria', 'Mccall', 'Brennan, Acosta and Ramos', 'North Kerriton', 'Ghana', '445-603-6729', '001-395-959-4736x4524', 'bartlettjenna@zuniga-moss.biz', '2022-03-11', 'http://burgess-frank.com/'], ['49', 'F4Fc91fEAEad286', 'Brady', 'Cohen', 'Osborne-Erickson', 'North Eileenville', 'United Arab Emirates', '741.849.0139x524', '+1-028-691-7497x0894', 'mccalltyrone@durham-rose.biz', '2022-03-10', 'http://hammond-barron.com/'], ['50', '80F33Fd2AcebF05', 'Latoya', 'Mccann', 'Hobbs, Garrett and Sanford', 'Port Sergiofort', 'Belarus', '(530)287-4548x29481', '162-234-0249x32790', 'bobhammond@barry.biz', '2021-12-02', 'https://www.burton.com/'], ['51', 'Aa20BDe68eAb0e9', 'Gerald', 'Hawkins', 'Phelps, Forbes and Koch', 'New Alberttown', 'Canada', '+1-323-239-1456x96168', '(092)508-0269', 'uwarner@steele-arias.com', '2021-03-19', 'https://valenzuela.com/'], ['52', 'e898eEB1B9FE22b', 'Samuel', 'Crawford', 'May, Goodwin and Martin', 'South Jasmine', 'Algeria', '802-242-7457', '626.116.9535x8578', 'xpittman@ritter-carney.net', '2021-03-27', 'https://guerrero.org/'], ['53', 'faCEF517ae7D8eB', 'Patricia', 'Goodwin', 'Christian, Winters and Ellis', 'Cowanfort', 'Swaziland', '322.549.7139x70040', '(111)741-4173', 'vaughanchristy@lara.biz', '2021-03-08', 'http://clark.info/'], ['54', 'c09952De6Cda8aA', 'Stacie', 'Richard', 'Byrd Inc', 'New Deborah', 'Madagascar', '001-622-948-3641x24810', '001-731-168-2893x8891', 'clinton85@colon-arias.org', '2020-10-15', 'https://kim.com/'], ['55', 'f3BEf3Be028166f', 'Robin', 'West', 'Nixon, Blackwell and Sosa', 'Wallstown', 'Ecuador', '698.303.4267', '001-683-837-7651x525', 'greenemiranda@zimmerman.com', '2022-01-13', 'https://www.mora.com/'], ['56', 'C6F2Fc6a7948a4e', 'Ralph', 'Haas', 'Montes PLC', 'Lake Ellenchester', 'Palestinian Territory', '2239271999', '001-962-434-0867x649', 'goodmancesar@figueroa.biz', '2020-05-25', 'http://may.com/'], ['57', 'c8FE57cBBdCDcb2', 'Phyllis', 'Maldonado', 'Costa PLC', 'Lake Whitney', 'Saint Barthelemy', '4500370767', '001-508-064-6725x017', 'yhanson@warner-diaz.org', '2021-01-25', 'http://www.bernard.com/'], ['58', 'B5acdFC982124F2', 'Danny', 'Parrish', 'Novak LLC', 'East Jaredbury', 'United Arab Emirates', '(669)384-8597x8794', '506.731.5952x571', 'howelldarren@house-cohen.com', '2021-03-17', 'http://www.parsons-hudson.com/'], ['59', '8c7DdF10798bCC3', 'Kathy', 'Hill', 'Moore, Mccoy and Glass', 'Selenabury', 'South Georgia and the South Sandwich Islands', '001-171-716-2175x310', '888.625.0654', 'ncamacho@boone-simmons.org', '2020-11-15', 'http://hayden.com/'], ['60', 'C681dDd0cc422f7', 'Kelli', 'Hardy', 'Petty Ltd', 'Huangfort', 'Sao Tome and Principe', '020.324.2191x2022', '424-157-8216', 'kristopher62@oliver.com', '2020-12-20', 'http://www.kidd.com/'], ['61', 'a940cE42e035F28', 'Lynn', 'Pham', 'Brennan, Camacho and Tapia', 'East Pennyshire', 'Portugal', '846.468.6834x611', '001-248-691-0006', 'mpham@rios-guzman.com', '2020-08-21', 'https://www.murphy.com/'], ['62', '9Cf5E6AFE0aeBfd', 'Shelley', 'Harris', 'Prince, Malone and Pugh', 'Port Jasminborough', 'Togo', '423.098.0315x8373', '+1-386-458-8944x15194', 'zachary96@mitchell-bryant.org', '2020-12-10', 'https://www.ryan.com/'], ['63', 'aEcbe5365BbC67D', 'Eddie', 'Jimenez', 'Caldwell Group', 'West Kristine', 'Ethiopia', '+1-235-657-1073x6306', '(026)401-7353x2417', 'kristiwhitney@bernard.com', '2022-03-24', 'http://cherry.com/'], ['64', 'FCBdfCEAe20A8Dc', 'Chloe', 'Hutchinson', 'Simon LLC', 'South Julia', 'Netherlands', '981-544-9452', '+1-288-552-4666x060', 'leah85@sutton-terrell.com', '2022-05-15', 'https://mitchell.info/'], ['65', '636cBF0835E10ff', 'Eileen', 'Lynch', 'Knight, Abbott and Hubbard', 'Helenborough', 'Liberia', '+1-158-951-4131x53578', '001-673-779-6713x680', 'levigiles@vincent.com', '2021-01-02', 'http://mckay.com/'], ['66', 'fF1b6c9E8Fbf1ff', 'Fernando', 'Lambert', 'Church-Banks', 'Lake Nancy', 'Lithuania', '497.829.9038', '3863743398', 'fisherlinda@schaefer.net', '2021-04-23', 'https://www.vang.com/'], ['67', '2A13F74EAa7DA6c', 'Makayla', 'Cannon', 'Henderson Inc', 'Georgeport', 'New Caledonia', '001-215-801-6392x46009', '027-609-6460', 'scottcurtis@hurley.biz', '2020-01-20', 'http://www.velazquez.net/'], ['68', 'a014Ec1b9FccC1E', 'Tom', 'Alvarado', 'Donaldson-Dougherty', 'South Sophiaberg', 'Kiribati', '(585)606-2980x2258', '730-797-3594x5614', 'nicholsonnina@montgomery.info', '2020-08-18', 'http://odom-massey.com/'], ['69', '421a109cABDf5fa', 'Virginia', 'Dudley', 'Warren Ltd', 'Hartbury', 'French Southern Territories', '027.846.3705x14184', '+1-439-171-1846x4636', 'zvalencia@phelps.com', '2021-01-31', 'http://hunter-esparza.com/'], ['70', 'CC68FD1D3Bbbf22', 'Riley', 'Good', 'Wade PLC', 'Erikaville', 'Canada', '6977745822', '855-436-7641', 'alex06@galloway.com', '2020-02-03', 'http://conway.org/'], ['71', 'CBCd2Ac8E3eBDF9', 'Alexandria', 'Buck', 'Keller-Coffey', 'Nicolasfort', 'Iran', '078-900-4760x76668', '414-112-8700x68751', 'lee48@manning.com', '2021-02-20', 'https://ramsey.org/'], ['72', 'Ef859092FbEcC07', 'Richard', 'Roth', 'Conway-Mcbride', 'New Jasmineshire', 'Morocco', '581-440-6539', '9857827463', 'aharper@maddox-townsend.org', '2020-02-23', 'https://www.brooks.com/'], ['73', 'F560f2d3cDFb618', 'Candice', 'Keller', 'Huynh and Sons', 'East Summerstad', 'Zimbabwe', '001-927-965-8550x92406', '001-243-038-4271x53076', 'buckleycory@odonnell.net', '2020-08-22', 'https://www.lucero.com/'], ['74', 'A3F76Be153Df4a3', 'Anita', 'Benson', 'Parrish Ltd', 'Skinnerport', 'Russian Federation', '874.617.5668x69878', '(399)820-6418x0071', 'angie04@oconnell.com', '2020-02-09', 'http://oconnor.com/'], ['75', 'D01Af0AF7cBbFeA', 'Regina', 'Stein', 'Guzman-Brown', 'Raystad', 'Solomon Islands', '001-469-848-0724x4407', '001-085-360-4426x00357', 'zrosario@rojas-hardin.net', '2022-01-15', 'http://www.johnston.info/'], ['76', 'd40e89dCade7b2F', 'Debra', 'Riddle', 'Chang, Aguirre and Leblanc', 'Colinhaven', 'United States Virgin Islands', '+1-768-182-6014x14336', '(303)961-4491', 'shieldskerry@robles.com', '2020-07-11', 'http://kaiser.info/'], ['77', 'BF6a1f9bd1bf8DE', 'Brittany', 'Zuniga', 'Mason-Hester', 'West Reginald', 'Kyrgyz Republic', '(050)136-9025', '001-480-851-2496x0157', 'mchandler@cochran-huerta.org', '2021-07-24', 'http://www.boyle.com/'], ['78', 'FfaeFFbbbf280db', 'Cassidy', 'Mcmahon', 'Mcguire, Huynh and Hopkins', 'Lake Sherryborough', 'Myanmar', '5040771311', '684-682-0021x1326', 'katrinalane@fitzgerald.com', '2020-10-21', 'https://hurst.com/'], ['79', 'CbAE1d1e9a8dCb1', 'Laurie', 'Pennington', 'Sanchez, Marsh and Hale', 'Port Katherineville', 'Dominica', '007.155.3406x553', '+1-809-862-5566x277', 'cookejill@powell.com', '2020-06-08', 'http://www.hebert.com/'], ['80', 'A7F85c1DE4dB87f', 'Alejandro', 'Blair', 'Combs, Waller and Durham', 'Thomasland', 'Iceland', '(690)068-4641x51468', '555.509.8691x2329', 'elizabethbarr@ewing.com', '2020-09-19', 'https://mercado-blevins.com/'], ['81', 'D6CEAfb3BDbaa1A', 'Leslie', 'Jennings', 'Blankenship-Arias', 'Coreybury', 'Micronesia', '629.198.6346', '075.256.0829', 'corey75@wiggins.com', '2021-11-13', 'https://www.juarez.com/'], ['82', 'Ebdb6F6F7c90b69', 'Kathleen', 'Mckay', 'Coffey, Lamb and Johnson', 'Lake Janiceton', 'Saint Vincent and the Grenadines', '(733)910-9968', '(691)247-4128x0665', 'chloelester@higgins-wilkinson.com', '2021-09-12', 'http://www.owens-mooney.com/'], ['83', 'E8E7e8Cfe516ef0', 'Hunter', 'Moreno', 'Fitzpatrick-Lawrence', 'East Clinton', 'Isle of Man', '(733)833-6754', '001-761-013-7121', 'isaac26@benton-finley.com', '2020-12-28', 'http://walls.info/'], ['84', '78C06E9b6B3DF20', 'Chad', 'Davidson', 'Garcia-Jimenez', 'South Joshuashire', 'Oman', '8275702958', '(804)842-4715', 'justinwalters@jimenez.com', '2021-11-15', 'http://www.garner-oliver.com/'], ['85', '03A1E62ADdeb31c', 'Corey', 'Holt', 'Mcdonald, Bird and Ramirez', 'New Glenda', 'Fiji', '001-439-242-4986x7918', '3162708934', 'maurice46@morgan.com', '2020-02-18', 'http://www.watson.com/'], ['86', 'C6763c99d0bd16D', 'Emma', 'Cunningham', 'Stephens Inc', 'North Jillianview', 'New Zealand', '128-059-0206x60217', '(312)164-4545x2284', 'walter83@juarez.org', '2022-05-13', 'http://www.reid.info/'], ['87', 'ebe77E5Bf9476CE', 'Duane', 'Woods', 'Montoya-Miller', 'Lyonsberg', 'Maldives', '(636)544-7783x7288', '(203)287-1003x5932', 'kmercer@wagner.com', '2020-07-21', 'http://murray.org/'], ['88', 'E4Bbcd8AD81fC5f', 'Alison', 'Vargas', 'Vaughn, Watts and Leach', 'East Cristinabury', 'Benin', '365-273-8144', '053-308-7653x6287', 'vcantu@norton.com', '2020-11-10', 'http://mason.info/'], ['89', 'efeb73245CDf1fF', 'Vernon', 'Kane', 'Carter-Strickland', 'Thomasfurt', 'Yemen', '114-854-1159x555', '499-608-4612', 'hilljesse@barrett.info', '2021-04-15', 'http://www.duffy-hensley.net/'], ['90', '37Ec4B395641c1E', 'Lori', 'Flowers', 'Decker-Mcknight', 'North Joeburgh', 'Namibia', '679.415.1210', '945-842-3659x4581', 'tyrone77@valenzuela.info', '2021-01-09', 'http://www.deleon-crosby.com/'], ['91', '5ef6d3eefdD43bE', 'Nina', 'Chavez', 'Byrd-Campbell', 'Cassidychester', 'Bhutan', '053-344-3205', '+1-330-920-5422x571', 'elliserica@frank.com', '2020-03-26', 'https://www.pugh.com/'], ['92', '98b3aeDcC3B9FF3', 'Shane', 'Foley', 'Rocha-Hart', 'South Dannymouth', 'Hungary', '+1-822-569-0302', '001-626-114-5844x55073', 'nsteele@sparks.com', '2021-07-06', 'https://www.holt-sparks.com/'], ['93', 'aAb6AFc7AfD0fF3', 'Collin', 'Ayers', 'Lamb-Peterson', 'South Lonnie', 'Anguilla', '404-645-5351x012', '001-257-582-8850x8516', 'dudleyemily@gonzales.biz', '2021-06-29', 'http://www.ruiz.com/'], ['94', '54B5B5Fe9F1B6C5', 'Sherry', 'Young', 'Lee, Lucero and Johnson', 'Frankchester', 'Solomon Islands', '158-687-1764', '(438)375-6207x003', 'alan79@gates-mclaughlin.com', '2021-04-04', 'https://travis.net/'], ['95', 'BE91A0bdcA49Bbc', 'Darrell', 'Douglas', 'Newton, Petersen and Mathis', 'Daisyborough', 'Mali', '001-084-845-9524x1777', '001-769-564-6303', 'grayjean@lowery-good.com', '2022-02-17', 'https://banks.biz/'], ['96', 'cb8E23e48d22Eae', 'Karl', 'Greer', 'Carey LLC', 'East Richard', 'Guyana', '(188)169-1674x58692', '001-841-293-3519x614', 'hhart@jensen.com', '2022-01-30', 'http://hayes-perez.com/'], ['97', 'CeD220bdAaCfaDf', 'Lynn', 'Atkinson', 'Ware, Burns and Oneal', 'New Bradview', 'Sri Lanka', '+1-846-706-2218', '605.413.3198', 'vkemp@ferrell.com', '2021-07-10', 'https://novak-allison.com/'], ['98', '28CDbC0dFe4b1Db', 'Fred', 'Guerra', 'Schmitt-Jones', 'Ortegaland', 'Solomon Islands', '+1-753-067-8419x7170', '+1-632-666-7507x92121', 'swagner@kane.org', '2021-09-18', 'https://www.ross.com/'], ['99', 'c23d1D9EE8DEB0A', 'Yvonne', 'Farmer', 'Fitzgerald-Harrell', 'Lake Elijahview', 'Aruba', '(530)311-9786', '001-869-452-0943x12424', 'mccarthystephen@horn-green.biz', '2021-08-11', 'http://watkins.info/'], ['100', '2354a0E336A91A1', 'Clarence', 'Haynes', 'Le, Nash and Cross', 'Judymouth', 'Honduras', '(753)813-6941', '783.639.1472', 'colleen91@faulkner.biz', '2020-03-11', 'http://www.hatfield-saunders.net/']]\n",
      "Index \tCustomer Id \tFirst Name \tLast Name \tCompany \tCity \tCountry \tPhone 1 \tPhone 2 \tEmail \tSubscription Date \tWebsite \t\n",
      "1 \tDD37Cf93aecA6Dc \tSheryl \tBaxter \tRasmussen Group \tEast Leonard \tChile \t229.077.5154 \t397.884.0519x718 \tzunigavanessa@smith.info \t2020-08-24 \thttp://www.stephenson.com/ \t\n",
      "2 \t1Ef7b82A4CAAD10 \tPreston \tLozano \tVega-Gentry \tEast Jimmychester \tDjibouti \t5153435776 \t686-620-1820x944 \tvmata@colon.com \t2021-04-23 \thttp://www.hobbs.com/ \t\n",
      "3 \t6F94879bDAfE5a6 \tRoy \tBerry \tMurillo-Perry \tIsabelborough \tAntigua and Barbuda \t+1-539-402-0259 \t(496)978-3969x58947 \tbeckycarr@hogan.com \t2020-03-25 \thttp://www.lawrence.com/ \t\n",
      "4 \t5Cef8BFA16c5e3c \tLinda \tOlsen \tDominguez, Mcmillan and Donovan \tBensonview \tDominican Republic \t001-808-617-6467x12895 \t+1-813-324-8756 \tstanleyblackwell@benson.org \t2020-06-02 \thttp://www.good-lyons.com/ \t\n",
      "5 \t053d585Ab6b3159 \tJoanna \tBender \tMartin, Lang and Andrade \tWest Priscilla \tSlovakia (Slovak Republic) \t001-234-203-0635x76146 \t001-199-446-3860x3486 \tcolinalvarado@miles.net \t2021-04-17 \thttps://goodwin-ingram.com/ \t\n",
      "6 \t2d08FB17EE273F4 \tAimee \tDowns \tSteele Group \tChavezborough \tBosnia and Herzegovina \t(283)437-3886x88321 \t999-728-1637 \tlouis27@gilbert.com \t2020-02-25 \thttp://www.berger.net/ \t\n",
      "7 \tEA4d384DfDbBf77 \tDarren \tPeck \tLester, Woodard and Mitchell \tLake Ana \tPitcairn Islands \t(496)452-6181x3291 \t+1-247-266-0963x4995 \ttgates@cantrell.com \t2021-08-24 \thttps://www.le.com/ \t\n",
      "8 \t0e04AFde9f225dE \tBrett \tMullen \tSanford, Davenport and Giles \tKimport \tBulgaria \t001-583-352-7197x297 \t001-333-145-0369 \tasnow@colon.com \t2021-04-12 \thttps://hammond-ramsey.com/ \t\n",
      "9 \tC2dE4dEEc489ae0 \tSheryl \tMeyers \tBrowning-Simon \tRobersonstad \tCyprus \t854-138-4911x5772 \t+1-448-910-2276x729 \tmariokhan@ryan-pope.org \t2020-01-13 \thttps://www.bullock.net/ \t\n",
      "10 \t8C2811a503C7c5a \tMichelle \tGallagher \tBeck-Hendrix \tElaineberg \tTimor-Leste \t739.218.2516x459 \t001-054-401-0347x617 \tmdyer@escobar.net \t2021-11-08 \thttps://arias.com/ \t\n",
      "11 \t216E205d6eBb815 \tCarl \tSchroeder \tOconnell, Meza and Everett \tShannonville \tGuernsey \t637-854-0256x825 \t114.336.0784x788 \tkirksalas@webb.com \t2021-10-20 \thttps://simmons-hurley.com/ \t\n",
      "12 \tCEDec94deE6d69B \tJenna \tDodson \tHoffman, Reed and Mcclain \tEast Andrea \tVietnam \t(041)737-3846 \t+1-556-888-3485x42608 \tmark42@robbins.com \t2020-11-29 \thttp://www.douglas.net/ \t\n",
      "13 \te35426EbDEceaFF \tTracey \tMata \tGraham-Francis \tSouth Joannamouth \tTogo \t001-949-844-8787 \t(855)713-8773 \talex56@walls.org \t2021-12-02 \thttp://www.beck.com/ \t\n",
      "14 \tA08A8aF8BE9FaD4 \tKristine \tCox \tCarpenter-Cook \tJodyberg \tSri Lanka \t786-284-3358x62152 \t+1-315-627-1796x8074 \tholdenmiranda@clarke.com \t2021-02-08 \thttps://www.brandt.com/ \t\n",
      "15 \t6fEaA1b7cab7B6C \tFaith \tLutz \tCarter-Hancock \tBurchbury \tSingapore \t(781)861-7180x8306 \t207-185-3665 \tcassieparrish@blevins-chapman.net \t2022-01-26 \thttp://stevenson.org/ \t\n",
      "16 \t8cad0b4CBceaeec \tMiranda \tBeasley \tSingleton and Sons \tDesireeshire \tOman \t540.085.3135x185 \t+1-600-462-6432x21881 \tvduncan@parks-hardy.com \t2022-04-12 \thttp://acosta.org/ \t\n",
      "17 \ta5DC21AE3a21eaA \tCaroline \tFoley \tWinters-Mendoza \tWest Adriennestad \tWestern Sahara \t936.222.4746x9924 \t001-469-948-6341x359 \tholtgwendolyn@watson-davenport.com \t2021-03-10 \thttp://www.benson-roth.com/ \t\n",
      "18 \tF8Aa9d6DfcBeeF8 \tGreg \tMata \tValentine LLC \tLake Leslie \tMozambique \t(701)087-2415 \t(195)156-1861x26241 \tjaredjuarez@carroll.org \t2022-03-26 \thttp://pitts-cherry.com/ \t\n",
      "19 \tF160f5Db3EfE973 \tClifford \tJacobson \tSimon LLC \tHarmonview \tSouth Georgia and the South Sandwich Islands \t001-151-330-3524x0469 \t(748)477-7174 \tjoseph26@jacobson.com \t2020-09-24 \thttps://mcconnell.com/ \t\n",
      "20 \t0F60FF3DdCd7aB0 \tJoanna \tKirk \tMays-Mccormick \tJamesshire \tFrench Polynesia \t(266)131-7001x711 \t(283)312-5579x11543 \ttuckerangie@salazar.net \t2021-09-24 \thttps://www.camacho.net/ \t\n",
      "21 \t9F9AdB7B8A6f7F2 \tMaxwell \tFrye \tPatterson Inc \tEast Carly \tMalta \t423.262.3059 \t202-880-0688x7491 \tfgibson@drake-webb.com \t2022-01-12 \thttp://www.roberts.com/ \t\n",
      "22 \tFBd0Ded4F02a742 \tKiara \tHouston \tManning, Hester and Arroyo \tSouth Alvin \tNetherlands \t001-274-040-3582x10611 \t+1-528-175-0973x4684 \tblanchardbob@wallace-shannon.com \t2020-09-15 \thttps://www.reid-potts.com/ \t\n",
      "23 \t2FB0FAA1d429421 \tColleen \tHoward \tGreer and Sons \tBrittanyview \tParaguay \t1935085151 \t(947)115-7711x5488 \trsingleton@ryan-cherry.com \t2020-08-19 \thttp://paul.biz/ \t\n",
      "24 \t010468dAA11382c \tJanet \tValenzuela \tWatts-Donaldson \tVeronicamouth \tLao People's Democratic Republic \t354.259.5062x7538 \t500.433.2022 \tstefanie71@spence.com \t2020-09-08 \thttps://moreno.biz/ \t\n",
      "25 \teC1927Ca84E033e \tShane \tWilcox \tTucker LLC \tBryanville \tAlbania \t(429)005-9030x11004 \t541-116-4501 \tmariah88@santos.com \t2021-04-06 \thttps://www.ramos.com/ \t\n",
      "26 \t09D7D7C8Fe09aea \tMarcus \tMoody \tGiles Ltd \tKaitlyntown \tPanama \t674-677-8623 \t909-277-5485x566 \tdonnamullins@norris-barrett.org \t2022-05-24 \thttps://www.curry.com/ \t\n",
      "27 \taBdfcF2c50b0bfD \tDakota \tPoole \tSimmons Group \tMichealshire \tBelarus \t(371)987-8576x4720 \t071-152-1376 \tstacey67@fields.org \t2022-02-20 \thttps://sanford-wilcox.biz/ \t\n",
      "28 \tb92EBfdF8a3f0E6 \tFrederick \tHarper \tHinton, Chaney and Stokes \tSouth Marissatown \tSwitzerland \t+1-077-121-1558x0687 \t264.742.7149 \tjacobkhan@bright.biz \t2022-05-26 \thttps://callahan.org/ \t\n",
      "29 \t3B5dAAFA41AFa22 \tStefanie \tFitzpatrick \tSantana-Duran \tAcevedoville \tSaint Vincent and the Grenadines \t(752)776-3286 \t+1-472-021-4814x85074 \twterrell@clark.com \t2020-07-30 \thttps://meyers.com/ \t\n",
      "30 \tEDA69ca7a6e96a2 \tKent \tBradshaw \tSawyer PLC \tNorth Harold \tTanzania \t+1-472-143-5037x884 \t126.922.6153 \tqjimenez@boyd.com \t2020-04-26 \thttp://maynard-ho.com/ \t\n",
      "31 \t64DCcDFaB9DFd4e \tJack \tTate \tAcosta, Petersen and Morrow \tWest Samuel \tZimbabwe \t965-108-4406x20714 \t046.906.1442x6784 \tgfigueroa@boone-zavala.com \t2021-09-15 \thttp://www.hawkins-ramsey.com/ \t\n",
      "32 \t679c6c83DD872d6 \tTom \tTrujillo \tMcgee Group \tCunninghamborough \tDenmark \t416-338-3758 \t(775)890-7209 \ttapiagreg@beard.info \t2022-01-13 \thttp://www.daniels-klein.com/ \t\n",
      "33 \t7Ce381e4Afa4ba9 \tGabriel \tMejia \tAdkins-Salinas \tPort Annatown \tLiechtenstein \t4077245425 \t646.044.0696x66800 \tcoleolson@jennings.net \t2021-04-24 \thttps://patel-hanson.info/ \t\n",
      "34 \tA09AEc6E3bF70eE \tKaitlyn \tSantana \tHerrera Group \tNew Kaitlyn \tUnited States of America \t6303643286 \t447-710-6202x07313 \tgeorgeross@miles.org \t2021-09-21 \thttp://pham.com/ \t\n",
      "35 \taA9BAFfBc3710fe \tFaith \tMoon \tWaters, Chase and Aguilar \tWest Marthaburgh \tBahamas \t+1-586-217-0359x6317 \t+1-818-199-1403 \twillistonya@randolph-baker.com \t2021-11-03 \thttps://spencer-charles.info/ \t\n",
      "36 \tE11dfb2DB8C9f72 \tTammie \tHaley \tPalmer, Barnes and Houston \tEast Teresa \tBelize \t001-276-734-4113x6087 \t(430)300-8770 \tharrisisaiah@jenkins.com \t2022-01-04 \thttp://evans-simon.com/ \t\n",
      "37 \t889eCf90f68c5Da \tNicholas \tSosa \tJordan Ltd \tSouth Hunter \tUruguay \t(661)425-6042 \t975-998-1519 \tfwolfe@dorsey.com \t2021-08-10 \thttps://www.fleming-richards.com/ \t\n",
      "38 \t7a1Ee69F4fF4B4D \tJordan \tGay \tGlover and Sons \tSouth Walter \tSolomon Islands \t7208417020 \t8035336772 \ttiffanydavies@harris-mcfarland.org \t2021-02-24 \thttp://www.lee.org/ \t\n",
      "39 \tdca4f1D0A0fc5c9 \tBruce \tEsparza \tHuerta-Mclean \tPoolefurt \tMontenegro \t559-529-4424 \t001-625-000-7132x0367 \tpreese@frye-vega.com \t2021-10-22 \thttp://www.farley.org/ \t\n",
      "40 \t17aD8e2dB3df03D \tSherry \tGarza \tAnderson Ltd \tWest John \tPoland \t001-067-713-6440x158 \t(978)289-8785x5766 \tann48@miller.com \t2021-11-01 \thttp://spence.com/ \t\n",
      "41 \t2f79Cd309624Abb \tNatalie \tGentry \tMonroe PLC \tWest Darius \tDominican Republic \t830.996.8238 \t499.122.5415 \ttcummings@fitzpatrick-ashley.com \t2020-10-10 \thttp://www.dorsey.biz/ \t\n",
      "42 \t6e5ad5a5e2bB5Ca \tBryan \tDunn \tKaufman and Sons \tNorth Jimstad \tBurkina Faso \t001-710-802-5565 \t078.699.8982x13881 \twoodwardandres@phelps.com \t2021-09-08 \thttp://www.butler.com/ \t\n",
      "43 \t7E441b6B228DBcA \tWayne \tSimpson \tPerkins-Trevino \tEast Rebekahborough \tBolivia \t(344)156-8632x1869 \t463-445-3702x38463 \tbarbarapittman@holder.com \t2020-12-13 \thttps://gillespie-holder.com/ \t\n",
      "44 \tD3fC11A9C235Dc6 \tLuis \tGreer \tCross PLC \tNorth Drew \tBulgaria \t001-336-025-6849x701 \t684.698.2911x6092 \tbstuart@williamson-mcclure.com \t2022-05-15 \thttps://fletcher-nielsen.com/ \t\n",
      "45 \t30Dfa48fe5Ede78 \tRhonda \tFrost \tHerrera, Shepherd and Underwood \tLake Lindaburgh \tMonaco \t(127)081-9339 \t+1-431-028-3337x3492 \tzkrueger@wolf-chavez.net \t2021-12-06 \thttp://www.khan.com/ \t\n",
      "46 \tfD780ED8dbEae7B \tJoanne \tMontes \tPrice, Sexton and Mcdaniel \tGwendolynview \tPalau \t(897)726-7952 \t(467)886-9467x5721 \tjuan80@henson.net \t2020-07-01 \thttp://ochoa.com/ \t\n",
      "47 \t300A40d3ce24bBA \tGeoffrey \tGuzman \tShort-Wiggins \tZimmermanland \tUzbekistan \t975.235.8921x269 \t(983)188-6873 \tbauercrystal@gay.com \t2020-04-23 \thttps://decker-kline.com/ \t\n",
      "48 \t283DFCD0Dba40aF \tGloria \tMccall \tBrennan, Acosta and Ramos \tNorth Kerriton \tGhana \t445-603-6729 \t001-395-959-4736x4524 \tbartlettjenna@zuniga-moss.biz \t2022-03-11 \thttp://burgess-frank.com/ \t\n",
      "49 \tF4Fc91fEAEad286 \tBrady \tCohen \tOsborne-Erickson \tNorth Eileenville \tUnited Arab Emirates \t741.849.0139x524 \t+1-028-691-7497x0894 \tmccalltyrone@durham-rose.biz \t2022-03-10 \thttp://hammond-barron.com/ \t\n",
      "50 \t80F33Fd2AcebF05 \tLatoya \tMccann \tHobbs, Garrett and Sanford \tPort Sergiofort \tBelarus \t(530)287-4548x29481 \t162-234-0249x32790 \tbobhammond@barry.biz \t2021-12-02 \thttps://www.burton.com/ \t\n",
      "51 \tAa20BDe68eAb0e9 \tGerald \tHawkins \tPhelps, Forbes and Koch \tNew Alberttown \tCanada \t+1-323-239-1456x96168 \t(092)508-0269 \tuwarner@steele-arias.com \t2021-03-19 \thttps://valenzuela.com/ \t\n",
      "52 \te898eEB1B9FE22b \tSamuel \tCrawford \tMay, Goodwin and Martin \tSouth Jasmine \tAlgeria \t802-242-7457 \t626.116.9535x8578 \txpittman@ritter-carney.net \t2021-03-27 \thttps://guerrero.org/ \t\n",
      "53 \tfaCEF517ae7D8eB \tPatricia \tGoodwin \tChristian, Winters and Ellis \tCowanfort \tSwaziland \t322.549.7139x70040 \t(111)741-4173 \tvaughanchristy@lara.biz \t2021-03-08 \thttp://clark.info/ \t\n",
      "54 \tc09952De6Cda8aA \tStacie \tRichard \tByrd Inc \tNew Deborah \tMadagascar \t001-622-948-3641x24810 \t001-731-168-2893x8891 \tclinton85@colon-arias.org \t2020-10-15 \thttps://kim.com/ \t\n",
      "55 \tf3BEf3Be028166f \tRobin \tWest \tNixon, Blackwell and Sosa \tWallstown \tEcuador \t698.303.4267 \t001-683-837-7651x525 \tgreenemiranda@zimmerman.com \t2022-01-13 \thttps://www.mora.com/ \t\n",
      "56 \tC6F2Fc6a7948a4e \tRalph \tHaas \tMontes PLC \tLake Ellenchester \tPalestinian Territory \t2239271999 \t001-962-434-0867x649 \tgoodmancesar@figueroa.biz \t2020-05-25 \thttp://may.com/ \t\n",
      "57 \tc8FE57cBBdCDcb2 \tPhyllis \tMaldonado \tCosta PLC \tLake Whitney \tSaint Barthelemy \t4500370767 \t001-508-064-6725x017 \tyhanson@warner-diaz.org \t2021-01-25 \thttp://www.bernard.com/ \t\n",
      "58 \tB5acdFC982124F2 \tDanny \tParrish \tNovak LLC \tEast Jaredbury \tUnited Arab Emirates \t(669)384-8597x8794 \t506.731.5952x571 \thowelldarren@house-cohen.com \t2021-03-17 \thttp://www.parsons-hudson.com/ \t\n",
      "59 \t8c7DdF10798bCC3 \tKathy \tHill \tMoore, Mccoy and Glass \tSelenabury \tSouth Georgia and the South Sandwich Islands \t001-171-716-2175x310 \t888.625.0654 \tncamacho@boone-simmons.org \t2020-11-15 \thttp://hayden.com/ \t\n",
      "60 \tC681dDd0cc422f7 \tKelli \tHardy \tPetty Ltd \tHuangfort \tSao Tome and Principe \t020.324.2191x2022 \t424-157-8216 \tkristopher62@oliver.com \t2020-12-20 \thttp://www.kidd.com/ \t\n",
      "61 \ta940cE42e035F28 \tLynn \tPham \tBrennan, Camacho and Tapia \tEast Pennyshire \tPortugal \t846.468.6834x611 \t001-248-691-0006 \tmpham@rios-guzman.com \t2020-08-21 \thttps://www.murphy.com/ \t\n",
      "62 \t9Cf5E6AFE0aeBfd \tShelley \tHarris \tPrince, Malone and Pugh \tPort Jasminborough \tTogo \t423.098.0315x8373 \t+1-386-458-8944x15194 \tzachary96@mitchell-bryant.org \t2020-12-10 \thttps://www.ryan.com/ \t\n",
      "63 \taEcbe5365BbC67D \tEddie \tJimenez \tCaldwell Group \tWest Kristine \tEthiopia \t+1-235-657-1073x6306 \t(026)401-7353x2417 \tkristiwhitney@bernard.com \t2022-03-24 \thttp://cherry.com/ \t\n",
      "64 \tFCBdfCEAe20A8Dc \tChloe \tHutchinson \tSimon LLC \tSouth Julia \tNetherlands \t981-544-9452 \t+1-288-552-4666x060 \tleah85@sutton-terrell.com \t2022-05-15 \thttps://mitchell.info/ \t\n",
      "65 \t636cBF0835E10ff \tEileen \tLynch \tKnight, Abbott and Hubbard \tHelenborough \tLiberia \t+1-158-951-4131x53578 \t001-673-779-6713x680 \tlevigiles@vincent.com \t2021-01-02 \thttp://mckay.com/ \t\n",
      "66 \tfF1b6c9E8Fbf1ff \tFernando \tLambert \tChurch-Banks \tLake Nancy \tLithuania \t497.829.9038 \t3863743398 \tfisherlinda@schaefer.net \t2021-04-23 \thttps://www.vang.com/ \t\n",
      "67 \t2A13F74EAa7DA6c \tMakayla \tCannon \tHenderson Inc \tGeorgeport \tNew Caledonia \t001-215-801-6392x46009 \t027-609-6460 \tscottcurtis@hurley.biz \t2020-01-20 \thttp://www.velazquez.net/ \t\n",
      "68 \ta014Ec1b9FccC1E \tTom \tAlvarado \tDonaldson-Dougherty \tSouth Sophiaberg \tKiribati \t(585)606-2980x2258 \t730-797-3594x5614 \tnicholsonnina@montgomery.info \t2020-08-18 \thttp://odom-massey.com/ \t\n",
      "69 \t421a109cABDf5fa \tVirginia \tDudley \tWarren Ltd \tHartbury \tFrench Southern Territories \t027.846.3705x14184 \t+1-439-171-1846x4636 \tzvalencia@phelps.com \t2021-01-31 \thttp://hunter-esparza.com/ \t\n",
      "70 \tCC68FD1D3Bbbf22 \tRiley \tGood \tWade PLC \tErikaville \tCanada \t6977745822 \t855-436-7641 \talex06@galloway.com \t2020-02-03 \thttp://conway.org/ \t\n",
      "71 \tCBCd2Ac8E3eBDF9 \tAlexandria \tBuck \tKeller-Coffey \tNicolasfort \tIran \t078-900-4760x76668 \t414-112-8700x68751 \tlee48@manning.com \t2021-02-20 \thttps://ramsey.org/ \t\n",
      "72 \tEf859092FbEcC07 \tRichard \tRoth \tConway-Mcbride \tNew Jasmineshire \tMorocco \t581-440-6539 \t9857827463 \taharper@maddox-townsend.org \t2020-02-23 \thttps://www.brooks.com/ \t\n",
      "73 \tF560f2d3cDFb618 \tCandice \tKeller \tHuynh and Sons \tEast Summerstad \tZimbabwe \t001-927-965-8550x92406 \t001-243-038-4271x53076 \tbuckleycory@odonnell.net \t2020-08-22 \thttps://www.lucero.com/ \t\n",
      "74 \tA3F76Be153Df4a3 \tAnita \tBenson \tParrish Ltd \tSkinnerport \tRussian Federation \t874.617.5668x69878 \t(399)820-6418x0071 \tangie04@oconnell.com \t2020-02-09 \thttp://oconnor.com/ \t\n",
      "75 \tD01Af0AF7cBbFeA \tRegina \tStein \tGuzman-Brown \tRaystad \tSolomon Islands \t001-469-848-0724x4407 \t001-085-360-4426x00357 \tzrosario@rojas-hardin.net \t2022-01-15 \thttp://www.johnston.info/ \t\n",
      "76 \td40e89dCade7b2F \tDebra \tRiddle \tChang, Aguirre and Leblanc \tColinhaven \tUnited States Virgin Islands \t+1-768-182-6014x14336 \t(303)961-4491 \tshieldskerry@robles.com \t2020-07-11 \thttp://kaiser.info/ \t\n",
      "77 \tBF6a1f9bd1bf8DE \tBrittany \tZuniga \tMason-Hester \tWest Reginald \tKyrgyz Republic \t(050)136-9025 \t001-480-851-2496x0157 \tmchandler@cochran-huerta.org \t2021-07-24 \thttp://www.boyle.com/ \t\n",
      "78 \tFfaeFFbbbf280db \tCassidy \tMcmahon \tMcguire, Huynh and Hopkins \tLake Sherryborough \tMyanmar \t5040771311 \t684-682-0021x1326 \tkatrinalane@fitzgerald.com \t2020-10-21 \thttps://hurst.com/ \t\n",
      "79 \tCbAE1d1e9a8dCb1 \tLaurie \tPennington \tSanchez, Marsh and Hale \tPort Katherineville \tDominica \t007.155.3406x553 \t+1-809-862-5566x277 \tcookejill@powell.com \t2020-06-08 \thttp://www.hebert.com/ \t\n",
      "80 \tA7F85c1DE4dB87f \tAlejandro \tBlair \tCombs, Waller and Durham \tThomasland \tIceland \t(690)068-4641x51468 \t555.509.8691x2329 \telizabethbarr@ewing.com \t2020-09-19 \thttps://mercado-blevins.com/ \t\n",
      "81 \tD6CEAfb3BDbaa1A \tLeslie \tJennings \tBlankenship-Arias \tCoreybury \tMicronesia \t629.198.6346 \t075.256.0829 \tcorey75@wiggins.com \t2021-11-13 \thttps://www.juarez.com/ \t\n",
      "82 \tEbdb6F6F7c90b69 \tKathleen \tMckay \tCoffey, Lamb and Johnson \tLake Janiceton \tSaint Vincent and the Grenadines \t(733)910-9968 \t(691)247-4128x0665 \tchloelester@higgins-wilkinson.com \t2021-09-12 \thttp://www.owens-mooney.com/ \t\n",
      "83 \tE8E7e8Cfe516ef0 \tHunter \tMoreno \tFitzpatrick-Lawrence \tEast Clinton \tIsle of Man \t(733)833-6754 \t001-761-013-7121 \tisaac26@benton-finley.com \t2020-12-28 \thttp://walls.info/ \t\n",
      "84 \t78C06E9b6B3DF20 \tChad \tDavidson \tGarcia-Jimenez \tSouth Joshuashire \tOman \t8275702958 \t(804)842-4715 \tjustinwalters@jimenez.com \t2021-11-15 \thttp://www.garner-oliver.com/ \t\n",
      "85 \t03A1E62ADdeb31c \tCorey \tHolt \tMcdonald, Bird and Ramirez \tNew Glenda \tFiji \t001-439-242-4986x7918 \t3162708934 \tmaurice46@morgan.com \t2020-02-18 \thttp://www.watson.com/ \t\n",
      "86 \tC6763c99d0bd16D \tEmma \tCunningham \tStephens Inc \tNorth Jillianview \tNew Zealand \t128-059-0206x60217 \t(312)164-4545x2284 \twalter83@juarez.org \t2022-05-13 \thttp://www.reid.info/ \t\n",
      "87 \tebe77E5Bf9476CE \tDuane \tWoods \tMontoya-Miller \tLyonsberg \tMaldives \t(636)544-7783x7288 \t(203)287-1003x5932 \tkmercer@wagner.com \t2020-07-21 \thttp://murray.org/ \t\n",
      "88 \tE4Bbcd8AD81fC5f \tAlison \tVargas \tVaughn, Watts and Leach \tEast Cristinabury \tBenin \t365-273-8144 \t053-308-7653x6287 \tvcantu@norton.com \t2020-11-10 \thttp://mason.info/ \t\n",
      "89 \tefeb73245CDf1fF \tVernon \tKane \tCarter-Strickland \tThomasfurt \tYemen \t114-854-1159x555 \t499-608-4612 \thilljesse@barrett.info \t2021-04-15 \thttp://www.duffy-hensley.net/ \t\n",
      "90 \t37Ec4B395641c1E \tLori \tFlowers \tDecker-Mcknight \tNorth Joeburgh \tNamibia \t679.415.1210 \t945-842-3659x4581 \ttyrone77@valenzuela.info \t2021-01-09 \thttp://www.deleon-crosby.com/ \t\n",
      "91 \t5ef6d3eefdD43bE \tNina \tChavez \tByrd-Campbell \tCassidychester \tBhutan \t053-344-3205 \t+1-330-920-5422x571 \telliserica@frank.com \t2020-03-26 \thttps://www.pugh.com/ \t\n",
      "92 \t98b3aeDcC3B9FF3 \tShane \tFoley \tRocha-Hart \tSouth Dannymouth \tHungary \t+1-822-569-0302 \t001-626-114-5844x55073 \tnsteele@sparks.com \t2021-07-06 \thttps://www.holt-sparks.com/ \t\n",
      "93 \taAb6AFc7AfD0fF3 \tCollin \tAyers \tLamb-Peterson \tSouth Lonnie \tAnguilla \t404-645-5351x012 \t001-257-582-8850x8516 \tdudleyemily@gonzales.biz \t2021-06-29 \thttp://www.ruiz.com/ \t\n",
      "94 \t54B5B5Fe9F1B6C5 \tSherry \tYoung \tLee, Lucero and Johnson \tFrankchester \tSolomon Islands \t158-687-1764 \t(438)375-6207x003 \talan79@gates-mclaughlin.com \t2021-04-04 \thttps://travis.net/ \t\n",
      "95 \tBE91A0bdcA49Bbc \tDarrell \tDouglas \tNewton, Petersen and Mathis \tDaisyborough \tMali \t001-084-845-9524x1777 \t001-769-564-6303 \tgrayjean@lowery-good.com \t2022-02-17 \thttps://banks.biz/ \t\n",
      "96 \tcb8E23e48d22Eae \tKarl \tGreer \tCarey LLC \tEast Richard \tGuyana \t(188)169-1674x58692 \t001-841-293-3519x614 \thhart@jensen.com \t2022-01-30 \thttp://hayes-perez.com/ \t\n",
      "97 \tCeD220bdAaCfaDf \tLynn \tAtkinson \tWare, Burns and Oneal \tNew Bradview \tSri Lanka \t+1-846-706-2218 \t605.413.3198 \tvkemp@ferrell.com \t2021-07-10 \thttps://novak-allison.com/ \t\n",
      "98 \t28CDbC0dFe4b1Db \tFred \tGuerra \tSchmitt-Jones \tOrtegaland \tSolomon Islands \t+1-753-067-8419x7170 \t+1-632-666-7507x92121 \tswagner@kane.org \t2021-09-18 \thttps://www.ross.com/ \t\n",
      "99 \tc23d1D9EE8DEB0A \tYvonne \tFarmer \tFitzgerald-Harrell \tLake Elijahview \tAruba \t(530)311-9786 \t001-869-452-0943x12424 \tmccarthystephen@horn-green.biz \t2021-08-11 \thttp://watkins.info/ \t\n",
      "100 \t2354a0E336A91A1 \tClarence \tHaynes \tLe, Nash and Cross \tJudymouth \tHonduras \t(753)813-6941 \t783.639.1472 \tcolleen91@faulkner.biz \t2020-03-11 \thttp://www.hatfield-saunders.net/ \t\n"
     ]
    }
   ],
   "source": [
    "import csv\n",
    "f=open(\"customers-100.csv\",'r')\n",
    "r=csv.reader(f) #returns csv reader object\n",
    "data=list(r)\n",
    "print(data)\n",
    "for line in data:\n",
    "    for word in line:\n",
    "        print(word,\"\\t\",end='')\n",
    "    print()"
   ]
  },
  {
   "cell_type": "markdown",
   "id": "4bc8a37a",
   "metadata": {},
   "source": [
    "# 1. Using os.path.abspath"
   ]
  },
  {
   "cell_type": "code",
   "execution_count": 18,
   "id": "8195c685",
   "metadata": {},
   "outputs": [
    {
     "name": "stdout",
     "output_type": "stream",
     "text": [
      "The absolute path of the file is: C:\\Users\\fm\\python\\customers-100\n"
     ]
    }
   ],
   "source": [
    "import os\n",
    "\n",
    "file_name = \"customers-100\"\n",
    "file_path = os.path.abspath(file_name)\n",
    "print(f\"The absolute path of the file is: {file_path}\")\n"
   ]
  },
  {
   "cell_type": "markdown",
   "id": "1ebb9b5e",
   "metadata": {},
   "source": [
    "# 2. Using os.path.join with os.getcwd"
   ]
  },
  {
   "cell_type": "code",
   "execution_count": 19,
   "id": "b2703a5a",
   "metadata": {},
   "outputs": [
    {
     "name": "stdout",
     "output_type": "stream",
     "text": [
      "The full path of the file is: C:\\Users\\fm\\python\\customers-100\n"
     ]
    }
   ],
   "source": [
    "import os\n",
    "\n",
    "file_name = \"customers-100.csv\"\n",
    "file_path = os.path.join(os.getcwd(), file_name)\n",
    "print(f\"The full path of the file is: {file_path}\")\n"
   ]
  },
  {
   "cell_type": "markdown",
   "id": "fde7342a",
   "metadata": {},
   "source": [
    "# 3. Using __file__ to Get the Script Directory"
   ]
  },
  {
   "cell_type": "code",
   "execution_count": 2,
   "id": "9ea9f084",
   "metadata": {},
   "outputs": [
    {
     "ename": "NameError",
     "evalue": "name '___file___' is not defined",
     "output_type": "error",
     "traceback": [
      "\u001b[1;31m---------------------------------------------------------------------------\u001b[0m",
      "\u001b[1;31mNameError\u001b[0m                                 Traceback (most recent call last)",
      "Cell \u001b[1;32mIn[2], line 5\u001b[0m\n\u001b[0;32m      1\u001b[0m \u001b[38;5;28;01mimport\u001b[39;00m \u001b[38;5;21;01mos\u001b[39;00m\n\u001b[0;32m      4\u001b[0m file_name \u001b[38;5;241m=\u001b[39m \u001b[38;5;124m\"\u001b[39m\u001b[38;5;124mcustomers-100\u001b[39m\u001b[38;5;124m\"\u001b[39m\n\u001b[1;32m----> 5\u001b[0m script_dir \u001b[38;5;241m=\u001b[39m os\u001b[38;5;241m.\u001b[39mpath\u001b[38;5;241m.\u001b[39mdirname(os\u001b[38;5;241m.\u001b[39mpath\u001b[38;5;241m.\u001b[39mabspath(___file___))\n\u001b[0;32m      6\u001b[0m file_path \u001b[38;5;241m=\u001b[39m os\u001b[38;5;241m.\u001b[39mpath\u001b[38;5;241m.\u001b[39mjoin(script_dir, file_name)\n\u001b[0;32m      7\u001b[0m \u001b[38;5;28mprint\u001b[39m(\u001b[38;5;124mf\u001b[39m\u001b[38;5;124m\"\u001b[39m\u001b[38;5;124mThe full path of the file is: \u001b[39m\u001b[38;5;132;01m{\u001b[39;00mfile_path\u001b[38;5;132;01m}\u001b[39;00m\u001b[38;5;124m\"\u001b[39m)\n",
      "\u001b[1;31mNameError\u001b[0m: name '___file___' is not defined"
     ]
    }
   ],
   "source": [
    "import os\n",
    "\n",
    "\n",
    "file_name = \"customers-100\"\n",
    "script_dir = os.path.dirname(os.path.abspath(__file__))\n",
    "file_path = os.path.join(script_dir, file_name)\n",
    "print(f\"The full path of the file is: {file_path}\")\n"
   ]
  },
  {
   "cell_type": "markdown",
   "id": "b769d874",
   "metadata": {},
   "source": [
    "# 4. Combining with os.path.exists"
   ]
  },
  {
   "cell_type": "code",
   "execution_count": 21,
   "id": "bde2c328",
   "metadata": {},
   "outputs": [
    {
     "name": "stdout",
     "output_type": "stream",
     "text": [
      "The absolute path of the file is: C:\\Users\\fm\\python\\customers-100\n"
     ]
    }
   ],
   "source": [
    "import os\n",
    "\n",
    "file_name = \"customers-100.csv\"\n",
    "file_path = os.path.abspath(file_name)\n",
    "\n",
    "if os.path.exists(file_path):\n",
    "    print(f\"The absolute path of the file is: {file_path}\")\n",
    "else:\n",
    "    print(f\"The file {file_name} does not exist.\")\n"
   ]
  },
  {
   "cell_type": "markdown",
   "id": "2f978ad9",
   "metadata": {},
   "source": [
    "# Example: Reading a CSV File with Full Path"
   ]
  },
  {
   "cell_type": "code",
   "execution_count": 25,
   "id": "64a6dcb8",
   "metadata": {},
   "outputs": [
    {
     "name": "stdout",
     "output_type": "stream",
     "text": [
      "[['Index', 'Customer Id', 'First Name', 'Last Name', 'Company', 'City', 'Country', 'Phone 1', 'Phone 2', 'Email', 'Subscription Date', 'Website'], ['1', 'DD37Cf93aecA6Dc', 'Sheryl', 'Baxter', 'Rasmussen Group', 'East Leonard', 'Chile', '229.077.5154', '397.884.0519x718', 'zunigavanessa@smith.info', '2020-08-24', 'http://www.stephenson.com/'], ['2', '1Ef7b82A4CAAD10', 'Preston', 'Lozano', 'Vega-Gentry', 'East Jimmychester', 'Djibouti', '5153435776', '686-620-1820x944', 'vmata@colon.com', '2021-04-23', 'http://www.hobbs.com/'], ['3', '6F94879bDAfE5a6', 'Roy', 'Berry', 'Murillo-Perry', 'Isabelborough', 'Antigua and Barbuda', '+1-539-402-0259', '(496)978-3969x58947', 'beckycarr@hogan.com', '2020-03-25', 'http://www.lawrence.com/'], ['4', '5Cef8BFA16c5e3c', 'Linda', 'Olsen', 'Dominguez, Mcmillan and Donovan', 'Bensonview', 'Dominican Republic', '001-808-617-6467x12895', '+1-813-324-8756', 'stanleyblackwell@benson.org', '2020-06-02', 'http://www.good-lyons.com/'], ['5', '053d585Ab6b3159', 'Joanna', 'Bender', 'Martin, Lang and Andrade', 'West Priscilla', 'Slovakia (Slovak Republic)', '001-234-203-0635x76146', '001-199-446-3860x3486', 'colinalvarado@miles.net', '2021-04-17', 'https://goodwin-ingram.com/'], ['6', '2d08FB17EE273F4', 'Aimee', 'Downs', 'Steele Group', 'Chavezborough', 'Bosnia and Herzegovina', '(283)437-3886x88321', '999-728-1637', 'louis27@gilbert.com', '2020-02-25', 'http://www.berger.net/'], ['7', 'EA4d384DfDbBf77', 'Darren', 'Peck', 'Lester, Woodard and Mitchell', 'Lake Ana', 'Pitcairn Islands', '(496)452-6181x3291', '+1-247-266-0963x4995', 'tgates@cantrell.com', '2021-08-24', 'https://www.le.com/'], ['8', '0e04AFde9f225dE', 'Brett', 'Mullen', 'Sanford, Davenport and Giles', 'Kimport', 'Bulgaria', '001-583-352-7197x297', '001-333-145-0369', 'asnow@colon.com', '2021-04-12', 'https://hammond-ramsey.com/'], ['9', 'C2dE4dEEc489ae0', 'Sheryl', 'Meyers', 'Browning-Simon', 'Robersonstad', 'Cyprus', '854-138-4911x5772', '+1-448-910-2276x729', 'mariokhan@ryan-pope.org', '2020-01-13', 'https://www.bullock.net/'], ['10', '8C2811a503C7c5a', 'Michelle', 'Gallagher', 'Beck-Hendrix', 'Elaineberg', 'Timor-Leste', '739.218.2516x459', '001-054-401-0347x617', 'mdyer@escobar.net', '2021-11-08', 'https://arias.com/'], ['11', '216E205d6eBb815', 'Carl', 'Schroeder', 'Oconnell, Meza and Everett', 'Shannonville', 'Guernsey', '637-854-0256x825', '114.336.0784x788', 'kirksalas@webb.com', '2021-10-20', 'https://simmons-hurley.com/'], ['12', 'CEDec94deE6d69B', 'Jenna', 'Dodson', 'Hoffman, Reed and Mcclain', 'East Andrea', 'Vietnam', '(041)737-3846', '+1-556-888-3485x42608', 'mark42@robbins.com', '2020-11-29', 'http://www.douglas.net/'], ['13', 'e35426EbDEceaFF', 'Tracey', 'Mata', 'Graham-Francis', 'South Joannamouth', 'Togo', '001-949-844-8787', '(855)713-8773', 'alex56@walls.org', '2021-12-02', 'http://www.beck.com/'], ['14', 'A08A8aF8BE9FaD4', 'Kristine', 'Cox', 'Carpenter-Cook', 'Jodyberg', 'Sri Lanka', '786-284-3358x62152', '+1-315-627-1796x8074', 'holdenmiranda@clarke.com', '2021-02-08', 'https://www.brandt.com/'], ['15', '6fEaA1b7cab7B6C', 'Faith', 'Lutz', 'Carter-Hancock', 'Burchbury', 'Singapore', '(781)861-7180x8306', '207-185-3665', 'cassieparrish@blevins-chapman.net', '2022-01-26', 'http://stevenson.org/'], ['16', '8cad0b4CBceaeec', 'Miranda', 'Beasley', 'Singleton and Sons', 'Desireeshire', 'Oman', '540.085.3135x185', '+1-600-462-6432x21881', 'vduncan@parks-hardy.com', '2022-04-12', 'http://acosta.org/'], ['17', 'a5DC21AE3a21eaA', 'Caroline', 'Foley', 'Winters-Mendoza', 'West Adriennestad', 'Western Sahara', '936.222.4746x9924', '001-469-948-6341x359', 'holtgwendolyn@watson-davenport.com', '2021-03-10', 'http://www.benson-roth.com/'], ['18', 'F8Aa9d6DfcBeeF8', 'Greg', 'Mata', 'Valentine LLC', 'Lake Leslie', 'Mozambique', '(701)087-2415', '(195)156-1861x26241', 'jaredjuarez@carroll.org', '2022-03-26', 'http://pitts-cherry.com/'], ['19', 'F160f5Db3EfE973', 'Clifford', 'Jacobson', 'Simon LLC', 'Harmonview', 'South Georgia and the South Sandwich Islands', '001-151-330-3524x0469', '(748)477-7174', 'joseph26@jacobson.com', '2020-09-24', 'https://mcconnell.com/'], ['20', '0F60FF3DdCd7aB0', 'Joanna', 'Kirk', 'Mays-Mccormick', 'Jamesshire', 'French Polynesia', '(266)131-7001x711', '(283)312-5579x11543', 'tuckerangie@salazar.net', '2021-09-24', 'https://www.camacho.net/'], ['21', '9F9AdB7B8A6f7F2', 'Maxwell', 'Frye', 'Patterson Inc', 'East Carly', 'Malta', '423.262.3059', '202-880-0688x7491', 'fgibson@drake-webb.com', '2022-01-12', 'http://www.roberts.com/'], ['22', 'FBd0Ded4F02a742', 'Kiara', 'Houston', 'Manning, Hester and Arroyo', 'South Alvin', 'Netherlands', '001-274-040-3582x10611', '+1-528-175-0973x4684', 'blanchardbob@wallace-shannon.com', '2020-09-15', 'https://www.reid-potts.com/'], ['23', '2FB0FAA1d429421', 'Colleen', 'Howard', 'Greer and Sons', 'Brittanyview', 'Paraguay', '1935085151', '(947)115-7711x5488', 'rsingleton@ryan-cherry.com', '2020-08-19', 'http://paul.biz/'], ['24', '010468dAA11382c', 'Janet', 'Valenzuela', 'Watts-Donaldson', 'Veronicamouth', \"Lao People's Democratic Republic\", '354.259.5062x7538', '500.433.2022', 'stefanie71@spence.com', '2020-09-08', 'https://moreno.biz/'], ['25', 'eC1927Ca84E033e', 'Shane', 'Wilcox', 'Tucker LLC', 'Bryanville', 'Albania', '(429)005-9030x11004', '541-116-4501', 'mariah88@santos.com', '2021-04-06', 'https://www.ramos.com/'], ['26', '09D7D7C8Fe09aea', 'Marcus', 'Moody', 'Giles Ltd', 'Kaitlyntown', 'Panama', '674-677-8623', '909-277-5485x566', 'donnamullins@norris-barrett.org', '2022-05-24', 'https://www.curry.com/'], ['27', 'aBdfcF2c50b0bfD', 'Dakota', 'Poole', 'Simmons Group', 'Michealshire', 'Belarus', '(371)987-8576x4720', '071-152-1376', 'stacey67@fields.org', '2022-02-20', 'https://sanford-wilcox.biz/'], ['28', 'b92EBfdF8a3f0E6', 'Frederick', 'Harper', 'Hinton, Chaney and Stokes', 'South Marissatown', 'Switzerland', '+1-077-121-1558x0687', '264.742.7149', 'jacobkhan@bright.biz', '2022-05-26', 'https://callahan.org/'], ['29', '3B5dAAFA41AFa22', 'Stefanie', 'Fitzpatrick', 'Santana-Duran', 'Acevedoville', 'Saint Vincent and the Grenadines', '(752)776-3286', '+1-472-021-4814x85074', 'wterrell@clark.com', '2020-07-30', 'https://meyers.com/'], ['30', 'EDA69ca7a6e96a2', 'Kent', 'Bradshaw', 'Sawyer PLC', 'North Harold', 'Tanzania', '+1-472-143-5037x884', '126.922.6153', 'qjimenez@boyd.com', '2020-04-26', 'http://maynard-ho.com/'], ['31', '64DCcDFaB9DFd4e', 'Jack', 'Tate', 'Acosta, Petersen and Morrow', 'West Samuel', 'Zimbabwe', '965-108-4406x20714', '046.906.1442x6784', 'gfigueroa@boone-zavala.com', '2021-09-15', 'http://www.hawkins-ramsey.com/'], ['32', '679c6c83DD872d6', 'Tom', 'Trujillo', 'Mcgee Group', 'Cunninghamborough', 'Denmark', '416-338-3758', '(775)890-7209', 'tapiagreg@beard.info', '2022-01-13', 'http://www.daniels-klein.com/'], ['33', '7Ce381e4Afa4ba9', 'Gabriel', 'Mejia', 'Adkins-Salinas', 'Port Annatown', 'Liechtenstein', '4077245425', '646.044.0696x66800', 'coleolson@jennings.net', '2021-04-24', 'https://patel-hanson.info/'], ['34', 'A09AEc6E3bF70eE', 'Kaitlyn', 'Santana', 'Herrera Group', 'New Kaitlyn', 'United States of America', '6303643286', '447-710-6202x07313', 'georgeross@miles.org', '2021-09-21', 'http://pham.com/'], ['35', 'aA9BAFfBc3710fe', 'Faith', 'Moon', 'Waters, Chase and Aguilar', 'West Marthaburgh', 'Bahamas', '+1-586-217-0359x6317', '+1-818-199-1403', 'willistonya@randolph-baker.com', '2021-11-03', 'https://spencer-charles.info/'], ['36', 'E11dfb2DB8C9f72', 'Tammie', 'Haley', 'Palmer, Barnes and Houston', 'East Teresa', 'Belize', '001-276-734-4113x6087', '(430)300-8770', 'harrisisaiah@jenkins.com', '2022-01-04', 'http://evans-simon.com/'], ['37', '889eCf90f68c5Da', 'Nicholas', 'Sosa', 'Jordan Ltd', 'South Hunter', 'Uruguay', '(661)425-6042', '975-998-1519', 'fwolfe@dorsey.com', '2021-08-10', 'https://www.fleming-richards.com/'], ['38', '7a1Ee69F4fF4B4D', 'Jordan', 'Gay', 'Glover and Sons', 'South Walter', 'Solomon Islands', '7208417020', '8035336772', 'tiffanydavies@harris-mcfarland.org', '2021-02-24', 'http://www.lee.org/'], ['39', 'dca4f1D0A0fc5c9', 'Bruce', 'Esparza', 'Huerta-Mclean', 'Poolefurt', 'Montenegro', '559-529-4424', '001-625-000-7132x0367', 'preese@frye-vega.com', '2021-10-22', 'http://www.farley.org/'], ['40', '17aD8e2dB3df03D', 'Sherry', 'Garza', 'Anderson Ltd', 'West John', 'Poland', '001-067-713-6440x158', '(978)289-8785x5766', 'ann48@miller.com', '2021-11-01', 'http://spence.com/'], ['41', '2f79Cd309624Abb', 'Natalie', 'Gentry', 'Monroe PLC', 'West Darius', 'Dominican Republic', '830.996.8238', '499.122.5415', 'tcummings@fitzpatrick-ashley.com', '2020-10-10', 'http://www.dorsey.biz/'], ['42', '6e5ad5a5e2bB5Ca', 'Bryan', 'Dunn', 'Kaufman and Sons', 'North Jimstad', 'Burkina Faso', '001-710-802-5565', '078.699.8982x13881', 'woodwardandres@phelps.com', '2021-09-08', 'http://www.butler.com/'], ['43', '7E441b6B228DBcA', 'Wayne', 'Simpson', 'Perkins-Trevino', 'East Rebekahborough', 'Bolivia', '(344)156-8632x1869', '463-445-3702x38463', 'barbarapittman@holder.com', '2020-12-13', 'https://gillespie-holder.com/'], ['44', 'D3fC11A9C235Dc6', 'Luis', 'Greer', 'Cross PLC', 'North Drew', 'Bulgaria', '001-336-025-6849x701', '684.698.2911x6092', 'bstuart@williamson-mcclure.com', '2022-05-15', 'https://fletcher-nielsen.com/'], ['45', '30Dfa48fe5Ede78', 'Rhonda', 'Frost', 'Herrera, Shepherd and Underwood', 'Lake Lindaburgh', 'Monaco', '(127)081-9339', '+1-431-028-3337x3492', 'zkrueger@wolf-chavez.net', '2021-12-06', 'http://www.khan.com/'], ['46', 'fD780ED8dbEae7B', 'Joanne', 'Montes', 'Price, Sexton and Mcdaniel', 'Gwendolynview', 'Palau', '(897)726-7952', '(467)886-9467x5721', 'juan80@henson.net', '2020-07-01', 'http://ochoa.com/'], ['47', '300A40d3ce24bBA', 'Geoffrey', 'Guzman', 'Short-Wiggins', 'Zimmermanland', 'Uzbekistan', '975.235.8921x269', '(983)188-6873', 'bauercrystal@gay.com', '2020-04-23', 'https://decker-kline.com/'], ['48', '283DFCD0Dba40aF', 'Gloria', 'Mccall', 'Brennan, Acosta and Ramos', 'North Kerriton', 'Ghana', '445-603-6729', '001-395-959-4736x4524', 'bartlettjenna@zuniga-moss.biz', '2022-03-11', 'http://burgess-frank.com/'], ['49', 'F4Fc91fEAEad286', 'Brady', 'Cohen', 'Osborne-Erickson', 'North Eileenville', 'United Arab Emirates', '741.849.0139x524', '+1-028-691-7497x0894', 'mccalltyrone@durham-rose.biz', '2022-03-10', 'http://hammond-barron.com/'], ['50', '80F33Fd2AcebF05', 'Latoya', 'Mccann', 'Hobbs, Garrett and Sanford', 'Port Sergiofort', 'Belarus', '(530)287-4548x29481', '162-234-0249x32790', 'bobhammond@barry.biz', '2021-12-02', 'https://www.burton.com/'], ['51', 'Aa20BDe68eAb0e9', 'Gerald', 'Hawkins', 'Phelps, Forbes and Koch', 'New Alberttown', 'Canada', '+1-323-239-1456x96168', '(092)508-0269', 'uwarner@steele-arias.com', '2021-03-19', 'https://valenzuela.com/'], ['52', 'e898eEB1B9FE22b', 'Samuel', 'Crawford', 'May, Goodwin and Martin', 'South Jasmine', 'Algeria', '802-242-7457', '626.116.9535x8578', 'xpittman@ritter-carney.net', '2021-03-27', 'https://guerrero.org/'], ['53', 'faCEF517ae7D8eB', 'Patricia', 'Goodwin', 'Christian, Winters and Ellis', 'Cowanfort', 'Swaziland', '322.549.7139x70040', '(111)741-4173', 'vaughanchristy@lara.biz', '2021-03-08', 'http://clark.info/'], ['54', 'c09952De6Cda8aA', 'Stacie', 'Richard', 'Byrd Inc', 'New Deborah', 'Madagascar', '001-622-948-3641x24810', '001-731-168-2893x8891', 'clinton85@colon-arias.org', '2020-10-15', 'https://kim.com/'], ['55', 'f3BEf3Be028166f', 'Robin', 'West', 'Nixon, Blackwell and Sosa', 'Wallstown', 'Ecuador', '698.303.4267', '001-683-837-7651x525', 'greenemiranda@zimmerman.com', '2022-01-13', 'https://www.mora.com/'], ['56', 'C6F2Fc6a7948a4e', 'Ralph', 'Haas', 'Montes PLC', 'Lake Ellenchester', 'Palestinian Territory', '2239271999', '001-962-434-0867x649', 'goodmancesar@figueroa.biz', '2020-05-25', 'http://may.com/'], ['57', 'c8FE57cBBdCDcb2', 'Phyllis', 'Maldonado', 'Costa PLC', 'Lake Whitney', 'Saint Barthelemy', '4500370767', '001-508-064-6725x017', 'yhanson@warner-diaz.org', '2021-01-25', 'http://www.bernard.com/'], ['58', 'B5acdFC982124F2', 'Danny', 'Parrish', 'Novak LLC', 'East Jaredbury', 'United Arab Emirates', '(669)384-8597x8794', '506.731.5952x571', 'howelldarren@house-cohen.com', '2021-03-17', 'http://www.parsons-hudson.com/'], ['59', '8c7DdF10798bCC3', 'Kathy', 'Hill', 'Moore, Mccoy and Glass', 'Selenabury', 'South Georgia and the South Sandwich Islands', '001-171-716-2175x310', '888.625.0654', 'ncamacho@boone-simmons.org', '2020-11-15', 'http://hayden.com/'], ['60', 'C681dDd0cc422f7', 'Kelli', 'Hardy', 'Petty Ltd', 'Huangfort', 'Sao Tome and Principe', '020.324.2191x2022', '424-157-8216', 'kristopher62@oliver.com', '2020-12-20', 'http://www.kidd.com/'], ['61', 'a940cE42e035F28', 'Lynn', 'Pham', 'Brennan, Camacho and Tapia', 'East Pennyshire', 'Portugal', '846.468.6834x611', '001-248-691-0006', 'mpham@rios-guzman.com', '2020-08-21', 'https://www.murphy.com/'], ['62', '9Cf5E6AFE0aeBfd', 'Shelley', 'Harris', 'Prince, Malone and Pugh', 'Port Jasminborough', 'Togo', '423.098.0315x8373', '+1-386-458-8944x15194', 'zachary96@mitchell-bryant.org', '2020-12-10', 'https://www.ryan.com/'], ['63', 'aEcbe5365BbC67D', 'Eddie', 'Jimenez', 'Caldwell Group', 'West Kristine', 'Ethiopia', '+1-235-657-1073x6306', '(026)401-7353x2417', 'kristiwhitney@bernard.com', '2022-03-24', 'http://cherry.com/'], ['64', 'FCBdfCEAe20A8Dc', 'Chloe', 'Hutchinson', 'Simon LLC', 'South Julia', 'Netherlands', '981-544-9452', '+1-288-552-4666x060', 'leah85@sutton-terrell.com', '2022-05-15', 'https://mitchell.info/'], ['65', '636cBF0835E10ff', 'Eileen', 'Lynch', 'Knight, Abbott and Hubbard', 'Helenborough', 'Liberia', '+1-158-951-4131x53578', '001-673-779-6713x680', 'levigiles@vincent.com', '2021-01-02', 'http://mckay.com/'], ['66', 'fF1b6c9E8Fbf1ff', 'Fernando', 'Lambert', 'Church-Banks', 'Lake Nancy', 'Lithuania', '497.829.9038', '3863743398', 'fisherlinda@schaefer.net', '2021-04-23', 'https://www.vang.com/'], ['67', '2A13F74EAa7DA6c', 'Makayla', 'Cannon', 'Henderson Inc', 'Georgeport', 'New Caledonia', '001-215-801-6392x46009', '027-609-6460', 'scottcurtis@hurley.biz', '2020-01-20', 'http://www.velazquez.net/'], ['68', 'a014Ec1b9FccC1E', 'Tom', 'Alvarado', 'Donaldson-Dougherty', 'South Sophiaberg', 'Kiribati', '(585)606-2980x2258', '730-797-3594x5614', 'nicholsonnina@montgomery.info', '2020-08-18', 'http://odom-massey.com/'], ['69', '421a109cABDf5fa', 'Virginia', 'Dudley', 'Warren Ltd', 'Hartbury', 'French Southern Territories', '027.846.3705x14184', '+1-439-171-1846x4636', 'zvalencia@phelps.com', '2021-01-31', 'http://hunter-esparza.com/'], ['70', 'CC68FD1D3Bbbf22', 'Riley', 'Good', 'Wade PLC', 'Erikaville', 'Canada', '6977745822', '855-436-7641', 'alex06@galloway.com', '2020-02-03', 'http://conway.org/'], ['71', 'CBCd2Ac8E3eBDF9', 'Alexandria', 'Buck', 'Keller-Coffey', 'Nicolasfort', 'Iran', '078-900-4760x76668', '414-112-8700x68751', 'lee48@manning.com', '2021-02-20', 'https://ramsey.org/'], ['72', 'Ef859092FbEcC07', 'Richard', 'Roth', 'Conway-Mcbride', 'New Jasmineshire', 'Morocco', '581-440-6539', '9857827463', 'aharper@maddox-townsend.org', '2020-02-23', 'https://www.brooks.com/'], ['73', 'F560f2d3cDFb618', 'Candice', 'Keller', 'Huynh and Sons', 'East Summerstad', 'Zimbabwe', '001-927-965-8550x92406', '001-243-038-4271x53076', 'buckleycory@odonnell.net', '2020-08-22', 'https://www.lucero.com/'], ['74', 'A3F76Be153Df4a3', 'Anita', 'Benson', 'Parrish Ltd', 'Skinnerport', 'Russian Federation', '874.617.5668x69878', '(399)820-6418x0071', 'angie04@oconnell.com', '2020-02-09', 'http://oconnor.com/'], ['75', 'D01Af0AF7cBbFeA', 'Regina', 'Stein', 'Guzman-Brown', 'Raystad', 'Solomon Islands', '001-469-848-0724x4407', '001-085-360-4426x00357', 'zrosario@rojas-hardin.net', '2022-01-15', 'http://www.johnston.info/'], ['76', 'd40e89dCade7b2F', 'Debra', 'Riddle', 'Chang, Aguirre and Leblanc', 'Colinhaven', 'United States Virgin Islands', '+1-768-182-6014x14336', '(303)961-4491', 'shieldskerry@robles.com', '2020-07-11', 'http://kaiser.info/'], ['77', 'BF6a1f9bd1bf8DE', 'Brittany', 'Zuniga', 'Mason-Hester', 'West Reginald', 'Kyrgyz Republic', '(050)136-9025', '001-480-851-2496x0157', 'mchandler@cochran-huerta.org', '2021-07-24', 'http://www.boyle.com/'], ['78', 'FfaeFFbbbf280db', 'Cassidy', 'Mcmahon', 'Mcguire, Huynh and Hopkins', 'Lake Sherryborough', 'Myanmar', '5040771311', '684-682-0021x1326', 'katrinalane@fitzgerald.com', '2020-10-21', 'https://hurst.com/'], ['79', 'CbAE1d1e9a8dCb1', 'Laurie', 'Pennington', 'Sanchez, Marsh and Hale', 'Port Katherineville', 'Dominica', '007.155.3406x553', '+1-809-862-5566x277', 'cookejill@powell.com', '2020-06-08', 'http://www.hebert.com/'], ['80', 'A7F85c1DE4dB87f', 'Alejandro', 'Blair', 'Combs, Waller and Durham', 'Thomasland', 'Iceland', '(690)068-4641x51468', '555.509.8691x2329', 'elizabethbarr@ewing.com', '2020-09-19', 'https://mercado-blevins.com/'], ['81', 'D6CEAfb3BDbaa1A', 'Leslie', 'Jennings', 'Blankenship-Arias', 'Coreybury', 'Micronesia', '629.198.6346', '075.256.0829', 'corey75@wiggins.com', '2021-11-13', 'https://www.juarez.com/'], ['82', 'Ebdb6F6F7c90b69', 'Kathleen', 'Mckay', 'Coffey, Lamb and Johnson', 'Lake Janiceton', 'Saint Vincent and the Grenadines', '(733)910-9968', '(691)247-4128x0665', 'chloelester@higgins-wilkinson.com', '2021-09-12', 'http://www.owens-mooney.com/'], ['83', 'E8E7e8Cfe516ef0', 'Hunter', 'Moreno', 'Fitzpatrick-Lawrence', 'East Clinton', 'Isle of Man', '(733)833-6754', '001-761-013-7121', 'isaac26@benton-finley.com', '2020-12-28', 'http://walls.info/'], ['84', '78C06E9b6B3DF20', 'Chad', 'Davidson', 'Garcia-Jimenez', 'South Joshuashire', 'Oman', '8275702958', '(804)842-4715', 'justinwalters@jimenez.com', '2021-11-15', 'http://www.garner-oliver.com/'], ['85', '03A1E62ADdeb31c', 'Corey', 'Holt', 'Mcdonald, Bird and Ramirez', 'New Glenda', 'Fiji', '001-439-242-4986x7918', '3162708934', 'maurice46@morgan.com', '2020-02-18', 'http://www.watson.com/'], ['86', 'C6763c99d0bd16D', 'Emma', 'Cunningham', 'Stephens Inc', 'North Jillianview', 'New Zealand', '128-059-0206x60217', '(312)164-4545x2284', 'walter83@juarez.org', '2022-05-13', 'http://www.reid.info/'], ['87', 'ebe77E5Bf9476CE', 'Duane', 'Woods', 'Montoya-Miller', 'Lyonsberg', 'Maldives', '(636)544-7783x7288', '(203)287-1003x5932', 'kmercer@wagner.com', '2020-07-21', 'http://murray.org/'], ['88', 'E4Bbcd8AD81fC5f', 'Alison', 'Vargas', 'Vaughn, Watts and Leach', 'East Cristinabury', 'Benin', '365-273-8144', '053-308-7653x6287', 'vcantu@norton.com', '2020-11-10', 'http://mason.info/'], ['89', 'efeb73245CDf1fF', 'Vernon', 'Kane', 'Carter-Strickland', 'Thomasfurt', 'Yemen', '114-854-1159x555', '499-608-4612', 'hilljesse@barrett.info', '2021-04-15', 'http://www.duffy-hensley.net/'], ['90', '37Ec4B395641c1E', 'Lori', 'Flowers', 'Decker-Mcknight', 'North Joeburgh', 'Namibia', '679.415.1210', '945-842-3659x4581', 'tyrone77@valenzuela.info', '2021-01-09', 'http://www.deleon-crosby.com/'], ['91', '5ef6d3eefdD43bE', 'Nina', 'Chavez', 'Byrd-Campbell', 'Cassidychester', 'Bhutan', '053-344-3205', '+1-330-920-5422x571', 'elliserica@frank.com', '2020-03-26', 'https://www.pugh.com/'], ['92', '98b3aeDcC3B9FF3', 'Shane', 'Foley', 'Rocha-Hart', 'South Dannymouth', 'Hungary', '+1-822-569-0302', '001-626-114-5844x55073', 'nsteele@sparks.com', '2021-07-06', 'https://www.holt-sparks.com/'], ['93', 'aAb6AFc7AfD0fF3', 'Collin', 'Ayers', 'Lamb-Peterson', 'South Lonnie', 'Anguilla', '404-645-5351x012', '001-257-582-8850x8516', 'dudleyemily@gonzales.biz', '2021-06-29', 'http://www.ruiz.com/'], ['94', '54B5B5Fe9F1B6C5', 'Sherry', 'Young', 'Lee, Lucero and Johnson', 'Frankchester', 'Solomon Islands', '158-687-1764', '(438)375-6207x003', 'alan79@gates-mclaughlin.com', '2021-04-04', 'https://travis.net/'], ['95', 'BE91A0bdcA49Bbc', 'Darrell', 'Douglas', 'Newton, Petersen and Mathis', 'Daisyborough', 'Mali', '001-084-845-9524x1777', '001-769-564-6303', 'grayjean@lowery-good.com', '2022-02-17', 'https://banks.biz/'], ['96', 'cb8E23e48d22Eae', 'Karl', 'Greer', 'Carey LLC', 'East Richard', 'Guyana', '(188)169-1674x58692', '001-841-293-3519x614', 'hhart@jensen.com', '2022-01-30', 'http://hayes-perez.com/'], ['97', 'CeD220bdAaCfaDf', 'Lynn', 'Atkinson', 'Ware, Burns and Oneal', 'New Bradview', 'Sri Lanka', '+1-846-706-2218', '605.413.3198', 'vkemp@ferrell.com', '2021-07-10', 'https://novak-allison.com/'], ['98', '28CDbC0dFe4b1Db', 'Fred', 'Guerra', 'Schmitt-Jones', 'Ortegaland', 'Solomon Islands', '+1-753-067-8419x7170', '+1-632-666-7507x92121', 'swagner@kane.org', '2021-09-18', 'https://www.ross.com/'], ['99', 'c23d1D9EE8DEB0A', 'Yvonne', 'Farmer', 'Fitzgerald-Harrell', 'Lake Elijahview', 'Aruba', '(530)311-9786', '001-869-452-0943x12424', 'mccarthystephen@horn-green.biz', '2021-08-11', 'http://watkins.info/'], ['100', '2354a0E336A91A1', 'Clarence', 'Haynes', 'Le, Nash and Cross', 'Judymouth', 'Honduras', '(753)813-6941', '783.639.1472', 'colleen91@faulkner.biz', '2020-03-11', 'http://www.hatfield-saunders.net/']]\n",
      "Index \tCustomer Id \tFirst Name \tLast Name \tCompany \tCity \tCountry \tPhone 1 \tPhone 2 \tEmail \tSubscription Date \tWebsite \t\n",
      "1 \tDD37Cf93aecA6Dc \tSheryl \tBaxter \tRasmussen Group \tEast Leonard \tChile \t229.077.5154 \t397.884.0519x718 \tzunigavanessa@smith.info \t2020-08-24 \thttp://www.stephenson.com/ \t\n",
      "2 \t1Ef7b82A4CAAD10 \tPreston \tLozano \tVega-Gentry \tEast Jimmychester \tDjibouti \t5153435776 \t686-620-1820x944 \tvmata@colon.com \t2021-04-23 \thttp://www.hobbs.com/ \t\n",
      "3 \t6F94879bDAfE5a6 \tRoy \tBerry \tMurillo-Perry \tIsabelborough \tAntigua and Barbuda \t+1-539-402-0259 \t(496)978-3969x58947 \tbeckycarr@hogan.com \t2020-03-25 \thttp://www.lawrence.com/ \t\n",
      "4 \t5Cef8BFA16c5e3c \tLinda \tOlsen \tDominguez, Mcmillan and Donovan \tBensonview \tDominican Republic \t001-808-617-6467x12895 \t+1-813-324-8756 \tstanleyblackwell@benson.org \t2020-06-02 \thttp://www.good-lyons.com/ \t\n",
      "5 \t053d585Ab6b3159 \tJoanna \tBender \tMartin, Lang and Andrade \tWest Priscilla \tSlovakia (Slovak Republic) \t001-234-203-0635x76146 \t001-199-446-3860x3486 \tcolinalvarado@miles.net \t2021-04-17 \thttps://goodwin-ingram.com/ \t\n",
      "6 \t2d08FB17EE273F4 \tAimee \tDowns \tSteele Group \tChavezborough \tBosnia and Herzegovina \t(283)437-3886x88321 \t999-728-1637 \tlouis27@gilbert.com \t2020-02-25 \thttp://www.berger.net/ \t\n",
      "7 \tEA4d384DfDbBf77 \tDarren \tPeck \tLester, Woodard and Mitchell \tLake Ana \tPitcairn Islands \t(496)452-6181x3291 \t+1-247-266-0963x4995 \ttgates@cantrell.com \t2021-08-24 \thttps://www.le.com/ \t\n",
      "8 \t0e04AFde9f225dE \tBrett \tMullen \tSanford, Davenport and Giles \tKimport \tBulgaria \t001-583-352-7197x297 \t001-333-145-0369 \tasnow@colon.com \t2021-04-12 \thttps://hammond-ramsey.com/ \t\n",
      "9 \tC2dE4dEEc489ae0 \tSheryl \tMeyers \tBrowning-Simon \tRobersonstad \tCyprus \t854-138-4911x5772 \t+1-448-910-2276x729 \tmariokhan@ryan-pope.org \t2020-01-13 \thttps://www.bullock.net/ \t\n",
      "10 \t8C2811a503C7c5a \tMichelle \tGallagher \tBeck-Hendrix \tElaineberg \tTimor-Leste \t739.218.2516x459 \t001-054-401-0347x617 \tmdyer@escobar.net \t2021-11-08 \thttps://arias.com/ \t\n",
      "11 \t216E205d6eBb815 \tCarl \tSchroeder \tOconnell, Meza and Everett \tShannonville \tGuernsey \t637-854-0256x825 \t114.336.0784x788 \tkirksalas@webb.com \t2021-10-20 \thttps://simmons-hurley.com/ \t\n",
      "12 \tCEDec94deE6d69B \tJenna \tDodson \tHoffman, Reed and Mcclain \tEast Andrea \tVietnam \t(041)737-3846 \t+1-556-888-3485x42608 \tmark42@robbins.com \t2020-11-29 \thttp://www.douglas.net/ \t\n",
      "13 \te35426EbDEceaFF \tTracey \tMata \tGraham-Francis \tSouth Joannamouth \tTogo \t001-949-844-8787 \t(855)713-8773 \talex56@walls.org \t2021-12-02 \thttp://www.beck.com/ \t\n",
      "14 \tA08A8aF8BE9FaD4 \tKristine \tCox \tCarpenter-Cook \tJodyberg \tSri Lanka \t786-284-3358x62152 \t+1-315-627-1796x8074 \tholdenmiranda@clarke.com \t2021-02-08 \thttps://www.brandt.com/ \t\n",
      "15 \t6fEaA1b7cab7B6C \tFaith \tLutz \tCarter-Hancock \tBurchbury \tSingapore \t(781)861-7180x8306 \t207-185-3665 \tcassieparrish@blevins-chapman.net \t2022-01-26 \thttp://stevenson.org/ \t\n",
      "16 \t8cad0b4CBceaeec \tMiranda \tBeasley \tSingleton and Sons \tDesireeshire \tOman \t540.085.3135x185 \t+1-600-462-6432x21881 \tvduncan@parks-hardy.com \t2022-04-12 \thttp://acosta.org/ \t\n",
      "17 \ta5DC21AE3a21eaA \tCaroline \tFoley \tWinters-Mendoza \tWest Adriennestad \tWestern Sahara \t936.222.4746x9924 \t001-469-948-6341x359 \tholtgwendolyn@watson-davenport.com \t2021-03-10 \thttp://www.benson-roth.com/ \t\n",
      "18 \tF8Aa9d6DfcBeeF8 \tGreg \tMata \tValentine LLC \tLake Leslie \tMozambique \t(701)087-2415 \t(195)156-1861x26241 \tjaredjuarez@carroll.org \t2022-03-26 \thttp://pitts-cherry.com/ \t\n",
      "19 \tF160f5Db3EfE973 \tClifford \tJacobson \tSimon LLC \tHarmonview \tSouth Georgia and the South Sandwich Islands \t001-151-330-3524x0469 \t(748)477-7174 \tjoseph26@jacobson.com \t2020-09-24 \thttps://mcconnell.com/ \t\n",
      "20 \t0F60FF3DdCd7aB0 \tJoanna \tKirk \tMays-Mccormick \tJamesshire \tFrench Polynesia \t(266)131-7001x711 \t(283)312-5579x11543 \ttuckerangie@salazar.net \t2021-09-24 \thttps://www.camacho.net/ \t\n",
      "21 \t9F9AdB7B8A6f7F2 \tMaxwell \tFrye \tPatterson Inc \tEast Carly \tMalta \t423.262.3059 \t202-880-0688x7491 \tfgibson@drake-webb.com \t2022-01-12 \thttp://www.roberts.com/ \t\n",
      "22 \tFBd0Ded4F02a742 \tKiara \tHouston \tManning, Hester and Arroyo \tSouth Alvin \tNetherlands \t001-274-040-3582x10611 \t+1-528-175-0973x4684 \tblanchardbob@wallace-shannon.com \t2020-09-15 \thttps://www.reid-potts.com/ \t\n",
      "23 \t2FB0FAA1d429421 \tColleen \tHoward \tGreer and Sons \tBrittanyview \tParaguay \t1935085151 \t(947)115-7711x5488 \trsingleton@ryan-cherry.com \t2020-08-19 \thttp://paul.biz/ \t\n",
      "24 \t010468dAA11382c \tJanet \tValenzuela \tWatts-Donaldson \tVeronicamouth \tLao People's Democratic Republic \t354.259.5062x7538 \t500.433.2022 \tstefanie71@spence.com \t2020-09-08 \thttps://moreno.biz/ \t\n",
      "25 \teC1927Ca84E033e \tShane \tWilcox \tTucker LLC \tBryanville \tAlbania \t(429)005-9030x11004 \t541-116-4501 \tmariah88@santos.com \t2021-04-06 \thttps://www.ramos.com/ \t\n",
      "26 \t09D7D7C8Fe09aea \tMarcus \tMoody \tGiles Ltd \tKaitlyntown \tPanama \t674-677-8623 \t909-277-5485x566 \tdonnamullins@norris-barrett.org \t2022-05-24 \thttps://www.curry.com/ \t\n",
      "27 \taBdfcF2c50b0bfD \tDakota \tPoole \tSimmons Group \tMichealshire \tBelarus \t(371)987-8576x4720 \t071-152-1376 \tstacey67@fields.org \t2022-02-20 \thttps://sanford-wilcox.biz/ \t\n",
      "28 \tb92EBfdF8a3f0E6 \tFrederick \tHarper \tHinton, Chaney and Stokes \tSouth Marissatown \tSwitzerland \t+1-077-121-1558x0687 \t264.742.7149 \tjacobkhan@bright.biz \t2022-05-26 \thttps://callahan.org/ \t\n",
      "29 \t3B5dAAFA41AFa22 \tStefanie \tFitzpatrick \tSantana-Duran \tAcevedoville \tSaint Vincent and the Grenadines \t(752)776-3286 \t+1-472-021-4814x85074 \twterrell@clark.com \t2020-07-30 \thttps://meyers.com/ \t\n",
      "30 \tEDA69ca7a6e96a2 \tKent \tBradshaw \tSawyer PLC \tNorth Harold \tTanzania \t+1-472-143-5037x884 \t126.922.6153 \tqjimenez@boyd.com \t2020-04-26 \thttp://maynard-ho.com/ \t\n",
      "31 \t64DCcDFaB9DFd4e \tJack \tTate \tAcosta, Petersen and Morrow \tWest Samuel \tZimbabwe \t965-108-4406x20714 \t046.906.1442x6784 \tgfigueroa@boone-zavala.com \t2021-09-15 \thttp://www.hawkins-ramsey.com/ \t\n",
      "32 \t679c6c83DD872d6 \tTom \tTrujillo \tMcgee Group \tCunninghamborough \tDenmark \t416-338-3758 \t(775)890-7209 \ttapiagreg@beard.info \t2022-01-13 \thttp://www.daniels-klein.com/ \t\n",
      "33 \t7Ce381e4Afa4ba9 \tGabriel \tMejia \tAdkins-Salinas \tPort Annatown \tLiechtenstein \t4077245425 \t646.044.0696x66800 \tcoleolson@jennings.net \t2021-04-24 \thttps://patel-hanson.info/ \t\n",
      "34 \tA09AEc6E3bF70eE \tKaitlyn \tSantana \tHerrera Group \tNew Kaitlyn \tUnited States of America \t6303643286 \t447-710-6202x07313 \tgeorgeross@miles.org \t2021-09-21 \thttp://pham.com/ \t\n",
      "35 \taA9BAFfBc3710fe \tFaith \tMoon \tWaters, Chase and Aguilar \tWest Marthaburgh \tBahamas \t+1-586-217-0359x6317 \t+1-818-199-1403 \twillistonya@randolph-baker.com \t2021-11-03 \thttps://spencer-charles.info/ \t\n",
      "36 \tE11dfb2DB8C9f72 \tTammie \tHaley \tPalmer, Barnes and Houston \tEast Teresa \tBelize \t001-276-734-4113x6087 \t(430)300-8770 \tharrisisaiah@jenkins.com \t2022-01-04 \thttp://evans-simon.com/ \t\n",
      "37 \t889eCf90f68c5Da \tNicholas \tSosa \tJordan Ltd \tSouth Hunter \tUruguay \t(661)425-6042 \t975-998-1519 \tfwolfe@dorsey.com \t2021-08-10 \thttps://www.fleming-richards.com/ \t\n",
      "38 \t7a1Ee69F4fF4B4D \tJordan \tGay \tGlover and Sons \tSouth Walter \tSolomon Islands \t7208417020 \t8035336772 \ttiffanydavies@harris-mcfarland.org \t2021-02-24 \thttp://www.lee.org/ \t\n",
      "39 \tdca4f1D0A0fc5c9 \tBruce \tEsparza \tHuerta-Mclean \tPoolefurt \tMontenegro \t559-529-4424 \t001-625-000-7132x0367 \tpreese@frye-vega.com \t2021-10-22 \thttp://www.farley.org/ \t\n",
      "40 \t17aD8e2dB3df03D \tSherry \tGarza \tAnderson Ltd \tWest John \tPoland \t001-067-713-6440x158 \t(978)289-8785x5766 \tann48@miller.com \t2021-11-01 \thttp://spence.com/ \t\n",
      "41 \t2f79Cd309624Abb \tNatalie \tGentry \tMonroe PLC \tWest Darius \tDominican Republic \t830.996.8238 \t499.122.5415 \ttcummings@fitzpatrick-ashley.com \t2020-10-10 \thttp://www.dorsey.biz/ \t\n",
      "42 \t6e5ad5a5e2bB5Ca \tBryan \tDunn \tKaufman and Sons \tNorth Jimstad \tBurkina Faso \t001-710-802-5565 \t078.699.8982x13881 \twoodwardandres@phelps.com \t2021-09-08 \thttp://www.butler.com/ \t\n",
      "43 \t7E441b6B228DBcA \tWayne \tSimpson \tPerkins-Trevino \tEast Rebekahborough \tBolivia \t(344)156-8632x1869 \t463-445-3702x38463 \tbarbarapittman@holder.com \t2020-12-13 \thttps://gillespie-holder.com/ \t\n",
      "44 \tD3fC11A9C235Dc6 \tLuis \tGreer \tCross PLC \tNorth Drew \tBulgaria \t001-336-025-6849x701 \t684.698.2911x6092 \tbstuart@williamson-mcclure.com \t2022-05-15 \thttps://fletcher-nielsen.com/ \t\n",
      "45 \t30Dfa48fe5Ede78 \tRhonda \tFrost \tHerrera, Shepherd and Underwood \tLake Lindaburgh \tMonaco \t(127)081-9339 \t+1-431-028-3337x3492 \tzkrueger@wolf-chavez.net \t2021-12-06 \thttp://www.khan.com/ \t\n",
      "46 \tfD780ED8dbEae7B \tJoanne \tMontes \tPrice, Sexton and Mcdaniel \tGwendolynview \tPalau \t(897)726-7952 \t(467)886-9467x5721 \tjuan80@henson.net \t2020-07-01 \thttp://ochoa.com/ \t\n",
      "47 \t300A40d3ce24bBA \tGeoffrey \tGuzman \tShort-Wiggins \tZimmermanland \tUzbekistan \t975.235.8921x269 \t(983)188-6873 \tbauercrystal@gay.com \t2020-04-23 \thttps://decker-kline.com/ \t\n",
      "48 \t283DFCD0Dba40aF \tGloria \tMccall \tBrennan, Acosta and Ramos \tNorth Kerriton \tGhana \t445-603-6729 \t001-395-959-4736x4524 \tbartlettjenna@zuniga-moss.biz \t2022-03-11 \thttp://burgess-frank.com/ \t\n",
      "49 \tF4Fc91fEAEad286 \tBrady \tCohen \tOsborne-Erickson \tNorth Eileenville \tUnited Arab Emirates \t741.849.0139x524 \t+1-028-691-7497x0894 \tmccalltyrone@durham-rose.biz \t2022-03-10 \thttp://hammond-barron.com/ \t\n",
      "50 \t80F33Fd2AcebF05 \tLatoya \tMccann \tHobbs, Garrett and Sanford \tPort Sergiofort \tBelarus \t(530)287-4548x29481 \t162-234-0249x32790 \tbobhammond@barry.biz \t2021-12-02 \thttps://www.burton.com/ \t\n",
      "51 \tAa20BDe68eAb0e9 \tGerald \tHawkins \tPhelps, Forbes and Koch \tNew Alberttown \tCanada \t+1-323-239-1456x96168 \t(092)508-0269 \tuwarner@steele-arias.com \t2021-03-19 \thttps://valenzuela.com/ \t\n",
      "52 \te898eEB1B9FE22b \tSamuel \tCrawford \tMay, Goodwin and Martin \tSouth Jasmine \tAlgeria \t802-242-7457 \t626.116.9535x8578 \txpittman@ritter-carney.net \t2021-03-27 \thttps://guerrero.org/ \t\n",
      "53 \tfaCEF517ae7D8eB \tPatricia \tGoodwin \tChristian, Winters and Ellis \tCowanfort \tSwaziland \t322.549.7139x70040 \t(111)741-4173 \tvaughanchristy@lara.biz \t2021-03-08 \thttp://clark.info/ \t\n",
      "54 \tc09952De6Cda8aA \tStacie \tRichard \tByrd Inc \tNew Deborah \tMadagascar \t001-622-948-3641x24810 \t001-731-168-2893x8891 \tclinton85@colon-arias.org \t2020-10-15 \thttps://kim.com/ \t\n",
      "55 \tf3BEf3Be028166f \tRobin \tWest \tNixon, Blackwell and Sosa \tWallstown \tEcuador \t698.303.4267 \t001-683-837-7651x525 \tgreenemiranda@zimmerman.com \t2022-01-13 \thttps://www.mora.com/ \t\n",
      "56 \tC6F2Fc6a7948a4e \tRalph \tHaas \tMontes PLC \tLake Ellenchester \tPalestinian Territory \t2239271999 \t001-962-434-0867x649 \tgoodmancesar@figueroa.biz \t2020-05-25 \thttp://may.com/ \t\n",
      "57 \tc8FE57cBBdCDcb2 \tPhyllis \tMaldonado \tCosta PLC \tLake Whitney \tSaint Barthelemy \t4500370767 \t001-508-064-6725x017 \tyhanson@warner-diaz.org \t2021-01-25 \thttp://www.bernard.com/ \t\n",
      "58 \tB5acdFC982124F2 \tDanny \tParrish \tNovak LLC \tEast Jaredbury \tUnited Arab Emirates \t(669)384-8597x8794 \t506.731.5952x571 \thowelldarren@house-cohen.com \t2021-03-17 \thttp://www.parsons-hudson.com/ \t\n",
      "59 \t8c7DdF10798bCC3 \tKathy \tHill \tMoore, Mccoy and Glass \tSelenabury \tSouth Georgia and the South Sandwich Islands \t001-171-716-2175x310 \t888.625.0654 \tncamacho@boone-simmons.org \t2020-11-15 \thttp://hayden.com/ \t\n",
      "60 \tC681dDd0cc422f7 \tKelli \tHardy \tPetty Ltd \tHuangfort \tSao Tome and Principe \t020.324.2191x2022 \t424-157-8216 \tkristopher62@oliver.com \t2020-12-20 \thttp://www.kidd.com/ \t\n",
      "61 \ta940cE42e035F28 \tLynn \tPham \tBrennan, Camacho and Tapia \tEast Pennyshire \tPortugal \t846.468.6834x611 \t001-248-691-0006 \tmpham@rios-guzman.com \t2020-08-21 \thttps://www.murphy.com/ \t\n",
      "62 \t9Cf5E6AFE0aeBfd \tShelley \tHarris \tPrince, Malone and Pugh \tPort Jasminborough \tTogo \t423.098.0315x8373 \t+1-386-458-8944x15194 \tzachary96@mitchell-bryant.org \t2020-12-10 \thttps://www.ryan.com/ \t\n",
      "63 \taEcbe5365BbC67D \tEddie \tJimenez \tCaldwell Group \tWest Kristine \tEthiopia \t+1-235-657-1073x6306 \t(026)401-7353x2417 \tkristiwhitney@bernard.com \t2022-03-24 \thttp://cherry.com/ \t\n",
      "64 \tFCBdfCEAe20A8Dc \tChloe \tHutchinson \tSimon LLC \tSouth Julia \tNetherlands \t981-544-9452 \t+1-288-552-4666x060 \tleah85@sutton-terrell.com \t2022-05-15 \thttps://mitchell.info/ \t\n",
      "65 \t636cBF0835E10ff \tEileen \tLynch \tKnight, Abbott and Hubbard \tHelenborough \tLiberia \t+1-158-951-4131x53578 \t001-673-779-6713x680 \tlevigiles@vincent.com \t2021-01-02 \thttp://mckay.com/ \t\n",
      "66 \tfF1b6c9E8Fbf1ff \tFernando \tLambert \tChurch-Banks \tLake Nancy \tLithuania \t497.829.9038 \t3863743398 \tfisherlinda@schaefer.net \t2021-04-23 \thttps://www.vang.com/ \t\n",
      "67 \t2A13F74EAa7DA6c \tMakayla \tCannon \tHenderson Inc \tGeorgeport \tNew Caledonia \t001-215-801-6392x46009 \t027-609-6460 \tscottcurtis@hurley.biz \t2020-01-20 \thttp://www.velazquez.net/ \t\n",
      "68 \ta014Ec1b9FccC1E \tTom \tAlvarado \tDonaldson-Dougherty \tSouth Sophiaberg \tKiribati \t(585)606-2980x2258 \t730-797-3594x5614 \tnicholsonnina@montgomery.info \t2020-08-18 \thttp://odom-massey.com/ \t\n",
      "69 \t421a109cABDf5fa \tVirginia \tDudley \tWarren Ltd \tHartbury \tFrench Southern Territories \t027.846.3705x14184 \t+1-439-171-1846x4636 \tzvalencia@phelps.com \t2021-01-31 \thttp://hunter-esparza.com/ \t\n",
      "70 \tCC68FD1D3Bbbf22 \tRiley \tGood \tWade PLC \tErikaville \tCanada \t6977745822 \t855-436-7641 \talex06@galloway.com \t2020-02-03 \thttp://conway.org/ \t\n",
      "71 \tCBCd2Ac8E3eBDF9 \tAlexandria \tBuck \tKeller-Coffey \tNicolasfort \tIran \t078-900-4760x76668 \t414-112-8700x68751 \tlee48@manning.com \t2021-02-20 \thttps://ramsey.org/ \t\n",
      "72 \tEf859092FbEcC07 \tRichard \tRoth \tConway-Mcbride \tNew Jasmineshire \tMorocco \t581-440-6539 \t9857827463 \taharper@maddox-townsend.org \t2020-02-23 \thttps://www.brooks.com/ \t\n",
      "73 \tF560f2d3cDFb618 \tCandice \tKeller \tHuynh and Sons \tEast Summerstad \tZimbabwe \t001-927-965-8550x92406 \t001-243-038-4271x53076 \tbuckleycory@odonnell.net \t2020-08-22 \thttps://www.lucero.com/ \t\n",
      "74 \tA3F76Be153Df4a3 \tAnita \tBenson \tParrish Ltd \tSkinnerport \tRussian Federation \t874.617.5668x69878 \t(399)820-6418x0071 \tangie04@oconnell.com \t2020-02-09 \thttp://oconnor.com/ \t\n",
      "75 \tD01Af0AF7cBbFeA \tRegina \tStein \tGuzman-Brown \tRaystad \tSolomon Islands \t001-469-848-0724x4407 \t001-085-360-4426x00357 \tzrosario@rojas-hardin.net \t2022-01-15 \thttp://www.johnston.info/ \t\n",
      "76 \td40e89dCade7b2F \tDebra \tRiddle \tChang, Aguirre and Leblanc \tColinhaven \tUnited States Virgin Islands \t+1-768-182-6014x14336 \t(303)961-4491 \tshieldskerry@robles.com \t2020-07-11 \thttp://kaiser.info/ \t\n",
      "77 \tBF6a1f9bd1bf8DE \tBrittany \tZuniga \tMason-Hester \tWest Reginald \tKyrgyz Republic \t(050)136-9025 \t001-480-851-2496x0157 \tmchandler@cochran-huerta.org \t2021-07-24 \thttp://www.boyle.com/ \t\n",
      "78 \tFfaeFFbbbf280db \tCassidy \tMcmahon \tMcguire, Huynh and Hopkins \tLake Sherryborough \tMyanmar \t5040771311 \t684-682-0021x1326 \tkatrinalane@fitzgerald.com \t2020-10-21 \thttps://hurst.com/ \t\n",
      "79 \tCbAE1d1e9a8dCb1 \tLaurie \tPennington \tSanchez, Marsh and Hale \tPort Katherineville \tDominica \t007.155.3406x553 \t+1-809-862-5566x277 \tcookejill@powell.com \t2020-06-08 \thttp://www.hebert.com/ \t\n",
      "80 \tA7F85c1DE4dB87f \tAlejandro \tBlair \tCombs, Waller and Durham \tThomasland \tIceland \t(690)068-4641x51468 \t555.509.8691x2329 \telizabethbarr@ewing.com \t2020-09-19 \thttps://mercado-blevins.com/ \t\n",
      "81 \tD6CEAfb3BDbaa1A \tLeslie \tJennings \tBlankenship-Arias \tCoreybury \tMicronesia \t629.198.6346 \t075.256.0829 \tcorey75@wiggins.com \t2021-11-13 \thttps://www.juarez.com/ \t\n",
      "82 \tEbdb6F6F7c90b69 \tKathleen \tMckay \tCoffey, Lamb and Johnson \tLake Janiceton \tSaint Vincent and the Grenadines \t(733)910-9968 \t(691)247-4128x0665 \tchloelester@higgins-wilkinson.com \t2021-09-12 \thttp://www.owens-mooney.com/ \t\n",
      "83 \tE8E7e8Cfe516ef0 \tHunter \tMoreno \tFitzpatrick-Lawrence \tEast Clinton \tIsle of Man \t(733)833-6754 \t001-761-013-7121 \tisaac26@benton-finley.com \t2020-12-28 \thttp://walls.info/ \t\n",
      "84 \t78C06E9b6B3DF20 \tChad \tDavidson \tGarcia-Jimenez \tSouth Joshuashire \tOman \t8275702958 \t(804)842-4715 \tjustinwalters@jimenez.com \t2021-11-15 \thttp://www.garner-oliver.com/ \t\n",
      "85 \t03A1E62ADdeb31c \tCorey \tHolt \tMcdonald, Bird and Ramirez \tNew Glenda \tFiji \t001-439-242-4986x7918 \t3162708934 \tmaurice46@morgan.com \t2020-02-18 \thttp://www.watson.com/ \t\n",
      "86 \tC6763c99d0bd16D \tEmma \tCunningham \tStephens Inc \tNorth Jillianview \tNew Zealand \t128-059-0206x60217 \t(312)164-4545x2284 \twalter83@juarez.org \t2022-05-13 \thttp://www.reid.info/ \t\n",
      "87 \tebe77E5Bf9476CE \tDuane \tWoods \tMontoya-Miller \tLyonsberg \tMaldives \t(636)544-7783x7288 \t(203)287-1003x5932 \tkmercer@wagner.com \t2020-07-21 \thttp://murray.org/ \t\n",
      "88 \tE4Bbcd8AD81fC5f \tAlison \tVargas \tVaughn, Watts and Leach \tEast Cristinabury \tBenin \t365-273-8144 \t053-308-7653x6287 \tvcantu@norton.com \t2020-11-10 \thttp://mason.info/ \t\n",
      "89 \tefeb73245CDf1fF \tVernon \tKane \tCarter-Strickland \tThomasfurt \tYemen \t114-854-1159x555 \t499-608-4612 \thilljesse@barrett.info \t2021-04-15 \thttp://www.duffy-hensley.net/ \t\n",
      "90 \t37Ec4B395641c1E \tLori \tFlowers \tDecker-Mcknight \tNorth Joeburgh \tNamibia \t679.415.1210 \t945-842-3659x4581 \ttyrone77@valenzuela.info \t2021-01-09 \thttp://www.deleon-crosby.com/ \t\n",
      "91 \t5ef6d3eefdD43bE \tNina \tChavez \tByrd-Campbell \tCassidychester \tBhutan \t053-344-3205 \t+1-330-920-5422x571 \telliserica@frank.com \t2020-03-26 \thttps://www.pugh.com/ \t\n",
      "92 \t98b3aeDcC3B9FF3 \tShane \tFoley \tRocha-Hart \tSouth Dannymouth \tHungary \t+1-822-569-0302 \t001-626-114-5844x55073 \tnsteele@sparks.com \t2021-07-06 \thttps://www.holt-sparks.com/ \t\n",
      "93 \taAb6AFc7AfD0fF3 \tCollin \tAyers \tLamb-Peterson \tSouth Lonnie \tAnguilla \t404-645-5351x012 \t001-257-582-8850x8516 \tdudleyemily@gonzales.biz \t2021-06-29 \thttp://www.ruiz.com/ \t\n",
      "94 \t54B5B5Fe9F1B6C5 \tSherry \tYoung \tLee, Lucero and Johnson \tFrankchester \tSolomon Islands \t158-687-1764 \t(438)375-6207x003 \talan79@gates-mclaughlin.com \t2021-04-04 \thttps://travis.net/ \t\n",
      "95 \tBE91A0bdcA49Bbc \tDarrell \tDouglas \tNewton, Petersen and Mathis \tDaisyborough \tMali \t001-084-845-9524x1777 \t001-769-564-6303 \tgrayjean@lowery-good.com \t2022-02-17 \thttps://banks.biz/ \t\n",
      "96 \tcb8E23e48d22Eae \tKarl \tGreer \tCarey LLC \tEast Richard \tGuyana \t(188)169-1674x58692 \t001-841-293-3519x614 \thhart@jensen.com \t2022-01-30 \thttp://hayes-perez.com/ \t\n",
      "97 \tCeD220bdAaCfaDf \tLynn \tAtkinson \tWare, Burns and Oneal \tNew Bradview \tSri Lanka \t+1-846-706-2218 \t605.413.3198 \tvkemp@ferrell.com \t2021-07-10 \thttps://novak-allison.com/ \t\n",
      "98 \t28CDbC0dFe4b1Db \tFred \tGuerra \tSchmitt-Jones \tOrtegaland \tSolomon Islands \t+1-753-067-8419x7170 \t+1-632-666-7507x92121 \tswagner@kane.org \t2021-09-18 \thttps://www.ross.com/ \t\n",
      "99 \tc23d1D9EE8DEB0A \tYvonne \tFarmer \tFitzgerald-Harrell \tLake Elijahview \tAruba \t(530)311-9786 \t001-869-452-0943x12424 \tmccarthystephen@horn-green.biz \t2021-08-11 \thttp://watkins.info/ \t\n",
      "100 \t2354a0E336A91A1 \tClarence \tHaynes \tLe, Nash and Cross \tJudymouth \tHonduras \t(753)813-6941 \t783.639.1472 \tcolleen91@faulkner.biz \t2020-03-11 \thttp://www.hatfield-saunders.net/ \t\n"
     ]
    }
   ],
   "source": [
    "import csv\n",
    "import os\n",
    "\n",
    "file_name = \"customers-100.csv\"\n",
    "file_path = os.path.abspath(file_name)\n",
    "\n",
    "try:\n",
    "    with open(file_path, 'r') as f:\n",
    "        r = csv.reader(f)  # Returns csv reader object\n",
    "        data = list(r)\n",
    "        print(data)\n",
    "        for line in data:\n",
    "            for word in line:\n",
    "                print(word, \"\\t\", end='')\n",
    "            print()\n",
    "except PermissionError as e:\n",
    "    print(f\"PermissionError: {e}\")\n",
    "except FileNotFoundError as e:\n",
    "    print(f\"FileNotFoundError: {e}\")\n"
   ]
  },
  {
   "cell_type": "code",
   "execution_count": 26,
   "id": "e945c814",
   "metadata": {},
   "outputs": [
    {
     "name": "stdout",
     "output_type": "stream",
     "text": [
      "[['Index', 'Customer Id', 'First Name', 'Last Name', 'Company', 'City', 'Country', 'Phone 1', 'Phone 2', 'Email', 'Subscription Date', 'Website'], ['1', 'DD37Cf93aecA6Dc', 'Sheryl', 'Baxter', 'Rasmussen Group', 'East Leonard', 'Chile', '229.077.5154', '397.884.0519x718', 'zunigavanessa@smith.info', '2020-08-24', 'http://www.stephenson.com/'], ['2', '1Ef7b82A4CAAD10', 'Preston', 'Lozano', 'Vega-Gentry', 'East Jimmychester', 'Djibouti', '5153435776', '686-620-1820x944', 'vmata@colon.com', '2021-04-23', 'http://www.hobbs.com/'], ['3', '6F94879bDAfE5a6', 'Roy', 'Berry', 'Murillo-Perry', 'Isabelborough', 'Antigua and Barbuda', '+1-539-402-0259', '(496)978-3969x58947', 'beckycarr@hogan.com', '2020-03-25', 'http://www.lawrence.com/'], ['4', '5Cef8BFA16c5e3c', 'Linda', 'Olsen', 'Dominguez, Mcmillan and Donovan', 'Bensonview', 'Dominican Republic', '001-808-617-6467x12895', '+1-813-324-8756', 'stanleyblackwell@benson.org', '2020-06-02', 'http://www.good-lyons.com/'], ['5', '053d585Ab6b3159', 'Joanna', 'Bender', 'Martin, Lang and Andrade', 'West Priscilla', 'Slovakia (Slovak Republic)', '001-234-203-0635x76146', '001-199-446-3860x3486', 'colinalvarado@miles.net', '2021-04-17', 'https://goodwin-ingram.com/'], ['6', '2d08FB17EE273F4', 'Aimee', 'Downs', 'Steele Group', 'Chavezborough', 'Bosnia and Herzegovina', '(283)437-3886x88321', '999-728-1637', 'louis27@gilbert.com', '2020-02-25', 'http://www.berger.net/'], ['7', 'EA4d384DfDbBf77', 'Darren', 'Peck', 'Lester, Woodard and Mitchell', 'Lake Ana', 'Pitcairn Islands', '(496)452-6181x3291', '+1-247-266-0963x4995', 'tgates@cantrell.com', '2021-08-24', 'https://www.le.com/'], ['8', '0e04AFde9f225dE', 'Brett', 'Mullen', 'Sanford, Davenport and Giles', 'Kimport', 'Bulgaria', '001-583-352-7197x297', '001-333-145-0369', 'asnow@colon.com', '2021-04-12', 'https://hammond-ramsey.com/'], ['9', 'C2dE4dEEc489ae0', 'Sheryl', 'Meyers', 'Browning-Simon', 'Robersonstad', 'Cyprus', '854-138-4911x5772', '+1-448-910-2276x729', 'mariokhan@ryan-pope.org', '2020-01-13', 'https://www.bullock.net/'], ['10', '8C2811a503C7c5a', 'Michelle', 'Gallagher', 'Beck-Hendrix', 'Elaineberg', 'Timor-Leste', '739.218.2516x459', '001-054-401-0347x617', 'mdyer@escobar.net', '2021-11-08', 'https://arias.com/'], ['11', '216E205d6eBb815', 'Carl', 'Schroeder', 'Oconnell, Meza and Everett', 'Shannonville', 'Guernsey', '637-854-0256x825', '114.336.0784x788', 'kirksalas@webb.com', '2021-10-20', 'https://simmons-hurley.com/'], ['12', 'CEDec94deE6d69B', 'Jenna', 'Dodson', 'Hoffman, Reed and Mcclain', 'East Andrea', 'Vietnam', '(041)737-3846', '+1-556-888-3485x42608', 'mark42@robbins.com', '2020-11-29', 'http://www.douglas.net/'], ['13', 'e35426EbDEceaFF', 'Tracey', 'Mata', 'Graham-Francis', 'South Joannamouth', 'Togo', '001-949-844-8787', '(855)713-8773', 'alex56@walls.org', '2021-12-02', 'http://www.beck.com/'], ['14', 'A08A8aF8BE9FaD4', 'Kristine', 'Cox', 'Carpenter-Cook', 'Jodyberg', 'Sri Lanka', '786-284-3358x62152', '+1-315-627-1796x8074', 'holdenmiranda@clarke.com', '2021-02-08', 'https://www.brandt.com/'], ['15', '6fEaA1b7cab7B6C', 'Faith', 'Lutz', 'Carter-Hancock', 'Burchbury', 'Singapore', '(781)861-7180x8306', '207-185-3665', 'cassieparrish@blevins-chapman.net', '2022-01-26', 'http://stevenson.org/'], ['16', '8cad0b4CBceaeec', 'Miranda', 'Beasley', 'Singleton and Sons', 'Desireeshire', 'Oman', '540.085.3135x185', '+1-600-462-6432x21881', 'vduncan@parks-hardy.com', '2022-04-12', 'http://acosta.org/'], ['17', 'a5DC21AE3a21eaA', 'Caroline', 'Foley', 'Winters-Mendoza', 'West Adriennestad', 'Western Sahara', '936.222.4746x9924', '001-469-948-6341x359', 'holtgwendolyn@watson-davenport.com', '2021-03-10', 'http://www.benson-roth.com/'], ['18', 'F8Aa9d6DfcBeeF8', 'Greg', 'Mata', 'Valentine LLC', 'Lake Leslie', 'Mozambique', '(701)087-2415', '(195)156-1861x26241', 'jaredjuarez@carroll.org', '2022-03-26', 'http://pitts-cherry.com/'], ['19', 'F160f5Db3EfE973', 'Clifford', 'Jacobson', 'Simon LLC', 'Harmonview', 'South Georgia and the South Sandwich Islands', '001-151-330-3524x0469', '(748)477-7174', 'joseph26@jacobson.com', '2020-09-24', 'https://mcconnell.com/'], ['20', '0F60FF3DdCd7aB0', 'Joanna', 'Kirk', 'Mays-Mccormick', 'Jamesshire', 'French Polynesia', '(266)131-7001x711', '(283)312-5579x11543', 'tuckerangie@salazar.net', '2021-09-24', 'https://www.camacho.net/'], ['21', '9F9AdB7B8A6f7F2', 'Maxwell', 'Frye', 'Patterson Inc', 'East Carly', 'Malta', '423.262.3059', '202-880-0688x7491', 'fgibson@drake-webb.com', '2022-01-12', 'http://www.roberts.com/'], ['22', 'FBd0Ded4F02a742', 'Kiara', 'Houston', 'Manning, Hester and Arroyo', 'South Alvin', 'Netherlands', '001-274-040-3582x10611', '+1-528-175-0973x4684', 'blanchardbob@wallace-shannon.com', '2020-09-15', 'https://www.reid-potts.com/'], ['23', '2FB0FAA1d429421', 'Colleen', 'Howard', 'Greer and Sons', 'Brittanyview', 'Paraguay', '1935085151', '(947)115-7711x5488', 'rsingleton@ryan-cherry.com', '2020-08-19', 'http://paul.biz/'], ['24', '010468dAA11382c', 'Janet', 'Valenzuela', 'Watts-Donaldson', 'Veronicamouth', \"Lao People's Democratic Republic\", '354.259.5062x7538', '500.433.2022', 'stefanie71@spence.com', '2020-09-08', 'https://moreno.biz/'], ['25', 'eC1927Ca84E033e', 'Shane', 'Wilcox', 'Tucker LLC', 'Bryanville', 'Albania', '(429)005-9030x11004', '541-116-4501', 'mariah88@santos.com', '2021-04-06', 'https://www.ramos.com/'], ['26', '09D7D7C8Fe09aea', 'Marcus', 'Moody', 'Giles Ltd', 'Kaitlyntown', 'Panama', '674-677-8623', '909-277-5485x566', 'donnamullins@norris-barrett.org', '2022-05-24', 'https://www.curry.com/'], ['27', 'aBdfcF2c50b0bfD', 'Dakota', 'Poole', 'Simmons Group', 'Michealshire', 'Belarus', '(371)987-8576x4720', '071-152-1376', 'stacey67@fields.org', '2022-02-20', 'https://sanford-wilcox.biz/'], ['28', 'b92EBfdF8a3f0E6', 'Frederick', 'Harper', 'Hinton, Chaney and Stokes', 'South Marissatown', 'Switzerland', '+1-077-121-1558x0687', '264.742.7149', 'jacobkhan@bright.biz', '2022-05-26', 'https://callahan.org/'], ['29', '3B5dAAFA41AFa22', 'Stefanie', 'Fitzpatrick', 'Santana-Duran', 'Acevedoville', 'Saint Vincent and the Grenadines', '(752)776-3286', '+1-472-021-4814x85074', 'wterrell@clark.com', '2020-07-30', 'https://meyers.com/'], ['30', 'EDA69ca7a6e96a2', 'Kent', 'Bradshaw', 'Sawyer PLC', 'North Harold', 'Tanzania', '+1-472-143-5037x884', '126.922.6153', 'qjimenez@boyd.com', '2020-04-26', 'http://maynard-ho.com/'], ['31', '64DCcDFaB9DFd4e', 'Jack', 'Tate', 'Acosta, Petersen and Morrow', 'West Samuel', 'Zimbabwe', '965-108-4406x20714', '046.906.1442x6784', 'gfigueroa@boone-zavala.com', '2021-09-15', 'http://www.hawkins-ramsey.com/'], ['32', '679c6c83DD872d6', 'Tom', 'Trujillo', 'Mcgee Group', 'Cunninghamborough', 'Denmark', '416-338-3758', '(775)890-7209', 'tapiagreg@beard.info', '2022-01-13', 'http://www.daniels-klein.com/'], ['33', '7Ce381e4Afa4ba9', 'Gabriel', 'Mejia', 'Adkins-Salinas', 'Port Annatown', 'Liechtenstein', '4077245425', '646.044.0696x66800', 'coleolson@jennings.net', '2021-04-24', 'https://patel-hanson.info/'], ['34', 'A09AEc6E3bF70eE', 'Kaitlyn', 'Santana', 'Herrera Group', 'New Kaitlyn', 'United States of America', '6303643286', '447-710-6202x07313', 'georgeross@miles.org', '2021-09-21', 'http://pham.com/'], ['35', 'aA9BAFfBc3710fe', 'Faith', 'Moon', 'Waters, Chase and Aguilar', 'West Marthaburgh', 'Bahamas', '+1-586-217-0359x6317', '+1-818-199-1403', 'willistonya@randolph-baker.com', '2021-11-03', 'https://spencer-charles.info/'], ['36', 'E11dfb2DB8C9f72', 'Tammie', 'Haley', 'Palmer, Barnes and Houston', 'East Teresa', 'Belize', '001-276-734-4113x6087', '(430)300-8770', 'harrisisaiah@jenkins.com', '2022-01-04', 'http://evans-simon.com/'], ['37', '889eCf90f68c5Da', 'Nicholas', 'Sosa', 'Jordan Ltd', 'South Hunter', 'Uruguay', '(661)425-6042', '975-998-1519', 'fwolfe@dorsey.com', '2021-08-10', 'https://www.fleming-richards.com/'], ['38', '7a1Ee69F4fF4B4D', 'Jordan', 'Gay', 'Glover and Sons', 'South Walter', 'Solomon Islands', '7208417020', '8035336772', 'tiffanydavies@harris-mcfarland.org', '2021-02-24', 'http://www.lee.org/'], ['39', 'dca4f1D0A0fc5c9', 'Bruce', 'Esparza', 'Huerta-Mclean', 'Poolefurt', 'Montenegro', '559-529-4424', '001-625-000-7132x0367', 'preese@frye-vega.com', '2021-10-22', 'http://www.farley.org/'], ['40', '17aD8e2dB3df03D', 'Sherry', 'Garza', 'Anderson Ltd', 'West John', 'Poland', '001-067-713-6440x158', '(978)289-8785x5766', 'ann48@miller.com', '2021-11-01', 'http://spence.com/'], ['41', '2f79Cd309624Abb', 'Natalie', 'Gentry', 'Monroe PLC', 'West Darius', 'Dominican Republic', '830.996.8238', '499.122.5415', 'tcummings@fitzpatrick-ashley.com', '2020-10-10', 'http://www.dorsey.biz/'], ['42', '6e5ad5a5e2bB5Ca', 'Bryan', 'Dunn', 'Kaufman and Sons', 'North Jimstad', 'Burkina Faso', '001-710-802-5565', '078.699.8982x13881', 'woodwardandres@phelps.com', '2021-09-08', 'http://www.butler.com/'], ['43', '7E441b6B228DBcA', 'Wayne', 'Simpson', 'Perkins-Trevino', 'East Rebekahborough', 'Bolivia', '(344)156-8632x1869', '463-445-3702x38463', 'barbarapittman@holder.com', '2020-12-13', 'https://gillespie-holder.com/'], ['44', 'D3fC11A9C235Dc6', 'Luis', 'Greer', 'Cross PLC', 'North Drew', 'Bulgaria', '001-336-025-6849x701', '684.698.2911x6092', 'bstuart@williamson-mcclure.com', '2022-05-15', 'https://fletcher-nielsen.com/'], ['45', '30Dfa48fe5Ede78', 'Rhonda', 'Frost', 'Herrera, Shepherd and Underwood', 'Lake Lindaburgh', 'Monaco', '(127)081-9339', '+1-431-028-3337x3492', 'zkrueger@wolf-chavez.net', '2021-12-06', 'http://www.khan.com/'], ['46', 'fD780ED8dbEae7B', 'Joanne', 'Montes', 'Price, Sexton and Mcdaniel', 'Gwendolynview', 'Palau', '(897)726-7952', '(467)886-9467x5721', 'juan80@henson.net', '2020-07-01', 'http://ochoa.com/'], ['47', '300A40d3ce24bBA', 'Geoffrey', 'Guzman', 'Short-Wiggins', 'Zimmermanland', 'Uzbekistan', '975.235.8921x269', '(983)188-6873', 'bauercrystal@gay.com', '2020-04-23', 'https://decker-kline.com/'], ['48', '283DFCD0Dba40aF', 'Gloria', 'Mccall', 'Brennan, Acosta and Ramos', 'North Kerriton', 'Ghana', '445-603-6729', '001-395-959-4736x4524', 'bartlettjenna@zuniga-moss.biz', '2022-03-11', 'http://burgess-frank.com/'], ['49', 'F4Fc91fEAEad286', 'Brady', 'Cohen', 'Osborne-Erickson', 'North Eileenville', 'United Arab Emirates', '741.849.0139x524', '+1-028-691-7497x0894', 'mccalltyrone@durham-rose.biz', '2022-03-10', 'http://hammond-barron.com/'], ['50', '80F33Fd2AcebF05', 'Latoya', 'Mccann', 'Hobbs, Garrett and Sanford', 'Port Sergiofort', 'Belarus', '(530)287-4548x29481', '162-234-0249x32790', 'bobhammond@barry.biz', '2021-12-02', 'https://www.burton.com/'], ['51', 'Aa20BDe68eAb0e9', 'Gerald', 'Hawkins', 'Phelps, Forbes and Koch', 'New Alberttown', 'Canada', '+1-323-239-1456x96168', '(092)508-0269', 'uwarner@steele-arias.com', '2021-03-19', 'https://valenzuela.com/'], ['52', 'e898eEB1B9FE22b', 'Samuel', 'Crawford', 'May, Goodwin and Martin', 'South Jasmine', 'Algeria', '802-242-7457', '626.116.9535x8578', 'xpittman@ritter-carney.net', '2021-03-27', 'https://guerrero.org/'], ['53', 'faCEF517ae7D8eB', 'Patricia', 'Goodwin', 'Christian, Winters and Ellis', 'Cowanfort', 'Swaziland', '322.549.7139x70040', '(111)741-4173', 'vaughanchristy@lara.biz', '2021-03-08', 'http://clark.info/'], ['54', 'c09952De6Cda8aA', 'Stacie', 'Richard', 'Byrd Inc', 'New Deborah', 'Madagascar', '001-622-948-3641x24810', '001-731-168-2893x8891', 'clinton85@colon-arias.org', '2020-10-15', 'https://kim.com/'], ['55', 'f3BEf3Be028166f', 'Robin', 'West', 'Nixon, Blackwell and Sosa', 'Wallstown', 'Ecuador', '698.303.4267', '001-683-837-7651x525', 'greenemiranda@zimmerman.com', '2022-01-13', 'https://www.mora.com/'], ['56', 'C6F2Fc6a7948a4e', 'Ralph', 'Haas', 'Montes PLC', 'Lake Ellenchester', 'Palestinian Territory', '2239271999', '001-962-434-0867x649', 'goodmancesar@figueroa.biz', '2020-05-25', 'http://may.com/'], ['57', 'c8FE57cBBdCDcb2', 'Phyllis', 'Maldonado', 'Costa PLC', 'Lake Whitney', 'Saint Barthelemy', '4500370767', '001-508-064-6725x017', 'yhanson@warner-diaz.org', '2021-01-25', 'http://www.bernard.com/'], ['58', 'B5acdFC982124F2', 'Danny', 'Parrish', 'Novak LLC', 'East Jaredbury', 'United Arab Emirates', '(669)384-8597x8794', '506.731.5952x571', 'howelldarren@house-cohen.com', '2021-03-17', 'http://www.parsons-hudson.com/'], ['59', '8c7DdF10798bCC3', 'Kathy', 'Hill', 'Moore, Mccoy and Glass', 'Selenabury', 'South Georgia and the South Sandwich Islands', '001-171-716-2175x310', '888.625.0654', 'ncamacho@boone-simmons.org', '2020-11-15', 'http://hayden.com/'], ['60', 'C681dDd0cc422f7', 'Kelli', 'Hardy', 'Petty Ltd', 'Huangfort', 'Sao Tome and Principe', '020.324.2191x2022', '424-157-8216', 'kristopher62@oliver.com', '2020-12-20', 'http://www.kidd.com/'], ['61', 'a940cE42e035F28', 'Lynn', 'Pham', 'Brennan, Camacho and Tapia', 'East Pennyshire', 'Portugal', '846.468.6834x611', '001-248-691-0006', 'mpham@rios-guzman.com', '2020-08-21', 'https://www.murphy.com/'], ['62', '9Cf5E6AFE0aeBfd', 'Shelley', 'Harris', 'Prince, Malone and Pugh', 'Port Jasminborough', 'Togo', '423.098.0315x8373', '+1-386-458-8944x15194', 'zachary96@mitchell-bryant.org', '2020-12-10', 'https://www.ryan.com/'], ['63', 'aEcbe5365BbC67D', 'Eddie', 'Jimenez', 'Caldwell Group', 'West Kristine', 'Ethiopia', '+1-235-657-1073x6306', '(026)401-7353x2417', 'kristiwhitney@bernard.com', '2022-03-24', 'http://cherry.com/'], ['64', 'FCBdfCEAe20A8Dc', 'Chloe', 'Hutchinson', 'Simon LLC', 'South Julia', 'Netherlands', '981-544-9452', '+1-288-552-4666x060', 'leah85@sutton-terrell.com', '2022-05-15', 'https://mitchell.info/'], ['65', '636cBF0835E10ff', 'Eileen', 'Lynch', 'Knight, Abbott and Hubbard', 'Helenborough', 'Liberia', '+1-158-951-4131x53578', '001-673-779-6713x680', 'levigiles@vincent.com', '2021-01-02', 'http://mckay.com/'], ['66', 'fF1b6c9E8Fbf1ff', 'Fernando', 'Lambert', 'Church-Banks', 'Lake Nancy', 'Lithuania', '497.829.9038', '3863743398', 'fisherlinda@schaefer.net', '2021-04-23', 'https://www.vang.com/'], ['67', '2A13F74EAa7DA6c', 'Makayla', 'Cannon', 'Henderson Inc', 'Georgeport', 'New Caledonia', '001-215-801-6392x46009', '027-609-6460', 'scottcurtis@hurley.biz', '2020-01-20', 'http://www.velazquez.net/'], ['68', 'a014Ec1b9FccC1E', 'Tom', 'Alvarado', 'Donaldson-Dougherty', 'South Sophiaberg', 'Kiribati', '(585)606-2980x2258', '730-797-3594x5614', 'nicholsonnina@montgomery.info', '2020-08-18', 'http://odom-massey.com/'], ['69', '421a109cABDf5fa', 'Virginia', 'Dudley', 'Warren Ltd', 'Hartbury', 'French Southern Territories', '027.846.3705x14184', '+1-439-171-1846x4636', 'zvalencia@phelps.com', '2021-01-31', 'http://hunter-esparza.com/'], ['70', 'CC68FD1D3Bbbf22', 'Riley', 'Good', 'Wade PLC', 'Erikaville', 'Canada', '6977745822', '855-436-7641', 'alex06@galloway.com', '2020-02-03', 'http://conway.org/'], ['71', 'CBCd2Ac8E3eBDF9', 'Alexandria', 'Buck', 'Keller-Coffey', 'Nicolasfort', 'Iran', '078-900-4760x76668', '414-112-8700x68751', 'lee48@manning.com', '2021-02-20', 'https://ramsey.org/'], ['72', 'Ef859092FbEcC07', 'Richard', 'Roth', 'Conway-Mcbride', 'New Jasmineshire', 'Morocco', '581-440-6539', '9857827463', 'aharper@maddox-townsend.org', '2020-02-23', 'https://www.brooks.com/'], ['73', 'F560f2d3cDFb618', 'Candice', 'Keller', 'Huynh and Sons', 'East Summerstad', 'Zimbabwe', '001-927-965-8550x92406', '001-243-038-4271x53076', 'buckleycory@odonnell.net', '2020-08-22', 'https://www.lucero.com/'], ['74', 'A3F76Be153Df4a3', 'Anita', 'Benson', 'Parrish Ltd', 'Skinnerport', 'Russian Federation', '874.617.5668x69878', '(399)820-6418x0071', 'angie04@oconnell.com', '2020-02-09', 'http://oconnor.com/'], ['75', 'D01Af0AF7cBbFeA', 'Regina', 'Stein', 'Guzman-Brown', 'Raystad', 'Solomon Islands', '001-469-848-0724x4407', '001-085-360-4426x00357', 'zrosario@rojas-hardin.net', '2022-01-15', 'http://www.johnston.info/'], ['76', 'd40e89dCade7b2F', 'Debra', 'Riddle', 'Chang, Aguirre and Leblanc', 'Colinhaven', 'United States Virgin Islands', '+1-768-182-6014x14336', '(303)961-4491', 'shieldskerry@robles.com', '2020-07-11', 'http://kaiser.info/'], ['77', 'BF6a1f9bd1bf8DE', 'Brittany', 'Zuniga', 'Mason-Hester', 'West Reginald', 'Kyrgyz Republic', '(050)136-9025', '001-480-851-2496x0157', 'mchandler@cochran-huerta.org', '2021-07-24', 'http://www.boyle.com/'], ['78', 'FfaeFFbbbf280db', 'Cassidy', 'Mcmahon', 'Mcguire, Huynh and Hopkins', 'Lake Sherryborough', 'Myanmar', '5040771311', '684-682-0021x1326', 'katrinalane@fitzgerald.com', '2020-10-21', 'https://hurst.com/'], ['79', 'CbAE1d1e9a8dCb1', 'Laurie', 'Pennington', 'Sanchez, Marsh and Hale', 'Port Katherineville', 'Dominica', '007.155.3406x553', '+1-809-862-5566x277', 'cookejill@powell.com', '2020-06-08', 'http://www.hebert.com/'], ['80', 'A7F85c1DE4dB87f', 'Alejandro', 'Blair', 'Combs, Waller and Durham', 'Thomasland', 'Iceland', '(690)068-4641x51468', '555.509.8691x2329', 'elizabethbarr@ewing.com', '2020-09-19', 'https://mercado-blevins.com/'], ['81', 'D6CEAfb3BDbaa1A', 'Leslie', 'Jennings', 'Blankenship-Arias', 'Coreybury', 'Micronesia', '629.198.6346', '075.256.0829', 'corey75@wiggins.com', '2021-11-13', 'https://www.juarez.com/'], ['82', 'Ebdb6F6F7c90b69', 'Kathleen', 'Mckay', 'Coffey, Lamb and Johnson', 'Lake Janiceton', 'Saint Vincent and the Grenadines', '(733)910-9968', '(691)247-4128x0665', 'chloelester@higgins-wilkinson.com', '2021-09-12', 'http://www.owens-mooney.com/'], ['83', 'E8E7e8Cfe516ef0', 'Hunter', 'Moreno', 'Fitzpatrick-Lawrence', 'East Clinton', 'Isle of Man', '(733)833-6754', '001-761-013-7121', 'isaac26@benton-finley.com', '2020-12-28', 'http://walls.info/'], ['84', '78C06E9b6B3DF20', 'Chad', 'Davidson', 'Garcia-Jimenez', 'South Joshuashire', 'Oman', '8275702958', '(804)842-4715', 'justinwalters@jimenez.com', '2021-11-15', 'http://www.garner-oliver.com/'], ['85', '03A1E62ADdeb31c', 'Corey', 'Holt', 'Mcdonald, Bird and Ramirez', 'New Glenda', 'Fiji', '001-439-242-4986x7918', '3162708934', 'maurice46@morgan.com', '2020-02-18', 'http://www.watson.com/'], ['86', 'C6763c99d0bd16D', 'Emma', 'Cunningham', 'Stephens Inc', 'North Jillianview', 'New Zealand', '128-059-0206x60217', '(312)164-4545x2284', 'walter83@juarez.org', '2022-05-13', 'http://www.reid.info/'], ['87', 'ebe77E5Bf9476CE', 'Duane', 'Woods', 'Montoya-Miller', 'Lyonsberg', 'Maldives', '(636)544-7783x7288', '(203)287-1003x5932', 'kmercer@wagner.com', '2020-07-21', 'http://murray.org/'], ['88', 'E4Bbcd8AD81fC5f', 'Alison', 'Vargas', 'Vaughn, Watts and Leach', 'East Cristinabury', 'Benin', '365-273-8144', '053-308-7653x6287', 'vcantu@norton.com', '2020-11-10', 'http://mason.info/'], ['89', 'efeb73245CDf1fF', 'Vernon', 'Kane', 'Carter-Strickland', 'Thomasfurt', 'Yemen', '114-854-1159x555', '499-608-4612', 'hilljesse@barrett.info', '2021-04-15', 'http://www.duffy-hensley.net/'], ['90', '37Ec4B395641c1E', 'Lori', 'Flowers', 'Decker-Mcknight', 'North Joeburgh', 'Namibia', '679.415.1210', '945-842-3659x4581', 'tyrone77@valenzuela.info', '2021-01-09', 'http://www.deleon-crosby.com/'], ['91', '5ef6d3eefdD43bE', 'Nina', 'Chavez', 'Byrd-Campbell', 'Cassidychester', 'Bhutan', '053-344-3205', '+1-330-920-5422x571', 'elliserica@frank.com', '2020-03-26', 'https://www.pugh.com/'], ['92', '98b3aeDcC3B9FF3', 'Shane', 'Foley', 'Rocha-Hart', 'South Dannymouth', 'Hungary', '+1-822-569-0302', '001-626-114-5844x55073', 'nsteele@sparks.com', '2021-07-06', 'https://www.holt-sparks.com/'], ['93', 'aAb6AFc7AfD0fF3', 'Collin', 'Ayers', 'Lamb-Peterson', 'South Lonnie', 'Anguilla', '404-645-5351x012', '001-257-582-8850x8516', 'dudleyemily@gonzales.biz', '2021-06-29', 'http://www.ruiz.com/'], ['94', '54B5B5Fe9F1B6C5', 'Sherry', 'Young', 'Lee, Lucero and Johnson', 'Frankchester', 'Solomon Islands', '158-687-1764', '(438)375-6207x003', 'alan79@gates-mclaughlin.com', '2021-04-04', 'https://travis.net/'], ['95', 'BE91A0bdcA49Bbc', 'Darrell', 'Douglas', 'Newton, Petersen and Mathis', 'Daisyborough', 'Mali', '001-084-845-9524x1777', '001-769-564-6303', 'grayjean@lowery-good.com', '2022-02-17', 'https://banks.biz/'], ['96', 'cb8E23e48d22Eae', 'Karl', 'Greer', 'Carey LLC', 'East Richard', 'Guyana', '(188)169-1674x58692', '001-841-293-3519x614', 'hhart@jensen.com', '2022-01-30', 'http://hayes-perez.com/'], ['97', 'CeD220bdAaCfaDf', 'Lynn', 'Atkinson', 'Ware, Burns and Oneal', 'New Bradview', 'Sri Lanka', '+1-846-706-2218', '605.413.3198', 'vkemp@ferrell.com', '2021-07-10', 'https://novak-allison.com/'], ['98', '28CDbC0dFe4b1Db', 'Fred', 'Guerra', 'Schmitt-Jones', 'Ortegaland', 'Solomon Islands', '+1-753-067-8419x7170', '+1-632-666-7507x92121', 'swagner@kane.org', '2021-09-18', 'https://www.ross.com/'], ['99', 'c23d1D9EE8DEB0A', 'Yvonne', 'Farmer', 'Fitzgerald-Harrell', 'Lake Elijahview', 'Aruba', '(530)311-9786', '001-869-452-0943x12424', 'mccarthystephen@horn-green.biz', '2021-08-11', 'http://watkins.info/'], ['100', '2354a0E336A91A1', 'Clarence', 'Haynes', 'Le, Nash and Cross', 'Judymouth', 'Honduras', '(753)813-6941', '783.639.1472', 'colleen91@faulkner.biz', '2020-03-11', 'http://www.hatfield-saunders.net/']]\n",
      "Index \tCustomer Id \tFirst Name \tLast Name \tCompany \tCity \tCountry \tPhone 1 \tPhone 2 \tEmail \tSubscription Date \tWebsite \t\n",
      "1 \tDD37Cf93aecA6Dc \tSheryl \tBaxter \tRasmussen Group \tEast Leonard \tChile \t229.077.5154 \t397.884.0519x718 \tzunigavanessa@smith.info \t2020-08-24 \thttp://www.stephenson.com/ \t\n",
      "2 \t1Ef7b82A4CAAD10 \tPreston \tLozano \tVega-Gentry \tEast Jimmychester \tDjibouti \t5153435776 \t686-620-1820x944 \tvmata@colon.com \t2021-04-23 \thttp://www.hobbs.com/ \t\n",
      "3 \t6F94879bDAfE5a6 \tRoy \tBerry \tMurillo-Perry \tIsabelborough \tAntigua and Barbuda \t+1-539-402-0259 \t(496)978-3969x58947 \tbeckycarr@hogan.com \t2020-03-25 \thttp://www.lawrence.com/ \t\n",
      "4 \t5Cef8BFA16c5e3c \tLinda \tOlsen \tDominguez, Mcmillan and Donovan \tBensonview \tDominican Republic \t001-808-617-6467x12895 \t+1-813-324-8756 \tstanleyblackwell@benson.org \t2020-06-02 \thttp://www.good-lyons.com/ \t\n",
      "5 \t053d585Ab6b3159 \tJoanna \tBender \tMartin, Lang and Andrade \tWest Priscilla \tSlovakia (Slovak Republic) \t001-234-203-0635x76146 \t001-199-446-3860x3486 \tcolinalvarado@miles.net \t2021-04-17 \thttps://goodwin-ingram.com/ \t\n",
      "6 \t2d08FB17EE273F4 \tAimee \tDowns \tSteele Group \tChavezborough \tBosnia and Herzegovina \t(283)437-3886x88321 \t999-728-1637 \tlouis27@gilbert.com \t2020-02-25 \thttp://www.berger.net/ \t\n",
      "7 \tEA4d384DfDbBf77 \tDarren \tPeck \tLester, Woodard and Mitchell \tLake Ana \tPitcairn Islands \t(496)452-6181x3291 \t+1-247-266-0963x4995 \ttgates@cantrell.com \t2021-08-24 \thttps://www.le.com/ \t\n",
      "8 \t0e04AFde9f225dE \tBrett \tMullen \tSanford, Davenport and Giles \tKimport \tBulgaria \t001-583-352-7197x297 \t001-333-145-0369 \tasnow@colon.com \t2021-04-12 \thttps://hammond-ramsey.com/ \t\n",
      "9 \tC2dE4dEEc489ae0 \tSheryl \tMeyers \tBrowning-Simon \tRobersonstad \tCyprus \t854-138-4911x5772 \t+1-448-910-2276x729 \tmariokhan@ryan-pope.org \t2020-01-13 \thttps://www.bullock.net/ \t\n",
      "10 \t8C2811a503C7c5a \tMichelle \tGallagher \tBeck-Hendrix \tElaineberg \tTimor-Leste \t739.218.2516x459 \t001-054-401-0347x617 \tmdyer@escobar.net \t2021-11-08 \thttps://arias.com/ \t\n",
      "11 \t216E205d6eBb815 \tCarl \tSchroeder \tOconnell, Meza and Everett \tShannonville \tGuernsey \t637-854-0256x825 \t114.336.0784x788 \tkirksalas@webb.com \t2021-10-20 \thttps://simmons-hurley.com/ \t\n",
      "12 \tCEDec94deE6d69B \tJenna \tDodson \tHoffman, Reed and Mcclain \tEast Andrea \tVietnam \t(041)737-3846 \t+1-556-888-3485x42608 \tmark42@robbins.com \t2020-11-29 \thttp://www.douglas.net/ \t\n",
      "13 \te35426EbDEceaFF \tTracey \tMata \tGraham-Francis \tSouth Joannamouth \tTogo \t001-949-844-8787 \t(855)713-8773 \talex56@walls.org \t2021-12-02 \thttp://www.beck.com/ \t\n",
      "14 \tA08A8aF8BE9FaD4 \tKristine \tCox \tCarpenter-Cook \tJodyberg \tSri Lanka \t786-284-3358x62152 \t+1-315-627-1796x8074 \tholdenmiranda@clarke.com \t2021-02-08 \thttps://www.brandt.com/ \t\n",
      "15 \t6fEaA1b7cab7B6C \tFaith \tLutz \tCarter-Hancock \tBurchbury \tSingapore \t(781)861-7180x8306 \t207-185-3665 \tcassieparrish@blevins-chapman.net \t2022-01-26 \thttp://stevenson.org/ \t\n",
      "16 \t8cad0b4CBceaeec \tMiranda \tBeasley \tSingleton and Sons \tDesireeshire \tOman \t540.085.3135x185 \t+1-600-462-6432x21881 \tvduncan@parks-hardy.com \t2022-04-12 \thttp://acosta.org/ \t\n",
      "17 \ta5DC21AE3a21eaA \tCaroline \tFoley \tWinters-Mendoza \tWest Adriennestad \tWestern Sahara \t936.222.4746x9924 \t001-469-948-6341x359 \tholtgwendolyn@watson-davenport.com \t2021-03-10 \thttp://www.benson-roth.com/ \t\n",
      "18 \tF8Aa9d6DfcBeeF8 \tGreg \tMata \tValentine LLC \tLake Leslie \tMozambique \t(701)087-2415 \t(195)156-1861x26241 \tjaredjuarez@carroll.org \t2022-03-26 \thttp://pitts-cherry.com/ \t\n",
      "19 \tF160f5Db3EfE973 \tClifford \tJacobson \tSimon LLC \tHarmonview \tSouth Georgia and the South Sandwich Islands \t001-151-330-3524x0469 \t(748)477-7174 \tjoseph26@jacobson.com \t2020-09-24 \thttps://mcconnell.com/ \t\n",
      "20 \t0F60FF3DdCd7aB0 \tJoanna \tKirk \tMays-Mccormick \tJamesshire \tFrench Polynesia \t(266)131-7001x711 \t(283)312-5579x11543 \ttuckerangie@salazar.net \t2021-09-24 \thttps://www.camacho.net/ \t\n",
      "21 \t9F9AdB7B8A6f7F2 \tMaxwell \tFrye \tPatterson Inc \tEast Carly \tMalta \t423.262.3059 \t202-880-0688x7491 \tfgibson@drake-webb.com \t2022-01-12 \thttp://www.roberts.com/ \t\n",
      "22 \tFBd0Ded4F02a742 \tKiara \tHouston \tManning, Hester and Arroyo \tSouth Alvin \tNetherlands \t001-274-040-3582x10611 \t+1-528-175-0973x4684 \tblanchardbob@wallace-shannon.com \t2020-09-15 \thttps://www.reid-potts.com/ \t\n",
      "23 \t2FB0FAA1d429421 \tColleen \tHoward \tGreer and Sons \tBrittanyview \tParaguay \t1935085151 \t(947)115-7711x5488 \trsingleton@ryan-cherry.com \t2020-08-19 \thttp://paul.biz/ \t\n",
      "24 \t010468dAA11382c \tJanet \tValenzuela \tWatts-Donaldson \tVeronicamouth \tLao People's Democratic Republic \t354.259.5062x7538 \t500.433.2022 \tstefanie71@spence.com \t2020-09-08 \thttps://moreno.biz/ \t\n",
      "25 \teC1927Ca84E033e \tShane \tWilcox \tTucker LLC \tBryanville \tAlbania \t(429)005-9030x11004 \t541-116-4501 \tmariah88@santos.com \t2021-04-06 \thttps://www.ramos.com/ \t\n",
      "26 \t09D7D7C8Fe09aea \tMarcus \tMoody \tGiles Ltd \tKaitlyntown \tPanama \t674-677-8623 \t909-277-5485x566 \tdonnamullins@norris-barrett.org \t2022-05-24 \thttps://www.curry.com/ \t\n",
      "27 \taBdfcF2c50b0bfD \tDakota \tPoole \tSimmons Group \tMichealshire \tBelarus \t(371)987-8576x4720 \t071-152-1376 \tstacey67@fields.org \t2022-02-20 \thttps://sanford-wilcox.biz/ \t\n",
      "28 \tb92EBfdF8a3f0E6 \tFrederick \tHarper \tHinton, Chaney and Stokes \tSouth Marissatown \tSwitzerland \t+1-077-121-1558x0687 \t264.742.7149 \tjacobkhan@bright.biz \t2022-05-26 \thttps://callahan.org/ \t\n",
      "29 \t3B5dAAFA41AFa22 \tStefanie \tFitzpatrick \tSantana-Duran \tAcevedoville \tSaint Vincent and the Grenadines \t(752)776-3286 \t+1-472-021-4814x85074 \twterrell@clark.com \t2020-07-30 \thttps://meyers.com/ \t\n",
      "30 \tEDA69ca7a6e96a2 \tKent \tBradshaw \tSawyer PLC \tNorth Harold \tTanzania \t+1-472-143-5037x884 \t126.922.6153 \tqjimenez@boyd.com \t2020-04-26 \thttp://maynard-ho.com/ \t\n",
      "31 \t64DCcDFaB9DFd4e \tJack \tTate \tAcosta, Petersen and Morrow \tWest Samuel \tZimbabwe \t965-108-4406x20714 \t046.906.1442x6784 \tgfigueroa@boone-zavala.com \t2021-09-15 \thttp://www.hawkins-ramsey.com/ \t\n",
      "32 \t679c6c83DD872d6 \tTom \tTrujillo \tMcgee Group \tCunninghamborough \tDenmark \t416-338-3758 \t(775)890-7209 \ttapiagreg@beard.info \t2022-01-13 \thttp://www.daniels-klein.com/ \t\n",
      "33 \t7Ce381e4Afa4ba9 \tGabriel \tMejia \tAdkins-Salinas \tPort Annatown \tLiechtenstein \t4077245425 \t646.044.0696x66800 \tcoleolson@jennings.net \t2021-04-24 \thttps://patel-hanson.info/ \t\n",
      "34 \tA09AEc6E3bF70eE \tKaitlyn \tSantana \tHerrera Group \tNew Kaitlyn \tUnited States of America \t6303643286 \t447-710-6202x07313 \tgeorgeross@miles.org \t2021-09-21 \thttp://pham.com/ \t\n",
      "35 \taA9BAFfBc3710fe \tFaith \tMoon \tWaters, Chase and Aguilar \tWest Marthaburgh \tBahamas \t+1-586-217-0359x6317 \t+1-818-199-1403 \twillistonya@randolph-baker.com \t2021-11-03 \thttps://spencer-charles.info/ \t\n",
      "36 \tE11dfb2DB8C9f72 \tTammie \tHaley \tPalmer, Barnes and Houston \tEast Teresa \tBelize \t001-276-734-4113x6087 \t(430)300-8770 \tharrisisaiah@jenkins.com \t2022-01-04 \thttp://evans-simon.com/ \t\n",
      "37 \t889eCf90f68c5Da \tNicholas \tSosa \tJordan Ltd \tSouth Hunter \tUruguay \t(661)425-6042 \t975-998-1519 \tfwolfe@dorsey.com \t2021-08-10 \thttps://www.fleming-richards.com/ \t\n",
      "38 \t7a1Ee69F4fF4B4D \tJordan \tGay \tGlover and Sons \tSouth Walter \tSolomon Islands \t7208417020 \t8035336772 \ttiffanydavies@harris-mcfarland.org \t2021-02-24 \thttp://www.lee.org/ \t\n",
      "39 \tdca4f1D0A0fc5c9 \tBruce \tEsparza \tHuerta-Mclean \tPoolefurt \tMontenegro \t559-529-4424 \t001-625-000-7132x0367 \tpreese@frye-vega.com \t2021-10-22 \thttp://www.farley.org/ \t\n",
      "40 \t17aD8e2dB3df03D \tSherry \tGarza \tAnderson Ltd \tWest John \tPoland \t001-067-713-6440x158 \t(978)289-8785x5766 \tann48@miller.com \t2021-11-01 \thttp://spence.com/ \t\n",
      "41 \t2f79Cd309624Abb \tNatalie \tGentry \tMonroe PLC \tWest Darius \tDominican Republic \t830.996.8238 \t499.122.5415 \ttcummings@fitzpatrick-ashley.com \t2020-10-10 \thttp://www.dorsey.biz/ \t\n",
      "42 \t6e5ad5a5e2bB5Ca \tBryan \tDunn \tKaufman and Sons \tNorth Jimstad \tBurkina Faso \t001-710-802-5565 \t078.699.8982x13881 \twoodwardandres@phelps.com \t2021-09-08 \thttp://www.butler.com/ \t\n",
      "43 \t7E441b6B228DBcA \tWayne \tSimpson \tPerkins-Trevino \tEast Rebekahborough \tBolivia \t(344)156-8632x1869 \t463-445-3702x38463 \tbarbarapittman@holder.com \t2020-12-13 \thttps://gillespie-holder.com/ \t\n",
      "44 \tD3fC11A9C235Dc6 \tLuis \tGreer \tCross PLC \tNorth Drew \tBulgaria \t001-336-025-6849x701 \t684.698.2911x6092 \tbstuart@williamson-mcclure.com \t2022-05-15 \thttps://fletcher-nielsen.com/ \t\n",
      "45 \t30Dfa48fe5Ede78 \tRhonda \tFrost \tHerrera, Shepherd and Underwood \tLake Lindaburgh \tMonaco \t(127)081-9339 \t+1-431-028-3337x3492 \tzkrueger@wolf-chavez.net \t2021-12-06 \thttp://www.khan.com/ \t\n",
      "46 \tfD780ED8dbEae7B \tJoanne \tMontes \tPrice, Sexton and Mcdaniel \tGwendolynview \tPalau \t(897)726-7952 \t(467)886-9467x5721 \tjuan80@henson.net \t2020-07-01 \thttp://ochoa.com/ \t\n",
      "47 \t300A40d3ce24bBA \tGeoffrey \tGuzman \tShort-Wiggins \tZimmermanland \tUzbekistan \t975.235.8921x269 \t(983)188-6873 \tbauercrystal@gay.com \t2020-04-23 \thttps://decker-kline.com/ \t\n",
      "48 \t283DFCD0Dba40aF \tGloria \tMccall \tBrennan, Acosta and Ramos \tNorth Kerriton \tGhana \t445-603-6729 \t001-395-959-4736x4524 \tbartlettjenna@zuniga-moss.biz \t2022-03-11 \thttp://burgess-frank.com/ \t\n",
      "49 \tF4Fc91fEAEad286 \tBrady \tCohen \tOsborne-Erickson \tNorth Eileenville \tUnited Arab Emirates \t741.849.0139x524 \t+1-028-691-7497x0894 \tmccalltyrone@durham-rose.biz \t2022-03-10 \thttp://hammond-barron.com/ \t\n",
      "50 \t80F33Fd2AcebF05 \tLatoya \tMccann \tHobbs, Garrett and Sanford \tPort Sergiofort \tBelarus \t(530)287-4548x29481 \t162-234-0249x32790 \tbobhammond@barry.biz \t2021-12-02 \thttps://www.burton.com/ \t\n",
      "51 \tAa20BDe68eAb0e9 \tGerald \tHawkins \tPhelps, Forbes and Koch \tNew Alberttown \tCanada \t+1-323-239-1456x96168 \t(092)508-0269 \tuwarner@steele-arias.com \t2021-03-19 \thttps://valenzuela.com/ \t\n",
      "52 \te898eEB1B9FE22b \tSamuel \tCrawford \tMay, Goodwin and Martin \tSouth Jasmine \tAlgeria \t802-242-7457 \t626.116.9535x8578 \txpittman@ritter-carney.net \t2021-03-27 \thttps://guerrero.org/ \t\n",
      "53 \tfaCEF517ae7D8eB \tPatricia \tGoodwin \tChristian, Winters and Ellis \tCowanfort \tSwaziland \t322.549.7139x70040 \t(111)741-4173 \tvaughanchristy@lara.biz \t2021-03-08 \thttp://clark.info/ \t\n",
      "54 \tc09952De6Cda8aA \tStacie \tRichard \tByrd Inc \tNew Deborah \tMadagascar \t001-622-948-3641x24810 \t001-731-168-2893x8891 \tclinton85@colon-arias.org \t2020-10-15 \thttps://kim.com/ \t\n",
      "55 \tf3BEf3Be028166f \tRobin \tWest \tNixon, Blackwell and Sosa \tWallstown \tEcuador \t698.303.4267 \t001-683-837-7651x525 \tgreenemiranda@zimmerman.com \t2022-01-13 \thttps://www.mora.com/ \t\n",
      "56 \tC6F2Fc6a7948a4e \tRalph \tHaas \tMontes PLC \tLake Ellenchester \tPalestinian Territory \t2239271999 \t001-962-434-0867x649 \tgoodmancesar@figueroa.biz \t2020-05-25 \thttp://may.com/ \t\n",
      "57 \tc8FE57cBBdCDcb2 \tPhyllis \tMaldonado \tCosta PLC \tLake Whitney \tSaint Barthelemy \t4500370767 \t001-508-064-6725x017 \tyhanson@warner-diaz.org \t2021-01-25 \thttp://www.bernard.com/ \t\n",
      "58 \tB5acdFC982124F2 \tDanny \tParrish \tNovak LLC \tEast Jaredbury \tUnited Arab Emirates \t(669)384-8597x8794 \t506.731.5952x571 \thowelldarren@house-cohen.com \t2021-03-17 \thttp://www.parsons-hudson.com/ \t\n",
      "59 \t8c7DdF10798bCC3 \tKathy \tHill \tMoore, Mccoy and Glass \tSelenabury \tSouth Georgia and the South Sandwich Islands \t001-171-716-2175x310 \t888.625.0654 \tncamacho@boone-simmons.org \t2020-11-15 \thttp://hayden.com/ \t\n",
      "60 \tC681dDd0cc422f7 \tKelli \tHardy \tPetty Ltd \tHuangfort \tSao Tome and Principe \t020.324.2191x2022 \t424-157-8216 \tkristopher62@oliver.com \t2020-12-20 \thttp://www.kidd.com/ \t\n",
      "61 \ta940cE42e035F28 \tLynn \tPham \tBrennan, Camacho and Tapia \tEast Pennyshire \tPortugal \t846.468.6834x611 \t001-248-691-0006 \tmpham@rios-guzman.com \t2020-08-21 \thttps://www.murphy.com/ \t\n",
      "62 \t9Cf5E6AFE0aeBfd \tShelley \tHarris \tPrince, Malone and Pugh \tPort Jasminborough \tTogo \t423.098.0315x8373 \t+1-386-458-8944x15194 \tzachary96@mitchell-bryant.org \t2020-12-10 \thttps://www.ryan.com/ \t\n",
      "63 \taEcbe5365BbC67D \tEddie \tJimenez \tCaldwell Group \tWest Kristine \tEthiopia \t+1-235-657-1073x6306 \t(026)401-7353x2417 \tkristiwhitney@bernard.com \t2022-03-24 \thttp://cherry.com/ \t\n",
      "64 \tFCBdfCEAe20A8Dc \tChloe \tHutchinson \tSimon LLC \tSouth Julia \tNetherlands \t981-544-9452 \t+1-288-552-4666x060 \tleah85@sutton-terrell.com \t2022-05-15 \thttps://mitchell.info/ \t\n",
      "65 \t636cBF0835E10ff \tEileen \tLynch \tKnight, Abbott and Hubbard \tHelenborough \tLiberia \t+1-158-951-4131x53578 \t001-673-779-6713x680 \tlevigiles@vincent.com \t2021-01-02 \thttp://mckay.com/ \t\n",
      "66 \tfF1b6c9E8Fbf1ff \tFernando \tLambert \tChurch-Banks \tLake Nancy \tLithuania \t497.829.9038 \t3863743398 \tfisherlinda@schaefer.net \t2021-04-23 \thttps://www.vang.com/ \t\n",
      "67 \t2A13F74EAa7DA6c \tMakayla \tCannon \tHenderson Inc \tGeorgeport \tNew Caledonia \t001-215-801-6392x46009 \t027-609-6460 \tscottcurtis@hurley.biz \t2020-01-20 \thttp://www.velazquez.net/ \t\n",
      "68 \ta014Ec1b9FccC1E \tTom \tAlvarado \tDonaldson-Dougherty \tSouth Sophiaberg \tKiribati \t(585)606-2980x2258 \t730-797-3594x5614 \tnicholsonnina@montgomery.info \t2020-08-18 \thttp://odom-massey.com/ \t\n",
      "69 \t421a109cABDf5fa \tVirginia \tDudley \tWarren Ltd \tHartbury \tFrench Southern Territories \t027.846.3705x14184 \t+1-439-171-1846x4636 \tzvalencia@phelps.com \t2021-01-31 \thttp://hunter-esparza.com/ \t\n",
      "70 \tCC68FD1D3Bbbf22 \tRiley \tGood \tWade PLC \tErikaville \tCanada \t6977745822 \t855-436-7641 \talex06@galloway.com \t2020-02-03 \thttp://conway.org/ \t\n",
      "71 \tCBCd2Ac8E3eBDF9 \tAlexandria \tBuck \tKeller-Coffey \tNicolasfort \tIran \t078-900-4760x76668 \t414-112-8700x68751 \tlee48@manning.com \t2021-02-20 \thttps://ramsey.org/ \t\n",
      "72 \tEf859092FbEcC07 \tRichard \tRoth \tConway-Mcbride \tNew Jasmineshire \tMorocco \t581-440-6539 \t9857827463 \taharper@maddox-townsend.org \t2020-02-23 \thttps://www.brooks.com/ \t\n",
      "73 \tF560f2d3cDFb618 \tCandice \tKeller \tHuynh and Sons \tEast Summerstad \tZimbabwe \t001-927-965-8550x92406 \t001-243-038-4271x53076 \tbuckleycory@odonnell.net \t2020-08-22 \thttps://www.lucero.com/ \t\n",
      "74 \tA3F76Be153Df4a3 \tAnita \tBenson \tParrish Ltd \tSkinnerport \tRussian Federation \t874.617.5668x69878 \t(399)820-6418x0071 \tangie04@oconnell.com \t2020-02-09 \thttp://oconnor.com/ \t\n",
      "75 \tD01Af0AF7cBbFeA \tRegina \tStein \tGuzman-Brown \tRaystad \tSolomon Islands \t001-469-848-0724x4407 \t001-085-360-4426x00357 \tzrosario@rojas-hardin.net \t2022-01-15 \thttp://www.johnston.info/ \t\n",
      "76 \td40e89dCade7b2F \tDebra \tRiddle \tChang, Aguirre and Leblanc \tColinhaven \tUnited States Virgin Islands \t+1-768-182-6014x14336 \t(303)961-4491 \tshieldskerry@robles.com \t2020-07-11 \thttp://kaiser.info/ \t\n",
      "77 \tBF6a1f9bd1bf8DE \tBrittany \tZuniga \tMason-Hester \tWest Reginald \tKyrgyz Republic \t(050)136-9025 \t001-480-851-2496x0157 \tmchandler@cochran-huerta.org \t2021-07-24 \thttp://www.boyle.com/ \t\n",
      "78 \tFfaeFFbbbf280db \tCassidy \tMcmahon \tMcguire, Huynh and Hopkins \tLake Sherryborough \tMyanmar \t5040771311 \t684-682-0021x1326 \tkatrinalane@fitzgerald.com \t2020-10-21 \thttps://hurst.com/ \t\n",
      "79 \tCbAE1d1e9a8dCb1 \tLaurie \tPennington \tSanchez, Marsh and Hale \tPort Katherineville \tDominica \t007.155.3406x553 \t+1-809-862-5566x277 \tcookejill@powell.com \t2020-06-08 \thttp://www.hebert.com/ \t\n",
      "80 \tA7F85c1DE4dB87f \tAlejandro \tBlair \tCombs, Waller and Durham \tThomasland \tIceland \t(690)068-4641x51468 \t555.509.8691x2329 \telizabethbarr@ewing.com \t2020-09-19 \thttps://mercado-blevins.com/ \t\n",
      "81 \tD6CEAfb3BDbaa1A \tLeslie \tJennings \tBlankenship-Arias \tCoreybury \tMicronesia \t629.198.6346 \t075.256.0829 \tcorey75@wiggins.com \t2021-11-13 \thttps://www.juarez.com/ \t\n",
      "82 \tEbdb6F6F7c90b69 \tKathleen \tMckay \tCoffey, Lamb and Johnson \tLake Janiceton \tSaint Vincent and the Grenadines \t(733)910-9968 \t(691)247-4128x0665 \tchloelester@higgins-wilkinson.com \t2021-09-12 \thttp://www.owens-mooney.com/ \t\n",
      "83 \tE8E7e8Cfe516ef0 \tHunter \tMoreno \tFitzpatrick-Lawrence \tEast Clinton \tIsle of Man \t(733)833-6754 \t001-761-013-7121 \tisaac26@benton-finley.com \t2020-12-28 \thttp://walls.info/ \t\n",
      "84 \t78C06E9b6B3DF20 \tChad \tDavidson \tGarcia-Jimenez \tSouth Joshuashire \tOman \t8275702958 \t(804)842-4715 \tjustinwalters@jimenez.com \t2021-11-15 \thttp://www.garner-oliver.com/ \t\n",
      "85 \t03A1E62ADdeb31c \tCorey \tHolt \tMcdonald, Bird and Ramirez \tNew Glenda \tFiji \t001-439-242-4986x7918 \t3162708934 \tmaurice46@morgan.com \t2020-02-18 \thttp://www.watson.com/ \t\n",
      "86 \tC6763c99d0bd16D \tEmma \tCunningham \tStephens Inc \tNorth Jillianview \tNew Zealand \t128-059-0206x60217 \t(312)164-4545x2284 \twalter83@juarez.org \t2022-05-13 \thttp://www.reid.info/ \t\n",
      "87 \tebe77E5Bf9476CE \tDuane \tWoods \tMontoya-Miller \tLyonsberg \tMaldives \t(636)544-7783x7288 \t(203)287-1003x5932 \tkmercer@wagner.com \t2020-07-21 \thttp://murray.org/ \t\n",
      "88 \tE4Bbcd8AD81fC5f \tAlison \tVargas \tVaughn, Watts and Leach \tEast Cristinabury \tBenin \t365-273-8144 \t053-308-7653x6287 \tvcantu@norton.com \t2020-11-10 \thttp://mason.info/ \t\n",
      "89 \tefeb73245CDf1fF \tVernon \tKane \tCarter-Strickland \tThomasfurt \tYemen \t114-854-1159x555 \t499-608-4612 \thilljesse@barrett.info \t2021-04-15 \thttp://www.duffy-hensley.net/ \t\n",
      "90 \t37Ec4B395641c1E \tLori \tFlowers \tDecker-Mcknight \tNorth Joeburgh \tNamibia \t679.415.1210 \t945-842-3659x4581 \ttyrone77@valenzuela.info \t2021-01-09 \thttp://www.deleon-crosby.com/ \t\n",
      "91 \t5ef6d3eefdD43bE \tNina \tChavez \tByrd-Campbell \tCassidychester \tBhutan \t053-344-3205 \t+1-330-920-5422x571 \telliserica@frank.com \t2020-03-26 \thttps://www.pugh.com/ \t\n",
      "92 \t98b3aeDcC3B9FF3 \tShane \tFoley \tRocha-Hart \tSouth Dannymouth \tHungary \t+1-822-569-0302 \t001-626-114-5844x55073 \tnsteele@sparks.com \t2021-07-06 \thttps://www.holt-sparks.com/ \t\n",
      "93 \taAb6AFc7AfD0fF3 \tCollin \tAyers \tLamb-Peterson \tSouth Lonnie \tAnguilla \t404-645-5351x012 \t001-257-582-8850x8516 \tdudleyemily@gonzales.biz \t2021-06-29 \thttp://www.ruiz.com/ \t\n",
      "94 \t54B5B5Fe9F1B6C5 \tSherry \tYoung \tLee, Lucero and Johnson \tFrankchester \tSolomon Islands \t158-687-1764 \t(438)375-6207x003 \talan79@gates-mclaughlin.com \t2021-04-04 \thttps://travis.net/ \t\n",
      "95 \tBE91A0bdcA49Bbc \tDarrell \tDouglas \tNewton, Petersen and Mathis \tDaisyborough \tMali \t001-084-845-9524x1777 \t001-769-564-6303 \tgrayjean@lowery-good.com \t2022-02-17 \thttps://banks.biz/ \t\n",
      "96 \tcb8E23e48d22Eae \tKarl \tGreer \tCarey LLC \tEast Richard \tGuyana \t(188)169-1674x58692 \t001-841-293-3519x614 \thhart@jensen.com \t2022-01-30 \thttp://hayes-perez.com/ \t\n",
      "97 \tCeD220bdAaCfaDf \tLynn \tAtkinson \tWare, Burns and Oneal \tNew Bradview \tSri Lanka \t+1-846-706-2218 \t605.413.3198 \tvkemp@ferrell.com \t2021-07-10 \thttps://novak-allison.com/ \t\n",
      "98 \t28CDbC0dFe4b1Db \tFred \tGuerra \tSchmitt-Jones \tOrtegaland \tSolomon Islands \t+1-753-067-8419x7170 \t+1-632-666-7507x92121 \tswagner@kane.org \t2021-09-18 \thttps://www.ross.com/ \t\n",
      "99 \tc23d1D9EE8DEB0A \tYvonne \tFarmer \tFitzgerald-Harrell \tLake Elijahview \tAruba \t(530)311-9786 \t001-869-452-0943x12424 \tmccarthystephen@horn-green.biz \t2021-08-11 \thttp://watkins.info/ \t\n",
      "100 \t2354a0E336A91A1 \tClarence \tHaynes \tLe, Nash and Cross \tJudymouth \tHonduras \t(753)813-6941 \t783.639.1472 \tcolleen91@faulkner.biz \t2020-03-11 \thttp://www.hatfield-saunders.net/ \t\n"
     ]
    }
   ],
   "source": [
    "import csv\n",
    "import os\n",
    "\n",
    "file_name = \"customers-100.csv\"\n",
    "file_path = os.path.abspath(file_name)\n",
    "\n",
    "if os.path.isfile(file_path):\n",
    "    try:\n",
    "        with open(file_path, 'r') as f:\n",
    "            r = csv.reader(f)  # Returns csv reader object\n",
    "            data = list(r)\n",
    "            print(data)\n",
    "            for line in data:\n",
    "                for word in line:\n",
    "                    print(word, \"\\t\", end='')\n",
    "                print()\n",
    "    except PermissionError as e:\n",
    "        print(f\"PermissionError: {e}. Ensure you have read access to the file.\")\n",
    "    except FileNotFoundError as e:\n",
    "        print(f\"FileNotFoundError: {e}. Ensure the file exists at the specified path.\")\n",
    "else:\n",
    "    print(f\"The path {file_path} is not a file or does not exist.\")\n"
   ]
  },
  {
   "cell_type": "code",
   "execution_count": null,
   "id": "efe7368b",
   "metadata": {},
   "outputs": [],
   "source": []
  },
  {
   "cell_type": "code",
   "execution_count": null,
   "id": "d1d3b63c",
   "metadata": {},
   "outputs": [],
   "source": []
  }
 ],
 "metadata": {
  "kernelspec": {
   "display_name": "Python 3 (ipykernel)",
   "language": "python",
   "name": "python3"
  },
  "language_info": {
   "codemirror_mode": {
    "name": "ipython",
    "version": 3
   },
   "file_extension": ".py",
   "mimetype": "text/x-python",
   "name": "python",
   "nbconvert_exporter": "python",
   "pygments_lexer": "ipython3",
   "version": "3.11.5"
  }
 },
 "nbformat": 4,
 "nbformat_minor": 5
}
