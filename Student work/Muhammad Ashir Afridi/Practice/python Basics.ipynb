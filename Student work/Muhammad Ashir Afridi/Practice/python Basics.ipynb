{
 "cells": [
  {
   "cell_type": "markdown",
   "id": "fceb1343",
   "metadata": {},
   "source": [
    "# import keyword"
   ]
  },
  {
   "cell_type": "code",
   "execution_count": 2,
   "id": "faa6b774",
   "metadata": {},
   "outputs": [
    {
     "name": "stdout",
     "output_type": "stream",
     "text": [
      "['False', 'None', 'True', 'and', 'as', 'assert', 'async', 'await', 'break', 'class', 'continue', 'def', 'del', 'elif', 'else', 'except', 'finally', 'for', 'from', 'global', 'if', 'import', 'in', 'is', 'lambda', 'nonlocal', 'not', 'or', 'pass', 'raise', 'return', 'try', 'while', 'with', 'yield']\n"
     ]
    }
   ],
   "source": [
    "import keyword\n",
    "a= keyword.kwlist\n",
    "print(a)"
   ]
  },
  {
   "cell_type": "code",
   "execution_count": 2,
   "id": "e195e2e9",
   "metadata": {},
   "outputs": [
    {
     "name": "stdout",
     "output_type": "stream",
     "text": [
      "0b1100\n"
     ]
    }
   ],
   "source": [
    "a=bin(12)\n",
    "print(a)\n"
   ]
  },
  {
   "cell_type": "code",
   "execution_count": 3,
   "id": "1a5e614f",
   "metadata": {},
   "outputs": [
    {
     "name": "stdout",
     "output_type": "stream",
     "text": [
      "0o14\n"
     ]
    }
   ],
   "source": [
    "b=oct(12)\n",
    "print(b)"
   ]
  },
  {
   "cell_type": "code",
   "execution_count": 4,
   "id": "65b87386",
   "metadata": {},
   "outputs": [
    {
     "name": "stdout",
     "output_type": "stream",
     "text": [
      "0xc\n"
     ]
    }
   ],
   "source": [
    "c=hex(12)\n",
    "print(c)"
   ]
  },
  {
   "cell_type": "code",
   "execution_count": 5,
   "id": "2311dcbf",
   "metadata": {},
   "outputs": [
    {
     "name": "stdout",
     "output_type": "stream",
     "text": [
      "1200.0\n"
     ]
    }
   ],
   "source": [
    "f=1.2E3\n",
    "print(f)"
   ]
  },
  {
   "cell_type": "code",
   "execution_count": 7,
   "id": "833ccf79",
   "metadata": {},
   "outputs": [
    {
     "name": "stdout",
     "output_type": "stream",
     "text": [
      "(30+4.4j)\n",
      "30.0\n",
      "4.4\n",
      "<class 'complex'>\n"
     ]
    }
   ],
   "source": [
    "a = 10+1.2j\n",
    "b = 20+3.2j\n",
    "c = a+b\n",
    "print(c)\n",
    "print(c.real) #return real part(built-in method)\n",
    "print(c.imag) #return imaginary part(built-in method)\n",
    "print(type(c))"
   ]
  },
  {
   "cell_type": "code",
   "execution_count": 8,
   "id": "99d4feac",
   "metadata": {},
   "outputs": [
    {
     "name": "stdout",
     "output_type": "stream",
     "text": [
      "123\n"
     ]
    }
   ],
   "source": [
    "a = int(123.453)\n",
    "print(a)"
   ]
  },
  {
   "cell_type": "code",
   "execution_count": 9,
   "id": "0d4c74a9",
   "metadata": {},
   "outputs": [
    {
     "ename": "TypeError",
     "evalue": "int() argument must be a string, a bytes-like object or a real number, not 'complex'",
     "output_type": "error",
     "traceback": [
      "\u001b[1;31m---------------------------------------------------------------------------\u001b[0m",
      "\u001b[1;31mTypeError\u001b[0m                                 Traceback (most recent call last)",
      "Cell \u001b[1;32mIn[9], line 1\u001b[0m\n\u001b[1;32m----> 1\u001b[0m b \u001b[38;5;241m=\u001b[39m \u001b[38;5;28mint\u001b[39m(\u001b[38;5;241m10\u001b[39m\u001b[38;5;241m+\u001b[39m\u001b[38;5;241m4\u001b[39mj)\n\u001b[0;32m      2\u001b[0m \u001b[38;5;28mprint\u001b[39m(b)\n",
      "\u001b[1;31mTypeError\u001b[0m: int() argument must be a string, a bytes-like object or a real number, not 'complex'"
     ]
    }
   ],
   "source": [
    "b = int(10+4j)\n",
    "print(b)"
   ]
  },
  {
   "cell_type": "code",
   "execution_count": 10,
   "id": "9cdc2e92",
   "metadata": {},
   "outputs": [
    {
     "name": "stdout",
     "output_type": "stream",
     "text": [
      "1\n"
     ]
    }
   ],
   "source": [
    "c = int(True)\n",
    "print(c)"
   ]
  },
  {
   "cell_type": "code",
   "execution_count": 11,
   "id": "c3493455",
   "metadata": {},
   "outputs": [
    {
     "name": "stdout",
     "output_type": "stream",
     "text": [
      "0\n"
     ]
    }
   ],
   "source": [
    "d = int(False)\n",
    "print(d)"
   ]
  },
  {
   "cell_type": "code",
   "execution_count": 12,
   "id": "ba6a89db",
   "metadata": {},
   "outputs": [
    {
     "name": "stdout",
     "output_type": "stream",
     "text": [
      "10\n"
     ]
    }
   ],
   "source": [
    "e = int(\"10\")\n",
    "print(e)"
   ]
  },
  {
   "cell_type": "code",
   "execution_count": 13,
   "id": "47a03c5b",
   "metadata": {},
   "outputs": [
    {
     "ename": "ValueError",
     "evalue": "invalid literal for int() with base 10: '10.5'",
     "output_type": "error",
     "traceback": [
      "\u001b[1;31m---------------------------------------------------------------------------\u001b[0m",
      "\u001b[1;31mValueError\u001b[0m                                Traceback (most recent call last)",
      "Cell \u001b[1;32mIn[13], line 1\u001b[0m\n\u001b[1;32m----> 1\u001b[0m f \u001b[38;5;241m=\u001b[39m \u001b[38;5;28mint\u001b[39m(\u001b[38;5;124m\"\u001b[39m\u001b[38;5;124m10.5\u001b[39m\u001b[38;5;124m\"\u001b[39m)\n\u001b[0;32m      2\u001b[0m \u001b[38;5;28mprint\u001b[39m(f)\n",
      "\u001b[1;31mValueError\u001b[0m: invalid literal for int() with base 10: '10.5'"
     ]
    }
   ],
   "source": [
    "f = int(\"10.5\")\n",
    "print(f)"
   ]
  },
  {
   "cell_type": "markdown",
   "id": "f9648254",
   "metadata": {},
   "source": [
    "# Arithmetic operator"
   ]
  },
  {
   "cell_type": "code",
   "execution_count": 14,
   "id": "8a3ac3a8",
   "metadata": {},
   "outputs": [
    {
     "name": "stdout",
     "output_type": "stream",
     "text": [
      "12.5\n",
      "8.5\n",
      "5.25\n",
      "5.0\n",
      "0.5\n",
      "110.25\n"
     ]
    }
   ],
   "source": [
    "a = 10.5\n",
    "b = 2\n",
    "print(a+b)\n",
    "print(a-b)\n",
    "print(a/b)\n",
    "print(a//b)\n",
    "print(a%b)\n",
    "print(a**b)"
   ]
  },
  {
   "cell_type": "code",
   "execution_count": 15,
   "id": "466b7e15",
   "metadata": {},
   "outputs": [
    {
     "name": "stdout",
     "output_type": "stream",
     "text": [
      "AshirAshir\n"
     ]
    }
   ],
   "source": [
    "a = \"Ashir\"\n",
    "b = 2\n",
    "c= a*b\n",
    "print(c)"
   ]
  },
  {
   "cell_type": "code",
   "execution_count": 16,
   "id": "92d43fde",
   "metadata": {},
   "outputs": [
    {
     "ename": "TypeError",
     "evalue": "can't multiply sequence by non-int of type 'float'",
     "output_type": "error",
     "traceback": [
      "\u001b[1;31m---------------------------------------------------------------------------\u001b[0m",
      "\u001b[1;31mTypeError\u001b[0m                                 Traceback (most recent call last)",
      "Cell \u001b[1;32mIn[16], line 3\u001b[0m\n\u001b[0;32m      1\u001b[0m a \u001b[38;5;241m=\u001b[39m \u001b[38;5;124m\"\u001b[39m\u001b[38;5;124mAshir\u001b[39m\u001b[38;5;124m\"\u001b[39m\n\u001b[0;32m      2\u001b[0m b \u001b[38;5;241m=\u001b[39m \u001b[38;5;241m2.5\u001b[39m\n\u001b[1;32m----> 3\u001b[0m c\u001b[38;5;241m=\u001b[39m a\u001b[38;5;241m*\u001b[39mb\n\u001b[0;32m      4\u001b[0m \u001b[38;5;28mprint\u001b[39m(c)\n",
      "\u001b[1;31mTypeError\u001b[0m: can't multiply sequence by non-int of type 'float'"
     ]
    }
   ],
   "source": [
    "a = \"Ashir\"\n",
    "b = 2.5\n",
    "c= a*b\n",
    "print(c)"
   ]
  },
  {
   "cell_type": "code",
   "execution_count": 17,
   "id": "10366fa6",
   "metadata": {},
   "outputs": [
    {
     "ename": "TypeError",
     "evalue": "can't multiply sequence by non-int of type 'str'",
     "output_type": "error",
     "traceback": [
      "\u001b[1;31m---------------------------------------------------------------------------\u001b[0m",
      "\u001b[1;31mTypeError\u001b[0m                                 Traceback (most recent call last)",
      "Cell \u001b[1;32mIn[17], line 3\u001b[0m\n\u001b[0;32m      1\u001b[0m a \u001b[38;5;241m=\u001b[39m \u001b[38;5;124m\"\u001b[39m\u001b[38;5;124mAshir\u001b[39m\u001b[38;5;124m\"\u001b[39m\n\u001b[0;32m      2\u001b[0m b \u001b[38;5;241m=\u001b[39m \u001b[38;5;124m\"\u001b[39m\u001b[38;5;124mAfridi\u001b[39m\u001b[38;5;124m\"\u001b[39m\n\u001b[1;32m----> 3\u001b[0m c\u001b[38;5;241m=\u001b[39m a\u001b[38;5;241m*\u001b[39mb\n\u001b[0;32m      4\u001b[0m \u001b[38;5;28mprint\u001b[39m(c)\n",
      "\u001b[1;31mTypeError\u001b[0m: can't multiply sequence by non-int of type 'str'"
     ]
    }
   ],
   "source": [
    "a = \"Ashir\"\n",
    "b = \"Afridi\"\n",
    "c= a*b\n",
    "print(c)"
   ]
  },
  {
   "cell_type": "markdown",
   "id": "24aa6096",
   "metadata": {},
   "source": [
    "# Relational operator"
   ]
  },
  {
   "cell_type": "code",
   "execution_count": 21,
   "id": "09316843",
   "metadata": {},
   "outputs": [
    {
     "name": "stdout",
     "output_type": "stream",
     "text": [
      "a is greator than b:  False\n",
      "a is greator or equal to b:  False\n",
      "a is less than b:  True\n",
      "a is less than or equal to b:  True\n"
     ]
    }
   ],
   "source": [
    "a = \"Ashir\"\n",
    "b = \"Ashirr\"\n",
    "print(\"a is greator than b: \",a>b)\n",
    "print(\"a is greator or equal to b: \",a>=b)\n",
    "print(\"a is less than b: \",a<b)\n",
    "print(\"a is less than or equal to b: \",a<=b)\n"
   ]
  },
  {
   "cell_type": "code",
   "execution_count": 22,
   "id": "691fdd61",
   "metadata": {},
   "outputs": [
    {
     "name": "stdout",
     "output_type": "stream",
     "text": [
      "0b1010\n",
      "0b101000\n"
     ]
    }
   ],
   "source": [
    "a = bin(10)\n",
    "print(a)\n",
    "b = bin(40)\n",
    "print(b)\n"
   ]
  },
  {
   "cell_type": "markdown",
   "id": "ccf6d54a",
   "metadata": {},
   "source": [
    "# Program for minimum of 3 numbers"
   ]
  },
  {
   "cell_type": "code",
   "execution_count": 23,
   "id": "260f7ea0",
   "metadata": {},
   "outputs": [
    {
     "name": "stdout",
     "output_type": "stream",
     "text": [
      "Enter a number 10\n",
      "Enter a second  number 20\n",
      "Enter a third number 30\n",
      "Minimum value  10\n"
     ]
    }
   ],
   "source": [
    "a = int(input(\"Enter a number \"))\n",
    "b = int(input(\"Enter a second  number \"))\n",
    "c = int(input(\"Enter a third number \"))\n",
    "min = a if a<b and a < c else b if b<c else c\n",
    "print(\"Minimum value \" , min)"
   ]
  },
  {
   "cell_type": "code",
   "execution_count": null,
   "id": "05426d2c",
   "metadata": {},
   "outputs": [],
   "source": [
    "a=int(input(\"Enter First Number:\"))\n",
    "b=int(input(\"Enter Second Number:\"))\n",
    "print(\"Both numbers are equal\" if a==b else \"First Number is Less than Second Number\" if\n",
    "a<b else \"First Number Greater than Second Number\")"
   ]
  },
  {
   "cell_type": "code",
   "execution_count": 7,
   "id": "df838a83",
   "metadata": {},
   "outputs": [
    {
     "name": "stdout",
     "output_type": "stream",
     "text": [
      "Enter 2 numbers :4 5\n",
      "product is:  20\n"
     ]
    }
   ],
   "source": [
    "a,b = [int(x) for x in input(\"Enter 2 numbers :\").split()]\n",
    "print(\"product is: \" ,a*b)"
   ]
  },
  {
   "cell_type": "code",
   "execution_count": 11,
   "id": "0829b6d8",
   "metadata": {},
   "outputs": [
    {
     "name": "stdout",
     "output_type": "stream",
     "text": [
      "Enter 3 numbers : 10.52.34.3\n"
     ]
    },
    {
     "ename": "ValueError",
     "evalue": "could not convert string to float: '10.52.34.3'",
     "output_type": "error",
     "traceback": [
      "\u001b[1;31m---------------------------------------------------------------------------\u001b[0m",
      "\u001b[1;31mValueError\u001b[0m                                Traceback (most recent call last)",
      "Cell \u001b[1;32mIn[11], line 1\u001b[0m\n\u001b[1;32m----> 1\u001b[0m a,b,c \u001b[38;5;241m=\u001b[39m [\u001b[38;5;28mfloat\u001b[39m(x) \u001b[38;5;28;01mfor\u001b[39;00m x \u001b[38;5;129;01min\u001b[39;00m \u001b[38;5;28minput\u001b[39m(\u001b[38;5;124m\"\u001b[39m\u001b[38;5;124mEnter 3 numbers : \u001b[39m\u001b[38;5;124m\"\u001b[39m)\u001b[38;5;241m.\u001b[39msplit(\u001b[38;5;124m'\u001b[39m\u001b[38;5;124m,\u001b[39m\u001b[38;5;124m'\u001b[39m)]\n\u001b[0;32m      2\u001b[0m \u001b[38;5;28mprint\u001b[39m(\u001b[38;5;124m\"\u001b[39m\u001b[38;5;124mThe sum is :\u001b[39m\u001b[38;5;124m\"\u001b[39m , a\u001b[38;5;241m+\u001b[39mb\u001b[38;5;241m+\u001b[39mc)\n",
      "Cell \u001b[1;32mIn[11], line 1\u001b[0m, in \u001b[0;36m<listcomp>\u001b[1;34m(.0)\u001b[0m\n\u001b[1;32m----> 1\u001b[0m a,b,c \u001b[38;5;241m=\u001b[39m [\u001b[38;5;28mfloat\u001b[39m(x) \u001b[38;5;28;01mfor\u001b[39;00m x \u001b[38;5;129;01min\u001b[39;00m \u001b[38;5;28minput\u001b[39m(\u001b[38;5;124m\"\u001b[39m\u001b[38;5;124mEnter 3 numbers : \u001b[39m\u001b[38;5;124m\"\u001b[39m)\u001b[38;5;241m.\u001b[39msplit(\u001b[38;5;124m'\u001b[39m\u001b[38;5;124m,\u001b[39m\u001b[38;5;124m'\u001b[39m)]\n\u001b[0;32m      2\u001b[0m \u001b[38;5;28mprint\u001b[39m(\u001b[38;5;124m\"\u001b[39m\u001b[38;5;124mThe sum is :\u001b[39m\u001b[38;5;124m\"\u001b[39m , a\u001b[38;5;241m+\u001b[39mb\u001b[38;5;241m+\u001b[39mc)\n",
      "\u001b[1;31mValueError\u001b[0m: could not convert string to float: '10.52.34.3'"
     ]
    }
   ],
   "source": [
    "a,b,c = [float(x) for x in input(\"Enter 3 numbers : \").split(',')]\n",
    "print(\"The sum is :\" , a+b+c)"
   ]
  },
  {
   "cell_type": "code",
   "execution_count": 13,
   "id": "ca9d02d6",
   "metadata": {},
   "outputs": [
    {
     "ename": "SyntaxError",
     "evalue": "invalid character '“' (U+201C) (341671660.py, line 2)",
     "output_type": "error",
     "traceback": [
      "\u001b[1;36m  Cell \u001b[1;32mIn[13], line 2\u001b[1;36m\u001b[0m\n\u001b[1;33m    print(“The Number of Command Line Arguments:”, len(argv))\u001b[0m\n\u001b[1;37m          ^\u001b[0m\n\u001b[1;31mSyntaxError\u001b[0m\u001b[1;31m:\u001b[0m invalid character '“' (U+201C)\n"
     ]
    }
   ],
   "source": [
    "from sys import argv\n",
    "print(“The Number of Command Line Arguments:”, len(argv))\n",
    "print(“The List of Command Line Arguments:”, argv)\n",
    "print(“Command Line Arguments one by one:”)\n",
    "for x in argv:\n",
    "print(x)\n"
   ]
  },
  {
   "cell_type": "markdown",
   "id": "0e45ffa1",
   "metadata": {},
   "source": [
    "# Write a program to find biggest of given 3 numbers from the commad prompt?"
   ]
  },
  {
   "cell_type": "code",
   "execution_count": 1,
   "id": "ca17ebb5",
   "metadata": {},
   "outputs": [
    {
     "name": "stdout",
     "output_type": "stream",
     "text": [
      "Enter a number one :12\n",
      "Enter a number Two :12\n",
      "Enter a number Three :13\n",
      "Biggest number is  13\n"
     ]
    }
   ],
   "source": [
    "n1 = int(input(\"Enter a number one :\"))\n",
    "n2 = int(input(\"Enter a number Two :\"))\n",
    "n3 = int(input(\"Enter a number Three :\"))\n",
    "if n1>n2 and n1>n3:\n",
    "    print(\"Biggest number is \", n1)\n",
    "elif n2>n3:\n",
    "    print(\"Biggest number is \" ,n2)\n",
    "else:\n",
    "    print(\"Biggest number is \",n3)"
   ]
  },
  {
   "cell_type": "code",
   "execution_count": 3,
   "id": "2646dc56",
   "metadata": {},
   "outputs": [
    {
     "name": "stdout",
     "output_type": "stream",
     "text": [
      "Enter a number between 1 and 100 101\n",
      "Number is not in a range \n"
     ]
    }
   ],
   "source": [
    "num = int(input(\"Enter a number between 1 and 100 \"))\n",
    "if (num>=1) and (num<=100):\n",
    "    print(\"Number is between 1 and 100 \")\n",
    "else:\n",
    "    print(\"Number is not in a range \")"
   ]
  },
  {
   "cell_type": "code",
   "execution_count": 4,
   "id": "8f2819a0",
   "metadata": {},
   "outputs": [
    {
     "name": "stdout",
     "output_type": "stream",
     "text": [
      "Enter a number one :10\n",
      "Enter a number Two :20\n",
      "Enter a number Three :30\n",
      "Biggest number is  10\n"
     ]
    }
   ],
   "source": [
    "n1 = int(input(\"Enter a number one :\"))\n",
    "n2 = int(input(\"Enter a number Two :\"))\n",
    "n3 = int(input(\"Enter a number Three :\"))\n",
    "if n1<n2 and n1<n3:\n",
    "    print(\"smallest number is \", n1)\n",
    "elif n2<n3:\n",
    "    print(\"smallest number is \" ,n2)\n",
    "else:\n",
    "    print(\"smallest number is \",n3)"
   ]
  },
  {
   "cell_type": "code",
   "execution_count": 5,
   "id": "1e9a778f",
   "metadata": {},
   "outputs": [
    {
     "name": "stdout",
     "output_type": "stream",
     "text": [
      "10\n",
      "9\n",
      "8\n",
      "7\n",
      "6\n",
      "5\n",
      "4\n",
      "3\n",
      "2\n",
      "1\n"
     ]
    }
   ],
   "source": [
    "x  = range(10,0,-1)\n",
    "for i in x:\n",
    "    print(i)"
   ]
  },
  {
   "cell_type": "code",
   "execution_count": 6,
   "id": "dfb8af91",
   "metadata": {},
   "outputs": [
    {
     "name": "stdout",
     "output_type": "stream",
     "text": [
      "Enter a list 10,20,30,40,50\n",
      "The sum= 150\n"
     ]
    }
   ],
   "source": [
    "list = eval(input(\"Enter a list \"))\n",
    "sum = 0\n",
    "for x in list:\n",
    "    sum+=x\n",
    "print(\"The sum=\",sum)    "
   ]
  },
  {
   "cell_type": "code",
   "execution_count": 1,
   "id": "e9b4ba10",
   "metadata": {},
   "outputs": [
    {
     "name": "stdout",
     "output_type": "stream",
     "text": [
      "Enter a number 10\n",
      "The sum of first 10 number is: 55\n"
     ]
    }
   ],
   "source": [
    "n = int(input(\"Enter a number \"))\n",
    "sum = 0\n",
    "i = 1\n",
    "while i<=n:\n",
    "    sum = sum + i\n",
    "    i+=1\n",
    "print(\"The sum of first\",n,\"number is:\",sum)    \n",
    "    "
   ]
  },
  {
   "cell_type": "code",
   "execution_count": 4,
   "id": "7690b156",
   "metadata": {},
   "outputs": [
    {
     "name": "stdout",
     "output_type": "stream",
     "text": [
      "i=0j=0\n",
      "i=0j=1\n",
      "i=0j=2\n",
      "i=0j=3\n",
      "i=1j=0\n",
      "i=1j=1\n",
      "i=1j=2\n",
      "i=1j=3\n",
      "i=2j=0\n",
      "i=2j=1\n",
      "i=2j=2\n",
      "i=2j=3\n",
      "i=3j=0\n",
      "i=3j=1\n",
      "i=3j=2\n",
      "i=3j=3\n"
     ]
    }
   ],
   "source": [
    "for i in range(4):\n",
    "    for j in range(4):\n",
    "        print(\"i=\",i,\"j=\",j,sep=\"\")"
   ]
  },
  {
   "cell_type": "code",
   "execution_count": 5,
   "id": "fa9853ac",
   "metadata": {},
   "outputs": [
    {
     "name": "stdout",
     "output_type": "stream",
     "text": [
      "Enter a number 5\n",
      "*\n",
      "**\n",
      "***\n",
      "****\n",
      "*****\n"
     ]
    }
   ],
   "source": [
    "n=int(input(\"Enter a number \"))\n",
    "for i in range(1,n+1):\n",
    "    for j in range(1,i+1):\n",
    "        print(\"*\",end=\"\")\n",
    "    print()    \n"
   ]
  },
  {
   "cell_type": "code",
   "execution_count": 6,
   "id": "90a59f19",
   "metadata": {},
   "outputs": [
    {
     "name": "stdout",
     "output_type": "stream",
     "text": [
      "Enter a number 5\n",
      "*\n",
      "**\n",
      "***\n",
      "****\n",
      "*****\n"
     ]
    }
   ],
   "source": [
    "n=int(input(\"Enter a number \"))\n",
    "for i in range(1,n+1):\n",
    "    print(\"*\" *i)"
   ]
  },
  {
   "cell_type": "code",
   "execution_count": 7,
   "id": "2dd85802",
   "metadata": {},
   "outputs": [
    {
     "name": "stdout",
     "output_type": "stream",
     "text": [
      "Enter a number 5\n",
      "*\n",
      "**\n",
      "***\n",
      "****\n",
      "*****\n"
     ]
    }
   ],
   "source": [
    "n=int(input(\"Enter a number \"))\n",
    "for i in range(1,n+1):\n",
    "    print(\"\" *(n-i),end=\"\")\n",
    "    print(\"*\" * i)"
   ]
  },
  {
   "cell_type": "code",
   "execution_count": 9,
   "id": "0d66df80",
   "metadata": {},
   "outputs": [
    {
     "name": "stdout",
     "output_type": "stream",
     "text": [
      "10\n",
      "20\n",
      "To place this order insurence must be required \n"
     ]
    }
   ],
   "source": [
    "cart = [10,20,600,60,70]\n",
    "for item in cart:\n",
    "    if item>500:\n",
    "        print(\"To place this order insurence must be required \")\n",
    "        break\n",
    "    print(item)"
   ]
  },
  {
   "cell_type": "code",
   "execution_count": 12,
   "id": "b417a190",
   "metadata": {},
   "outputs": [
    {
     "name": "stdout",
     "output_type": "stream",
     "text": [
      "10\n",
      "20\n",
      "we cannot process this item  500\n",
      "we cannot process this item  700\n",
      "70\n"
     ]
    }
   ],
   "source": [
    "cart = [10,20,500,700,70]\n",
    "for item in cart:\n",
    "    if item>=500:\n",
    "        print(\"we cannot process this item \",item)\n",
    "        continue\n",
    "    print(item)"
   ]
  },
  {
   "cell_type": "code",
   "execution_count": 13,
   "id": "2ab32745",
   "metadata": {},
   "outputs": [
    {
     "name": "stdout",
     "output_type": "stream",
     "text": [
      "100/10=10.0\n",
      "100/20=5.0\n",
      "Hey how we can divide with zero..just skipping\n",
      "100/5=20.0\n",
      "Hey how we can divide with zero..just skipping\n",
      "100/30=3.3333333333333335\n"
     ]
    }
   ],
   "source": [
    "numbers = [10,20,0,5,0,30]\n",
    "for n in numbers:\n",
    "    if n==0:\n",
    "        print(\"Hey how we can divide with zero..just skipping\")\n",
    "        continue\n",
    "    print(\"100/{}={}\".format(n,100/n))    "
   ]
  },
  {
   "cell_type": "code",
   "execution_count": 14,
   "id": "df25af8f",
   "metadata": {},
   "outputs": [
    {
     "name": "stdout",
     "output_type": "stream",
     "text": [
      "10\n",
      "20\n",
      "30\n",
      "40\n",
      "50\n",
      "Congrats ...all items processed successfully\n"
     ]
    }
   ],
   "source": [
    "cart = [10,20,30,40,50]\n",
    "for item in cart:\n",
    "    if item>=500:\n",
    "        print(\"we cannot process this item \",item)\n",
    "        break\n",
    "    print(item)\n",
    "else:\n",
    "    print(\"Congrats ...all items processed successfully\")\n",
    "    "
   ]
  },
  {
   "cell_type": "markdown",
   "id": "e323fefe",
   "metadata": {},
   "source": [
    "# Accessing string by index method"
   ]
  },
  {
   "cell_type": "code",
   "execution_count": 25,
   "id": "50c06399",
   "metadata": {},
   "outputs": [
    {
     "name": "stdout",
     "output_type": "stream",
     "text": [
      "Enter a string python programming is a fun\n",
      "The character present at positive index 0 and at nEgative index -27 is p\n",
      "The character present at positive index 1 and at nEgative index -26 is y\n",
      "The character present at positive index 2 and at nEgative index -25 is t\n",
      "The character present at positive index 3 and at nEgative index -24 is h\n",
      "The character present at positive index 4 and at nEgative index -23 is o\n",
      "The character present at positive index 5 and at nEgative index -22 is n\n",
      "The character present at positive index 6 and at nEgative index -21 is  \n",
      "The character present at positive index 7 and at nEgative index -20 is p\n",
      "The character present at positive index 8 and at nEgative index -19 is r\n",
      "The character present at positive index 9 and at nEgative index -18 is o\n",
      "The character present at positive index 10 and at nEgative index -17 is g\n",
      "The character present at positive index 11 and at nEgative index -16 is r\n",
      "The character present at positive index 12 and at nEgative index -15 is a\n",
      "The character present at positive index 13 and at nEgative index -14 is m\n",
      "The character present at positive index 14 and at nEgative index -13 is m\n",
      "The character present at positive index 15 and at nEgative index -12 is i\n",
      "The character present at positive index 16 and at nEgative index -11 is n\n",
      "The character present at positive index 17 and at nEgative index -10 is g\n",
      "The character present at positive index 18 and at nEgative index -9 is  \n",
      "The character present at positive index 19 and at nEgative index -8 is i\n",
      "The character present at positive index 20 and at nEgative index -7 is s\n",
      "The character present at positive index 21 and at nEgative index -6 is  \n",
      "The character present at positive index 22 and at nEgative index -5 is a\n",
      "The character present at positive index 23 and at nEgative index -4 is  \n",
      "The character present at positive index 24 and at nEgative index -3 is f\n",
      "The character present at positive index 25 and at nEgative index -2 is u\n",
      "The character present at positive index 26 and at nEgative index -1 is n\n"
     ]
    }
   ],
   "source": [
    "s = input(\"Enter a string \")\n",
    "i=0\n",
    "for x in s:\n",
    "    print(\"The character present at positive index {x} and at nEgative index {y} is {z}\".format(x=i,y=i-len(s),z=x))\n",
    "    i=i+1"
   ]
  },
  {
   "cell_type": "markdown",
   "id": "55bb385d",
   "metadata": {},
   "source": [
    "# Accessing characters by using slice operator"
   ]
  },
  {
   "cell_type": "code",
   "execution_count": 16,
   "id": "18e7ef03",
   "metadata": {},
   "outputs": [
    {
     "name": "stdout",
     "output_type": "stream",
     "text": [
      "earning\n",
      "earnin\n",
      "earning Python is very very easy!!!\n",
      "Learning\n",
      "earning Python is very very easy!!!\n",
      "Learning Python is very very easy!!!\n",
      "Learning Python is very very easy!!!\n",
      "erigPto sv\n",
      "!!seye rvs otPgire\n"
     ]
    }
   ],
   "source": [
    "s = \"Learning Python is very very easy!!!\"\n",
    "print(s[1:8])\n",
    "print(s[1:7])\n",
    "print(s[1:])\n",
    "print(s[:8])\n",
    "print(s[1::])\n",
    "print(s[::])\n",
    "print(s[:])\n",
    "print(s[1:20:2])\n",
    "print(s[::-2])\n"
   ]
  },
  {
   "cell_type": "markdown",
   "id": "ea4d53df",
   "metadata": {},
   "source": [
    "# Write a program to access each character of string in forward and backward direction"
   ]
  },
  {
   "cell_type": "code",
   "execution_count": 2,
   "id": "31a8051b",
   "metadata": {},
   "outputs": [
    {
     "name": "stdout",
     "output_type": "stream",
     "text": [
      "Enter a string python is very easy compare to java\n",
      "Forward Direction \n",
      "python is very easy compare to java\n",
      "Backward Direction\n",
      "avaj ot erapmoc ysae yrev si nohtypavaj ot erapmoc ysae yrev si nohty"
     ]
    }
   ],
   "source": [
    "s=input(\"Enter a string!!!!! \")\n",
    "n=len(s)\n",
    "i=0\n",
    "print(\"Forward Direction \")\n",
    "while i<n:\n",
    "    print(s[i],end=\"\")\n",
    "    i+=1\n",
    "print(\"\\nBackward Direction\")    \n",
    "i-=1\n",
    "while i>-n:\n",
    "    print(s[i],end=\"\")\n",
    "    i-=1\n",
    "    "
   ]
  },
  {
   "cell_type": "code",
   "execution_count": 21,
   "id": "ae5aaf51",
   "metadata": {},
   "outputs": [
    {
     "name": "stdout",
     "output_type": "stream",
     "text": [
      "Forward Direction \n",
      "Learning Python is very easy !!!\n",
      "Forward Direction \n",
      "Learning Python is very easy !!!\n",
      "Backward Direction \n",
      "!!! ysae yrev si nohtyP gninraeL"
     ]
    }
   ],
   "source": [
    "s = \"Learning Python is very easy !!!\"\n",
    "print(\"Forward Direction \")\n",
    "for i in s:\n",
    "    print(i,end=\"\")\n",
    "print(\"\\nForward Direction \")\n",
    "for i in s[::]:\n",
    "    print(i,end=\"\")\n",
    "print(\"\\nBackward Direction \")    \n",
    "for i in s[::-1]:\n",
    "    print(i,end=\"\")\n"
   ]
  },
  {
   "cell_type": "code",
   "execution_count": 22,
   "id": "1184822a",
   "metadata": {},
   "outputs": [
    {
     "name": "stdout",
     "output_type": "stream",
     "text": [
      "Enter main string Ashir is a good programmer\n",
      "Enter sub string programmer\n",
      "programmer is found in main string \n"
     ]
    }
   ],
   "source": [
    "s = input(\"Enter main string \")\n",
    "subs = input(\"Enter sub string \")\n",
    "if subs in s:\n",
    "    print(subs,\"is found in main string \")\n",
    "else:\n",
    "    print(subs,\"is not found in main string \")"
   ]
  },
  {
   "cell_type": "markdown",
   "id": "664595e4",
   "metadata": {},
   "source": [
    "# comparison of string "
   ]
  },
  {
   "cell_type": "code",
   "execution_count": 25,
   "id": "ec3c28ea",
   "metadata": {},
   "outputs": [
    {
     "name": "stdout",
     "output_type": "stream",
     "text": [
      "Enter first string Ashir\n",
      "Enter second stirng Afridi\n",
      "First String is greator than second string \n"
     ]
    }
   ],
   "source": [
    "s1 = input(\"Enter first string \")\n",
    "s2 = input(\"Enter second stirng \")\n",
    "if s1==s2:\n",
    "    print(\"Both string are equal \")\n",
    "elif s1 < s2:\n",
    "    print(\"First String is Less than second string \")\n",
    "else:\n",
    "    print(\"First String is greator than second string \")"
   ]
  },
  {
   "cell_type": "code",
   "execution_count": 1,
   "id": "f2e8f4d9",
   "metadata": {},
   "outputs": [
    {
     "name": "stdout",
     "output_type": "stream",
     "text": [
      "Enter your city Name Kohat\n",
      "Hello !!....Kohatiii \n"
     ]
    }
   ],
   "source": [
    "city = input(\"Enter your city Name \")\n",
    "scity = city.strip()\n",
    "if scity == \"Kohat\":\n",
    "    print(\"Hello !!....Kohatiii \")\n",
    "elif scity == \"peshawar\":\n",
    "    print(\"Hello!!...From peshawar!!! \")\n",
    "elif scity == \"Mardan\":\n",
    "    print(\"Hello!!...From Mardan!!! \")\n",
    "else:\n",
    "    print(\"Invalid city you have entered \")"
   ]
  },
  {
   "cell_type": "markdown",
   "id": "d3891ee3",
   "metadata": {},
   "source": [
    "# Finding Substrings"
   ]
  },
  {
   "cell_type": "code",
   "execution_count": 3,
   "id": "f71c6630",
   "metadata": {},
   "outputs": [
    {
     "name": "stdout",
     "output_type": "stream",
     "text": [
      "9\n",
      "-1\n",
      "3\n",
      "21\n"
     ]
    }
   ],
   "source": [
    "s = \"Learning python is very easy \"\n",
    "print(s.find(\"python\"))\n",
    "print(s.find(\"java\"))\n",
    "print(s.find(\"r\"))\n",
    "print(s.rfind(\"r\"))\n"
   ]
  },
  {
   "cell_type": "code",
   "execution_count": 1,
   "id": "206b847f",
   "metadata": {},
   "outputs": [
    {
     "name": "stdout",
     "output_type": "stream",
     "text": [
      "4\n",
      "10\n",
      "-1\n"
     ]
    }
   ],
   "source": [
    "s=\"durgaravipavanshiva\" #s.find(substring,bEgin,end)\n",
    "print(s.find(\"a\"))\n",
    "print(s.find(\"a\",7,15))\n",
    "print(s.find(\"z\",7,15)) #-1 means not found while using index() method its return ValueError\n"
   ]
  },
  {
   "cell_type": "code",
   "execution_count": 2,
   "id": "839d2ffc",
   "metadata": {},
   "outputs": [
    {
     "name": "stdout",
     "output_type": "stream",
     "text": [
      "Enter main string:Learning python is easy\n",
      "Enter sub string:python\n",
      "substring found\n"
     ]
    }
   ],
   "source": [
    "s=input(\"Enter main string:\")\n",
    "subs=input(\"Enter sub string:\")\n",
    "try:\n",
    "     n=s.index(subs)\n",
    "except ValueError:\n",
    "    print(\"substring not found\")\n",
    "else:\n",
    "    print(\"substring found\")"
   ]
  },
  {
   "cell_type": "markdown",
   "id": "23689ec5",
   "metadata": {},
   "source": [
    "# Program to display all positions of substring in a given main string"
   ]
  },
  {
   "cell_type": "code",
   "execution_count": 4,
   "id": "dd4b718a",
   "metadata": {},
   "outputs": [
    {
     "name": "stdout",
     "output_type": "stream",
     "text": [
      "Enter main string:aabbddffgghhjjkkllaassddhhaassaaddaaffaassaa\n",
      "Enter sub string:a\n",
      "Found at position 0\n",
      "Found at position 1\n",
      "Found at position 18\n",
      "Found at position 19\n",
      "Found at position 26\n",
      "Found at position 27\n",
      "Found at position 30\n",
      "Found at position 31\n",
      "Found at position 34\n",
      "Found at position 35\n",
      "Found at position 38\n",
      "Found at position 39\n",
      "Found at position 42\n",
      "Found at position 43\n"
     ]
    }
   ],
   "source": [
    "s=input(\"Enter main string:\")\n",
    "subs=input(\"Enter sub string:\")\n",
    "flag=False\n",
    "pos=-1\n",
    "n=len(s)\n",
    "while True:\n",
    "    pos=s.find(subs,pos+1,n)\n",
    "    if pos==-1:\n",
    "        break\n",
    "    print(\"Found at position\",pos)\n",
    "    flag=True\n",
    "if flag==False:\n",
    "    print(\"Not Found\")"
   ]
  },
  {
   "cell_type": "code",
   "execution_count": 5,
   "id": "b109d217",
   "metadata": {},
   "outputs": [
    {
     "name": "stdout",
     "output_type": "stream",
     "text": [
      "6\n",
      "4\n",
      "2\n"
     ]
    }
   ],
   "source": [
    "s=\"abcabcabcabcadda\"\n",
    "print(s.count('a'))\n",
    "print(s.count('ab'))\n",
    "print(s.count('a',3,7))"
   ]
  },
  {
   "cell_type": "code",
   "execution_count": 6,
   "id": "e19d471f",
   "metadata": {},
   "outputs": [
    {
     "name": "stdout",
     "output_type": "stream",
     "text": [
      "Learning Python is very easy\n"
     ]
    }
   ],
   "source": [
    "s=\"Learning Python is very difficult\"\n",
    "s1=s.replace(\"difficult\",\"easy\") #s.replace(oldstring,newstring)\n",
    "print(s1)"
   ]
  },
  {
   "cell_type": "code",
   "execution_count": 7,
   "id": "0eda1a21",
   "metadata": {},
   "outputs": [
    {
     "name": "stdout",
     "output_type": "stream",
     "text": [
      "bbbbbbbbbbbbbb\n"
     ]
    }
   ],
   "source": [
    "s=\"ababababababab\"\n",
    "s1=s.replace(\"a\",\"b\")\n",
    "print(s1)"
   ]
  },
  {
   "cell_type": "code",
   "execution_count": 8,
   "id": "d7dffc36",
   "metadata": {},
   "outputs": [
    {
     "name": "stdout",
     "output_type": "stream",
     "text": [
      "abab is available at : 2035613253808\n",
      "bbbb is available at : 2035613168688\n"
     ]
    }
   ],
   "source": [
    "s=\"abab\"\n",
    "s1=s.replace(\"a\",\"b\")\n",
    "print(s,\"is available at :\",id(s))\n",
    "print(s1,\"is available at :\",id(s1))\n",
    "# original object is available and we can see new object which was created\n",
    "# because of replace() method."
   ]
  },
  {
   "cell_type": "markdown",
   "id": "618fd1d4",
   "metadata": {},
   "source": [
    "# Splitting of Strings"
   ]
  },
  {
   "cell_type": "code",
   "execution_count": 9,
   "id": "2d619159",
   "metadata": {},
   "outputs": [
    {
     "name": "stdout",
     "output_type": "stream",
     "text": [
      "durga\n",
      "software\n",
      "solutions\n"
     ]
    }
   ],
   "source": [
    "s=\"durga software solutions\"\n",
    "l=s.split()\n",
    "for x in l:\n",
    "    print(x)"
   ]
  },
  {
   "cell_type": "code",
   "execution_count": 10,
   "id": "d39672ce",
   "metadata": {},
   "outputs": [
    {
     "name": "stdout",
     "output_type": "stream",
     "text": [
      "22\n",
      "02\n",
      "2018\n"
     ]
    }
   ],
   "source": [
    "s=\"22-02-2018\"\n",
    "l=s.split('-')\n",
    "for x in l:\n",
    "    print(x)"
   ]
  },
  {
   "cell_type": "markdown",
   "id": "5ab150a4",
   "metadata": {},
   "source": [
    "# Joining of Strings"
   ]
  },
  {
   "cell_type": "code",
   "execution_count": 11,
   "id": "7f1ae2aa",
   "metadata": {},
   "outputs": [
    {
     "name": "stdout",
     "output_type": "stream",
     "text": [
      "sunny-bunny-chinny\n"
     ]
    }
   ],
   "source": [
    "t=('sunny','bunny','chinny')\n",
    "s='-'.join(t)\n",
    "print(s)"
   ]
  },
  {
   "cell_type": "code",
   "execution_count": 3,
   "id": "c0096623",
   "metadata": {},
   "outputs": [
    {
     "name": "stdout",
     "output_type": "stream",
     "text": [
      "hyderabad singapore london dubai\n"
     ]
    }
   ],
   "source": [
    "l=['hyderabad','singapore','london','dubai']\n",
    "s=\" \".join(l)\n",
    "print(s)"
   ]
  },
  {
   "cell_type": "markdown",
   "id": "2d7d1892",
   "metadata": {},
   "source": [
    "# Changing case of a String"
   ]
  },
  {
   "cell_type": "code",
   "execution_count": 13,
   "id": "3b47a373",
   "metadata": {},
   "outputs": [
    {
     "name": "stdout",
     "output_type": "stream",
     "text": [
      "LEARNING PYTHON IS VERY EASY\n",
      "learning python is very easy\n",
      "LEARNING pYTHON IS VERY eASY\n",
      "Learning Python Is Very Easy\n",
      "Learning python is very easy\n"
     ]
    }
   ],
   "source": [
    "s='learning Python is very Easy'\n",
    "print(s.upper())\n",
    "print(s.lower())\n",
    "print(s.swapcase())\n",
    "print(s.title())\n",
    "print(s.capitalize())"
   ]
  },
  {
   "cell_type": "markdown",
   "id": "62a1a5ee",
   "metadata": {},
   "source": [
    "# To check type of characters present in a string"
   ]
  },
  {
   "cell_type": "code",
   "execution_count": 14,
   "id": "038504ee",
   "metadata": {},
   "outputs": [
    {
     "name": "stdout",
     "output_type": "stream",
     "text": [
      "True\n",
      "False\n",
      "True\n",
      "False\n",
      "True\n",
      "True\n",
      "False\n",
      "True\n",
      "True\n",
      "False\n",
      "True\n",
      "True\n"
     ]
    }
   ],
   "source": [
    "print('Durga786'.isalnum()) #True\n",
    "print('durga786'.isalpha()) #False\n",
    "print('durga'.isalpha()) #True\n",
    "print('durga'.isdigit()) #False\n",
    "print('786786'.isdigit()) #True\n",
    "print('abc'.islower()) #True\n",
    "print('Abc'.islower()) #False\n",
    "print('abc123'.islower()) #True\n",
    "print('ABC'.isupper()) #True\n",
    "print('Learning python is Easy'.istitle()) #False\n",
    "print('Learning Python Is Easy'.istitle()) #True\n",
    "print(' '.isspace()) #True"
   ]
  },
  {
   "cell_type": "markdown",
   "id": "48583747",
   "metadata": {},
   "source": [
    "# Formatting the Strings"
   ]
  },
  {
   "cell_type": "code",
   "execution_count": 15,
   "id": "8c961f88",
   "metadata": {},
   "outputs": [
    {
     "name": "stdout",
     "output_type": "stream",
     "text": [
      "durga 's salary is 10000 and his age is 48\n",
      "durga 's salary is 10000 and his age is 48\n",
      "durga 's salary is 10000 and his age is 48\n"
     ]
    }
   ],
   "source": [
    "name='durga'\n",
    "salary=10000\n",
    "age=48\n",
    "print(\"{} 's salary is {} and his age is {}\".format(name,salary,age))\n",
    "print(\"{0} 's salary is {1} and his age is {2}\".format(name,salary,age))\n",
    "print(\"{x} 's salary is {y} and his age is {z}\".format(z=age,y=salary,x=name))"
   ]
  },
  {
   "cell_type": "markdown",
   "id": "1b098559",
   "metadata": {},
   "source": [
    "# How to reverse a string"
   ]
  },
  {
   "cell_type": "code",
   "execution_count": 5,
   "id": "dc58fe4b",
   "metadata": {},
   "outputs": [
    {
     "name": "stdout",
     "output_type": "stream",
     "text": [
      "Char at index  10  =  G\n",
      "Char at index  9  =  N\n",
      "Char at index  8  =  I\n",
      "Char at index  7  =  M\n",
      "Char at index  6  =  M\n",
      "Char at index  5  =  A\n",
      "Char at index  4  =  R\n",
      "Char at index  3  =  G\n",
      "Char at index  2  =  O\n",
      "Char at index  1  =  R\n",
      "Char at index  0  =  P\n",
      "P"
     ]
    }
   ],
   "source": [
    "word = \"PROGRAMMING\"\n",
    "for i in range(len(word)-1, -1,-1):\n",
    "    print(\"Char at index \", i, \" = \", word[i])\n",
    "print(word[i], end='')"
   ]
  },
  {
   "cell_type": "markdown",
   "id": "b94f31a3",
   "metadata": {},
   "source": [
    "# How to find a palindrom word"
   ]
  },
  {
   "cell_type": "code",
   "execution_count": 9,
   "id": "b620830b",
   "metadata": {},
   "outputs": [
    {
     "name": "stdout",
     "output_type": "stream",
     "text": [
      "PROGRAMMING  IS NOT A PALINDROM \n"
     ]
    }
   ],
   "source": [
    "myString = \"PROGRAMMING\"\n",
    "rev_word = ''\n",
    "for i in range(-1, (len(word) * -1)-1, -1): #either also use #for i in range(len(word)-1, -1,-1):\n",
    "          rev_word += word[i]\n",
    "if(word == rev_word):\n",
    "     print(myString,\" is a PALINDROM \")\n",
    "else:\n",
    "     print(myString,\" IS NOT A PALINDROM \")"
   ]
  },
  {
   "cell_type": "markdown",
   "id": "29532309",
   "metadata": {},
   "source": [
    "# How to find the total number of word in string"
   ]
  },
  {
   "cell_type": "code",
   "execution_count": 10,
   "id": "2ab0659c",
   "metadata": {},
   "outputs": [
    {
     "name": "stdout",
     "output_type": "stream",
     "text": [
      "Enter your Sentence : Ashir is a good programmer\n",
      "26\n",
      "Total No of Words :  5\n"
     ]
    }
   ],
   "source": [
    "text = input(\"Enter your Sentence : \")\n",
    "print(len(text))\n",
    "spc = 0\n",
    "for ch in text:\n",
    "    if(ch == ' '):\n",
    "        spc += 1\n",
    "print(\"Total No of Words : \", spc+1)\n"
   ]
  },
  {
   "cell_type": "markdown",
   "id": "1be384c9",
   "metadata": {},
   "source": [
    "# How to find the most frequent character in string"
   ]
  },
  {
   "cell_type": "code",
   "execution_count": null,
   "id": "7282d18d",
   "metadata": {},
   "outputs": [],
   "source": [
    "max_count = 0\n",
    "most_frequent_char = None\n",
    "user_string = input(\"Enter a string: \")\n",
    "\n",
    "for char in user_string:\n",
    "    count = 0\n",
    "    for ch in user_string:\n",
    "        \n",
    "        if char == ch:\n",
    "            count += 1\n",
    "    if count > max_count:\n",
    "        max_count = count\n",
    "        most_frequent_char = char\n",
    "\n",
    "if most_frequent_char:\n",
    "    print(f\"The most frequent character is '{most_frequent_char}'\")\n",
    "else:\n",
    "    print(\"No characters in the string\")\n"
   ]
  },
  {
   "cell_type": "markdown",
   "id": "d93d6530",
   "metadata": {},
   "source": [
    "# Write a program to reverse the given String"
   ]
  },
  {
   "cell_type": "code",
   "execution_count": 3,
   "id": "555012dd",
   "metadata": {},
   "outputs": [
    {
     "name": "stdout",
     "output_type": "stream",
     "text": [
      "Enter a string Ashir\n",
      "rihsA\n"
     ]
    }
   ],
   "source": [
    "# First way\n",
    "s = input(\"Enter a string \")\n",
    "i=len(s)-1\n",
    "target = \"\"\n",
    "while i>=0:\n",
    "    target = target + s[i]\n",
    "    i-=1\n",
    "print(target)    \n"
   ]
  },
  {
   "cell_type": "code",
   "execution_count": 18,
   "id": "d96a2aa5",
   "metadata": {},
   "outputs": [
    {
     "name": "stdout",
     "output_type": "stream",
     "text": [
      "Enter Some String:Ashir\n",
      "rihsA\n"
     ]
    }
   ],
   "source": [
    "# second way\n",
    "s=input(\"Enter Some String:\")\n",
    "print(''.join(reversed(s)))"
   ]
  },
  {
   "cell_type": "code",
   "execution_count": 19,
   "id": "7aa3141b",
   "metadata": {},
   "outputs": [
    {
     "name": "stdout",
     "output_type": "stream",
     "text": [
      "Enter Some String:Ashir\n",
      "rihsA\n"
     ]
    }
   ],
   "source": [
    "# Third way\n",
    "s=input(\"Enter Some String:\")\n",
    "print(s[::-1])"
   ]
  },
  {
   "cell_type": "markdown",
   "id": "8d78264c",
   "metadata": {},
   "source": [
    "# Program to reverse internal content of each word"
   ]
  },
  {
   "cell_type": "code",
   "execution_count": 2,
   "id": "7e3190cb",
   "metadata": {},
   "outputs": [
    {
     "name": "stdout",
     "output_type": "stream",
     "text": [
      "Enter a string python programming is easy\n",
      "4\n",
      "nohtyp gnimmargorp si ysae\n"
     ]
    }
   ],
   "source": [
    "s = input(\"Enter a string \")\n",
    "l = s.split()\n",
    "leng=len(l)\n",
    "print(leng)\n",
    "l1=[]\n",
    "i=0\n",
    "while i<len(l):\n",
    "    l1.append(l[i][::-1])\n",
    "    i=i+1\n",
    "output=\" \".join(l1)\n",
    "print(output)"
   ]
  },
  {
   "cell_type": "markdown",
   "id": "eb68e253",
   "metadata": {},
   "source": [
    "# Program to reverse order of words"
   ]
  },
  {
   "cell_type": "code",
   "execution_count": 6,
   "id": "4a34774a",
   "metadata": {},
   "outputs": [
    {
     "name": "stdout",
     "output_type": "stream",
     "text": [
      "Enter a string python programming is very easy\n",
      "31\n",
      "5\n",
      "easy very is programming python\n"
     ]
    }
   ],
   "source": [
    "s=input(\"Enter a string \")\n",
    "#print(len(s))\n",
    "l=s.split()\n",
    "#print(len(l))\n",
    "l1=[]\n",
    "i=len(l) - 1\n",
    "while i>=0:\n",
    "    l1.append(l[i])\n",
    "    i-=1\n",
    "output=' '.join(l1)\n",
    "print(output)"
   ]
  },
  {
   "cell_type": "markdown",
   "id": "f75852bd",
   "metadata": {},
   "source": [
    "# Write a program to print characters at odd position and even position for the given String?"
   ]
  },
  {
   "cell_type": "code",
   "execution_count": 23,
   "id": "ce24b8d8",
   "metadata": {},
   "outputs": [
    {
     "name": "stdout",
     "output_type": "stream",
     "text": [
      "Enter a string Ashir is a good boy\n",
      "character at Even position \n",
      "Ahri  odby\n",
      "character at odd position \n",
      "si sago o"
     ]
    }
   ],
   "source": [
    "s = input(\"Enter a string \")\n",
    "i = 0\n",
    "print(\"character at Even position \")\n",
    "while (i < len(s)):\n",
    "    print(s[i],end=\"\")\n",
    "    i = i+2\n",
    "print()\n",
    "print(\"character at odd position \")\n",
    "i=1\n",
    "while (i<len(s)):\n",
    "    print(s[i],end=\"\")\n",
    "    i = i + 2\n",
    "    "
   ]
  },
  {
   "cell_type": "code",
   "execution_count": 24,
   "id": "ef9c417a",
   "metadata": {},
   "outputs": [
    {
     "name": "stdout",
     "output_type": "stream",
     "text": [
      "Enter Some String:Ashir is a good boy\n",
      "Characters at Even Position: Ahri  odby\n",
      "Characters at Odd Position: si sago o\n"
     ]
    }
   ],
   "source": [
    "s=input(\"Enter Some String:\")\n",
    "print(\"Characters at Even Position:\",s[0::2])\n",
    "print(\"Characters at Odd Position:\",s[1::2])"
   ]
  },
  {
   "cell_type": "markdown",
   "id": "759b5c08",
   "metadata": {},
   "source": [
    "# Write a program to sort the characters of the string and first alphabet symbols followed by numeric values"
   ]
  },
  {
   "cell_type": "code",
   "execution_count": 7,
   "id": "3ef1e561",
   "metadata": {},
   "outputs": [
    {
     "name": "stdout",
     "output_type": "stream",
     "text": [
      "Enter a string B4A1D3\n",
      "ABD134\n"
     ]
    }
   ],
   "source": [
    "s=input(\"Enter a string \")\n",
    "s1=''\n",
    "s2=''\n",
    "output=''\n",
    "for x in s:\n",
    "    if x.isalpha():\n",
    "        s1=s1+x\n",
    "    else:\n",
    "        s2=s2+x\n",
    "for x in sorted(s1):\n",
    "    output=output+x\n",
    "for x in sorted(s2):\n",
    "    output=output+x\n",
    "print(output)    \n",
    "    \n",
    "    "
   ]
  },
  {
   "cell_type": "markdown",
   "id": "dedab3f5",
   "metadata": {},
   "source": [
    "# Write a program for the following requirement\n",
    "input: a4b3c2\n",
    "output: aaaabbbcc"
   ]
  },
  {
   "cell_type": "code",
   "execution_count": 9,
   "id": "1f112596",
   "metadata": {},
   "outputs": [
    {
     "name": "stdout",
     "output_type": "stream",
     "text": [
      "Enter a string a4b3c2\n",
      "aaaabbbcc\n"
     ]
    }
   ],
   "source": [
    "s=input(\"Enter a string \")\n",
    "output=''\n",
    "for x in s:\n",
    "    if x.isalpha():\n",
    "        output=output+x\n",
    "        previous=x\n",
    "    else:\n",
    "        output=output+previous*(int(x)-1)\n",
    "print(output)"
   ]
  },
  {
   "cell_type": "markdown",
   "id": "7e1b22c3",
   "metadata": {},
   "source": [
    "# Write a program to perform the following activity\n",
    "input: a4k3b2\n",
    "output:aeknbd"
   ]
  },
  {
   "cell_type": "code",
   "execution_count": 6,
   "id": "e1b6f3d4",
   "metadata": {},
   "outputs": [
    {
     "name": "stdout",
     "output_type": "stream",
     "text": [
      "Enter a string a4k3b2\n",
      "aeknbd\n"
     ]
    }
   ],
   "source": [
    "s=input(\"Enter a string \")\n",
    "output=''\n",
    "for i in s:\n",
    "    if i.isalpha():\n",
    "        output=output+i\n",
    "        previous=i\n",
    "    else:\n",
    "        output=output+chr(ord(previous) + int(i))\n",
    "print(output)        \n",
    "        "
   ]
  },
  {
   "cell_type": "markdown",
   "id": "f566437d",
   "metadata": {},
   "source": [
    "# Write a program to remove duplicate characters from the given input string?"
   ]
  },
  {
   "cell_type": "code",
   "execution_count": 9,
   "id": "2a5676d8",
   "metadata": {},
   "outputs": [
    {
     "name": "stdout",
     "output_type": "stream",
     "text": [
      "Enter a string AAABBBCCDDAABBEEAADDCCCFFFFFDDBBB\n",
      "ABCDEF\n"
     ]
    }
   ],
   "source": [
    "s=input(\"Enter a string \")\n",
    "l=[]\n",
    "for x in s:\n",
    "    if x not in l:\n",
    "        l.append(x)\n",
    "output=''.join(l)\n",
    "print(output)"
   ]
  },
  {
   "cell_type": "markdown",
   "id": "d6af5aac",
   "metadata": {},
   "source": [
    "# Write a program to find the number of occurrences of each character present in the given String?"
   ]
  },
  {
   "cell_type": "code",
   "execution_count": 10,
   "id": "d7265738",
   "metadata": {},
   "outputs": [
    {
     "name": "stdout",
     "output_type": "stream",
     "text": [
      "Enter a stream of string ABCABCABBCDE\n",
      "A = 3 Times \n",
      "B = 4 Times \n",
      "C = 3 Times \n",
      "D = 1 Times \n",
      "E = 1 Times \n"
     ]
    }
   ],
   "source": [
    "s=input(\"Enter a stream of string \")\n",
    "d={}\n",
    "for x in s:\n",
    "    if x in d.keys():\n",
    "        d[x]=d[x]+1\n",
    "    else:\n",
    "        d[x]=1\n",
    "for k,v in d.items():\n",
    "    print(\"{} = {} Times \".format(k,v))"
   ]
  },
  {
   "cell_type": "markdown",
   "id": "2cf56d1c",
   "metadata": {},
   "source": [
    "# List Data structure"
   ]
  },
  {
   "cell_type": "code",
   "execution_count": 2,
   "id": "d5861a9a",
   "metadata": {},
   "outputs": [
    {
     "name": "stdout",
     "output_type": "stream",
     "text": [
      "[3, 5, 7]\n",
      "[5, 7, 9]\n",
      "[4, 5, 6, 7]\n",
      "[9, 7, 5]\n",
      "[9, 8, 7, 6, 5, 4]\n",
      "[5, 6, 7, 8, 9, 10]\n"
     ]
    }
   ],
   "source": [
    "n=[1,2,3,4,5,6,7,8,9,10]\n",
    "print(n[2:7:2])\n",
    "print(n[4::2])\n",
    "print(n[3:7])\n",
    "print(n[8:2:-2])\n",
    "print(n[8:2:-1])\n",
    "print(n[4:100])"
   ]
  },
  {
   "cell_type": "markdown",
   "id": "66f144cf",
   "metadata": {},
   "source": [
    "# Traversing the elements of List"
   ]
  },
  {
   "cell_type": "code",
   "execution_count": 4,
   "id": "231e5c5e",
   "metadata": {},
   "outputs": [
    {
     "name": "stdout",
     "output_type": "stream",
     "text": [
      "1,2,3,4,5,6,7,8,9,10,"
     ]
    }
   ],
   "source": [
    "n=[1,2,3,4,5,6,7,8,9,10]\n",
    "i=0\n",
    "while i<len(n):\n",
    "    print(n[i],end=',')\n",
    "    i+=1\n",
    "    "
   ]
  },
  {
   "cell_type": "code",
   "execution_count": 10,
   "id": "24eef545",
   "metadata": {},
   "outputs": [
    {
     "name": "stdout",
     "output_type": "stream",
     "text": [
      "10\n",
      "2 4 6 8 10 "
     ]
    }
   ],
   "source": [
    "n=[1,2,3,4,5,6,7,8,9,10]\n",
    "print(len(n))\n",
    "for x in n:\n",
    "    if x%2==0:\n",
    "        print(x,end=' ')"
   ]
  },
  {
   "cell_type": "code",
   "execution_count": 11,
   "id": "07978de0",
   "metadata": {},
   "outputs": [
    {
     "name": "stdout",
     "output_type": "stream",
     "text": [
      "3\n",
      "A is available at positive index:  0 and at negative index:  -3\n",
      "B is available at positive index:  1 and at negative index:  -2\n",
      "C is available at positive index:  2 and at negative index:  -1\n"
     ]
    }
   ],
   "source": [
    "l=[\"A\",\"B\",\"C\"]\n",
    "x=len(l)\n",
    "print(x)\n",
    "for i in range(x):\n",
    "    print(l[i],\"is available at positive index: \",i,\"and at negative index: \",i-x)"
   ]
  },
  {
   "cell_type": "markdown",
   "id": "44ccd2f1",
   "metadata": {},
   "source": [
    "# count() Function"
   ]
  },
  {
   "cell_type": "code",
   "execution_count": 12,
   "id": "baa6ab4d",
   "metadata": {},
   "outputs": [
    {
     "name": "stdout",
     "output_type": "stream",
     "text": [
      "1\n",
      "4\n",
      "2\n",
      "0\n"
     ]
    }
   ],
   "source": [
    "n=[1,2,2,2,2,3,3]\n",
    "print(n.count(1))\n",
    "print(n.count(2))\n",
    "print(n.count(3))\n",
    "print(n.count(4))\n"
   ]
  },
  {
   "cell_type": "markdown",
   "id": "f2ab8954",
   "metadata": {},
   "source": [
    "# index() function"
   ]
  },
  {
   "cell_type": "code",
   "execution_count": 15,
   "id": "6e9db166",
   "metadata": {},
   "outputs": [
    {
     "name": "stdout",
     "output_type": "stream",
     "text": [
      "0\n",
      "1\n",
      "5\n",
      "False\n"
     ]
    },
    {
     "ename": "ValueError",
     "evalue": "4 is not in list",
     "output_type": "error",
     "traceback": [
      "\u001b[1;31m---------------------------------------------------------------------------\u001b[0m",
      "\u001b[1;31mValueError\u001b[0m                                Traceback (most recent call last)",
      "Cell \u001b[1;32mIn[15], line 6\u001b[0m\n\u001b[0;32m      4\u001b[0m \u001b[38;5;28mprint\u001b[39m(n\u001b[38;5;241m.\u001b[39mindex(\u001b[38;5;241m3\u001b[39m))\n\u001b[0;32m      5\u001b[0m \u001b[38;5;28mprint\u001b[39m(\u001b[38;5;241m4\u001b[39m \u001b[38;5;129;01min\u001b[39;00m n)\n\u001b[1;32m----> 6\u001b[0m \u001b[38;5;28mprint\u001b[39m(n\u001b[38;5;241m.\u001b[39mindex(\u001b[38;5;241m4\u001b[39m))\n",
      "\u001b[1;31mValueError\u001b[0m: 4 is not in list"
     ]
    }
   ],
   "source": [
    "n=[1,2,2,2,2,3,3]\n",
    "print(n.index(1))\n",
    "print(n.index(2))\n",
    "print(n.index(3))\n",
    "print(4 in n)\n",
    "print(n.index(4))\n"
   ]
  },
  {
   "cell_type": "markdown",
   "id": "1a7f7e45",
   "metadata": {},
   "source": [
    "# ii. Manipulating elements of List"
   ]
  },
  {
   "cell_type": "markdown",
   "id": "1ffc5f02",
   "metadata": {},
   "source": [
    "# 1. append() function"
   ]
  },
  {
   "cell_type": "code",
   "execution_count": 16,
   "id": "d71968f0",
   "metadata": {},
   "outputs": [
    {
     "name": "stdout",
     "output_type": "stream",
     "text": [
      "[0, 10, 20, 30, 40, 50, 60, 70, 80, 90, 100]\n"
     ]
    }
   ],
   "source": [
    "list=[]\n",
    "for i in range(101):\n",
    "    if i%10==0:\n",
    "        list.append(i)\n",
    "print(list)        "
   ]
  },
  {
   "cell_type": "markdown",
   "id": "8d60ce85",
   "metadata": {},
   "source": [
    "# 2. insert() function:"
   ]
  },
  {
   "cell_type": "code",
   "execution_count": 17,
   "id": "99b3cf41",
   "metadata": {},
   "outputs": [
    {
     "name": "stdout",
     "output_type": "stream",
     "text": [
      "[1, 888, 2, 3, 4, 5, 6]\n"
     ]
    }
   ],
   "source": [
    "list = [1,2,3,4,5,6]\n",
    "list.insert(1,888)\n",
    "print(list)"
   ]
  },
  {
   "cell_type": "code",
   "execution_count": 19,
   "id": "dec0d50c",
   "metadata": {},
   "outputs": [
    {
     "name": "stdout",
     "output_type": "stream",
     "text": [
      "[888, 1, 2, 3, 4, 5, 6, 777]\n"
     ]
    }
   ],
   "source": [
    "n=[1,2,3,4,5,6]\n",
    "n.insert(10,777)\n",
    "n.insert(-10,888)\n",
    "print(n)"
   ]
  },
  {
   "cell_type": "markdown",
   "id": "a0296686",
   "metadata": {},
   "source": [
    "# 3. extend() function:"
   ]
  },
  {
   "cell_type": "code",
   "execution_count": 20,
   "id": "952aee7f",
   "metadata": {},
   "outputs": [
    {
     "name": "stdout",
     "output_type": "stream",
     "text": [
      "['Chicken', 'Mutton', 'Fish', 'RC', 'KF', 'FO']\n"
     ]
    }
   ],
   "source": [
    "order1=[\"Chicken\",\"Mutton\",\"Fish\"]\n",
    "order2=[\"RC\",\"KF\",\"FO\"]\n",
    "order1.extend(order2)\n",
    "print(order1)"
   ]
  },
  {
   "cell_type": "code",
   "execution_count": 21,
   "id": "76b1729a",
   "metadata": {},
   "outputs": [
    {
     "name": "stdout",
     "output_type": "stream",
     "text": [
      "['Chicken', 'Mutton', 'Fish', 'M', 'u', 's', 'h', 'r', 'o', 'o', 'm']\n"
     ]
    }
   ],
   "source": [
    "order1=[\"Chicken\",\"Mutton\",\"Fish\"]\n",
    "order1.extend(\"Mushroom\")\n",
    "print(order1)"
   ]
  },
  {
   "cell_type": "markdown",
   "id": "949a94ce",
   "metadata": {},
   "source": [
    "# remove() function"
   ]
  },
  {
   "cell_type": "code",
   "execution_count": 22,
   "id": "3961fa26",
   "metadata": {},
   "outputs": [
    {
     "name": "stdout",
     "output_type": "stream",
     "text": [
      "[20, 10, 30]\n"
     ]
    }
   ],
   "source": [
    "n=[10,20,10,30]\n",
    "n.remove(10)\n",
    "print(n)"
   ]
  },
  {
   "cell_type": "code",
   "execution_count": 23,
   "id": "43e34ab8",
   "metadata": {},
   "outputs": [
    {
     "ename": "ValueError",
     "evalue": "list.remove(x): x not in list",
     "output_type": "error",
     "traceback": [
      "\u001b[1;31m---------------------------------------------------------------------------\u001b[0m",
      "\u001b[1;31mValueError\u001b[0m                                Traceback (most recent call last)",
      "Cell \u001b[1;32mIn[23], line 2\u001b[0m\n\u001b[0;32m      1\u001b[0m n\u001b[38;5;241m=\u001b[39m[\u001b[38;5;241m10\u001b[39m,\u001b[38;5;241m20\u001b[39m,\u001b[38;5;241m10\u001b[39m,\u001b[38;5;241m30\u001b[39m]\n\u001b[1;32m----> 2\u001b[0m n\u001b[38;5;241m.\u001b[39mremove(\u001b[38;5;241m40\u001b[39m)\n\u001b[0;32m      3\u001b[0m \u001b[38;5;28mprint\u001b[39m(n)\n",
      "\u001b[1;31mValueError\u001b[0m: list.remove(x): x not in list"
     ]
    }
   ],
   "source": [
    "n=[10,20,10,30]\n",
    "n.remove(40)\n",
    "print(n)"
   ]
  },
  {
   "cell_type": "markdown",
   "id": "5eeedd53",
   "metadata": {},
   "source": [
    "# 5. pop() function:"
   ]
  },
  {
   "cell_type": "code",
   "execution_count": 24,
   "id": "fa3cbcc2",
   "metadata": {},
   "outputs": [
    {
     "name": "stdout",
     "output_type": "stream",
     "text": [
      "30\n",
      "10\n",
      "[10, 20]\n"
     ]
    }
   ],
   "source": [
    "n=[10,20,10,30]\n",
    "print(n.pop())\n",
    "print(n.pop())\n",
    "print(n)"
   ]
  },
  {
   "cell_type": "code",
   "execution_count": 25,
   "id": "98d6e8d8",
   "metadata": {},
   "outputs": [
    {
     "name": "stdout",
     "output_type": "stream",
     "text": [
      "60\n",
      "40\n"
     ]
    },
    {
     "ename": "IndexError",
     "evalue": "pop index out of range",
     "output_type": "error",
     "traceback": [
      "\u001b[1;31m---------------------------------------------------------------------------\u001b[0m",
      "\u001b[1;31mIndexError\u001b[0m                                Traceback (most recent call last)",
      "Cell \u001b[1;32mIn[25], line 4\u001b[0m\n\u001b[0;32m      2\u001b[0m \u001b[38;5;28mprint\u001b[39m(n\u001b[38;5;241m.\u001b[39mpop()) \u001b[38;5;66;03m#60\u001b[39;00m\n\u001b[0;32m      3\u001b[0m \u001b[38;5;28mprint\u001b[39m(n\u001b[38;5;241m.\u001b[39mpop(\u001b[38;5;241m3\u001b[39m)) \u001b[38;5;66;03m#30\u001b[39;00m\n\u001b[1;32m----> 4\u001b[0m \u001b[38;5;28mprint\u001b[39m(n\u001b[38;5;241m.\u001b[39mpop(\u001b[38;5;241m10\u001b[39m))\n",
      "\u001b[1;31mIndexError\u001b[0m: pop index out of range"
     ]
    }
   ],
   "source": [
    "n=[10,20,30,40,50,60]\n",
    "print(n.pop()) #60\n",
    "print(n.pop(3)) #40\n",
    "print(n.pop(10))"
   ]
  },
  {
   "cell_type": "markdown",
   "id": "fdc7b1fe",
   "metadata": {},
   "source": [
    "# III. Ordering elements of List:"
   ]
  },
  {
   "cell_type": "markdown",
   "id": "b78986ab",
   "metadata": {},
   "source": [
    "# 1. reverse():"
   ]
  },
  {
   "cell_type": "code",
   "execution_count": 26,
   "id": "c10e3730",
   "metadata": {},
   "outputs": [
    {
     "name": "stdout",
     "output_type": "stream",
     "text": [
      "[40, 30, 20, 10]\n"
     ]
    }
   ],
   "source": [
    "n=[10,20,30,40]\n",
    "n.reverse()\n",
    "print(n)"
   ]
  },
  {
   "cell_type": "markdown",
   "id": "f3875457",
   "metadata": {},
   "source": [
    "# 2. sort() function:"
   ]
  },
  {
   "cell_type": "code",
   "execution_count": 27,
   "id": "967526c7",
   "metadata": {},
   "outputs": [
    {
     "name": "stdout",
     "output_type": "stream",
     "text": [
      "[0, 5, 10, 15, 20]\n"
     ]
    }
   ],
   "source": [
    "n=[20,5,15,10,0]\n",
    "n.sort()\n",
    "print(n)"
   ]
  },
  {
   "cell_type": "code",
   "execution_count": 28,
   "id": "64c315d6",
   "metadata": {},
   "outputs": [
    {
     "name": "stdout",
     "output_type": "stream",
     "text": [
      "['Apple', 'Banana', 'Cat', 'Dog']\n"
     ]
    }
   ],
   "source": [
    "s=[\"Dog\",\"Banana\",\"Cat\",\"Apple\"]\n",
    "s.sort()\n",
    "print(s)"
   ]
  },
  {
   "cell_type": "code",
   "execution_count": 29,
   "id": "70a249de",
   "metadata": {},
   "outputs": [
    {
     "ename": "TypeError",
     "evalue": "'<' not supported between instances of 'str' and 'int'",
     "output_type": "error",
     "traceback": [
      "\u001b[1;31m---------------------------------------------------------------------------\u001b[0m",
      "\u001b[1;31mTypeError\u001b[0m                                 Traceback (most recent call last)",
      "Cell \u001b[1;32mIn[29], line 2\u001b[0m\n\u001b[0;32m      1\u001b[0m n\u001b[38;5;241m=\u001b[39m[\u001b[38;5;241m20\u001b[39m,\u001b[38;5;241m10\u001b[39m,\u001b[38;5;124m\"\u001b[39m\u001b[38;5;124mA\u001b[39m\u001b[38;5;124m\"\u001b[39m,\u001b[38;5;124m\"\u001b[39m\u001b[38;5;124mB\u001b[39m\u001b[38;5;124m\"\u001b[39m]\n\u001b[1;32m----> 2\u001b[0m n\u001b[38;5;241m.\u001b[39msort()\n\u001b[0;32m      3\u001b[0m \u001b[38;5;28mprint\u001b[39m(n)\n",
      "\u001b[1;31mTypeError\u001b[0m: '<' not supported between instances of 'str' and 'int'"
     ]
    }
   ],
   "source": [
    "n=[20,10,\"A\",\"B\"]\n",
    "n.sort()\n",
    "print(n)"
   ]
  },
  {
   "cell_type": "markdown",
   "id": "ce021ac2",
   "metadata": {},
   "source": [
    "# To sort in reverse of default natural sorting order:"
   ]
  },
  {
   "cell_type": "code",
   "execution_count": 30,
   "id": "78887c4e",
   "metadata": {},
   "outputs": [
    {
     "name": "stdout",
     "output_type": "stream",
     "text": [
      "[10, 20, 30, 40]\n",
      "[40, 30, 20, 10]\n",
      "[10, 20, 30, 40]\n"
     ]
    }
   ],
   "source": [
    "n=[40,10,30,20]\n",
    "n.sort()\n",
    "print(n)\n",
    "n.sort(reverse=True)\n",
    "print(n)\n",
    "n.sort(reverse=False)\n",
    "print(n)"
   ]
  },
  {
   "cell_type": "markdown",
   "id": "16729173",
   "metadata": {},
   "source": [
    "# Aliasing and Cloning of List objects:"
   ]
  },
  {
   "cell_type": "code",
   "execution_count": 1,
   "id": "439e530e",
   "metadata": {},
   "outputs": [
    {
     "name": "stdout",
     "output_type": "stream",
     "text": [
      "2288775992256\n",
      "2288775992256\n"
     ]
    }
   ],
   "source": [
    "x=[10,20,30,40]\n",
    "y=x\n",
    "print(id(x))\n",
    "print(id(y))"
   ]
  },
  {
   "cell_type": "code",
   "execution_count": 4,
   "id": "9a3ce247",
   "metadata": {},
   "outputs": [
    {
     "name": "stdout",
     "output_type": "stream",
     "text": [
      "[10, 777, 30, 40]\n",
      "[10, 777, 30, 40]\n"
     ]
    }
   ],
   "source": [
    "x=[10,20,30,40]\n",
    "y=x\n",
    "y[1]=777\n",
    "print(x)\n",
    "print(y)"
   ]
  },
  {
   "cell_type": "code",
   "execution_count": null,
   "id": "09dd70c0",
   "metadata": {},
   "outputs": [],
   "source": [
    "# To overcome this problem we should go for cloning\n"
   ]
  },
  {
   "cell_type": "markdown",
   "id": "ca53693a",
   "metadata": {},
   "source": [
    "# 1. By using slice operator:"
   ]
  },
  {
   "cell_type": "code",
   "execution_count": 5,
   "id": "45364afd",
   "metadata": {},
   "outputs": [
    {
     "name": "stdout",
     "output_type": "stream",
     "text": [
      "[10, 777, 30, 40]\n",
      "[10, 20, 30, 40]\n",
      "2288775996608\n",
      "2288772184192\n"
     ]
    }
   ],
   "source": [
    "x=[10,20,30,40]\n",
    "y=x[:] # slice operator\n",
    "y[1]=777\n",
    "print(y)\n",
    "print(x)\n",
    "print(id(x))\n",
    "print(id(y))"
   ]
  },
  {
   "cell_type": "markdown",
   "id": "b9f4b748",
   "metadata": {},
   "source": [
    "# 2. By using copy() function:"
   ]
  },
  {
   "cell_type": "code",
   "execution_count": 34,
   "id": "86caa0c0",
   "metadata": {},
   "outputs": [
    {
     "name": "stdout",
     "output_type": "stream",
     "text": [
      "[10, 777, 30, 40]\n",
      "[10, 20, 30, 40]\n"
     ]
    }
   ],
   "source": [
    "x=[10,20,30,40]\n",
    "y=x.copy()  # copy function\n",
    "y[1]=777\n",
    "print(y)\n",
    "print(x)"
   ]
  },
  {
   "cell_type": "markdown",
   "id": "1c96867b",
   "metadata": {},
   "source": [
    "# Using Mathematical operators for List Objects:"
   ]
  },
  {
   "cell_type": "markdown",
   "id": "221986c7",
   "metadata": {},
   "source": [
    "# 1. Concatenation operator(+):"
   ]
  },
  {
   "cell_type": "code",
   "execution_count": 36,
   "id": "9f1a0f76",
   "metadata": {},
   "outputs": [
    {
     "name": "stdout",
     "output_type": "stream",
     "text": [
      "[10, 20, 30, 40, 50, 60]\n",
      "[10, 20, 30, 40]\n"
     ]
    }
   ],
   "source": [
    "a=[10,20,30]\n",
    "b=[40,50,60]\n",
    "c = a+b\n",
    "s=a+[40]\n",
    "print(c)\n",
    "print(s)"
   ]
  },
  {
   "cell_type": "markdown",
   "id": "d52d7107",
   "metadata": {},
   "source": [
    "# 2. Repetition Operator(*):"
   ]
  },
  {
   "cell_type": "code",
   "execution_count": 37,
   "id": "fc4d3514",
   "metadata": {},
   "outputs": [
    {
     "name": "stdout",
     "output_type": "stream",
     "text": [
      "[10, 20, 30, 10, 20, 30, 10, 20, 30]\n"
     ]
    }
   ],
   "source": [
    "x=[10,20,30]\n",
    "y=x*3\n",
    "print(y)"
   ]
  },
  {
   "cell_type": "markdown",
   "id": "9f45e8d5",
   "metadata": {},
   "source": [
    "# Nested List as Matrix"
   ]
  },
  {
   "cell_type": "code",
   "execution_count": 40,
   "id": "14d4a1a1",
   "metadata": {},
   "outputs": [
    {
     "name": "stdout",
     "output_type": "stream",
     "text": [
      "Elements by Row wise:\n",
      "[10, 20, 30]\n",
      "[40, 50, 60]\n",
      "[70, 80, 90]\n",
      "\n",
      "Elements by Matrix style:\n",
      "10 20 30 \n",
      "40 50 60 \n",
      "70 80 90 \n"
     ]
    }
   ],
   "source": [
    "n=[[10,20,30],[40,50,60],[70,80,90]]\n",
    "print(\"Elements by Row wise:\")\n",
    "for i in n:\n",
    "    print(i)\n",
    "print(\"\\nElements by Matrix style:\") \n",
    "for i in range(len(n)):\n",
    "    for j in range(len(n[i])):\n",
    "        print(n[i][j],end=\" \")\n",
    "    print()    "
   ]
  },
  {
   "cell_type": "markdown",
   "id": "7f1944a6",
   "metadata": {},
   "source": [
    "# List Comprehensions"
   ]
  },
  {
   "cell_type": "code",
   "execution_count": 2,
   "id": "6d920460",
   "metadata": {},
   "outputs": [
    {
     "name": "stdout",
     "output_type": "stream",
     "text": [
      "[1, 4, 9, 16, 25, 36, 49, 64, 81, 100]\n"
     ]
    }
   ],
   "source": [
    "s=[x*x for x in range(1,11)]\n",
    "print(s)"
   ]
  },
  {
   "cell_type": "code",
   "execution_count": 3,
   "id": "3c7b5b89",
   "metadata": {},
   "outputs": [
    {
     "name": "stdout",
     "output_type": "stream",
     "text": [
      "[2, 4, 6, 8, 10]\n"
     ]
    }
   ],
   "source": [
    "v=[2*x for x in range(1,6)]\n",
    "print(v)"
   ]
  },
  {
   "cell_type": "code",
   "execution_count": 4,
   "id": "16f3d2f5",
   "metadata": {},
   "outputs": [
    {
     "name": "stdout",
     "output_type": "stream",
     "text": [
      "[4, 16, 36, 64, 100]\n"
     ]
    }
   ],
   "source": [
    "m=[x for x in s if x%2==0]\n",
    "print(m)"
   ]
  },
  {
   "cell_type": "code",
   "execution_count": 6,
   "id": "dc8b9758",
   "metadata": {},
   "outputs": [
    {
     "name": "stdout",
     "output_type": "stream",
     "text": [
      "['e', 'u', 'a', 'i', 'i']\n"
     ]
    }
   ],
   "source": [
    "words = [\"peshawar\",\"punjab\",\"Balochistan\",\"sindh\",\"Gilgit Baltistan\"]\n",
    "l=[w[0] for w in words]\n",
    "print(l)"
   ]
  },
  {
   "cell_type": "code",
   "execution_count": 8,
   "id": "27a1b230",
   "metadata": {},
   "outputs": [
    {
     "name": "stdout",
     "output_type": "stream",
     "text": [
      "[10, 20]\n"
     ]
    }
   ],
   "source": [
    "num1=[10,20,30,40]\n",
    "num2=[30,40,50,60]\n",
    "num3=[i for i in num1 if i not in num2]\n",
    "print(num3)"
   ]
  },
  {
   "cell_type": "code",
   "execution_count": 9,
   "id": "a21d5873",
   "metadata": {},
   "outputs": [
    {
     "name": "stdout",
     "output_type": "stream",
     "text": [
      "[30, 40]\n"
     ]
    }
   ],
   "source": [
    "# common elements present in num1 and num2\n",
    "num3=[i for i in num1 if i in num2]\n",
    "print(num3)"
   ]
  },
  {
   "cell_type": "code",
   "execution_count": 11,
   "id": "a24a40fc",
   "metadata": {},
   "outputs": [
    {
     "name": "stdout",
     "output_type": "stream",
     "text": [
      "['the', 'quick', 'brown', 'fox', 'jumps', 'over', 'the', 'lazy', 'dog']\n",
      "[['THE', 3], ['QUICK', 5], ['BROWN', 5], ['FOX', 3], ['JUMPS', 5], ['OVER', 4], ['THE', 3], ['LAZY', 4], ['DOG', 3]]\n"
     ]
    }
   ],
   "source": [
    "words=\"the quick brown fox jumps over the lazy dog\".split()\n",
    "print(words)\n",
    "l=[[i.upper(),len(i)] for i in words]\n",
    "print(l)"
   ]
  },
  {
   "cell_type": "markdown",
   "id": "b00317b8",
   "metadata": {},
   "source": [
    "# Q. Write a program to display unique vowels present in the given word?"
   ]
  },
  {
   "cell_type": "code",
   "execution_count": 12,
   "id": "eaac4f85",
   "metadata": {},
   "outputs": [
    {
     "name": "stdout",
     "output_type": "stream",
     "text": [
      "Enter the word to search for vowels: durgasoftwaresolutions\n",
      "['u', 'a', 'o', 'e', 'i']\n",
      "The number of different vowels present in durgasoftwaresolutions is 5\n"
     ]
    }
   ],
   "source": [
    "vowels=['a','e','i','o','u']\n",
    "word=input(\"Enter the word to search for vowels: \")\n",
    "found=[]\n",
    "for letter in word:\n",
    "    if letter in vowels:\n",
    "        if letter not in found:\n",
    "            found.append(letter)\n",
    "print(found)\n",
    "print(\"The number of different vowels present in\",word,\"is\",len(found))"
   ]
  },
  {
   "cell_type": "markdown",
   "id": "e19734e4",
   "metadata": {},
   "source": [
    "# Tuple Data Structure"
   ]
  },
  {
   "cell_type": "code",
   "execution_count": 13,
   "id": "f88b87cb",
   "metadata": {},
   "outputs": [
    {
     "name": "stdout",
     "output_type": "stream",
     "text": [
      "(10, 20, 30, 40, 50)\n",
      "<class 'tuple'>\n"
     ]
    }
   ],
   "source": [
    "t = 10,20,30,40,50\n",
    "print(t)\n",
    "print(type(t))"
   ]
  },
  {
   "cell_type": "code",
   "execution_count": 14,
   "id": "43345c80",
   "metadata": {},
   "outputs": [
    {
     "name": "stdout",
     "output_type": "stream",
     "text": [
      "<class 'tuple'>\n"
     ]
    }
   ],
   "source": [
    "t=()\n",
    "print(type(t))"
   ]
  },
  {
   "cell_type": "code",
   "execution_count": 15,
   "id": "109a86f5",
   "metadata": {},
   "outputs": [
    {
     "name": "stdout",
     "output_type": "stream",
     "text": [
      "<class 'int'>\n"
     ]
    }
   ],
   "source": [
    "t=(10)\n",
    "print(type(t))"
   ]
  },
  {
   "cell_type": "code",
   "execution_count": 16,
   "id": "4a906079",
   "metadata": {},
   "outputs": [
    {
     "name": "stdout",
     "output_type": "stream",
     "text": [
      "<class 'tuple'>\n"
     ]
    }
   ],
   "source": [
    "t=(10,)\n",
    "print(type(t))"
   ]
  },
  {
   "cell_type": "code",
   "execution_count": 17,
   "id": "b7cb324f",
   "metadata": {},
   "outputs": [
    {
     "name": "stdout",
     "output_type": "stream",
     "text": [
      "(10, 20, 30)\n"
     ]
    }
   ],
   "source": [
    "list=[10,20,30]\n",
    "t=tuple(list)\n",
    "print(t)"
   ]
  },
  {
   "cell_type": "code",
   "execution_count": 3,
   "id": "6845f6d3",
   "metadata": {},
   "outputs": [
    {
     "name": "stdout",
     "output_type": "stream",
     "text": [
      "(10, 12, 14, 16, 18)\n"
     ]
    }
   ],
   "source": [
    "t=tuple(range(10,20,2))\n",
    "print(t)"
   ]
  },
  {
   "cell_type": "code",
   "execution_count": 2,
   "id": "f27edb64",
   "metadata": {},
   "outputs": [],
   "source": [
    "#work with tuple # immutable object\n",
    "\n",
    "# empty tuple\n",
    "#t1=()\n",
    "\n",
    "# tuple failed to assignment and ausing append\n",
    "#t1.append(3)\n",
    "#ti[0]=3\n",
    "\n",
    "\n",
    "# indexing also work\n",
    "# iteration also work\n",
    "# slicing also work\n",
    "\n",
    "#t2=(10,20,30,40,50)\n",
    "#print(len(t2))\n",
    "#print(t2[2])\n",
    "\n"
   ]
  },
  {
   "cell_type": "code",
   "execution_count": 4,
   "id": "db7e1948",
   "metadata": {},
   "outputs": [],
   "source": [
    "input_tuple=(1,2,3,4,5,6,7)\n",
    "list=[]\n",
    "for x in reversed (input_tuple):\n",
    "    list.append(x)\n",
    "output_tuple=tuple(list)\n",
    "    "
   ]
  },
  {
   "cell_type": "markdown",
   "id": "12450155",
   "metadata": {},
   "source": [
    "# Accessing elements of tuple:"
   ]
  },
  {
   "cell_type": "markdown",
   "id": "6668d59e",
   "metadata": {},
   "source": [
    "# 1. By using index:"
   ]
  },
  {
   "cell_type": "code",
   "execution_count": 19,
   "id": "d5b506a2",
   "metadata": {},
   "outputs": [
    {
     "name": "stdout",
     "output_type": "stream",
     "text": [
      "20\n",
      "60\n",
      "30\n"
     ]
    },
    {
     "ename": "IndexError",
     "evalue": "tuple index out of range",
     "output_type": "error",
     "traceback": [
      "\u001b[1;31m---------------------------------------------------------------------------\u001b[0m",
      "\u001b[1;31mIndexError\u001b[0m                                Traceback (most recent call last)",
      "Cell \u001b[1;32mIn[19], line 5\u001b[0m\n\u001b[0;32m      3\u001b[0m \u001b[38;5;28mprint\u001b[39m(t[\u001b[38;5;241m-\u001b[39m\u001b[38;5;241m1\u001b[39m])\n\u001b[0;32m      4\u001b[0m \u001b[38;5;28mprint\u001b[39m(t[\u001b[38;5;241m-\u001b[39m\u001b[38;5;241m4\u001b[39m])\n\u001b[1;32m----> 5\u001b[0m \u001b[38;5;28mprint\u001b[39m(t[\u001b[38;5;241m10\u001b[39m])\n",
      "\u001b[1;31mIndexError\u001b[0m: tuple index out of range"
     ]
    }
   ],
   "source": [
    "t=(10,20,30,40,50,60)\n",
    "print(t[1])\n",
    "print(t[-1])\n",
    "print(t[-4])\n",
    "print(t[10])"
   ]
  },
  {
   "cell_type": "markdown",
   "id": "7e732812",
   "metadata": {},
   "source": [
    "# 2. By using slice operator:"
   ]
  },
  {
   "cell_type": "code",
   "execution_count": 21,
   "id": "9f662215",
   "metadata": {},
   "outputs": [
    {
     "name": "stdout",
     "output_type": "stream",
     "text": [
      "(30, 40, 50)\n",
      "(20, 30)\n",
      "(10,)\n",
      "(10, 20, 30, 40, 50, 60)\n",
      "(10, 30, 50)\n",
      "(60, 50, 40, 30, 20, 10)\n"
     ]
    }
   ],
   "source": [
    "t=(10,20,30,40,50,60)\n",
    "print(t[2:5])\n",
    "print(t[1:3])\n",
    "print(t[:-5])\n",
    "print(t[:100])\n",
    "print(t[::2])\n",
    "print(t[::-1])"
   ]
  },
  {
   "cell_type": "markdown",
   "id": "c3abffc5",
   "metadata": {},
   "source": [
    "# Mathematical operators for tuple:"
   ]
  },
  {
   "cell_type": "markdown",
   "id": "ed03c114",
   "metadata": {},
   "source": [
    "# 1. Concatenation Operator(+):"
   ]
  },
  {
   "cell_type": "code",
   "execution_count": 22,
   "id": "5116f2db",
   "metadata": {},
   "outputs": [
    {
     "name": "stdout",
     "output_type": "stream",
     "text": [
      "(10, 20, 30, 40, 50, 60)\n"
     ]
    }
   ],
   "source": [
    "t1=(10,20,30)\n",
    "t2=(40,50,60)\n",
    "t3=t1+t2\n",
    "print(t3)"
   ]
  },
  {
   "cell_type": "markdown",
   "id": "6a1cda9f",
   "metadata": {},
   "source": [
    "# 2. Multiplication operator or repetition operator(*)"
   ]
  },
  {
   "cell_type": "code",
   "execution_count": 23,
   "id": "69d56985",
   "metadata": {},
   "outputs": [
    {
     "name": "stdout",
     "output_type": "stream",
     "text": [
      "(10, 20, 30, 10, 20, 30)\n"
     ]
    }
   ],
   "source": [
    "t1=(10,20,30)\n",
    "t2= 2*t1\n",
    "print(t2)"
   ]
  },
  {
   "cell_type": "markdown",
   "id": "73233c14",
   "metadata": {},
   "source": [
    "# len()\n",
    "To return number of elements present in the tuple"
   ]
  },
  {
   "cell_type": "markdown",
   "id": "fe74de4c",
   "metadata": {},
   "source": [
    "# count()\n",
    "To return number of occurrences of given element in the tuple"
   ]
  },
  {
   "cell_type": "markdown",
   "id": "fecd001b",
   "metadata": {},
   "source": [
    "# index()\n",
    "returns index of first occurrence of the given element"
   ]
  },
  {
   "cell_type": "markdown",
   "id": "81bf924e",
   "metadata": {},
   "source": [
    "# sorted()\n",
    "To sort elements based on default natural sorting order"
   ]
  },
  {
   "cell_type": "code",
   "execution_count": 25,
   "id": "247d11cf",
   "metadata": {},
   "outputs": [
    {
     "name": "stdout",
     "output_type": "stream",
     "text": [
      "[10, 20, 30, 40]\n"
     ]
    }
   ],
   "source": [
    "t=(40,10,30,20)\n",
    "t1=sorted(t)\n",
    "print(t1)"
   ]
  },
  {
   "cell_type": "code",
   "execution_count": 26,
   "id": "9718a28d",
   "metadata": {},
   "outputs": [
    {
     "name": "stdout",
     "output_type": "stream",
     "text": [
      "[40, 30, 20, 10]\n"
     ]
    }
   ],
   "source": [
    "t1=sorted(t,reverse=True)\n",
    "print(t1)"
   ]
  },
  {
   "cell_type": "code",
   "execution_count": 27,
   "id": "9097ff65",
   "metadata": {},
   "outputs": [
    {
     "name": "stdout",
     "output_type": "stream",
     "text": [
      "[10, 20, 30, 40]\n"
     ]
    }
   ],
   "source": [
    "t1=sorted(t,reverse=False)\n",
    "print(t1)"
   ]
  },
  {
   "cell_type": "markdown",
   "id": "b3618e9a",
   "metadata": {},
   "source": [
    "# 5. min() and max() functions:"
   ]
  },
  {
   "cell_type": "code",
   "execution_count": 28,
   "id": "24e74cf0",
   "metadata": {},
   "outputs": [
    {
     "name": "stdout",
     "output_type": "stream",
     "text": [
      "10\n",
      "40\n"
     ]
    }
   ],
   "source": [
    "t=(40,10,30,20)\n",
    "print(min(t))\n",
    "print(max(t))"
   ]
  },
  {
   "cell_type": "markdown",
   "id": "215e9270",
   "metadata": {},
   "source": [
    "# Write a program to take a tuple of numbers from the keyboard and print its sum and average"
   ]
  },
  {
   "cell_type": "code",
   "execution_count": 32,
   "id": "d3dd0620",
   "metadata": {},
   "outputs": [
    {
     "name": "stdout",
     "output_type": "stream",
     "text": [
      "Enter Tuple of Numbers:10,20,30,40\n",
      "The sum =  100\n",
      "The average =  25.0\n"
     ]
    }
   ],
   "source": [
    "t=eval(input(\"Enter Tuple of Numbers:\"))\n",
    "l=len(t)\n",
    "sum=0\n",
    "for i in t:\n",
    "    sum+=i\n",
    "print(\"The sum = \" ,sum)\n",
    "print(\"The average = \" ,sum/l)"
   ]
  },
  {
   "cell_type": "markdown",
   "id": "930ee709",
   "metadata": {},
   "source": [
    "# Set Data Structure"
   ]
  },
  {
   "cell_type": "code",
   "execution_count": 33,
   "id": "b7c73aed",
   "metadata": {},
   "outputs": [
    {
     "name": "stdout",
     "output_type": "stream",
     "text": [
      "<class 'set'>\n",
      "{40, 10, 20, 30}\n"
     ]
    }
   ],
   "source": [
    "s={10,20,30,40}\n",
    "print(type(s))\n",
    "print(s)"
   ]
  },
  {
   "cell_type": "code",
   "execution_count": 34,
   "id": "4aedd794",
   "metadata": {},
   "outputs": [
    {
     "name": "stdout",
     "output_type": "stream",
     "text": [
      "{40, 10, 20, 30}\n"
     ]
    }
   ],
   "source": [
    "l = [10,20,30,40,10,20,10]\n",
    "s=set(l)\n",
    "print(s)"
   ]
  },
  {
   "cell_type": "code",
   "execution_count": 35,
   "id": "52dcf7a0",
   "metadata": {},
   "outputs": [
    {
     "name": "stdout",
     "output_type": "stream",
     "text": [
      "{0, 1, 2, 3, 4}\n"
     ]
    }
   ],
   "source": [
    "s=set(range(5))\n",
    "print(s)"
   ]
  },
  {
   "cell_type": "code",
   "execution_count": 36,
   "id": "ff9d6a01",
   "metadata": {},
   "outputs": [
    {
     "name": "stdout",
     "output_type": "stream",
     "text": [
      "<class 'dict'>\n"
     ]
    }
   ],
   "source": [
    "s={}\n",
    "print(type(s))"
   ]
  },
  {
   "cell_type": "code",
   "execution_count": 37,
   "id": "5ff38a8b",
   "metadata": {},
   "outputs": [
    {
     "name": "stdout",
     "output_type": "stream",
     "text": [
      "set()\n",
      "<class 'set'>\n"
     ]
    }
   ],
   "source": [
    "s=set()\n",
    "print(s)\n",
    "print(type(s))"
   ]
  },
  {
   "cell_type": "markdown",
   "id": "12bef927",
   "metadata": {},
   "source": [
    "# Important functions of set:"
   ]
  },
  {
   "cell_type": "markdown",
   "id": "6ac1993d",
   "metadata": {},
   "source": [
    "# 1. add(x):"
   ]
  },
  {
   "cell_type": "code",
   "execution_count": 38,
   "id": "ade549a8",
   "metadata": {},
   "outputs": [
    {
     "name": "stdout",
     "output_type": "stream",
     "text": [
      "{40, 10, 20, 30}\n"
     ]
    }
   ],
   "source": [
    "s={10,20,30}\n",
    "s.add(40)\n",
    "print(s)"
   ]
  },
  {
   "cell_type": "markdown",
   "id": "d1e955d1",
   "metadata": {},
   "source": [
    "# 2. update(x,y,z):"
   ]
  },
  {
   "cell_type": "code",
   "execution_count": 39,
   "id": "6a52b64d",
   "metadata": {},
   "outputs": [
    {
     "name": "stdout",
     "output_type": "stream",
     "text": [
      "{0, 1, 2, 3, 4, 40, 10, 50, 20, 60, 30}\n"
     ]
    }
   ],
   "source": [
    "s={10,20,30}\n",
    "l=[40,50,60,10]\n",
    "s.update(l,range(5))\n",
    "print(s)"
   ]
  },
  {
   "cell_type": "markdown",
   "id": "77804307",
   "metadata": {},
   "source": [
    "# 3. copy():"
   ]
  },
  {
   "cell_type": "code",
   "execution_count": 40,
   "id": "c5b65ec0",
   "metadata": {},
   "outputs": [
    {
     "name": "stdout",
     "output_type": "stream",
     "text": [
      "{10, 20, 30}\n"
     ]
    }
   ],
   "source": [
    "s={10,20,30}\n",
    "s1=s.copy() # Remembered it is cloned object\n",
    "print(s1)"
   ]
  },
  {
   "cell_type": "markdown",
   "id": "6d1b1efe",
   "metadata": {},
   "source": [
    "# 4. pop():"
   ]
  },
  {
   "cell_type": "code",
   "execution_count": 41,
   "id": "c9dc0690",
   "metadata": {},
   "outputs": [
    {
     "name": "stdout",
     "output_type": "stream",
     "text": [
      "{40, 10, 20, 30}\n",
      "40\n",
      "{10, 20, 30}\n"
     ]
    }
   ],
   "source": [
    "s={10,20,30,40}\n",
    "print(s)\n",
    "print(s.pop())\n",
    "print(s)"
   ]
  },
  {
   "cell_type": "markdown",
   "id": "3b4fbab6",
   "metadata": {},
   "source": [
    "# 5. remove(x):"
   ]
  },
  {
   "cell_type": "code",
   "execution_count": 42,
   "id": "f6ec77e6",
   "metadata": {},
   "outputs": [
    {
     "name": "stdout",
     "output_type": "stream",
     "text": [
      "{10, 20, 30}\n"
     ]
    },
    {
     "ename": "KeyError",
     "evalue": "50",
     "output_type": "error",
     "traceback": [
      "\u001b[1;31m---------------------------------------------------------------------------\u001b[0m",
      "\u001b[1;31mKeyError\u001b[0m                                  Traceback (most recent call last)",
      "Cell \u001b[1;32mIn[42], line 4\u001b[0m\n\u001b[0;32m      2\u001b[0m s\u001b[38;5;241m.\u001b[39mremove(\u001b[38;5;241m40\u001b[39m)\n\u001b[0;32m      3\u001b[0m \u001b[38;5;28mprint\u001b[39m(s)\n\u001b[1;32m----> 4\u001b[0m s\u001b[38;5;241m.\u001b[39mremove(\u001b[38;5;241m50\u001b[39m)\n",
      "\u001b[1;31mKeyError\u001b[0m: 50"
     ]
    }
   ],
   "source": [
    "s={40,10,30,20}\n",
    "s.remove(40)\n",
    "print(s)\n",
    "s.remove(50)"
   ]
  },
  {
   "cell_type": "markdown",
   "id": "6e638a59",
   "metadata": {},
   "source": [
    "# 6. discard(x):"
   ]
  },
  {
   "cell_type": "code",
   "execution_count": 43,
   "id": "dac931e8",
   "metadata": {},
   "outputs": [
    {
     "name": "stdout",
     "output_type": "stream",
     "text": [
      "{10, 20, 30}\n"
     ]
    }
   ],
   "source": [
    "s={40,10,30,20}\n",
    "s.discard(40)\n",
    "print(s)\n",
    "s.discard(50) # If the specified element not present in the set then we won't get any error.e"
   ]
  },
  {
   "cell_type": "markdown",
   "id": "847b4c4c",
   "metadata": {},
   "source": [
    "# 7.clear():"
   ]
  },
  {
   "cell_type": "code",
   "execution_count": 44,
   "id": "b8be3db5",
   "metadata": {},
   "outputs": [
    {
     "name": "stdout",
     "output_type": "stream",
     "text": [
      "{10, 20, 30}\n",
      "set()\n"
     ]
    }
   ],
   "source": [
    "s={10,20,30}\n",
    "print(s)\n",
    "s.clear()\n",
    "print(s)"
   ]
  },
  {
   "cell_type": "markdown",
   "id": "2ff976d1",
   "metadata": {},
   "source": [
    "# Mathematical operations on the Set:"
   ]
  },
  {
   "cell_type": "markdown",
   "id": "4aacfe9d",
   "metadata": {},
   "source": [
    "# 1.union():"
   ]
  },
  {
   "cell_type": "code",
   "execution_count": 45,
   "id": "d72b6b3e",
   "metadata": {},
   "outputs": [
    {
     "name": "stdout",
     "output_type": "stream",
     "text": [
      "{40, 10, 50, 20, 60, 30}\n",
      "{40, 10, 50, 20, 60, 30}\n"
     ]
    }
   ],
   "source": [
    "x={10,20,30,40}\n",
    "y={30,40,50,60}\n",
    "print(x.union(y))\n",
    "print(x|y)"
   ]
  },
  {
   "cell_type": "markdown",
   "id": "1f1f2265",
   "metadata": {},
   "source": [
    "# 2. intersection():"
   ]
  },
  {
   "cell_type": "code",
   "execution_count": 46,
   "id": "3ab5fe5a",
   "metadata": {},
   "outputs": [
    {
     "name": "stdout",
     "output_type": "stream",
     "text": [
      "{40, 30}\n",
      "{40, 30}\n"
     ]
    }
   ],
   "source": [
    "x={10,20,30,40}\n",
    "y={30,40,50,60}\n",
    "print(x.intersection(y))\n",
    "print(x&y)"
   ]
  },
  {
   "cell_type": "markdown",
   "id": "728489df",
   "metadata": {},
   "source": [
    "# 3. difference():"
   ]
  },
  {
   "cell_type": "code",
   "execution_count": 49,
   "id": "ffaee4b2",
   "metadata": {},
   "outputs": [
    {
     "name": "stdout",
     "output_type": "stream",
     "text": [
      "{10, 20}\n",
      "{10, 20}\n",
      "\n",
      " {50, 60}\n",
      "{50, 60}\n"
     ]
    }
   ],
   "source": [
    "x={10,20,30,40}\n",
    "y={30,40,50,60}\n",
    "print(x.difference(y))\n",
    "print(x-y)\n",
    "\n",
    "print(\"\\n\",y.difference(x))\n",
    "print(y-x)\n"
   ]
  },
  {
   "cell_type": "markdown",
   "id": "92d4f837",
   "metadata": {},
   "source": [
    "# 4.symmetric_difference():"
   ]
  },
  {
   "cell_type": "code",
   "execution_count": 51,
   "id": "7e50149d",
   "metadata": {},
   "outputs": [
    {
     "name": "stdout",
     "output_type": "stream",
     "text": [
      "{10, 50, 20, 60}\n",
      "{10, 50, 20, 60}\n"
     ]
    }
   ],
   "source": [
    "x={10,20,30,40}\n",
    "y={30,40,50,60}\n",
    "print(x.symmetric_difference(y))\n",
    "print(x^y)"
   ]
  },
  {
   "cell_type": "markdown",
   "id": "9e60588c",
   "metadata": {},
   "source": [
    "# Membership operators: (in , not in)"
   ]
  },
  {
   "cell_type": "code",
   "execution_count": 2,
   "id": "602b3717",
   "metadata": {},
   "outputs": [
    {
     "name": "stdout",
     "output_type": "stream",
     "text": [
      "{'r', 'A', 'h', 's', 'i'}\n",
      "True\n",
      "False\n",
      "True\n",
      "True\n",
      "False\n"
     ]
    }
   ],
   "source": [
    "s=set(\"Ashir\")\n",
    "print(s)\n",
    "print('A' in s)\n",
    "print('S' in s) # This is what python is case sensitive language\n",
    "print('s' in s)\n",
    "print('i' in s)\n",
    "print('H' in s) # This is what python is case sensitive language\n"
   ]
  },
  {
   "cell_type": "markdown",
   "id": "7dae0331",
   "metadata": {},
   "source": [
    "# Set Comprehension"
   ]
  },
  {
   "cell_type": "code",
   "execution_count": 3,
   "id": "790610d5",
   "metadata": {},
   "outputs": [
    {
     "name": "stdout",
     "output_type": "stream",
     "text": [
      "{64, 1, 4, 36, 100, 9, 16, 49, 81, 25}\n"
     ]
    }
   ],
   "source": [
    "s={x*x for x in range(1,11)}\n",
    "print(s)"
   ]
  },
  {
   "cell_type": "code",
   "execution_count": 4,
   "id": "afbdc34c",
   "metadata": {},
   "outputs": [
    {
     "name": "stdout",
     "output_type": "stream",
     "text": [
      "{8, 16, 4, 12}\n"
     ]
    }
   ],
   "source": [
    "s={2*x for x in range(2,10,2)}\n",
    "print(s)"
   ]
  },
  {
   "cell_type": "markdown",
   "id": "d8f5fd8d",
   "metadata": {},
   "source": [
    "# Write a program to eliminate duplicates present in the list?"
   ]
  },
  {
   "cell_type": "code",
   "execution_count": 5,
   "id": "de9e0872",
   "metadata": {},
   "outputs": [
    {
     "name": "stdout",
     "output_type": "stream",
     "text": [
      "{40, 10, 20, 30}\n"
     ]
    }
   ],
   "source": [
    "l=[10,20,30,10,20,40,30]\n",
    "s=set(l)\n",
    "print(s)"
   ]
  },
  {
   "cell_type": "code",
   "execution_count": 7,
   "id": "2ccc2741",
   "metadata": {},
   "outputs": [
    {
     "name": "stdout",
     "output_type": "stream",
     "text": [
      "[10, 20, 30, 40]\n"
     ]
    }
   ],
   "source": [
    "l=[10,20,30,10,20,40,30]\n",
    "l1=[]\n",
    "for x in l:\n",
    "    if x not in l1:\n",
    "        l1.append(x)\n",
    "print(l1)        "
   ]
  },
  {
   "cell_type": "markdown",
   "id": "423ffec1",
   "metadata": {},
   "source": [
    "# Write a program to print different vowels present in the given word?"
   ]
  },
  {
   "cell_type": "code",
   "execution_count": 9,
   "id": "caca0cb1",
   "metadata": {},
   "outputs": [
    {
     "name": "stdout",
     "output_type": "stream",
     "text": [
      "Enter word to search for vowel ASHIR\n",
      "The different vowel present in ashir are {'a', 'i'}\n"
     ]
    }
   ],
   "source": [
    "w=input(\"Enter word to search for vowel \").lower()\n",
    "s=set(w)\n",
    "v={'a','e','i','o','u'}\n",
    "d=s.intersection(v)\n",
    "print(\"The different vowel present in\",w,\"are\",d)"
   ]
  },
  {
   "cell_type": "markdown",
   "id": "5a7004db",
   "metadata": {},
   "source": [
    "# Dictionary Data Structure"
   ]
  },
  {
   "cell_type": "markdown",
   "id": "12e18d2d",
   "metadata": {},
   "source": [
    "# Write a program to enter name and percentage marks in a dictionary and display information on the screen"
   ]
  },
  {
   "cell_type": "code",
   "execution_count": 13,
   "id": "528a2a00",
   "metadata": {},
   "outputs": [
    {
     "name": "stdout",
     "output_type": "stream",
     "text": [
      "Enter number of students: 2\n",
      "Enter Student Name: Ashir\n",
      "Enter % Marks of Student: 90%\n",
      "Enter Student Name: Ashiq\n",
      "Enter % Marks of Student: 98%\n",
      "Name of student \t  % marks of student\n",
      "\t 90% \t\t ['Ashir']\n",
      "\t 98% \t\t ['Ashiq']\n"
     ]
    }
   ],
   "source": [
    "rec={}\n",
    "n=int(input(\"Enter number of students: \"))\n",
    "i=1\n",
    "while i<=n:\n",
    "    name=input(\"Enter Student Name: \")\n",
    "    marks=input(\"Enter % Marks of Student: \")\n",
    "    rec[name]=[marks]\n",
    "    i+=1\n",
    "print(\"Name of student\" ,\"\\t \", \"% marks of student\") \n",
    "for x in rec:\n",
    "    print(\"\\t\",x,\"\\t\\t\" ,rec[x])\n",
    "    \n",
    "    "
   ]
  },
  {
   "cell_type": "markdown",
   "id": "4b48e97c",
   "metadata": {},
   "source": [
    "# How to update dictionaries?"
   ]
  },
  {
   "cell_type": "code",
   "execution_count": 14,
   "id": "46af2a82",
   "metadata": {},
   "outputs": [
    {
     "name": "stdout",
     "output_type": "stream",
     "text": [
      "{100: 'Ashir', 200: 'Ashiq', 300: 'Alam'}\n",
      "{100: 'Ashir', 200: 'Ashiq', 300: 'Alam', 400: 'shayan'}\n",
      "{100: 'Ashir', 200: 'HABIB', 300: 'Alam', 400: 'shayan'}\n"
     ]
    }
   ],
   "source": [
    "d={100:\"Ashir\",200:\"Ashiq\",300:\"Alam\"}\n",
    "print(d)\n",
    "d[400]=\"shayan\"\n",
    "print(d)\n",
    "d[200]=\"HABIB\"\n",
    "print(d)"
   ]
  },
  {
   "cell_type": "markdown",
   "id": "4afaad1a",
   "metadata": {},
   "source": [
    "# How to delete elements from dictionary?"
   ]
  },
  {
   "cell_type": "code",
   "execution_count": 15,
   "id": "b0d82ace",
   "metadata": {},
   "outputs": [
    {
     "name": "stdout",
     "output_type": "stream",
     "text": [
      "{100: 'Ashir', 200: 'Ashiq'}\n"
     ]
    },
    {
     "ename": "KeyError",
     "evalue": "400",
     "output_type": "error",
     "traceback": [
      "\u001b[1;31m---------------------------------------------------------------------------\u001b[0m",
      "\u001b[1;31mKeyError\u001b[0m                                  Traceback (most recent call last)",
      "Cell \u001b[1;32mIn[15], line 4\u001b[0m\n\u001b[0;32m      2\u001b[0m \u001b[38;5;28;01mdel\u001b[39;00m d[\u001b[38;5;241m300\u001b[39m]\n\u001b[0;32m      3\u001b[0m \u001b[38;5;28mprint\u001b[39m(d)\n\u001b[1;32m----> 4\u001b[0m \u001b[38;5;28;01mdel\u001b[39;00m d[\u001b[38;5;241m400\u001b[39m]\n\u001b[0;32m      5\u001b[0m \u001b[38;5;28mprint\u001b[39m(d)\n",
      "\u001b[1;31mKeyError\u001b[0m: 400"
     ]
    }
   ],
   "source": [
    "d={100:\"Ashir\",200:\"Ashiq\",300:\"Alam\"}\n",
    "del d[300]\n",
    "print(d)\n",
    "del d[400]\n",
    "print(d)"
   ]
  },
  {
   "cell_type": "code",
   "execution_count": 16,
   "id": "68e724de",
   "metadata": {},
   "outputs": [
    {
     "name": "stdout",
     "output_type": "stream",
     "text": [
      "{}\n"
     ]
    }
   ],
   "source": [
    "d={100:\"Ashir\",200:\"Ashiq\",300:\"Alam\"}\n",
    "d.clear()\n",
    "print(d)"
   ]
  },
  {
   "cell_type": "code",
   "execution_count": 17,
   "id": "0791ae43",
   "metadata": {},
   "outputs": [
    {
     "name": "stdout",
     "output_type": "stream",
     "text": [
      "{100: 'Ashir', 200: 'Ashiq', 300: 'Alam'}\n"
     ]
    },
    {
     "ename": "NameError",
     "evalue": "name 'd' is not defined",
     "output_type": "error",
     "traceback": [
      "\u001b[1;31m---------------------------------------------------------------------------\u001b[0m",
      "\u001b[1;31mNameError\u001b[0m                                 Traceback (most recent call last)",
      "Cell \u001b[1;32mIn[17], line 4\u001b[0m\n\u001b[0;32m      2\u001b[0m \u001b[38;5;28mprint\u001b[39m(d)\n\u001b[0;32m      3\u001b[0m \u001b[38;5;28;01mdel\u001b[39;00m d\n\u001b[1;32m----> 4\u001b[0m \u001b[38;5;28mprint\u001b[39m(d)\n",
      "\u001b[1;31mNameError\u001b[0m: name 'd' is not defined"
     ]
    }
   ],
   "source": [
    "d={100:\"Ashir\",200:\"Ashiq\",300:\"Alam\"}\n",
    "print(d)\n",
    "del d\n",
    "print(d)"
   ]
  },
  {
   "cell_type": "markdown",
   "id": "9a2f17c9",
   "metadata": {},
   "source": [
    "# Important functions of dictionary"
   ]
  },
  {
   "cell_type": "markdown",
   "id": "ad602066",
   "metadata": {},
   "source": [
    "# 1. dict():"
   ]
  },
  {
   "cell_type": "code",
   "execution_count": 18,
   "id": "80d4ae6d",
   "metadata": {},
   "outputs": [
    {
     "name": "stdout",
     "output_type": "stream",
     "text": [
      "{100: 'Ashir', 200: 'Afridi', 300: 'Alam'}\n"
     ]
    }
   ],
   "source": [
    "d=dict([(100,\"Ashir\"),(200,\"Afridi\"),(300,\"Alam\")])\n",
    "print(d)"
   ]
  },
  {
   "cell_type": "code",
   "execution_count": 19,
   "id": "0acdc995",
   "metadata": {},
   "outputs": [
    {
     "name": "stdout",
     "output_type": "stream",
     "text": [
      "{}\n"
     ]
    }
   ],
   "source": [
    "d=dict() \n",
    "print(d)"
   ]
  },
  {
   "cell_type": "markdown",
   "id": "e7df813f",
   "metadata": {},
   "source": [
    "# 2. len()\n",
    "Returns the number of items in the dictionary"
   ]
  },
  {
   "cell_type": "code",
   "execution_count": 20,
   "id": "270ff246",
   "metadata": {},
   "outputs": [
    {
     "name": "stdout",
     "output_type": "stream",
     "text": [
      "3\n"
     ]
    }
   ],
   "source": [
    "d=dict([(100,\"Ashir\"),(200,\"Afridi\"),(300,\"Alam\")])\n",
    "print(len(d))"
   ]
  },
  {
   "cell_type": "markdown",
   "id": "381c0a94",
   "metadata": {},
   "source": [
    "# 3. clear():\n",
    "To remove all elements from the dictionary"
   ]
  },
  {
   "cell_type": "markdown",
   "id": "4bf3d383",
   "metadata": {},
   "source": [
    "# 4. get():"
   ]
  },
  {
   "cell_type": "code",
   "execution_count": 22,
   "id": "c3e1a85c",
   "metadata": {},
   "outputs": [
    {
     "name": "stdout",
     "output_type": "stream",
     "text": [
      "Ashir\n",
      "Ashir\n",
      "None\n",
      "Ashir\n",
      "Guest\n"
     ]
    }
   ],
   "source": [
    "d={100: 'Ashir', 200: 'Afridi', 300: 'Alam'}\n",
    "print(d[100])\n",
    "#print(d[400]) KeyError  \n",
    "print(d.get(100))\n",
    "print(d.get(400))\n",
    "print(d.get(100,\"Guest\"))\n",
    "print(d.get(400,\"Guest\"))   #d.get(key,defaultvalue)"
   ]
  },
  {
   "cell_type": "markdown",
   "id": "51874321",
   "metadata": {},
   "source": [
    "# 3. pop():"
   ]
  },
  {
   "cell_type": "code",
   "execution_count": 24,
   "id": "88759679",
   "metadata": {},
   "outputs": [
    {
     "name": "stdout",
     "output_type": "stream",
     "text": [
      "Ashir\n",
      "{200: 'Afridi', 300: 'Alam'}\n"
     ]
    },
    {
     "ename": "KeyError",
     "evalue": "400",
     "output_type": "error",
     "traceback": [
      "\u001b[1;31m---------------------------------------------------------------------------\u001b[0m",
      "\u001b[1;31mKeyError\u001b[0m                                  Traceback (most recent call last)",
      "Cell \u001b[1;32mIn[24], line 4\u001b[0m\n\u001b[0;32m      2\u001b[0m \u001b[38;5;28mprint\u001b[39m(d\u001b[38;5;241m.\u001b[39mpop(\u001b[38;5;241m100\u001b[39m))\n\u001b[0;32m      3\u001b[0m \u001b[38;5;28mprint\u001b[39m(d)\n\u001b[1;32m----> 4\u001b[0m \u001b[38;5;28mprint\u001b[39m(d\u001b[38;5;241m.\u001b[39mpop(\u001b[38;5;241m400\u001b[39m))\n",
      "\u001b[1;31mKeyError\u001b[0m: 400"
     ]
    }
   ],
   "source": [
    "d={100: 'Ashir', 200: 'Afridi', 300: 'Alam'}\n",
    "print(d.pop(100))\n",
    "print(d)\n",
    "print(d.pop(400))"
   ]
  },
  {
   "cell_type": "markdown",
   "id": "cd2fe741",
   "metadata": {},
   "source": [
    "# 4. popitem():"
   ]
  },
  {
   "cell_type": "code",
   "execution_count": 25,
   "id": "f2cbf978",
   "metadata": {},
   "outputs": [
    {
     "name": "stdout",
     "output_type": "stream",
     "text": [
      "{100: 'Ashir', 200: 'Afridi', 300: 'Alam'}\n",
      "(300, 'Alam')\n",
      "{100: 'Ashir', 200: 'Afridi'}\n"
     ]
    }
   ],
   "source": [
    "d={100: 'Ashir', 200: 'Afridi', 300: 'Alam'}\n",
    "print(d)\n",
    "print(d.popitem())\n",
    "print(d)"
   ]
  },
  {
   "cell_type": "markdown",
   "id": "9925230d",
   "metadata": {},
   "source": [
    "# 5. keys():"
   ]
  },
  {
   "cell_type": "code",
   "execution_count": 27,
   "id": "0b29a1f0",
   "metadata": {},
   "outputs": [
    {
     "name": "stdout",
     "output_type": "stream",
     "text": [
      "dict_keys([100, 200, 300])\n",
      "100\n",
      "200\n",
      "300\n"
     ]
    }
   ],
   "source": [
    "d={100: 'Ashir', 200: 'Afridi', 300: 'Alam'}\n",
    "print(d.keys())\n",
    "for k in d.keys():\n",
    "    print(k)\n",
    "    "
   ]
  },
  {
   "cell_type": "markdown",
   "id": "d1c18c5f",
   "metadata": {},
   "source": [
    "# 6. values():"
   ]
  },
  {
   "cell_type": "code",
   "execution_count": 28,
   "id": "76983f84",
   "metadata": {},
   "outputs": [
    {
     "name": "stdout",
     "output_type": "stream",
     "text": [
      "dict_values(['Ashir', 'Afridi', 'Alam'])\n",
      "Ashir\n",
      "Afridi\n",
      "Alam\n"
     ]
    }
   ],
   "source": [
    "d={100: 'Ashir', 200: 'Afridi', 300: 'Alam'}\n",
    "print(d.values())\n",
    "for k in d.values():\n",
    "    print(k)"
   ]
  },
  {
   "cell_type": "markdown",
   "id": "647bdfc1",
   "metadata": {},
   "source": [
    "# 7. items():"
   ]
  },
  {
   "cell_type": "code",
   "execution_count": 29,
   "id": "8902b04f",
   "metadata": {},
   "outputs": [
    {
     "name": "stdout",
     "output_type": "stream",
     "text": [
      "dict_items([(100, 'Ashir'), (200, 'Afridi'), (300, 'Alam')])\n",
      "(100, 'Ashir')\n",
      "(200, 'Afridi')\n",
      "(300, 'Alam')\n"
     ]
    }
   ],
   "source": [
    "d={100: 'Ashir', 200: 'Afridi', 300: 'Alam'}\n",
    "print(d.items())\n",
    "for k in d.items():\n",
    "    print(k)"
   ]
  },
  {
   "cell_type": "markdown",
   "id": "7d5c2a9a",
   "metadata": {},
   "source": [
    "# 8. setdefault():"
   ]
  },
  {
   "cell_type": "code",
   "execution_count": 5,
   "id": "407587df",
   "metadata": {},
   "outputs": [
    {
     "name": "stdout",
     "output_type": "stream",
     "text": [
      "Alam\n",
      "{100: 'Ashir', 200: 'Afridi', 300: 'Habib', 400: 'Alam'}\n",
      "Ashir\n",
      "{100: 'Ashir', 200: 'Afridi', 300: 'Habib', 400: 'Alam'}\n"
     ]
    }
   ],
   "source": [
    "d={100: 'Ashir', 200: 'Afridi', 300: 'Habib'}\n",
    "print(d.setdefault(400,\"Alam\"))\n",
    "print(d)\n",
    "print(d.setdefault(100,\"Ashiq\"))\n",
    "print(d)"
   ]
  },
  {
   "cell_type": "markdown",
   "id": "404b5a3a",
   "metadata": {},
   "source": [
    "# 9 copy():\n",
    "To create exactly duplicate dictionary(cloned copy)\n",
    "d1=d.copy();"
   ]
  },
  {
   "cell_type": "markdown",
   "id": "b0a751b3",
   "metadata": {},
   "source": [
    "# 10 update():\n",
    "d.update(x)\n",
    "All items present in the dictionary x will be added to dictionary d"
   ]
  },
  {
   "cell_type": "markdown",
   "id": "e94a0d58",
   "metadata": {},
   "source": [
    "# Q. Write a program to take dictionary from the keyboard and print the sum of values?"
   ]
  },
  {
   "cell_type": "code",
   "execution_count": 8,
   "id": "df539657",
   "metadata": {},
   "outputs": [
    {
     "name": "stdout",
     "output_type": "stream",
     "text": [
      "Enter dictionary:{'A':100,'B':200,'C':300}\n",
      "600\n"
     ]
    }
   ],
   "source": [
    "d=eval(input(\"Enter dictionary:\"))\n",
    "s=sum(d.values())\n",
    "print(s)"
   ]
  },
  {
   "cell_type": "markdown",
   "id": "ef4d0814",
   "metadata": {},
   "source": [
    "# Q. Write a program to find number of occurrences of each letter present in the given string"
   ]
  },
  {
   "cell_type": "code",
   "execution_count": 15,
   "id": "b961b348",
   "metadata": {},
   "outputs": [
    {
     "name": "stdout",
     "output_type": "stream",
     "text": [
      "Enter any word aabbcc\n",
      "{'a': 2, 'b': 2, 'c': 2}\n",
      "a occurred  2 times\n",
      "b occurred  2 times\n",
      "c occurred  2 times\n"
     ]
    }
   ],
   "source": [
    "word =input(\"Enter any word \")\n",
    "d={}\n",
    "for x in word:\n",
    "    d[x]=d.get(x,0) + 1\n",
    "print(d)    \n",
    "for k,v in d.items():\n",
    "    print(k,\"occurred \",v,\"times\")"
   ]
  },
  {
   "cell_type": "markdown",
   "id": "8b15e878",
   "metadata": {},
   "source": [
    "# Q. Write a program to find number of occurrences of each vowel present in the given string?"
   ]
  },
  {
   "cell_type": "code",
   "execution_count": 15,
   "id": "ee712045",
   "metadata": {},
   "outputs": [
    {
     "name": "stdout",
     "output_type": "stream",
     "text": [
      "Enter any word: doganimaldoganimal\n",
      "{'o': 2, 'a': 4, 'i': 2}\n",
      "a occurred  4 times\n",
      "i occurred  2 times\n",
      "o occurred  2 times\n"
     ]
    }
   ],
   "source": [
    "word=input(\"Enter any word: \")\n",
    "vowels={'a','e','i','o','u'}\n",
    "d={}\n",
    "for x in word:\n",
    "    if x in vowels:\n",
    "        d[x]=d.get(x,0)+1\n",
    "print(d)       \n",
    "for k,v in sorted(d.items()):\n",
    "    print(k,\"occurred \",v,\"times\")"
   ]
  },
  {
   "cell_type": "markdown",
   "id": "2fc2864f",
   "metadata": {},
   "source": [
    "# Q. Write a program to accept student name and marks from the keyboardand creates a dictionary. Also display student marks by taking student name as input?"
   ]
  },
  {
   "cell_type": "code",
   "execution_count": 10,
   "id": "30e8db47",
   "metadata": {},
   "outputs": [
    {
     "name": "stdout",
     "output_type": "stream",
     "text": [
      "Enter the number of students 5\n",
      "Enter Student Name: sunny\n",
      "Enter Student Marks: 90\n",
      "Enter Student Name: banny\n",
      "Enter Student Marks: 80\n",
      "Enter Student Name: chinny\n",
      "Enter Student Marks: 95\n",
      "Enter Student Name: pinny\n",
      "Enter Student Marks: 70\n",
      "Enter Student Name: vinny\n",
      "Enter Student Marks: 60\n",
      "Enter Student Name to get Marks: sunny\n",
      "The Marks of sunny are 90\n",
      "Do you want to find another student marks[Yes|No]banny\n",
      "Enter Student Name to get Marks: banny\n",
      "The Marks of banny are 80\n",
      "Do you want to find another student marks[Yes|No]No\n",
      "Thanks for using our application\n"
     ]
    }
   ],
   "source": [
    "n=int(input(\"Enter the number of students \"))\n",
    "d={}\n",
    "for i in range(n):\n",
    "    name=input(\"Enter Student Name: \")\n",
    "    marks=input(\"Enter Student Marks: \")\n",
    "    d[name]=marks\n",
    "while True:\n",
    "    name=input(\"Enter Student Name to get Marks: \")\n",
    "    marks=d.get(name,-1)\n",
    "    if marks==-1:\n",
    "        print(\"student not found\")\n",
    "    else:\n",
    "        print(\"The Marks of\",name,\"are\",marks)\n",
    "    option=input(\"Do you want to find another student marks[Yes|No]\")\n",
    "    if option==\"No\":\n",
    "        break\n",
    "print(\"Thanks for using our application\")            "
   ]
  },
  {
   "cell_type": "markdown",
   "id": "9053546a",
   "metadata": {},
   "source": [
    "# Dictionary Comprehension:"
   ]
  },
  {
   "cell_type": "code",
   "execution_count": 11,
   "id": "4978bfd1",
   "metadata": {},
   "outputs": [
    {
     "name": "stdout",
     "output_type": "stream",
     "text": [
      "{1: 1, 2: 4, 3: 9, 4: 16, 5: 25}\n"
     ]
    }
   ],
   "source": [
    "squares={x:x*x for x in range(1,6)}\n",
    "print(squares)"
   ]
  },
  {
   "cell_type": "code",
   "execution_count": 12,
   "id": "02a46baf",
   "metadata": {},
   "outputs": [
    {
     "name": "stdout",
     "output_type": "stream",
     "text": [
      "{1: 2, 2: 4, 3: 6, 4: 8, 5: 10, 6: 12, 7: 14, 8: 16, 9: 18}\n"
     ]
    }
   ],
   "source": [
    "double={x:2*x for x in range(1,10)}\n",
    "print(double)"
   ]
  },
  {
   "cell_type": "markdown",
   "id": "4ee7e3b5",
   "metadata": {},
   "source": [
    "# FUNCTIONS"
   ]
  },
  {
   "cell_type": "markdown",
   "id": "add2776e",
   "metadata": {},
   "source": [
    "# Q. Write a function to find factorial of given number?"
   ]
  },
  {
   "cell_type": "code",
   "execution_count": 13,
   "id": "ff58a298",
   "metadata": {},
   "outputs": [
    {
     "name": "stdout",
     "output_type": "stream",
     "text": [
      "The factorial of  1 is: 1\n",
      "The factorial of  2 is: 2\n",
      "The factorial of  3 is: 6\n",
      "The factorial of  4 is: 24\n",
      "The factorial of  5 is: 120\n"
     ]
    }
   ],
   "source": [
    "def fact(num):\n",
    "    result=1\n",
    "    while num>=1:\n",
    "        result=result*num\n",
    "        num-=1\n",
    "    return result\n",
    "for i in range(1,6):\n",
    "    print(\"The factorial of \", i,\"is:\",fact(i))"
   ]
  },
  {
   "cell_type": "markdown",
   "id": "75109126",
   "metadata": {},
   "source": [
    "# Returning multiple values from a function:"
   ]
  },
  {
   "cell_type": "code",
   "execution_count": 15,
   "id": "4313c61f",
   "metadata": {},
   "outputs": [
    {
     "name": "stdout",
     "output_type": "stream",
     "text": [
      "The sum= 150\n",
      "The subtraction= 50\n"
     ]
    }
   ],
   "source": [
    "def add_sub(a,b):\n",
    "    sum = a+b\n",
    "    sub = a-b\n",
    "    \n",
    "    return sum,sub\n",
    "x,y=add_sub(100,50)\n",
    "print(\"The sum =\",x)\n",
    "print(\"The subtraction =\",y)"
   ]
  },
  {
   "cell_type": "code",
   "execution_count": 16,
   "id": "79e7f704",
   "metadata": {},
   "outputs": [
    {
     "name": "stdout",
     "output_type": "stream",
     "text": [
      "\n",
      "Result \n",
      "150\n",
      "50\n",
      "5000\n",
      "2.0\n"
     ]
    }
   ],
   "source": [
    "def calc(a,b):\n",
    "    sum=a+b\n",
    "    sub=a-b\n",
    "    mul=a*b\n",
    "    divi=a/b\n",
    "    return sum,sub,mul,divi\n",
    "t=calc(100,50)\n",
    "print(\"\\nResult \")\n",
    "for i in t:\n",
    "    print(i)"
   ]
  },
  {
   "cell_type": "markdown",
   "id": "c5117b12",
   "metadata": {},
   "source": [
    "# 1. positional arguments:"
   ]
  },
  {
   "cell_type": "code",
   "execution_count": 17,
   "id": "ef7242de",
   "metadata": {},
   "outputs": [
    {
     "name": "stdout",
     "output_type": "stream",
     "text": [
      "-100\n",
      "100\n"
     ]
    }
   ],
   "source": [
    "def sub(a,b):\n",
    "    print(a-b)\n",
    "sub(100,200)\n",
    "sub(200,100)\n",
    "    "
   ]
  },
  {
   "cell_type": "markdown",
   "id": "c1139984",
   "metadata": {},
   "source": [
    "# 2. keyword arguments:"
   ]
  },
  {
   "cell_type": "code",
   "execution_count": 19,
   "id": "3d201e20",
   "metadata": {},
   "outputs": [
    {
     "name": "stdout",
     "output_type": "stream",
     "text": [
      "Hello Ashir Godd Morning\n",
      "Hello Alam Good Luck\n",
      "Hello Ashiq Good Evening\n"
     ]
    }
   ],
   "source": [
    "def wish(name,msg):\n",
    "    print(\"Hello\",name,msg)\n",
    "wish(name=\"Ashir\",msg=\"Godd Morning\")\n",
    "wish(\"Alam\",msg=\"Good Luck\")\n",
    "wish(\"Ashiq\",\"Good Evening\")\n",
    "#wish(name=\"Habib\",\"Good Night\") #SyntaxError: positional argument follows keyword argumen\n"
   ]
  },
  {
   "cell_type": "markdown",
   "id": "ae9bd6b2",
   "metadata": {},
   "source": [
    "# 3. Default Arguments:"
   ]
  },
  {
   "cell_type": "code",
   "execution_count": 20,
   "id": "f9323145",
   "metadata": {},
   "outputs": [
    {
     "name": "stdout",
     "output_type": "stream",
     "text": [
      "Hello Ashir Good Morning\n",
      "Hello Guest Good Morning\n",
      "Hello Alam Good Morning\n"
     ]
    }
   ],
   "source": [
    "def wish(name=\"Guest\"):\n",
    "    print(\"Hello\",name,\"Good Morning\")\n",
    "wish(\"Ashir\")\n",
    "wish()\n",
    "wish(\"Alam\")"
   ]
  },
  {
   "cell_type": "markdown",
   "id": "3af090ba",
   "metadata": {},
   "source": [
    "# 4. Variable length arguments:"
   ]
  },
  {
   "cell_type": "code",
   "execution_count": 21,
   "id": "961f2463",
   "metadata": {},
   "outputs": [
    {
     "name": "stdout",
     "output_type": "stream",
     "text": [
      "The sum = 0\n",
      "The sum = 10\n",
      "The sum = 30\n",
      "The sum = 189\n"
     ]
    }
   ],
   "source": [
    "def sum(*n):\n",
    "    total=0\n",
    "    for n1 in n:\n",
    "        total=total+n1\n",
    "    print(\"The sum =\",total)\n",
    "sum()\n",
    "sum(10)\n",
    "sum(10,20)\n",
    "sum(10,20,39,30,40,50)"
   ]
  },
  {
   "cell_type": "code",
   "execution_count": 22,
   "id": "83415fa2",
   "metadata": {},
   "outputs": [
    {
     "name": "stdout",
     "output_type": "stream",
     "text": [
      "n1 = 10\n",
      "n2 = 20\n",
      "n3 = 30\n",
      "n4 = 40\n",
      "name = Ashir\n",
      "rollno = 21\n",
      "dep = BCS\n",
      "Group = A\n"
     ]
    }
   ],
   "source": [
    "def display(**kwargs):\n",
    "    for k,v in kwargs.items():\n",
    "        print(k,\"=\",v)\n",
    "display(n1=10,n2=20,n3=30,n4=40)\n",
    "display(name=\"Ashir\",rollno=21,dep=\"BCS\",Group=\"A\")"
   ]
  },
  {
   "cell_type": "code",
   "execution_count": 23,
   "id": "7ce23f2f",
   "metadata": {},
   "outputs": [
    {
     "name": "stdout",
     "output_type": "stream",
     "text": [
      "2 3 4 8\n",
      "10 20 30 40\n",
      "25 50 4 100\n",
      "3 4 4 2\n"
     ]
    }
   ],
   "source": [
    "def f(arg1,arg2,arg3=4,arg4=8):\n",
    "     print(arg1,arg2,arg3,arg4)\n",
    "f(2,3)\n",
    "f(10,20,30,40)\n",
    "f(25,50,arg4=100)\n",
    "f(arg4=2,arg1=3,arg2=4)\n"
   ]
  },
  {
   "cell_type": "markdown",
   "id": "4a6f524b",
   "metadata": {},
   "source": [
    "# global keyword:"
   ]
  },
  {
   "cell_type": "code",
   "execution_count": null,
   "id": "012a4a90",
   "metadata": {},
   "outputs": [],
   "source": [
    "#1. To declare global variable inside function\n",
    "#2. To make global variable available to the function so that we can perform required modifications"
   ]
  },
  {
   "cell_type": "code",
   "execution_count": 24,
   "id": "d3284b1f",
   "metadata": {},
   "outputs": [
    {
     "name": "stdout",
     "output_type": "stream",
     "text": [
      "777\n",
      "10\n"
     ]
    }
   ],
   "source": [
    "a=10\n",
    "def f1():\n",
    "    a=777\n",
    "    print(a)\n",
    "def f2():\n",
    "    print(a)\n",
    "f1()\n",
    "f2()"
   ]
  },
  {
   "cell_type": "code",
   "execution_count": 25,
   "id": "9d8f8a1a",
   "metadata": {},
   "outputs": [
    {
     "name": "stdout",
     "output_type": "stream",
     "text": [
      "777\n",
      "777\n"
     ]
    }
   ],
   "source": [
    "a=10\n",
    "def f1():\n",
    "    global a\n",
    "    a=777\n",
    "    print(a)\n",
    "def f2():\n",
    "    print(a)\n",
    "f1()\n",
    "f2()"
   ]
  },
  {
   "cell_type": "code",
   "execution_count": 2,
   "id": "0b5a74e2",
   "metadata": {},
   "outputs": [
    {
     "name": "stdout",
     "output_type": "stream",
     "text": [
      "10\n"
     ]
    },
    {
     "ename": "NameError",
     "evalue": "name 'b' is not defined",
     "output_type": "error",
     "traceback": [
      "\u001b[1;31m---------------------------------------------------------------------------\u001b[0m",
      "\u001b[1;31mNameError\u001b[0m                                 Traceback (most recent call last)",
      "Cell \u001b[1;32mIn[2], line 7\u001b[0m\n\u001b[0;32m      5\u001b[0m     \u001b[38;5;28mprint\u001b[39m(b)\n\u001b[0;32m      6\u001b[0m f1()\n\u001b[1;32m----> 7\u001b[0m f2()\n",
      "Cell \u001b[1;32mIn[2], line 5\u001b[0m, in \u001b[0;36mf2\u001b[1;34m()\u001b[0m\n\u001b[0;32m      4\u001b[0m \u001b[38;5;28;01mdef\u001b[39;00m \u001b[38;5;21mf2\u001b[39m():\n\u001b[1;32m----> 5\u001b[0m     \u001b[38;5;28mprint\u001b[39m(b)\n",
      "\u001b[1;31mNameError\u001b[0m: name 'b' is not defined"
     ]
    }
   ],
   "source": [
    "def f1():\n",
    "    b=10\n",
    "    print(b)\n",
    "def f2():\n",
    "    print(b)\n",
    "f1()\n",
    "f2()"
   ]
  },
  {
   "cell_type": "code",
   "execution_count": 6,
   "id": "441fc72f",
   "metadata": {},
   "outputs": [
    {
     "name": "stdout",
     "output_type": "stream",
     "text": [
      "777\n",
      "10\n"
     ]
    }
   ],
   "source": [
    "a=10\n",
    "def f1():\n",
    "    a=777\n",
    "    print(a)\n",
    "    print(globals()['a'])\n",
    "f1()    \n",
    "    "
   ]
  },
  {
   "cell_type": "markdown",
   "id": "3eb81a2c",
   "metadata": {},
   "source": [
    "# Recursive Functions"
   ]
  },
  {
   "cell_type": "code",
   "execution_count": 7,
   "id": "cde7fc88",
   "metadata": {},
   "outputs": [
    {
     "name": "stdout",
     "output_type": "stream",
     "text": [
      "The factorial of 4 is = 24\n",
      "The factorial of 5 is = 120\n"
     ]
    }
   ],
   "source": [
    "def factorial(n):\n",
    "    if n==0:\n",
    "        result=1\n",
    "    else:\n",
    "        result=n*factorial(n-1)\n",
    "    return result\n",
    "print(\"The factorial of 4 is =\",factorial(4))\n",
    "print(\"The factorial of 5 is =\",factorial(5))\n"
   ]
  },
  {
   "cell_type": "markdown",
   "id": "848c6139",
   "metadata": {},
   "source": [
    "# Anonymous Functions:"
   ]
  },
  {
   "cell_type": "markdown",
   "id": "da8d2130",
   "metadata": {},
   "source": [
    "# Write a program to create a lambda function to find square of given number?"
   ]
  },
  {
   "cell_type": "code",
   "execution_count": 8,
   "id": "047d5107",
   "metadata": {},
   "outputs": [
    {
     "name": "stdout",
     "output_type": "stream",
     "text": [
      "The square of 4 is 16\n",
      "The square of 5 is 25\n"
     ]
    }
   ],
   "source": [
    "s=lambda n:n*n\n",
    "print(\"The square of 4 is\",s(4))\n",
    "print(\"The square of 5 is\",s(5))\n"
   ]
  },
  {
   "cell_type": "markdown",
   "id": "6f89e11a",
   "metadata": {},
   "source": [
    "# Q. Lambda function to find sum of 2 given numbers"
   ]
  },
  {
   "cell_type": "code",
   "execution_count": 9,
   "id": "0596033d",
   "metadata": {},
   "outputs": [
    {
     "name": "stdout",
     "output_type": "stream",
     "text": [
      "The sum of Two number is 30\n"
     ]
    }
   ],
   "source": [
    "s=lambda a,b:a+b\n",
    "print(\"The sum of Two number is\",s(10,20))"
   ]
  },
  {
   "cell_type": "markdown",
   "id": "a3cc0960",
   "metadata": {},
   "source": [
    "# Q. Lambda Function to find biggest of given values"
   ]
  },
  {
   "cell_type": "code",
   "execution_count": 10,
   "id": "111d2f39",
   "metadata": {},
   "outputs": [
    {
     "name": "stdout",
     "output_type": "stream",
     "text": [
      "The Biggest of 10,20 is: 20\n",
      "The Biggest of 100,200 is: 200\n"
     ]
    }
   ],
   "source": [
    "s=lambda a,b:a if a>b else b\n",
    "print(\"The Biggest of 10,20 is:\",s(10,20))\n",
    "print(\"The Biggest of 100,200 is:\",s(100,200))"
   ]
  },
  {
   "cell_type": "markdown",
   "id": "ac46fd08",
   "metadata": {},
   "source": [
    "# Q. Program to filter only even numbers from the list by using filter() function?"
   ]
  },
  {
   "cell_type": "code",
   "execution_count": 1,
   "id": "feecaff0",
   "metadata": {},
   "outputs": [
    {
     "name": "stdout",
     "output_type": "stream",
     "text": [
      "[0, 10, 20, 30]\n"
     ]
    }
   ],
   "source": [
    "def is_Even(x):\n",
    "    if x%2==0:\n",
    "        return True\n",
    "    else:\n",
    "        return False\n",
    "l=[0,5,10,15,20,25,30]\n",
    "l1=list(filter(is_Even,l))\n",
    "print(l1)"
   ]
  },
  {
   "cell_type": "markdown",
   "id": "90eb7dee",
   "metadata": {},
   "source": [
    "# with lambda Function:"
   ]
  },
  {
   "cell_type": "code",
   "execution_count": 1,
   "id": "c6ecafc5",
   "metadata": {},
   "outputs": [
    {
     "name": "stdout",
     "output_type": "stream",
     "text": [
      "[0, 10, 20, 30]\n",
      "[5, 15, 25]\n"
     ]
    }
   ],
   "source": [
    "l=[0,5,10,15,20,25,30]\n",
    "s=lambda x:x%2==0\n",
    "l1=list(filter(s,l))\n",
    "print(l1)\n",
    "l1=list(filter(lambda x:x%2!=0,l))\n",
    "print(l1)"
   ]
  },
  {
   "cell_type": "markdown",
   "id": "cc760e4f",
   "metadata": {},
   "source": [
    "# map() function:"
   ]
  },
  {
   "cell_type": "markdown",
   "id": "d63b7c98",
   "metadata": {},
   "source": [
    "# Without lambda"
   ]
  },
  {
   "cell_type": "code",
   "execution_count": 6,
   "id": "b719e5f2",
   "metadata": {},
   "outputs": [
    {
     "name": "stdout",
     "output_type": "stream",
     "text": [
      "[2, 4, 6, 8, 10]\n"
     ]
    }
   ],
   "source": [
    "l=[1,2,3,4,5]\n",
    "def doubleIt(x):\n",
    "    return 2*x\n",
    "l1=list(map(doubleIt,l))\n",
    "print(l1)"
   ]
  },
  {
   "cell_type": "markdown",
   "id": "719782a8",
   "metadata": {},
   "source": [
    "# with lambda"
   ]
  },
  {
   "cell_type": "code",
   "execution_count": 7,
   "id": "65212273",
   "metadata": {},
   "outputs": [
    {
     "name": "stdout",
     "output_type": "stream",
     "text": [
      "[2, 4, 6, 8, 10]\n"
     ]
    }
   ],
   "source": [
    "l=[1,2,3,4,5]\n",
    "s=lambda x:2*x\n",
    "l1=list(map(s,l))\n",
    "print(l1)"
   ]
  },
  {
   "cell_type": "code",
   "execution_count": 8,
   "id": "d6f3da28",
   "metadata": {},
   "outputs": [
    {
     "name": "stdout",
     "output_type": "stream",
     "text": [
      "[2, 4, 6, 8, 10]\n"
     ]
    }
   ],
   "source": [
    "l=[1,2,3,4,5]\n",
    "l1=list(map(lambda x:2*x,l))\n",
    "print(l1)"
   ]
  },
  {
   "cell_type": "code",
   "execution_count": 10,
   "id": "573e9d50",
   "metadata": {},
   "outputs": [
    {
     "name": "stdout",
     "output_type": "stream",
     "text": [
      "[1, 4, 9, 16, 25]\n"
     ]
    }
   ],
   "source": [
    "l=[1,2,3,4,5]\n",
    "l1=list(map(lambda x:x*x,l))\n",
    "print(l1)"
   ]
  },
  {
   "cell_type": "code",
   "execution_count": 11,
   "id": "c65986c2",
   "metadata": {},
   "outputs": [
    {
     "name": "stdout",
     "output_type": "stream",
     "text": [
      "[2, 6, 12, 20]\n"
     ]
    }
   ],
   "source": [
    "l1=[1,2,3,4]\n",
    "l2=[2,3,4,5]\n",
    "l3=list(map(lambda x,y:x*y,l1,l2))\n",
    "print(l3)"
   ]
  },
  {
   "cell_type": "markdown",
   "id": "031935da",
   "metadata": {},
   "source": [
    "# reduce() function:"
   ]
  },
  {
   "cell_type": "code",
   "execution_count": 13,
   "id": "d23d0f54",
   "metadata": {},
   "outputs": [
    {
     "name": "stdout",
     "output_type": "stream",
     "text": [
      "150\n"
     ]
    }
   ],
   "source": [
    "from functools import*\n",
    "l=[10,20,30,40,50]\n",
    "result=reduce(lambda x,y:x+y,l)\n",
    "print(result)"
   ]
  },
  {
   "cell_type": "code",
   "execution_count": 14,
   "id": "1f17ac0e",
   "metadata": {},
   "outputs": [
    {
     "name": "stdout",
     "output_type": "stream",
     "text": [
      "12000000\n"
     ]
    }
   ],
   "source": [
    "result=reduce(lambda x,y:x*y,l)\n",
    "print(result)"
   ]
  },
  {
   "cell_type": "code",
   "execution_count": 15,
   "id": "8be94024",
   "metadata": {},
   "outputs": [
    {
     "name": "stdout",
     "output_type": "stream",
     "text": [
      "5050\n"
     ]
    }
   ],
   "source": [
    "from functools import*\n",
    "result=reduce(lambda x,y:x+y,range(1,101))\n",
    "print(result)"
   ]
  },
  {
   "cell_type": "code",
   "execution_count": null,
   "id": "778efb07",
   "metadata": {},
   "outputs": [],
   "source": [
    "#In Python every thing is treated as object.\n",
    "#Even functions also internally treated as objects only."
   ]
  },
  {
   "cell_type": "code",
   "execution_count": 17,
   "id": "43466fbd",
   "metadata": {},
   "outputs": [
    {
     "name": "stdout",
     "output_type": "stream",
     "text": [
      "Hello world\n",
      "2754623805120\n"
     ]
    }
   ],
   "source": [
    "def f1():\n",
    "    print(\"Hello world\")\n",
    "f1() \n",
    "print(id(f1))"
   ]
  },
  {
   "cell_type": "markdown",
   "id": "3b7d2f97",
   "metadata": {},
   "source": [
    "# Function Aliasing"
   ]
  },
  {
   "cell_type": "code",
   "execution_count": null,
   "id": "e515812d",
   "metadata": {},
   "outputs": [],
   "source": [
    "#For the existing function we can give another name, which is nothing but function aliasing."
   ]
  },
  {
   "cell_type": "code",
   "execution_count": 18,
   "id": "f900ab2f",
   "metadata": {},
   "outputs": [
    {
     "name": "stdout",
     "output_type": "stream",
     "text": [
      "2754623807040\n",
      "2754623807040\n",
      "Good Morning....!!!!  Ashir\n",
      "Good Morning....!!!!  Habib Alam\n"
     ]
    }
   ],
   "source": [
    "def wish(name):\n",
    "    print(\"Good Morning....!!!! \",name)\n",
    "greeting=wish\n",
    "print(id(wish))\n",
    "print(id(greeting))\n",
    "greeting(\"Ashir\")\n",
    "wish(\"Habib Alam\")"
   ]
  },
  {
   "cell_type": "markdown",
   "id": "3da15ae8",
   "metadata": {},
   "source": [
    "# Nested Functions"
   ]
  },
  {
   "cell_type": "code",
   "execution_count": 19,
   "id": "0dbe2dce",
   "metadata": {},
   "outputs": [
    {
     "name": "stdout",
     "output_type": "stream",
     "text": [
      "outer function started\n",
      "outer function calling inner funtion \n",
      "inner function execution\n"
     ]
    }
   ],
   "source": [
    "def outer():\n",
    "    print(\"outer function started\")\n",
    "    def inner():\n",
    "        print(\"inner function execution\")\n",
    "    print(\"outer function calling inner funtion \")\n",
    "    inner()\n",
    "outer()  "
   ]
  },
  {
   "cell_type": "code",
   "execution_count": 21,
   "id": "90a330ad",
   "metadata": {},
   "outputs": [
    {
     "name": "stdout",
     "output_type": "stream",
     "text": [
      "outer function started\n",
      "outer function returnning inner function\n",
      "inner function execution\n",
      "inner function execution\n",
      "inner function execution\n"
     ]
    }
   ],
   "source": [
    "def outer():\n",
    "    print(\"outer function started\")\n",
    "    def inner():\n",
    "        print(\"inner function execution\")\n",
    "    print(\"outer function returnning inner function\")   \n",
    "    return inner\n",
    "f1=outer()\n",
    "f1()\n",
    "f1()\n",
    "f1()"
   ]
  },
  {
   "cell_type": "markdown",
   "id": "6c5f0339",
   "metadata": {},
   "source": [
    "# Generators"
   ]
  },
  {
   "cell_type": "code",
   "execution_count": 24,
   "id": "4263fbb1",
   "metadata": {},
   "outputs": [
    {
     "name": "stdout",
     "output_type": "stream",
     "text": [
      "<class 'generator'>\n",
      "A\n",
      "B\n",
      "c\n"
     ]
    },
    {
     "ename": "StopIteration",
     "evalue": "",
     "output_type": "error",
     "traceback": [
      "\u001b[1;31m---------------------------------------------------------------------------\u001b[0m",
      "\u001b[1;31mStopIteration\u001b[0m                             Traceback (most recent call last)",
      "Cell \u001b[1;32mIn[24], line 11\u001b[0m\n\u001b[0;32m      9\u001b[0m \u001b[38;5;28mprint\u001b[39m(\u001b[38;5;28mnext\u001b[39m(g))\n\u001b[0;32m     10\u001b[0m \u001b[38;5;28mprint\u001b[39m(\u001b[38;5;28mnext\u001b[39m(g))\n\u001b[1;32m---> 11\u001b[0m \u001b[38;5;28mprint\u001b[39m(\u001b[38;5;28mnext\u001b[39m(g))\n",
      "\u001b[1;31mStopIteration\u001b[0m: "
     ]
    }
   ],
   "source": [
    "def mygen():\n",
    "    yield 'A'\n",
    "    yield 'B'\n",
    "    yield 'c'\n",
    "g=mygen()\n",
    "print(type(g))\n",
    "\n",
    "print(next(g))\n",
    "print(next(g))\n",
    "print(next(g))\n",
    "print(next(g))\n"
   ]
  },
  {
   "cell_type": "code",
   "execution_count": 25,
   "id": "d5707313",
   "metadata": {},
   "outputs": [
    {
     "name": "stdout",
     "output_type": "stream",
     "text": [
      "start count down\n",
      "5\n",
      "4\n",
      "3\n",
      "2\n",
      "1\n"
     ]
    }
   ],
   "source": [
    "def countdown(num):\n",
    "    print(\"start count down\")\n",
    "    while num>0:\n",
    "        yield num\n",
    "        num-=1\n",
    "values=countdown(5)\n",
    "for x in values:\n",
    "    print(x)"
   ]
  },
  {
   "cell_type": "code",
   "execution_count": 27,
   "id": "1cffd8de",
   "metadata": {},
   "outputs": [
    {
     "name": "stdout",
     "output_type": "stream",
     "text": [
      "1 2 3 4 5 6 7 8 9 10 "
     ]
    }
   ],
   "source": [
    "def firstn(num):\n",
    "    n=1\n",
    "    while n<=num:\n",
    "        yield n\n",
    "        n+=1\n",
    "values=firstn(10)\n",
    "for x in values:\n",
    "    print(x,end=' ')"
   ]
  },
  {
   "cell_type": "code",
   "execution_count": 30,
   "id": "5c3e0335",
   "metadata": {},
   "outputs": [
    {
     "name": "stdout",
     "output_type": "stream",
     "text": [
      "0 1 1 2 3 5 8 13 21 34 55 89 "
     ]
    }
   ],
   "source": [
    "def fib():\n",
    "    a=0\n",
    "    b=1\n",
    "    while True:\n",
    "        yield a\n",
    "        a,b=b,a+b\n",
    "for f in fib():\n",
    "    if f>100:\n",
    "        break\n",
    "    print(f,end=' ')"
   ]
  },
  {
   "cell_type": "markdown",
   "id": "2cdfdfb2",
   "metadata": {},
   "source": [
    "# Generators vs Normal Collections wrt performance"
   ]
  },
  {
   "cell_type": "code",
   "execution_count": 32,
   "id": "1fcee6a5",
   "metadata": {},
   "outputs": [
    {
     "ename": "AttributeError",
     "evalue": "module 'time' has no attribute 'clock'",
     "output_type": "error",
     "traceback": [
      "\u001b[1;31m---------------------------------------------------------------------------\u001b[0m",
      "\u001b[1;31mAttributeError\u001b[0m                            Traceback (most recent call last)",
      "Cell \u001b[1;32mIn[32], line 24\u001b[0m\n\u001b[0;32m     18\u001b[0m         person \u001b[38;5;241m=\u001b[39m {\n\u001b[0;32m     19\u001b[0m             \u001b[38;5;124m'\u001b[39m\u001b[38;5;124mid\u001b[39m\u001b[38;5;124m'\u001b[39m:i,\n\u001b[0;32m     20\u001b[0m             \u001b[38;5;124m'\u001b[39m\u001b[38;5;124mname\u001b[39m\u001b[38;5;124m'\u001b[39m: random\u001b[38;5;241m.\u001b[39mchoice(names),\n\u001b[0;32m     21\u001b[0m             \u001b[38;5;124m'\u001b[39m\u001b[38;5;124msubject\u001b[39m\u001b[38;5;124m'\u001b[39m:random\u001b[38;5;241m.\u001b[39mchoice(subjects)\n\u001b[0;32m     22\u001b[0m         }\n\u001b[0;32m     23\u001b[0m     \u001b[38;5;28;01myield\u001b[39;00m person\n\u001b[1;32m---> 24\u001b[0m t1\u001b[38;5;241m=\u001b[39mtime\u001b[38;5;241m.\u001b[39mclock() \n\u001b[0;32m     25\u001b[0m people \u001b[38;5;241m=\u001b[39m people_generator(\u001b[38;5;241m10000000\u001b[39m)\n\u001b[0;32m     26\u001b[0m t2\u001b[38;5;241m=\u001b[39mtime\u001b[38;5;241m.\u001b[39mclock()\n",
      "\u001b[1;31mAttributeError\u001b[0m: module 'time' has no attribute 'clock'"
     ]
    }
   ],
   "source": [
    "import random \n",
    "import time\n",
    "names = ['Ashir','Alam','Ashiq','Habib']\n",
    "subjects = ['Python','Java','Blockchain']\n",
    "def people_list(num_people):\n",
    "    result=[]\n",
    "    for i in range(num_people):\n",
    "        person = {\n",
    "            'id':i,\n",
    "            'name': random.choice(names),\n",
    "            'subject':random.choice(subjects)\n",
    "        }\n",
    "        result.append(person)\n",
    "    return result\n",
    "def people_generator(num_people):\n",
    "    \n",
    "    for i in range(num_people):\n",
    "        person = {\n",
    "            'id':i,\n",
    "            'name': random.choice(names),\n",
    "            'subject':random.choice(subjects)\n",
    "        }\n",
    "    yield person\n",
    "t1=time.clock() \n",
    "people = people_generator(10000000)\n",
    "t2=time.clock()\n",
    "print('Took {}'.format(t2-t1))\n",
    "        "
   ]
  },
  {
   "cell_type": "markdown",
   "id": "2810306f",
   "metadata": {},
   "source": [
    "# Modules"
   ]
  },
  {
   "cell_type": "markdown",
   "id": "e5dcb59b",
   "metadata": {},
   "source": [
    "# Reloading a Module:"
   ]
  },
  {
   "cell_type": "code",
   "execution_count": 1,
   "id": "2654c3ba",
   "metadata": {},
   "outputs": [
    {
     "name": "stderr",
     "output_type": "stream",
     "text": [
      "C:\\Users\\fm\\AppData\\Local\\Temp\\ipykernel_13788\\936885477.py:2: DeprecationWarning: the imp module is deprecated in favour of importlib and slated for removal in Python 3.12; see the module's documentation for alternative uses\n",
      "  from imp import reload\n"
     ]
    },
    {
     "ename": "ModuleNotFoundError",
     "evalue": "No module named 'module1'",
     "output_type": "error",
     "traceback": [
      "\u001b[1;31m---------------------------------------------------------------------------\u001b[0m",
      "\u001b[1;31mModuleNotFoundError\u001b[0m                       Traceback (most recent call last)",
      "Cell \u001b[1;32mIn[1], line 3\u001b[0m\n\u001b[0;32m      1\u001b[0m \u001b[38;5;28;01mimport\u001b[39;00m \u001b[38;5;21;01mtime\u001b[39;00m\n\u001b[0;32m      2\u001b[0m \u001b[38;5;28;01mfrom\u001b[39;00m \u001b[38;5;21;01mimp\u001b[39;00m \u001b[38;5;28;01mimport\u001b[39;00m reload\n\u001b[1;32m----> 3\u001b[0m \u001b[38;5;28;01mimport\u001b[39;00m \u001b[38;5;21;01mmodule1\u001b[39;00m\n\u001b[0;32m      4\u001b[0m time\u001b[38;5;241m.\u001b[39msleep(\u001b[38;5;241m30\u001b[39m)\n\u001b[0;32m      5\u001b[0m reload(module1)\n",
      "\u001b[1;31mModuleNotFoundError\u001b[0m: No module named 'module1'"
     ]
    }
   ],
   "source": [
    "import time\n",
    "from imp import reload\n",
    "import module1\n",
    "time.sleep(30)\n",
    "reload(module1)\n",
    "time.sleep(30)\n",
    "reload(module1)\n",
    "print(\"This is test file\")"
   ]
  },
  {
   "cell_type": "code",
   "execution_count": 2,
   "id": "37fdd438",
   "metadata": {},
   "outputs": [
    {
     "ename": "ModuleNotFoundError",
     "evalue": "No module named 'module1'",
     "output_type": "error",
     "traceback": [
      "\u001b[1;31m---------------------------------------------------------------------------\u001b[0m",
      "\u001b[1;31mModuleNotFoundError\u001b[0m                       Traceback (most recent call last)",
      "Cell \u001b[1;32mIn[2], line 1\u001b[0m\n\u001b[1;32m----> 1\u001b[0m \u001b[38;5;28;01mimport\u001b[39;00m \u001b[38;5;21;01mmodule1\u001b[39;00m\n\u001b[0;32m      2\u001b[0m \u001b[38;5;28;01mimport\u001b[39;00m \u001b[38;5;21;01mmodule1\u001b[39;00m\n\u001b[0;32m      3\u001b[0m \u001b[38;5;28;01mfrom\u001b[39;00m \u001b[38;5;21;01mimp\u001b[39;00m \u001b[38;5;28;01mimport\u001b[39;00m reload\n",
      "\u001b[1;31mModuleNotFoundError\u001b[0m: No module named 'module1'"
     ]
    }
   ],
   "source": [
    "import module1\n",
    "import module1\n",
    "from imp import reload\n",
    "reload(module1)\n",
    "reload(module1)\n",
    "reload(module1)\n",
    "print(\"This is test module\")"
   ]
  },
  {
   "cell_type": "code",
   "execution_count": 3,
   "id": "757ee2a6",
   "metadata": {},
   "outputs": [
    {
     "name": "stdout",
     "output_type": "stream",
     "text": [
      "['In', 'Out', '_', '__', '___', '__builtin__', '__builtins__', '__doc__', '__loader__', '__name__', '__package__', '__spec__', '_dh', '_i', '_i1', '_i2', '_i3', '_ih', '_ii', '_iii', '_oh', 'exit', 'get_ipython', 'open', 'quit', 'reload', 'time']\n"
     ]
    }
   ],
   "source": [
    "print(dir())"
   ]
  },
  {
   "cell_type": "code",
   "execution_count": 4,
   "id": "921ea633",
   "metadata": {},
   "outputs": [
    {
     "name": "stdout",
     "output_type": "stream",
     "text": [
      "Help on built-in module math:\n",
      "\n",
      "NAME\n",
      "    math\n",
      "\n",
      "DESCRIPTION\n",
      "    This module provides access to the mathematical functions\n",
      "    defined by the C standard.\n",
      "\n",
      "FUNCTIONS\n",
      "    acos(x, /)\n",
      "        Return the arc cosine (measured in radians) of x.\n",
      "        \n",
      "        The result is between 0 and pi.\n",
      "    \n",
      "    acosh(x, /)\n",
      "        Return the inverse hyperbolic cosine of x.\n",
      "    \n",
      "    asin(x, /)\n",
      "        Return the arc sine (measured in radians) of x.\n",
      "        \n",
      "        The result is between -pi/2 and pi/2.\n",
      "    \n",
      "    asinh(x, /)\n",
      "        Return the inverse hyperbolic sine of x.\n",
      "    \n",
      "    atan(x, /)\n",
      "        Return the arc tangent (measured in radians) of x.\n",
      "        \n",
      "        The result is between -pi/2 and pi/2.\n",
      "    \n",
      "    atan2(y, x, /)\n",
      "        Return the arc tangent (measured in radians) of y/x.\n",
      "        \n",
      "        Unlike atan(y/x), the signs of both x and y are considered.\n",
      "    \n",
      "    atanh(x, /)\n",
      "        Return the inverse hyperbolic tangent of x.\n",
      "    \n",
      "    cbrt(x, /)\n",
      "        Return the cube root of x.\n",
      "    \n",
      "    ceil(x, /)\n",
      "        Return the ceiling of x as an Integral.\n",
      "        \n",
      "        This is the smallest integer >= x.\n",
      "    \n",
      "    comb(n, k, /)\n",
      "        Number of ways to choose k items from n items without repetition and without order.\n",
      "        \n",
      "        Evaluates to n! / (k! * (n - k)!) when k <= n and evaluates\n",
      "        to zero when k > n.\n",
      "        \n",
      "        Also called the binomial coefficient because it is equivalent\n",
      "        to the coefficient of k-th term in polynomial expansion of the\n",
      "        expression (1 + x)**n.\n",
      "        \n",
      "        Raises TypeError if either of the arguments are not integers.\n",
      "        Raises ValueError if either of the arguments are negative.\n",
      "    \n",
      "    copysign(x, y, /)\n",
      "        Return a float with the magnitude (absolute value) of x but the sign of y.\n",
      "        \n",
      "        On platforms that support signed zeros, copysign(1.0, -0.0)\n",
      "        returns -1.0.\n",
      "    \n",
      "    cos(x, /)\n",
      "        Return the cosine of x (measured in radians).\n",
      "    \n",
      "    cosh(x, /)\n",
      "        Return the hyperbolic cosine of x.\n",
      "    \n",
      "    degrees(x, /)\n",
      "        Convert angle x from radians to degrees.\n",
      "    \n",
      "    dist(p, q, /)\n",
      "        Return the Euclidean distance between two points p and q.\n",
      "        \n",
      "        The points should be specified as sequences (or iterables) of\n",
      "        coordinates.  Both inputs must have the same dimension.\n",
      "        \n",
      "        Roughly equivalent to:\n",
      "            sqrt(sum((px - qx) ** 2.0 for px, qx in zip(p, q)))\n",
      "    \n",
      "    erf(x, /)\n",
      "        Error function at x.\n",
      "    \n",
      "    erfc(x, /)\n",
      "        Complementary error function at x.\n",
      "    \n",
      "    exp(x, /)\n",
      "        Return e raised to the power of x.\n",
      "    \n",
      "    exp2(x, /)\n",
      "        Return 2 raised to the power of x.\n",
      "    \n",
      "    expm1(x, /)\n",
      "        Return exp(x)-1.\n",
      "        \n",
      "        This function avoids the loss of precision involved in the direct evaluation of exp(x)-1 for small x.\n",
      "    \n",
      "    fabs(x, /)\n",
      "        Return the absolute value of the float x.\n",
      "    \n",
      "    factorial(n, /)\n",
      "        Find n!.\n",
      "        \n",
      "        Raise a ValueError if x is negative or non-integral.\n",
      "    \n",
      "    floor(x, /)\n",
      "        Return the floor of x as an Integral.\n",
      "        \n",
      "        This is the largest integer <= x.\n",
      "    \n",
      "    fmod(x, y, /)\n",
      "        Return fmod(x, y), according to platform C.\n",
      "        \n",
      "        x % y may differ.\n",
      "    \n",
      "    frexp(x, /)\n",
      "        Return the mantissa and exponent of x, as pair (m, e).\n",
      "        \n",
      "        m is a float and e is an int, such that x = m * 2.**e.\n",
      "        If x is 0, m and e are both 0.  Else 0.5 <= abs(m) < 1.0.\n",
      "    \n",
      "    fsum(seq, /)\n",
      "        Return an accurate floating point sum of values in the iterable seq.\n",
      "        \n",
      "        Assumes IEEE-754 floating point arithmetic.\n",
      "    \n",
      "    gamma(x, /)\n",
      "        Gamma function at x.\n",
      "    \n",
      "    gcd(*integers)\n",
      "        Greatest Common Divisor.\n",
      "    \n",
      "    hypot(...)\n",
      "        hypot(*coordinates) -> value\n",
      "        \n",
      "        Multidimensional Euclidean distance from the origin to a point.\n",
      "        \n",
      "        Roughly equivalent to:\n",
      "            sqrt(sum(x**2 for x in coordinates))\n",
      "        \n",
      "        For a two dimensional point (x, y), gives the hypotenuse\n",
      "        using the Pythagorean theorem:  sqrt(x*x + y*y).\n",
      "        \n",
      "        For example, the hypotenuse of a 3/4/5 right triangle is:\n",
      "        \n",
      "            >>> hypot(3.0, 4.0)\n",
      "            5.0\n",
      "    \n",
      "    isclose(a, b, *, rel_tol=1e-09, abs_tol=0.0)\n",
      "        Determine whether two floating point numbers are close in value.\n",
      "        \n",
      "          rel_tol\n",
      "            maximum difference for being considered \"close\", relative to the\n",
      "            magnitude of the input values\n",
      "          abs_tol\n",
      "            maximum difference for being considered \"close\", regardless of the\n",
      "            magnitude of the input values\n",
      "        \n",
      "        Return True if a is close in value to b, and False otherwise.\n",
      "        \n",
      "        For the values to be considered close, the difference between them\n",
      "        must be smaller than at least one of the tolerances.\n",
      "        \n",
      "        -inf, inf and NaN behave similarly to the IEEE 754 Standard.  That\n",
      "        is, NaN is not close to anything, even itself.  inf and -inf are\n",
      "        only close to themselves.\n",
      "    \n",
      "    isfinite(x, /)\n",
      "        Return True if x is neither an infinity nor a NaN, and False otherwise.\n",
      "    \n",
      "    isinf(x, /)\n",
      "        Return True if x is a positive or negative infinity, and False otherwise.\n",
      "    \n",
      "    isnan(x, /)\n",
      "        Return True if x is a NaN (not a number), and False otherwise.\n",
      "    \n",
      "    isqrt(n, /)\n",
      "        Return the integer part of the square root of the input.\n",
      "    \n",
      "    lcm(*integers)\n",
      "        Least Common Multiple.\n",
      "    \n",
      "    ldexp(x, i, /)\n",
      "        Return x * (2**i).\n",
      "        \n",
      "        This is essentially the inverse of frexp().\n",
      "    \n",
      "    lgamma(x, /)\n",
      "        Natural logarithm of absolute value of Gamma function at x.\n",
      "    \n",
      "    log(...)\n",
      "        log(x, [base=math.e])\n",
      "        Return the logarithm of x to the given base.\n",
      "        \n",
      "        If the base not specified, returns the natural logarithm (base e) of x.\n",
      "    \n",
      "    log10(x, /)\n",
      "        Return the base 10 logarithm of x.\n",
      "    \n",
      "    log1p(x, /)\n",
      "        Return the natural logarithm of 1+x (base e).\n",
      "        \n",
      "        The result is computed in a way which is accurate for x near zero.\n",
      "    \n",
      "    log2(x, /)\n",
      "        Return the base 2 logarithm of x.\n",
      "    \n",
      "    modf(x, /)\n",
      "        Return the fractional and integer parts of x.\n",
      "        \n",
      "        Both results carry the sign of x and are floats.\n",
      "    \n",
      "    nextafter(x, y, /)\n",
      "        Return the next floating-point value after x towards y.\n",
      "    \n",
      "    perm(n, k=None, /)\n",
      "        Number of ways to choose k items from n items without repetition and with order.\n",
      "        \n",
      "        Evaluates to n! / (n - k)! when k <= n and evaluates\n",
      "        to zero when k > n.\n",
      "        \n",
      "        If k is not specified or is None, then k defaults to n\n",
      "        and the function returns n!.\n",
      "        \n",
      "        Raises TypeError if either of the arguments are not integers.\n",
      "        Raises ValueError if either of the arguments are negative.\n",
      "    \n",
      "    pow(x, y, /)\n",
      "        Return x**y (x to the power of y).\n",
      "    \n",
      "    prod(iterable, /, *, start=1)\n",
      "        Calculate the product of all the elements in the input iterable.\n",
      "        \n",
      "        The default start value for the product is 1.\n",
      "        \n",
      "        When the iterable is empty, return the start value.  This function is\n",
      "        intended specifically for use with numeric values and may reject\n",
      "        non-numeric types.\n",
      "    \n",
      "    radians(x, /)\n",
      "        Convert angle x from degrees to radians.\n",
      "    \n",
      "    remainder(x, y, /)\n",
      "        Difference between x and the closest integer multiple of y.\n",
      "        \n",
      "        Return x - n*y where n*y is the closest integer multiple of y.\n",
      "        In the case where x is exactly halfway between two multiples of\n",
      "        y, the nearest even value of n is used. The result is always exact.\n",
      "    \n",
      "    sin(x, /)\n",
      "        Return the sine of x (measured in radians).\n",
      "    \n",
      "    sinh(x, /)\n",
      "        Return the hyperbolic sine of x.\n",
      "    \n",
      "    sqrt(x, /)\n",
      "        Return the square root of x.\n",
      "    \n",
      "    tan(x, /)\n",
      "        Return the tangent of x (measured in radians).\n",
      "    \n",
      "    tanh(x, /)\n",
      "        Return the hyperbolic tangent of x.\n",
      "    \n",
      "    trunc(x, /)\n",
      "        Truncates the Real x to the nearest Integral toward 0.\n",
      "        \n",
      "        Uses the __trunc__ magic method.\n",
      "    \n",
      "    ulp(x, /)\n",
      "        Return the value of the least significant bit of the float x.\n",
      "\n",
      "DATA\n",
      "    e = 2.718281828459045\n",
      "    inf = inf\n",
      "    nan = nan\n",
      "    pi = 3.141592653589793\n",
      "    tau = 6.283185307179586\n",
      "\n",
      "FILE\n",
      "    (built-in)\n",
      "\n",
      "\n"
     ]
    }
   ],
   "source": [
    "import math\n",
    "help(math)"
   ]
  },
  {
   "cell_type": "markdown",
   "id": "565f6683",
   "metadata": {},
   "source": [
    "# Working with random module:"
   ]
  },
  {
   "cell_type": "markdown",
   "id": "5e8ecf59",
   "metadata": {},
   "source": [
    "# 1. random() function:"
   ]
  },
  {
   "cell_type": "code",
   "execution_count": 5,
   "id": "4a559822",
   "metadata": {},
   "outputs": [
    {
     "name": "stdout",
     "output_type": "stream",
     "text": [
      "0.6141565453400188 :0.39605722454166725 :0.22143078753270973 :0.577648635133402 :0.9423535460996141 :0.7376900776118621 :0.4183230192753933 :0.8728831767065008 :0.8053470813623314 :0.9785013767796218 :"
     ]
    }
   ],
   "source": [
    "from random import*\n",
    "for i in range(10):\n",
    "    print(random(),end=' :')"
   ]
  },
  {
   "cell_type": "markdown",
   "id": "f0d97353",
   "metadata": {},
   "source": [
    "# 2. randint() function:"
   ]
  },
  {
   "cell_type": "code",
   "execution_count": 8,
   "id": "df8f45e0",
   "metadata": {},
   "outputs": [
    {
     "name": "stdout",
     "output_type": "stream",
     "text": [
      "2\n",
      "3\n",
      "3\n",
      "1\n",
      "1\n",
      "5\n",
      "3\n",
      "1\n",
      "3\n",
      "3\n"
     ]
    }
   ],
   "source": [
    "from random import*\n",
    "for i in range(10):\n",
    "    print(randint(1,5))"
   ]
  },
  {
   "cell_type": "markdown",
   "id": "dbacaab5",
   "metadata": {},
   "source": [
    "# 3. uniform():"
   ]
  },
  {
   "cell_type": "code",
   "execution_count": 9,
   "id": "2b7872f0",
   "metadata": {},
   "outputs": [
    {
     "name": "stdout",
     "output_type": "stream",
     "text": [
      "3.6386412053291095\n",
      "3.495416775910061\n",
      "3.9802834183323013\n",
      "4.767205487458708\n",
      "2.4453334866434013\n",
      "4.070798588005362\n",
      "3.4111721711912666\n",
      "5.211450131904877\n",
      "1.9713102633419095\n",
      "5.877556542039584\n"
     ]
    }
   ],
   "source": [
    "from random import*\n",
    "for i in range(10):\n",
    "    print(uniform(1,10))"
   ]
  },
  {
   "cell_type": "markdown",
   "id": "59e85d1f",
   "metadata": {},
   "source": [
    "# 4. randrange([start],stop,[step])"
   ]
  },
  {
   "cell_type": "code",
   "execution_count": 13,
   "id": "914ef15f",
   "metadata": {},
   "outputs": [
    {
     "name": "stdout",
     "output_type": "stream",
     "text": [
      "4 3 5 6 9 8 7 4 9 2 "
     ]
    }
   ],
   "source": [
    "from random import*\n",
    "for i in range(10):\n",
    "    print(randrange(10),end=\" \")"
   ]
  },
  {
   "cell_type": "code",
   "execution_count": 14,
   "id": "3d633d0b",
   "metadata": {},
   "outputs": [
    {
     "name": "stdout",
     "output_type": "stream",
     "text": [
      "7 5 5 5 1 5 9 1 7 9 "
     ]
    }
   ],
   "source": [
    "from random import*\n",
    "for i in range(10):\n",
    "    print(randrange(1,11,2),end=\" \")"
   ]
  },
  {
   "cell_type": "markdown",
   "id": "f8d2493b",
   "metadata": {},
   "source": [
    "# 5. choice() function:"
   ]
  },
  {
   "cell_type": "code",
   "execution_count": 15,
   "id": "7eb41ddd",
   "metadata": {},
   "outputs": [
    {
     "name": "stdout",
     "output_type": "stream",
     "text": [
      "pinny\n",
      "Chinny\n",
      "Chinny\n",
      "Vinny\n",
      "Sunny\n",
      "Vinny\n",
      "pinny\n",
      "Vinny\n",
      "pinny\n",
      "Bunny\n"
     ]
    }
   ],
   "source": [
    "from random import*\n",
    "list=[\"Sunny\",\"Bunny\",\"Chinny\",\"Vinny\",\"pinny\"]\n",
    "for i in range(10):\n",
    "    print(choice(list))\n",
    "    "
   ]
  },
  {
   "cell_type": "code",
   "execution_count": 13,
   "id": "2de5c4e5",
   "metadata": {},
   "outputs": [
    {
     "name": "stdout",
     "output_type": "stream",
     "text": [
      "1\n",
      "4\n",
      "3\n",
      "1\n",
      "1\n",
      "2\n",
      "5\n",
      "4\n",
      "3\n",
      "3\n"
     ]
    }
   ],
   "source": [
    "from random import*\n",
    "for i in range(10):\n",
    "    #seed(6)\n",
    "    print(randint(1,5))"
   ]
  },
  {
   "cell_type": "code",
   "execution_count": 14,
   "id": "de1bc5bf",
   "metadata": {},
   "outputs": [
    {
     "name": "stdout",
     "output_type": "stream",
     "text": [
      "1\n",
      "3\n",
      "4\n",
      "2\n",
      "4\n",
      "5\n",
      "5\n",
      "1\n",
      "2\n",
      "5\n"
     ]
    }
   ],
   "source": [
    "from random import*\n",
    "for i in range(10):\n",
    "    #seed(6)\n",
    "    print(randint(1,5))"
   ]
  },
  {
   "cell_type": "code",
   "execution_count": null,
   "id": "48427c11",
   "metadata": {},
   "outputs": [],
   "source": []
  }
 ],
 "metadata": {
  "kernelspec": {
   "display_name": "Python 3 (ipykernel)",
   "language": "python",
   "name": "python3"
  },
  "language_info": {
   "codemirror_mode": {
    "name": "ipython",
    "version": 3
   },
   "file_extension": ".py",
   "mimetype": "text/x-python",
   "name": "python",
   "nbconvert_exporter": "python",
   "pygments_lexer": "ipython3",
   "version": "3.11.5"
  }
 },
 "nbformat": 4,
 "nbformat_minor": 5
}
