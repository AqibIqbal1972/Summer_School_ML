{
 "cells": [
  {
   "cell_type": "markdown",
   "id": "b96514bb",
   "metadata": {},
   "source": [
    "# Functions"
   ]
  },
  {
   "cell_type": "markdown",
   "id": "4d1055c4",
   "metadata": {},
   "source": [
    "**You create a function using the 'def' keyword, followed by the function name and parentheses. Inside the parentheses, you can specify parameters (inputs) that the function can take.**"
   ]
  },
  {
   "cell_type": "code",
   "execution_count": 8,
   "id": "efe3e381",
   "metadata": {},
   "outputs": [],
   "source": [
    "def addition (a,b):\n",
    "    addition=a+b\n",
    "    subtraction=a-b\n",
    "    multiplication=a*b\n",
    "    division=a/b\n",
    "    \n",
    "    print(\"Add\",addition)\n",
    "    print(\"Subtract\",subtraction)\n",
    "    print(\"Multiplication\",multiplication)\n",
    "    print(\"Division\",division)"
   ]
  },
  {
   "cell_type": "code",
   "execution_count": 9,
   "id": "88516c1d",
   "metadata": {},
   "outputs": [
    {
     "name": "stdout",
     "output_type": "stream",
     "text": [
      "Add 7\n",
      "Subtract 3\n",
      "Multiplication 10\n",
      "Division 2.5\n"
     ]
    }
   ],
   "source": [
    "addition(5,2)"
   ]
  },
  {
   "cell_type": "code",
   "execution_count": 11,
   "id": "97220d9e",
   "metadata": {},
   "outputs": [
    {
     "name": "stdout",
     "output_type": "stream",
     "text": [
      "Add 629\n",
      "Subtract 455\n",
      "Multiplication 47154\n",
      "Division 6.2298850574712645\n"
     ]
    }
   ],
   "source": [
    "addition(542,87)"
   ]
  }
 ],
 "metadata": {
  "kernelspec": {
   "display_name": "Python 3 (ipykernel)",
   "language": "python",
   "name": "python3"
  },
  "language_info": {
   "codemirror_mode": {
    "name": "ipython",
    "version": 3
   },
   "file_extension": ".py",
   "mimetype": "text/x-python",
   "name": "python",
   "nbconvert_exporter": "python",
   "pygments_lexer": "ipython3",
   "version": "3.10.9"
  }
 },
 "nbformat": 4,
 "nbformat_minor": 5
}
