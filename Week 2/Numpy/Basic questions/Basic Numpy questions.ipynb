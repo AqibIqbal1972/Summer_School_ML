{
 "cells": [
  {
   "cell_type": "markdown",
   "id": "8d17abef",
   "metadata": {},
   "source": [
    "## NumPy Interview Questions"
   ]
  },
  {
   "cell_type": "markdown",
   "id": "c6ab08c0",
   "metadata": {},
   "source": [
    "### 1. What is NumPy, and how is it different from Python List?\n"
   ]
  },
  {
   "cell_type": "markdown",
   "id": "f7f72f14",
   "metadata": {},
   "source": [
    "### NumPy vs. Python Lists\n",
    "\n",
    "NumPy is a powerful numerical computing library in Python. It provides support for large, multi-dimensional arrays and matrices, along with mathematical functions to operate on these arrays. NumPy is a fundamental package for scientific computing in Python, and many other libraries, such as pandas and scikit-learn, are built on top of it.\n",
    "\n",
    "**Here are some key differences between NumPy arrays and Python lists:**\n",
    "\n",
    "**1. Homogeneity:**\n",
    "\n",
    "    NumPy arrays are homogeneous, meaning that all elements of an array must be of the same data type. This allows for more efficient storage and computation. Python lists can contain elements of different data types.\n",
    "\n",
    "**2. Size:**\n",
    "\n",
    "    NumPy arrays are more compact in memory compared to Python lists. This is because NumPy arrays are implemented in C and allow for more efficient storage of data. Python lists have more overhead and are generally less memory-efficient.\n",
    "\n",
    "**3. Performance:**\n",
    "\n",
    "    NumPy operations are implemented in C, which makes them much faster than equivalent operations on Python lists, especially for large datasets. NumPy provides a wide range of efficient functions for array operations, such as element-wise operations, linear algebra, and statistical operations.\n",
    "\n",
    "**4. Functionality:**\n",
    "\n",
    "    NumPy provides a variety of functions for performing operations on arrays, such as element-wise operations, linear algebra, statistical operations, and more. While Python lists have some built-in functions, NumPy provides a more extensive set of tools specifically designed for numerical operations.\n",
    "\n",
    "**5. Syntax:**\n",
    "\n",
    "    NumPy arrays support vectorized operations, which means that operations can be performed on entire arrays without the need for explicit loops. This leads to more concise and readable code. In Python lists, you often need to use explicit loops for element-wise operations.\n",
    "\n",
    "\n"
   ]
  },
  {
   "cell_type": "code",
   "execution_count": 1,
   "id": "11b91966",
   "metadata": {},
   "outputs": [
    {
     "name": "stdout",
     "output_type": "stream",
     "text": [
      "Sum_Python_list - [1, 2, 3, 4, 5, 6]\n",
      "Numpy_list_sum - [5 7 9]\n"
     ]
    }
   ],
   "source": [
    " # Using Python lists\n",
    "python_list1 = [1, 2, 3]\n",
    "python_list2 = [4, 5, 6]\n",
    "sum_python_lists = python_list1 + python_list2 # Concatenation, not element-wise\n",
    "\n",
    "print('Sum_Python_list -',sum_python_lists)\n",
    "\n",
    "# Using NumPy arrays\n",
    "import numpy as np\n",
    "numpy_array1 = np.array([1, 2, 3])\n",
    "numpy_array2 = np.array([4, 5, 6])\n",
    "sum_numpy_arrays = numpy_array1 + numpy_array2 # Element-wise addition\n",
    "print('Numpy_list_sum -',sum_numpy_arrays)"
   ]
  },
  {
   "cell_type": "markdown",
   "id": "69660ad7",
   "metadata": {},
   "source": [
    "In the NumPy example, the addition is performed element-wise, which is a fundamental\n",
    "concept in numerical computing. In contrast, the Python list example concatenates the two\n",
    "lists without performing element-wise addition."
   ]
  },
  {
   "cell_type": "markdown",
   "id": "c9bd2e3b",
   "metadata": {},
   "source": [
    "### 2.Explain the concept of Broadcasting in NumPy?"
   ]
  },
  {
   "cell_type": "markdown",
   "id": "070352a6",
   "metadata": {},
   "source": [
    "### Broadcasting in NumPy\n",
    "\n",
    "Broadcasting is a powerful feature in NumPy that allows you to perform operations on arrays of different shapes and sizes. The term \"broadcasting\" refers to how NumPy treats arrays with different shapes during arithmetic operations. The smaller array is \"broadcast\" across the larger array so that they have compatible shapes.\n",
    "\n",
    "**The broadcasting rule in NumPy is as follows:**\n",
    "\n",
    "1. If the arrays do not have the same rank (number of dimensions), pad the smaller shape with ones on its left side.\n",
    "2. Compare the sizes of the corresponding dimensions:\n",
    "    - If the sizes of the dimensions are different, but one of them is 1, then the arrays are compatible for broadcasting.\n",
    "    - If the sizes in a dimension are neither equal nor one, broadcasting is not possible, and a ValueError is raised.\n",
    "3. After broadcasting, each array behaves as if its shape was the element-wise maximum of both shapes.\n",
    "\n",
    "\n"
   ]
  },
  {
   "cell_type": "code",
   "execution_count": 2,
   "id": "9dc56796",
   "metadata": {},
   "outputs": [
    {
     "data": {
      "text/plain": [
       "array([6, 7, 8])"
      ]
     },
     "execution_count": 2,
     "metadata": {},
     "output_type": "execute_result"
    }
   ],
   "source": [
    "import numpy as np\n",
    "# Example 1: Broadcasting a scalar to an array\n",
    "scalar_value = 5\n",
    "array = np.array([1, 2, 3])\n",
    "result = scalar_value + array\n",
    "# The scalar is broadcasted to the shape of the array, resulting in [6, 7, 8]\n",
    "result"
   ]
  },
  {
   "cell_type": "code",
   "execution_count": 3,
   "id": "bc0c6bc1",
   "metadata": {},
   "outputs": [
    {
     "data": {
      "text/plain": [
       "array([[ 5,  7,  9],\n",
       "       [ 8, 10, 12]])"
      ]
     },
     "execution_count": 3,
     "metadata": {},
     "output_type": "execute_result"
    }
   ],
   "source": [
    "# Example 2: Broadcasting a 1D array to a 2D array\n",
    "array_1d = np.array([1, 2, 3])\n",
    "array_2d = np.array([[4, 5, 6], [7, 8, 9]])\n",
    "result = array_1d + array_2d\n",
    "# The 1D array is broadcasted along the second dimension of the 2D array,\n",
    "# resulting in [[5, 7, 9], [8, 10, 12]]\n",
    "result"
   ]
  },
  {
   "cell_type": "code",
   "execution_count": 4,
   "id": "558c4574",
   "metadata": {},
   "outputs": [
    {
     "data": {
      "text/plain": [
       "array([[5, 6, 7],\n",
       "       [6, 7, 8],\n",
       "       [7, 8, 9]])"
      ]
     },
     "execution_count": 4,
     "metadata": {},
     "output_type": "execute_result"
    }
   ],
   "source": [
    "# Example 3: Broadcasting both arrays\n",
    "array_a = np.array([[1], [2], [3]])\n",
    "array_b = np.array([4, 5, 6])\n",
    "result = array_a + array_b\n",
    "# Both arrays are broadcasted, resulting in [[5, 6, 7], [6, 7, 8], [7, 8, 9]]\n",
    "result"
   ]
  },
  {
   "cell_type": "markdown",
   "id": "b57ccb0a",
   "metadata": {},
   "source": [
    "In these examples, the smaller array or scalar is broadcasted to match the shape of the larger\n",
    "array, and the element-wise operation is then performed. This broadcasting mechanism\n",
    "allows for more concise and readable code when working with arrays of different shapes,\n",
    "making NumPy operations more flexible."
   ]
  },
  {
   "cell_type": "markdown",
   "id": "95573119",
   "metadata": {},
   "source": [
    "### 3.How do you perform Element wise addition of two NumPy arrays?"
   ]
  },
  {
   "cell_type": "markdown",
   "id": "14907b1b",
   "metadata": {},
   "source": [
    "Performing element-wise addition of two NumPy arrays is straightforward. You can use the +\n",
    "operator, and NumPy will handle the element-wise addition automatically. Here's an\n",
    "example:"
   ]
  },
  {
   "cell_type": "code",
   "execution_count": 5,
   "id": "b67b15f0",
   "metadata": {},
   "outputs": [
    {
     "name": "stdout",
     "output_type": "stream",
     "text": [
      "[5 7 9]\n"
     ]
    }
   ],
   "source": [
    "import numpy as np\n",
    "# Create two NumPy arrays\n",
    "array1 = np.array([1, 2, 3])\n",
    "array2 = np.array([4, 5, 6])\n",
    "# Perform element-wise addition\n",
    "result_array = array1 + array2\n",
    "# Display the result\n",
    "print(result_array)"
   ]
  },
  {
   "cell_type": "markdown",
   "id": "0901704e",
   "metadata": {},
   "source": [
    "In this example, array1 + array2 performs element-wise addition, resulting in a new NumPy\n",
    "array [5, 7, 9]. NumPy takes care of broadcasting if the arrays have different shapes but are\n",
    "still compatible according to the broadcasting rules.\n",
    "You can perform element-wise addition, subtraction, multiplication, and division using the\n",
    "standard arithmetic operators (+, -, *, /). NumPy will apply these operations element-wise to\n",
    "the corresponding elements of the arrays."
   ]
  },
  {
   "cell_type": "code",
   "execution_count": 6,
   "id": "471e3791",
   "metadata": {},
   "outputs": [
    {
     "name": "stdout",
     "output_type": "stream",
     "text": [
      "Addition: [5 7 9]\n",
      "Subtraction: [-3 -3 -3]\n",
      "Multiplication: [ 4 10 18]\n",
      "Division: [0.25 0.4  0.5 ]\n"
     ]
    }
   ],
   "source": [
    "import numpy as np\n",
    "# Create two NumPy arrays\n",
    "array1 = np.array([1, 2, 3])\n",
    "array2 = np.array([4, 5, 6])\n",
    "# Element-wise operations\n",
    "result_addition = array1 + array2 # Element-wise addition\n",
    "result_subtraction = array1 - array2 # Element-wise subtraction\n",
    "result_multiplication = array1 * array2 # Element-wise multiplication\n",
    "result_division = array1 / array2 # Element-wise division\n",
    "# Display the results\n",
    "print(\"Addition:\", result_addition)\n",
    "print(\"Subtraction:\", result_subtraction)\n",
    "print(\"Multiplication:\", result_multiplication)\n",
    "print(\"Division:\", result_division)"
   ]
  },
  {
   "cell_type": "markdown",
   "id": "44505a4a",
   "metadata": {},
   "source": [
    "### 4.What is the purpose of the np.mean() function in NumPy?"
   ]
  },
  {
   "cell_type": "markdown",
   "id": "550a3fde",
   "metadata": {},
   "source": [
    "The np.mean() function in NumPy is used to compute the arithmetic mean, or average, of\n",
    "elements along a specified axis or of the entire array. The mean is calculated by summing up\n",
    "all the elements and dividing the sum by the total number of elements."
   ]
  },
  {
   "cell_type": "code",
   "execution_count": 7,
   "id": "f20d8aa3",
   "metadata": {},
   "outputs": [
    {
     "name": "stdout",
     "output_type": "stream",
     "text": [
      "Mean: 3.0\n"
     ]
    }
   ],
   "source": [
    "import numpy as np\n",
    "# Create a NumPy array\n",
    "arr = np.array([1, 2, 3, 4, 5])\n",
    "# Calculate the mean of the array\n",
    "mean_value = np.mean(arr)\n",
    "print(\"Mean:\", mean_value)"
   ]
  },
  {
   "cell_type": "markdown",
   "id": "03866c6d",
   "metadata": {},
   "source": [
    "In this example, np.mean(arr) will calculate the mean of the elements [1, 2, 3, 4, 5], which is\n",
    "(1 + 2 + 3 + 4 + 5) / 5 = 3.0."
   ]
  },
  {
   "cell_type": "markdown",
   "id": "178f163e",
   "metadata": {},
   "source": [
    "### 5. How do you reshape a NumPy Arrays?"
   ]
  },
  {
   "cell_type": "markdown",
   "id": "3b108647",
   "metadata": {},
   "source": [
    "You can reshape a NumPy array using the reshape() function. Reshaping means changing the\n",
    "shape (dimensions) of the array while keeping the total number of elements the same. The\n",
    "reshape() function takes the desired shape as an argument"
   ]
  },
  {
   "cell_type": "code",
   "execution_count": 8,
   "id": "90a2b2b0",
   "metadata": {},
   "outputs": [
    {
     "name": "stdout",
     "output_type": "stream",
     "text": [
      "Original array:\n",
      "[1 2 3 4 5 6]\n",
      "\n",
      "Reshaped array:\n",
      "[[1 2 3]\n",
      " [4 5 6]]\n"
     ]
    }
   ],
   "source": [
    "import numpy as np\n",
    "# Create a NumPy array\n",
    "original_array = np.array([1, 2, 3, 4, 5, 6])\n",
    "# Reshape the array to a 2x3 matrix\n",
    "reshaped_array = original_array.reshape(2, 3)\n",
    "print(\"Original array:\")\n",
    "print(original_array)\n",
    "print(\"\\nReshaped array:\")\n",
    "print(reshaped_array)\n"
   ]
  },
  {
   "cell_type": "markdown",
   "id": "361644ee",
   "metadata": {},
   "source": [
    "in this example, original_array is reshaped into a 2x3 matrix using reshape(2, 3)"
   ]
  },
  {
   "cell_type": "markdown",
   "id": "92de16f3",
   "metadata": {},
   "source": [
    "# NumPy Interview Questions(part-2)"
   ]
  },
  {
   "cell_type": "markdown",
   "id": "317b1572",
   "metadata": {},
   "source": [
    "### 1. Explain the use of NumPy's random module for generating random Numbers"
   ]
  },
  {
   "cell_type": "markdown",
   "id": "01d653ca",
   "metadata": {},
   "source": [
    "NumPy's random module provides a suite of functions for generating random numbers,\n",
    "which is useful for various applications such as simulations, statistical modeling, and\n",
    "machine learning. The random module is a sub-module of NumPy, and it offers a wide\n",
    "range of functions to generate random numbers with different distributions.\n",
    "Here are some key functions and concepts related to NumPy's random module"
   ]
  },
  {
   "cell_type": "markdown",
   "id": "40871716",
   "metadata": {},
   "source": [
    "### 1. Simple Random Data:"
   ]
  },
  {
   "cell_type": "markdown",
   "id": "aaf94ebb",
   "metadata": {},
   "source": [
    "NumPy provides functions to generate arrays of random data with a uniform\n",
    "distribution."
   ]
  },
  {
   "cell_type": "code",
   "execution_count": 9,
   "id": "ccdf402d",
   "metadata": {},
   "outputs": [
    {
     "data": {
      "text/plain": [
       "array([0.59693172, 0.11538563, 0.68262785, 0.00887036, 0.14212477])"
      ]
     },
     "execution_count": 9,
     "metadata": {},
     "output_type": "execute_result"
    }
   ],
   "source": [
    "import numpy as np\n",
    "# Generate random floats in the half-open interval [0.0, 1.0)\n",
    "random_numbers = np.random.random(size=5)\n",
    "random_numbers"
   ]
  },
  {
   "cell_type": "markdown",
   "id": "ffcc596b",
   "metadata": {},
   "source": [
    "### 2. Random Integers:"
   ]
  },
  {
   "cell_type": "markdown",
   "id": "928bdfae",
   "metadata": {},
   "source": [
    "You can generate random integers within a specified range."
   ]
  },
  {
   "cell_type": "code",
   "execution_count": 10,
   "id": "eb8213e3",
   "metadata": {},
   "outputs": [
    {
     "data": {
      "text/plain": [
       "array([8, 2, 8, 5, 6])"
      ]
     },
     "execution_count": 10,
     "metadata": {},
     "output_type": "execute_result"
    }
   ],
   "source": [
    "# Generate random integers in the half-open interval [low, high)\n",
    "random_integers = np.random.randint(low=1, high=10, size=5)\n",
    "random_integers"
   ]
  },
  {
   "cell_type": "markdown",
   "id": "78804673",
   "metadata": {},
   "source": [
    "### 3. Random Sampling:\n"
   ]
  },
  {
   "cell_type": "markdown",
   "id": "3d7172ca",
   "metadata": {},
   "source": [
    "Functions like choice allow you to sample from a given array"
   ]
  },
  {
   "cell_type": "code",
   "execution_count": 11,
   "id": "7483ef46",
   "metadata": {},
   "outputs": [
    {
     "data": {
      "text/plain": [
       "array(['c', 'b', 'a', 'b', 'a'], dtype='<U1')"
      ]
     },
     "execution_count": 11,
     "metadata": {},
     "output_type": "execute_result"
    }
   ],
   "source": [
    "# Randomly sample from a given array\n",
    "choices = np.random.choice(['a', 'b', 'c'], size=5)\n",
    "choices\n"
   ]
  },
  {
   "cell_type": "markdown",
   "id": "81d3f8bd",
   "metadata": {},
   "source": [
    "### 4. Permutations:\n",
    "NumPy can be used to generate random permutations."
   ]
  },
  {
   "cell_type": "code",
   "execution_count": 12,
   "id": "f063deb1",
   "metadata": {},
   "outputs": [
    {
     "data": {
      "text/plain": [
       "array([1, 4, 2, 5, 3])"
      ]
     },
     "execution_count": 12,
     "metadata": {},
     "output_type": "execute_result"
    }
   ],
   "source": [
    "# Randomly permute a sequence\n",
    "permutation = np.random.permutation([1, 2, 3, 4, 5])\n",
    "permutation"
   ]
  },
  {
   "cell_type": "code",
   "execution_count": 13,
   "id": "591e7e98",
   "metadata": {},
   "outputs": [],
   "source": [
    "### 5. Distributions:"
   ]
  },
  {
   "cell_type": "markdown",
   "id": "afa2844b",
   "metadata": {},
   "source": [
    "NumPy's random module supports various probability distributions such as normal,\n",
    "binomial, exponential, etc."
   ]
  },
  {
   "cell_type": "code",
   "execution_count": 14,
   "id": "f3b1e73a",
   "metadata": {},
   "outputs": [
    {
     "data": {
      "text/plain": [
       "array([ 1.32205027, -0.18441429, -0.62309907,  0.85263059,  0.40550445])"
      ]
     },
     "execution_count": 14,
     "metadata": {},
     "output_type": "execute_result"
    }
   ],
   "source": [
    "# Generate random numbers from a normal distribution\n",
    "normal_distribution = np.random.normal(loc=0, scale=1, size=5)\n",
    "normal_distribution\n"
   ]
  },
  {
   "cell_type": "markdown",
   "id": "653dc124",
   "metadata": {},
   "source": [
    "These functions provide flexibility in generating random data according to different needs,\n",
    "and they are crucial tools for various statistical and numerical simulations. The ability to set a\n",
    "seed is especially useful when reproducibility is important, allowing you to recreate the same\n",
    "set of random numbers for debugging or sharing code with others"
   ]
  },
  {
   "cell_type": "markdown",
   "id": "963b15ad",
   "metadata": {},
   "source": [
    "### 2. How can you find the maximum and minimum values in a NumPy Array?\n"
   ]
  },
  {
   "cell_type": "markdown",
   "id": "d146c6dc",
   "metadata": {},
   "source": [
    "In NumPy, you can find the maximum and minimum values in an array using the np.max()\n",
    "and np.min() functions, respectively. These functions offer flexibility in finding the\n",
    "maximum and minimum values across different axes or the entire array.\n",
    "Here are the basic usages:"
   ]
  },
  {
   "cell_type": "markdown",
   "id": "d5125383",
   "metadata": {},
   "source": [
    "### Finding the Maximum and Minimum in the Entire Array:\n"
   ]
  },
  {
   "cell_type": "code",
   "execution_count": 15,
   "id": "39f54c13",
   "metadata": {},
   "outputs": [
    {
     "name": "stdout",
     "output_type": "stream",
     "text": [
      "Maximum Value: 8\n",
      "Minimum Value: 1\n"
     ]
    }
   ],
   "source": [
    "import numpy as np\n",
    "# Create a NumPy array\n",
    "arr = np.array([1, 5, 3, 8, 2])\n",
    "# Find the maximum and minimum values\n",
    "max_value = np.max(arr)\n",
    "min_value = np.min(arr)\n",
    "print(\"Maximum Value:\", max_value)\n",
    "print(\"Minimum Value:\", min_value)"
   ]
  },
  {
   "cell_type": "markdown",
   "id": "60ae27ae",
   "metadata": {},
   "source": [
    "### 3.How do you convert Pandas DataFrame to a NumPy array?\n",
    "\n",
    "The to_numpy() method of the NumPy package can be used to convert Pandas DataFrame,\n",
    "Index and Series objects.\n",
    "\n",
    "Consider we have a DataFrame df, we can either convert the whole Pandas DataFrame df to\n",
    "NumPy array or even select a subset of Pandas DataFrame to NumPy array by using the\n",
    "to_numpy() method as shown in the example below:"
   ]
  },
  {
   "cell_type": "code",
   "execution_count": 16,
   "id": "cb6c10e2",
   "metadata": {},
   "outputs": [
    {
     "name": "stdout",
     "output_type": "stream",
     "text": [
      "Pandas DataFrame: \n",
      "   A  B  C\n",
      "i  3  6  9\n",
      "j  2  5  8\n",
      "k  1  4  7\n",
      "Pandas DataFrame to NumPy array: \n",
      "[[3 6 9]\n",
      " [2 5 8]\n",
      " [1 4 7]]\n",
      "Convert B and C columns of Pandas DataFrame to NumPy Array: \n",
      "[[6 9]\n",
      " [5 8]\n",
      " [4 7]]\n"
     ]
    }
   ],
   "source": [
    "import pandas as pd\n",
    "import numpy as np\n",
    "# Pandas DataFrame\n",
    "df = pd.DataFrame(data={'A': [3, 2, 1], 'B': [6,5,4], 'C': [9, 8, 7]},\n",
    " index=['i', 'j', 'k'])\n",
    "print(\"Pandas DataFrame: \")\n",
    "print(df)\n",
    "# Convert Pandas DataFrame to NumPy Array\n",
    "np_arr = df.to_numpy()\n",
    "print(\"Pandas DataFrame to NumPy array: \")\n",
    "print(np_arr)\n",
    "# Convert specific columns of Pandas DataFrame to NumPy array\n",
    "arr = df[['B', 'C']].to_numpy()\n",
    "print(\"Convert B and C columns of Pandas DataFrame to NumPy Array: \")\n",
    "print (arr)"
   ]
  },
  {
   "cell_type": "markdown",
   "id": "e6e7728c",
   "metadata": {},
   "source": [
    "### 4.How is vstack() different from hstack() in NumPy?"
   ]
  },
  {
   "cell_type": "markdown",
   "id": "9ee9d841",
   "metadata": {},
   "source": [
    "Both methods are used for combining the NumPy arrays. The main difference is that the\n",
    "hstack method combines arrays horizontally whereas the vstack method combines arrays\n",
    "vertically. For example, consider the below code.\n"
   ]
  },
  {
   "cell_type": "code",
   "execution_count": 17,
   "id": "aa326a7e",
   "metadata": {},
   "outputs": [
    {
     "name": "stdout",
     "output_type": "stream",
     "text": [
      "After vstack: \n",
      " [[1 2 3]\n",
      " [4 5 6]]\n",
      "After hstack: \n",
      " [1 2 3 4 5 6]\n"
     ]
    }
   ],
   "source": [
    "import numpy as np\n",
    "a = np.array([1,2,3])\n",
    "b = np.array([4,5,6])\n",
    "# vstack arrays\n",
    "c = np.vstack((a,b))\n",
    "print(\"After vstack: \\n\",c)\n",
    "# hstack arrays\n",
    "d = np.hstack((a,b))\n",
    "print(\"After hstack: \\n\",d)\n"
   ]
  }
 ],
 "metadata": {
  "kernelspec": {
   "display_name": "Python 3 (ipykernel)",
   "language": "python",
   "name": "python3"
  },
  "language_info": {
   "codemirror_mode": {
    "name": "ipython",
    "version": 3
   },
   "file_extension": ".py",
   "mimetype": "text/x-python",
   "name": "python",
   "nbconvert_exporter": "python",
   "pygments_lexer": "ipython3",
   "version": "3.10.9"
  }
 },
 "nbformat": 4,
 "nbformat_minor": 5
}
