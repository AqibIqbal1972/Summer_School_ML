{
 "cells": [
  {
   "cell_type": "markdown",
   "id": "79e5efcd",
   "metadata": {},
   "source": [
    "# Run all these codes (Visualization Week 3)"
   ]
  },
  {
   "cell_type": "code",
   "execution_count": null,
   "id": "5d4001eb",
   "metadata": {},
   "outputs": [],
   "source": []
  },
  {
   "cell_type": "markdown",
   "id": "b986b280",
   "metadata": {},
   "source": [
    "# Visualization with the help of Pandas Plot Function"
   ]
  },
  {
   "cell_type": "markdown",
   "id": "c97e815c",
   "metadata": {},
   "source": [
    "Pandas is a popular Python library for data manipulation and analysis, and it provides a convenient way to create basic visualizations using its built-in plot function. The plot function is primarily used for creating simple plots and charts directly from PandasDataFrame and Series objects, without the need for importing additional libraries like Matplotlib. It's a quick and easy way to explore your data visually. Here's how you can use the *plot* function to create various types of visualizations"
   ]
  },
  {
   "cell_type": "markdown",
   "id": "b5909726",
   "metadata": {},
   "source": [
    "## 1. Line Plot"
   ]
  },
  {
   "cell_type": "code",
   "execution_count": null,
   "id": "b879dea1",
   "metadata": {},
   "outputs": [],
   "source": [
    "import pandas as pd\n",
    "# Create a DataFrame\n",
    "data = {'Year': [2010, 2011, 2012, 2013, 2014],\n",
    "        'Sales': [100, 120, 150, 200, 180]}\n",
    "df = pd.DataFrame(data)\n",
    "# Create a line plot\n",
    "df.plot(x='Year', y='Sales', title='Sales Over Time')\n"
   ]
  },
  {
   "cell_type": "markdown",
   "id": "800030ba",
   "metadata": {},
   "source": [
    "## 2. Bar Plot:"
   ]
  },
  {
   "cell_type": "code",
   "execution_count": null,
   "id": "3cc4ff58",
   "metadata": {},
   "outputs": [],
   "source": [
    "import pandas as pd\n",
    "# Create a DataFrame\n",
    "data = {'City': ['New York', 'Los Angeles', 'Chicago', 'Houston'],\n",
    "        'Population': [8398748, 3980408, 2716000, 2326006]}\n",
    "df = pd.DataFrame(data)\n",
    "# Create a bar plot\n",
    "df.plot(x='City', y='Population', kind='bar', title='Population by City')"
   ]
  },
  {
   "cell_type": "markdown",
   "id": "5c60de8a",
   "metadata": {},
   "source": [
    "## 3. Histogram:"
   ]
  },
  {
   "cell_type": "code",
   "execution_count": null,
   "id": "5312df87",
   "metadata": {},
   "outputs": [],
   "source": [
    "import pandas as pd\n",
    "# Create a DataFrame\n",
    "data = {'Age': [25, 30, 35, 40, 45, 50, 55, 60, 65, 70, 75, 80]}\n",
    "df = pd.DataFrame(data)\n",
    "# Create a histogram\n",
    "df.plot(y='Age', kind='hist', bins=5, title='Age Distribution')"
   ]
  },
  {
   "cell_type": "markdown",
   "id": "52d584ec",
   "metadata": {},
   "source": [
    "## 4. Scatter Plot:"
   ]
  },
  {
   "cell_type": "code",
   "execution_count": null,
   "id": "5e8e8576",
   "metadata": {},
   "outputs": [],
   "source": [
    "import pandas as pd\n",
    "# Create a DataFrame\n",
    "data = {'X': [1, 2, 3, 4, 5],\n",
    "        'Y': [2, 4, 1, 3, 5]}\n",
    "df = pd.DataFrame(data)\n",
    "# Create a scatter plot\n",
    "df.plot(x='X', y='Y', kind='scatter', title='Scatter Plot')"
   ]
  },
  {
   "cell_type": "markdown",
   "id": "d9c0120e",
   "metadata": {},
   "source": [
    "## 5. Pie Chart:"
   ]
  },
  {
   "cell_type": "code",
   "execution_count": null,
   "id": "1f740468",
   "metadata": {},
   "outputs": [],
   "source": [
    "import pandas as pd\n",
    "# Create a DataFrame\n",
    "data = {'Category': ['A', 'B', 'C', 'D'],\n",
    "        'Value': [30, 40, 20, 10]}\n",
    "df = pd.DataFrame(data)\n",
    "# Create a pie chart\n",
    "df.plot(y='Value', kind='pie', labels=df['Category'], autopct='%1.1f%%', title='Category Distribution')"
   ]
  }
 ],
 "metadata": {
  "kernelspec": {
   "display_name": "Python 3 (ipykernel)",
   "language": "python",
   "name": "python3"
  },
  "language_info": {
   "codemirror_mode": {
    "name": "ipython",
    "version": 3
   },
   "file_extension": ".py",
   "mimetype": "text/x-python",
   "name": "python",
   "nbconvert_exporter": "python",
   "pygments_lexer": "ipython3",
   "version": "3.10.9"
  }
 },
 "nbformat": 4,
 "nbformat_minor": 5
}
