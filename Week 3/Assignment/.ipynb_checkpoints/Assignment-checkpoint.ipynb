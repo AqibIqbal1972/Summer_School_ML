{
 "cells": [
  {
   "cell_type": "markdown",
   "id": "ac067e3f",
   "metadata": {},
   "source": [
    "**Perform the following on the given dataset. MD.csv**\n",
    "\n",
    "    **Make any 5 meaningful graphs of your own choice**\n",
    "    **Add legends to each graph**\n",
    "    **Give title, X and Y labels**\n",
    "    **Explain each of your graph.**\n",
    "    **Use both seaborn and matplotlib in your plots. (Don't skip a library)**"
   ]
  }
 ],
 "metadata": {
  "kernelspec": {
   "display_name": "Python 3 (ipykernel)",
   "language": "python",
   "name": "python3"
  },
  "language_info": {
   "codemirror_mode": {
    "name": "ipython",
    "version": 3
   },
   "file_extension": ".py",
   "mimetype": "text/x-python",
   "name": "python",
   "nbconvert_exporter": "python",
   "pygments_lexer": "ipython3",
   "version": "3.10.9"
  }
 },
 "nbformat": 4,
 "nbformat_minor": 5
}
