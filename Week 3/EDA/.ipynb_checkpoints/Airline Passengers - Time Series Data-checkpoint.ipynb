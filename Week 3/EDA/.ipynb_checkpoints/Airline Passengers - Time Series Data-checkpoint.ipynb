{
 "cells": [
  {
   "cell_type": "code",
   "execution_count": 1,
   "id": "66188fb9",
   "metadata": {},
   "outputs": [],
   "source": [
    "import pandas as pd\n",
    "import plotly.express as px"
   ]
  },
  {
   "cell_type": "code",
   "execution_count": 2,
   "id": "be185932",
   "metadata": {},
   "outputs": [],
   "source": [
    "data = pd.read_csv(\"https://raw.githubusercontent.com/jbrownlee/Datasets/master/airline-passengers.csv\")"
   ]
  },
  {
   "cell_type": "code",
   "execution_count": 3,
   "id": "d6aaca0d",
   "metadata": {},
   "outputs": [
    {
     "data": {
      "text/html": [
       "<div>\n",
       "<style scoped>\n",
       "    .dataframe tbody tr th:only-of-type {\n",
       "        vertical-align: middle;\n",
       "    }\n",
       "\n",
       "    .dataframe tbody tr th {\n",
       "        vertical-align: top;\n",
       "    }\n",
       "\n",
       "    .dataframe thead th {\n",
       "        text-align: right;\n",
       "    }\n",
       "</style>\n",
       "<table border=\"1\" class=\"dataframe\">\n",
       "  <thead>\n",
       "    <tr style=\"text-align: right;\">\n",
       "      <th></th>\n",
       "      <th>Month</th>\n",
       "      <th>Passengers</th>\n",
       "    </tr>\n",
       "  </thead>\n",
       "  <tbody>\n",
       "    <tr>\n",
       "      <th>0</th>\n",
       "      <td>1949-01</td>\n",
       "      <td>112</td>\n",
       "    </tr>\n",
       "    <tr>\n",
       "      <th>1</th>\n",
       "      <td>1949-02</td>\n",
       "      <td>118</td>\n",
       "    </tr>\n",
       "    <tr>\n",
       "      <th>2</th>\n",
       "      <td>1949-03</td>\n",
       "      <td>132</td>\n",
       "    </tr>\n",
       "    <tr>\n",
       "      <th>3</th>\n",
       "      <td>1949-04</td>\n",
       "      <td>129</td>\n",
       "    </tr>\n",
       "    <tr>\n",
       "      <th>4</th>\n",
       "      <td>1949-05</td>\n",
       "      <td>121</td>\n",
       "    </tr>\n",
       "  </tbody>\n",
       "</table>\n",
       "</div>"
      ],
      "text/plain": [
       "     Month  Passengers\n",
       "0  1949-01         112\n",
       "1  1949-02         118\n",
       "2  1949-03         132\n",
       "3  1949-04         129\n",
       "4  1949-05         121"
      ]
     },
     "execution_count": 3,
     "metadata": {},
     "output_type": "execute_result"
    }
   ],
   "source": [
    "data.head()"
   ]
  },
  {
   "cell_type": "markdown",
   "id": "09efe495",
   "metadata": {},
   "source": [
    "### Shape of Data"
   ]
  },
  {
   "cell_type": "code",
   "execution_count": 4,
   "id": "98273ba7",
   "metadata": {},
   "outputs": [
    {
     "data": {
      "text/plain": [
       "(144, 2)"
      ]
     },
     "execution_count": 4,
     "metadata": {},
     "output_type": "execute_result"
    }
   ],
   "source": [
    "data.shape"
   ]
  },
  {
   "cell_type": "markdown",
   "id": "2080cf19",
   "metadata": {},
   "source": [
    "### Basic information about the dataset and data types"
   ]
  },
  {
   "cell_type": "code",
   "execution_count": 5,
   "id": "2d5ade5d",
   "metadata": {
    "scrolled": true
   },
   "outputs": [
    {
     "name": "stdout",
     "output_type": "stream",
     "text": [
      "<class 'pandas.core.frame.DataFrame'>\n",
      "RangeIndex: 144 entries, 0 to 143\n",
      "Data columns (total 2 columns):\n",
      " #   Column      Non-Null Count  Dtype \n",
      "---  ------      --------------  ----- \n",
      " 0   Month       144 non-null    object\n",
      " 1   Passengers  144 non-null    int64 \n",
      "dtypes: int64(1), object(1)\n",
      "memory usage: 2.4+ KB\n"
     ]
    }
   ],
   "source": [
    "data.info()"
   ]
  },
  {
   "cell_type": "markdown",
   "id": "309c7153",
   "metadata": {},
   "source": [
    "## Change the datatype"
   ]
  },
  {
   "cell_type": "code",
   "execution_count": 6,
   "id": "beef235b",
   "metadata": {},
   "outputs": [],
   "source": [
    "data['Month'] = pd.to_datetime(data['Month'], format='%Y-%m')"
   ]
  },
  {
   "cell_type": "markdown",
   "id": "38d7d351",
   "metadata": {},
   "source": [
    "### Summary statistics"
   ]
  },
  {
   "cell_type": "code",
   "execution_count": 7,
   "id": "92f33c86",
   "metadata": {},
   "outputs": [
    {
     "data": {
      "text/html": [
       "<div>\n",
       "<style scoped>\n",
       "    .dataframe tbody tr th:only-of-type {\n",
       "        vertical-align: middle;\n",
       "    }\n",
       "\n",
       "    .dataframe tbody tr th {\n",
       "        vertical-align: top;\n",
       "    }\n",
       "\n",
       "    .dataframe thead th {\n",
       "        text-align: right;\n",
       "    }\n",
       "</style>\n",
       "<table border=\"1\" class=\"dataframe\">\n",
       "  <thead>\n",
       "    <tr style=\"text-align: right;\">\n",
       "      <th></th>\n",
       "      <th>Month</th>\n",
       "      <th>Passengers</th>\n",
       "    </tr>\n",
       "  </thead>\n",
       "  <tbody>\n",
       "    <tr>\n",
       "      <th>count</th>\n",
       "      <td>144</td>\n",
       "      <td>144.000000</td>\n",
       "    </tr>\n",
       "    <tr>\n",
       "      <th>mean</th>\n",
       "      <td>1954-12-16 05:00:00</td>\n",
       "      <td>280.298611</td>\n",
       "    </tr>\n",
       "    <tr>\n",
       "      <th>min</th>\n",
       "      <td>1949-01-01 00:00:00</td>\n",
       "      <td>104.000000</td>\n",
       "    </tr>\n",
       "    <tr>\n",
       "      <th>25%</th>\n",
       "      <td>1951-12-24 06:00:00</td>\n",
       "      <td>180.000000</td>\n",
       "    </tr>\n",
       "    <tr>\n",
       "      <th>50%</th>\n",
       "      <td>1954-12-16 12:00:00</td>\n",
       "      <td>265.500000</td>\n",
       "    </tr>\n",
       "    <tr>\n",
       "      <th>75%</th>\n",
       "      <td>1957-12-08 18:00:00</td>\n",
       "      <td>360.500000</td>\n",
       "    </tr>\n",
       "    <tr>\n",
       "      <th>max</th>\n",
       "      <td>1960-12-01 00:00:00</td>\n",
       "      <td>622.000000</td>\n",
       "    </tr>\n",
       "    <tr>\n",
       "      <th>std</th>\n",
       "      <td>NaN</td>\n",
       "      <td>119.966317</td>\n",
       "    </tr>\n",
       "  </tbody>\n",
       "</table>\n",
       "</div>"
      ],
      "text/plain": [
       "                     Month  Passengers\n",
       "count                  144  144.000000\n",
       "mean   1954-12-16 05:00:00  280.298611\n",
       "min    1949-01-01 00:00:00  104.000000\n",
       "25%    1951-12-24 06:00:00  180.000000\n",
       "50%    1954-12-16 12:00:00  265.500000\n",
       "75%    1957-12-08 18:00:00  360.500000\n",
       "max    1960-12-01 00:00:00  622.000000\n",
       "std                    NaN  119.966317"
      ]
     },
     "execution_count": 7,
     "metadata": {},
     "output_type": "execute_result"
    }
   ],
   "source": [
    "data.describe()"
   ]
  },
  {
   "cell_type": "markdown",
   "id": "d2d44741",
   "metadata": {},
   "source": [
    "## Let's Analyze the data"
   ]
  },
  {
   "cell_type": "markdown",
   "id": "d2d814db",
   "metadata": {},
   "source": [
    "**How has the number of airline passengers varied over time?**"
   ]
  },
  {
   "cell_type": "code",
   "execution_count": null,
   "id": "b389d576",
   "metadata": {},
   "outputs": [
    {
     "name": "stderr",
     "output_type": "stream",
     "text": [
      "C:\\ProgramData\\anaconda3\\lib\\site-packages\\_plotly_utils\\basevalidators.py:106: FutureWarning: The behavior of DatetimeProperties.to_pydatetime is deprecated, in a future version this will return a Series containing python datetime objects instead of an ndarray. To retain the old behavior, call `np.array` on the result\n",
      "  v = v.dt.to_pydatetime()\n"
     ]
    }
   ],
   "source": [
    "fig = px.line(data, x='Month', y='Passengers', title='Air Passengers Time Series Data',\n",
    "              labels={'Passengers': 'Number of Passengers'})\n",
    "fig.show()"
   ]
  },
  {
   "cell_type": "markdown",
   "id": "afac3c5a",
   "metadata": {},
   "source": [
    "**Are there any noticeable trends or patterns in the data?**"
   ]
  },
  {
   "cell_type": "code",
   "execution_count": null,
   "id": "d3a475d8",
   "metadata": {},
   "outputs": [],
   "source": [
    "fig2 = px.line(data, x='Month', y='Passengers', title='Air Passengers Trend with Moving Average')\n",
    "fig2.add_scatter(x=data['Month'], y=data['Passengers'].rolling(window=12).mean(), mode='lines', name='Moving Average')\n",
    "fig2.show()"
   ]
  },
  {
   "cell_type": "markdown",
   "id": "30634ff9",
   "metadata": {},
   "source": [
    "**What is the overall seasonality of air passenger traffic throughout the years?**"
   ]
  },
  {
   "cell_type": "code",
   "execution_count": null,
   "id": "c5766459",
   "metadata": {},
   "outputs": [],
   "source": [
    "fig3 = px.line(data, x=data['Month'].dt.month, y='Passengers', color=data['Month'].dt.year,\n",
    "               title='Seasonal Plot of Air Passengers Data', labels={'x': 'Month', 'y': 'Number of Passengers'},\n",
    "               line_group=data['Month'].dt.year)\n",
    "fig3.update_layout(legend_title_text='Year')\n",
    "fig3.show()"
   ]
  },
  {
   "cell_type": "markdown",
   "id": "761a1c69",
   "metadata": {},
   "source": [
    "**Are there any specific months or seasons that exhibit higher passenger numbers?**"
   ]
  },
  {
   "cell_type": "code",
   "execution_count": null,
   "id": "a4ac2413",
   "metadata": {},
   "outputs": [],
   "source": [
    "df = data.copy(deep=True)"
   ]
  },
  {
   "cell_type": "code",
   "execution_count": null,
   "id": "774466c5",
   "metadata": {},
   "outputs": [],
   "source": [
    "df.head()"
   ]
  },
  {
   "cell_type": "code",
   "execution_count": null,
   "id": "a881ee8b",
   "metadata": {},
   "outputs": [],
   "source": [
    "df['Month'] = df['Month'].dt.month_name()\n",
    "data_avg_monthly = df.groupby('Month')['Passengers'].mean().reset_index()\n",
    "data_avg_monthly"
   ]
  },
  {
   "cell_type": "code",
   "execution_count": null,
   "id": "d9055cb4",
   "metadata": {
    "scrolled": false
   },
   "outputs": [],
   "source": [
    "fig4 = px.bar(data_avg_monthly, x='Month', y='Passengers', title='Average Monthly Passengers',\n",
    "              labels={'Month': 'Month', 'Passengers': 'Average Number of Passengers'})\n",
    "fig4.show()"
   ]
  },
  {
   "cell_type": "markdown",
   "id": "e9775b38",
   "metadata": {},
   "source": [
    "**How does the distribution of passengers vary across different years?**"
   ]
  },
  {
   "cell_type": "code",
   "execution_count": null,
   "id": "73b0a99b",
   "metadata": {
    "scrolled": false
   },
   "outputs": [],
   "source": [
    "fig5 = px.box(data, x=data['Month'].dt.year, y='Passengers', title='Distribution of Passengers Across Years',\n",
    "              labels={'x': 'Year', 'y': 'Number of Passengers'})\n",
    "fig5.show()"
   ]
  },
  {
   "cell_type": "markdown",
   "id": "a3cfb402",
   "metadata": {},
   "source": [
    "**Are there any outliers or anomalies in the passenger data that require further investigation?**\n"
   ]
  },
  {
   "cell_type": "code",
   "execution_count": null,
   "id": "a61ca184",
   "metadata": {},
   "outputs": [],
   "source": [
    "fig6 = px.box(data, y='Passengers', title='Box Plot of Air Passengers Data',\n",
    "              labels={'y': 'Number of Passengers'})\n",
    "fig6.show()"
   ]
  },
  {
   "cell_type": "markdown",
   "id": "50e60569",
   "metadata": {},
   "source": [
    "**How stable is the growth rate of air passenger traffic over the years?**\n"
   ]
  },
  {
   "cell_type": "code",
   "execution_count": null,
   "id": "8c80babb",
   "metadata": {},
   "outputs": [],
   "source": [
    "data['Passengers_Pct_Change'] = data['Passengers'].pct_change() * 100\n",
    "fig7 = px.line(data, x='Years', y='Passengers_Pct_Change', title='Percentage Change in Air Passengers Over Time')\n",
    "fig7.show()"
   ]
  },
  {
   "cell_type": "markdown",
   "id": "eae36135",
   "metadata": {},
   "source": [
    "**What are the busiest months or seasons for air travel, and how has this changed over time?**\n"
   ]
  },
  {
   "cell_type": "code",
   "execution_count": null,
   "id": "4f81e37a",
   "metadata": {},
   "outputs": [],
   "source": [
    "fig8 = px.line(data, x='Month', y='Passengers', color=data['Month'].dt.year,\n",
    "                title='Variation in Passenger Numbers Across Months Over the Years',\n",
    "                labels={'Month': 'Month', 'Passengers': 'Number of Passengers'})\n",
    "fig8.show()"
   ]
  },
  {
   "cell_type": "code",
   "execution_count": null,
   "id": "74044560",
   "metadata": {},
   "outputs": [],
   "source": []
  }
 ],
 "metadata": {
  "kernelspec": {
   "display_name": "Python 3 (ipykernel)",
   "language": "python",
   "name": "python3"
  },
  "language_info": {
   "codemirror_mode": {
    "name": "ipython",
    "version": 3
   },
   "file_extension": ".py",
   "mimetype": "text/x-python",
   "name": "python",
   "nbconvert_exporter": "python",
   "pygments_lexer": "ipython3",
   "version": "3.10.9"
  }
 },
 "nbformat": 4,
 "nbformat_minor": 5
}
